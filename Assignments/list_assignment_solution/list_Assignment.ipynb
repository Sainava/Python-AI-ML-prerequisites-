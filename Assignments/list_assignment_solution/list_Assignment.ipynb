{
 "cells": [
  {
   "cell_type": "markdown",
   "metadata": {},
   "source": [
    "# Module 3: Data Structures Assignments\n",
    "## Lesson 3.1: Lists\n",
    "### Assignment 1: Creating and Accessing Lists\n",
    "\n",
    "Create a list of the first 20 positive integers. Print the list.\n",
    "\n",
    "### Assignment 2: Accessing List Elements\n",
    "\n",
    "Print the first, middle, and last elements of the list created in Assignment 1.\n",
    "\n",
    "### Assignment 3: List Slicing\n",
    "\n",
    "Print the first five elements, the last five elements, and the elements from index 5 to 15 of the list created in Assignment 1.\n",
    "\n",
    "### Assignment 4: List Comprehensions\n",
    "\n",
    "Create a new list containing the squares of the first 10 positive integers using a list comprehension. Print the new list.\n",
    "\n",
    "### Assignment 5: Filtering Lists\n",
    "\n",
    "Create a new list containing only the even numbers from the list created in Assignment 1 using a list comprehension. Print the new list.\n",
    "\n",
    "### Assignment 6: List Methods\n",
    "\n",
    "Create a list of random numbers and sort it in ascending and descending order. Remove the duplicates from the list and print the modified list.\n",
    "\n",
    "### Assignment 7: Nested Lists\n",
    "\n",
    "Create a nested list representing a 3x3 matrix and print the matrix. Access and print the element at the second row and third column.\n",
    "\n",
    "### Assignment 8: List of Dictionaries\n",
    "\n",
    "Create a list of dictionaries where each dictionary represents a student with keys 'name' and 'score'. Sort the list of dictionaries by the 'score' in descending order and print the sorted list.\n",
    "\n",
    "### Assignment 9: Matrix Transposition\n",
    "\n",
    "Write a function that takes a 3x3 matrix (nested list) as input and returns its transpose. Print the original and transposed matrices.\n",
    "\n",
    "### Assignment 10: Flattening a Nested List\n",
    "\n",
    "Write a function that takes a nested list and flattens it into a single list. Print the original and flattened lists.\n",
    "\n",
    "### Assignment 11: List Manipulation\n",
    "\n",
    "Create a list of the first 10 positive integers. Remove the elements at indices 2, 4, and 6, and insert the element '99' at index 5. Print the modified list.\n",
    "\n",
    "### Assignment 12: List Zipping\n",
    "\n",
    "Create two lists of the same length. Use the `zip` function to combine these lists into a list of tuples and print the result.\n",
    "\n",
    "### Assignment 13: List Reversal\n",
    "\n",
    "Write a function that takes a list and returns a new list with the elements in reverse order. Print the original and reversed lists.\n",
    "\n",
    "### Assignment 14: List Rotation\n",
    "\n",
    "Write a function that rotates a list by n positions. Print the original and rotated lists.\n",
    "\n",
    "### Assignment 15: List Intersection\n",
    "\n",
    "Write a function that takes two lists and returns a new list containing only the elements that are present in both lists. Print the intersected list."
   ]
  },
  {
   "cell_type": "markdown",
   "id": "8462b3c6",
   "metadata": {},
   "source": [
    "### 1\n"
   ]
  },
  {
   "cell_type": "code",
   "execution_count": 1,
   "metadata": {},
   "outputs": [
    {
     "data": {
      "text/plain": [
       "[1, 2, 3, 4, 5, 6, 7, 8, 9, 10, 11, 12, 13, 14, 15, 16, 17, 18, 19, 20]"
      ]
     },
     "execution_count": 1,
     "metadata": {},
     "output_type": "execute_result"
    }
   ],
   "source": [
    "lst=[x for x in range(1,21)]\n",
    "lst"
   ]
  },
  {
   "cell_type": "markdown",
   "id": "1ea0d9d2",
   "metadata": {},
   "source": [
    "### 2"
   ]
  },
  {
   "cell_type": "code",
   "execution_count": 2,
   "id": "34fb8c77",
   "metadata": {},
   "outputs": [
    {
     "name": "stdout",
     "output_type": "stream",
     "text": [
      "1 11 20\n"
     ]
    }
   ],
   "source": [
    "n=len(lst)\n",
    "print(lst[0],lst[n//2],lst[n-1])"
   ]
  },
  {
   "cell_type": "markdown",
   "id": "40602f5f",
   "metadata": {},
   "source": [
    "### 3"
   ]
  },
  {
   "cell_type": "code",
   "execution_count": 3,
   "id": "42856ef8",
   "metadata": {},
   "outputs": [
    {
     "name": "stdout",
     "output_type": "stream",
     "text": [
      "[1, 2, 3, 4, 5, 6]\n",
      "[16, 17, 18, 19, 20]\n",
      "[6, 7, 8, 9, 10, 11, 12, 13, 14, 15, 16]\n"
     ]
    }
   ],
   "source": [
    "print(lst[:6])\n",
    "print(lst[-5:])\n",
    "print(lst[5:16])"
   ]
  },
  {
   "cell_type": "markdown",
   "id": "12d809b9",
   "metadata": {},
   "source": [
    "### 4\n"
   ]
  },
  {
   "cell_type": "code",
   "execution_count": 4,
   "id": "4a9b7073",
   "metadata": {},
   "outputs": [
    {
     "data": {
      "text/plain": [
       "[1, 4, 9, 16, 25, 36, 49, 64, 81, 100]"
      ]
     },
     "execution_count": 4,
     "metadata": {},
     "output_type": "execute_result"
    }
   ],
   "source": [
    "lst=[x**2 for x in range(1,11)]\n",
    "lst"
   ]
  },
  {
   "cell_type": "markdown",
   "id": "9c9ac201",
   "metadata": {},
   "source": [
    "### 5"
   ]
  },
  {
   "cell_type": "code",
   "execution_count": 5,
   "id": "2cef6504",
   "metadata": {},
   "outputs": [
    {
     "data": {
      "text/plain": [
       "[4, 16, 36, 64, 100]"
      ]
     },
     "execution_count": 5,
     "metadata": {},
     "output_type": "execute_result"
    }
   ],
   "source": [
    "even=[x for x in lst if x%2==0]\n",
    "even"
   ]
  },
  {
   "cell_type": "markdown",
   "id": "688f9cdb",
   "metadata": {},
   "source": [
    "### 6"
   ]
  },
  {
   "cell_type": "code",
   "execution_count": 8,
   "id": "d9974cb1",
   "metadata": {},
   "outputs": [
    {
     "name": "stdout",
     "output_type": "stream",
     "text": [
      "[11, 34, 43, 54, 67, 89, 94]\n",
      "[34, 67, 43, 11, 54, 89, 94]\n"
     ]
    }
   ],
   "source": [
    "lst=[34,54,67,89,11,43,94]\n",
    "\n",
    "#Ascending order\n",
    "lst.sort()\n",
    "print(lst)\n",
    "\n",
    "lst=list(set(lst))#remove duplicates\n",
    "print(lst)\n"
   ]
  },
  {
   "cell_type": "code",
   "execution_count": 9,
   "id": "956e6e98",
   "metadata": {},
   "outputs": [
    {
     "name": "stdout",
     "output_type": "stream",
     "text": [
      "[94, 89, 67, 54, 43, 34, 11]\n",
      "[34, 67, 43, 11, 54, 89, 94]\n"
     ]
    }
   ],
   "source": [
    "lst=[34,54,67,89,11,43,94]\n",
    "\n",
    "#Descending order\n",
    "lst.sort(reverse=True)\n",
    "print(lst)\n",
    "\n",
    "lst=list(set(lst))#remove duplicates\n",
    "print(lst)"
   ]
  },
  {
   "cell_type": "code",
   "execution_count": null,
   "id": "2a7c0b33",
   "metadata": {},
   "outputs": [],
   "source": [
    "import random\n",
    "\n",
    "random_numbers = [random.randint(1, 20) for _ in range(15)]\n",
    "print(f\"Original list: {random_numbers}\")\n",
    "\n",
    "sorted_numbers = sorted(random_numbers)\n",
    "print(f\"Sorted in ascending order: {sorted_numbers}\")\n",
    "\n",
    "sorted_numbers_desc = sorted(random_numbers, reverse=True)\n",
    "print(f\"Sorted in descending order: {sorted_numbers_desc}\")\n",
    "\n",
    "unique_numbers = list(set(random_numbers))\n",
    "print(f\"List with duplicates removed: {unique_numbers}\")"
   ]
  },
  {
   "cell_type": "code",
   "execution_count": 24,
   "id": "e7fa57d6",
   "metadata": {},
   "outputs": [
    {
     "name": "stdout",
     "output_type": "stream",
     "text": [
      "[2, 22, 45, 61, 66, 86, 86, 91, 98, 100]\n",
      "[100, 98, 91, 86, 86, 66, 61, 45, 22, 2]\n"
     ]
    }
   ],
   "source": [
    "import random\n",
    "\n",
    "# lst=[random.randint(1,100) for _ in range(10)] Also works\n",
    "asc=[random.randint(1,100) for x in range(10)]\n",
    "\n",
    "lst.sort()\n",
    "\n",
    "print(lst)\n",
    "\n",
    "lst.sort(reverse=True)\n",
    "\n",
    "print(lst)\n",
    "\n"
   ]
  },
  {
   "cell_type": "markdown",
   "id": "bb56efd6",
   "metadata": {},
   "source": [
    "### 7"
   ]
  },
  {
   "cell_type": "code",
   "execution_count": 14,
   "id": "3f8be4b0",
   "metadata": {},
   "outputs": [
    {
     "data": {
      "text/plain": [
       "[[1, 11, 111],\n",
       " [1, 11, 222],\n",
       " [1, 22, 111],\n",
       " [1, 22, 222],\n",
       " [1, 33, 111],\n",
       " [1, 33, 222],\n",
       " [2, 11, 111],\n",
       " [2, 11, 222],\n",
       " [2, 22, 111],\n",
       " [2, 22, 222],\n",
       " [2, 33, 111],\n",
       " [2, 33, 222],\n",
       " [3, 11, 111],\n",
       " [3, 11, 222],\n",
       " [3, 22, 111],\n",
       " [3, 22, 222],\n",
       " [3, 33, 111],\n",
       " [3, 33, 222],\n",
       " [4, 11, 111],\n",
       " [4, 11, 222],\n",
       " [4, 22, 111],\n",
       " [4, 22, 222],\n",
       " [4, 33, 111],\n",
       " [4, 33, 222]]"
      ]
     },
     "execution_count": 14,
     "metadata": {},
     "output_type": "execute_result"
    }
   ],
   "source": [
    "#Try for 3 lists\n",
    "\n",
    "\n",
    "lst1 =[1,2,3,4]\n",
    "\n",
    "lst2=[11,22,33]\n",
    "\n",
    "lst3=[111,222]\n",
    "\n",
    "lst4=[[x,y,z] for x in lst1 for y in lst2 for z in lst3]\n",
    "\n",
    "lst4\n"
   ]
  },
  {
   "cell_type": "code",
   "execution_count": 26,
   "id": "7a1c4f0e",
   "metadata": {},
   "outputs": [
    {
     "data": {
      "text/plain": [
       "[[1, 11, 111], [2, 11, 111], [3, 11, 111]]"
      ]
     },
     "execution_count": 26,
     "metadata": {},
     "output_type": "execute_result"
    }
   ],
   "source": [
    "lst1=[1,2,3]\n",
    "\n",
    "lst2=[11]\n",
    "\n",
    "lst3=[111]\n",
    "\n",
    "lst4=[[x,y,z] for x in lst1 for y in lst2 for z in lst3]\n",
    "\n",
    "lst4\n"
   ]
  },
  {
   "cell_type": "code",
   "execution_count": 29,
   "id": "45536836",
   "metadata": {},
   "outputs": [
    {
     "name": "stdout",
     "output_type": "stream",
     "text": [
      "[1, 2, 3]\n",
      "[4, 5, 6]\n",
      "[7, 8, 9]\n",
      "The element at secomnd row and third column is 6\n"
     ]
    }
   ],
   "source": [
    "matrix=[\n",
    "    [1,2,3],\n",
    "    [4,5,6],\n",
    "    [7,8,9]\n",
    "]\n",
    "\n",
    "for row in matrix:\n",
    "    print(row)\n",
    "print(f\"The element at secomnd row and third column is {matrix[1][2]}\")"
   ]
  },
  {
   "cell_type": "markdown",
   "id": "4845ea1c",
   "metadata": {},
   "source": [
    "### 8"
   ]
  },
  {
   "cell_type": "code",
   "execution_count": 33,
   "id": "7dc14eab",
   "metadata": {},
   "outputs": [
    {
     "name": "stdout",
     "output_type": "stream",
     "text": [
      "[{'name': 'Alice', 'score': 88}, {'name': 'Bob', 'score': 72}, {'name': 'Charlie', 'score': 95}, {'name': 'David', 'score': 65}, {'name': 'Eve', 'score': 100}]\n"
     ]
    },
    {
     "data": {
      "text/plain": [
       "[{'name': 'Eve', 'score': 100},\n",
       " {'name': 'Charlie', 'score': 95},\n",
       " {'name': 'Alice', 'score': 88},\n",
       " {'name': 'Bob', 'score': 72},\n",
       " {'name': 'David', 'score': 65}]"
      ]
     },
     "execution_count": 33,
     "metadata": {},
     "output_type": "execute_result"
    }
   ],
   "source": [
    "lst=[\n",
    "     {'name': 'Alice', 'score': 88},\n",
    "    {'name': 'Bob', 'score': 72},\n",
    "    {'name': 'Charlie', 'score': 95},\n",
    "    {'name': 'David', 'score': 65},\n",
    "    {'name': 'Eve', 'score' : 100}\n",
    "    ]\n",
    "\n",
    "sorted_students=sorted(lst,key=lambda x:x['score'] ,reverse=True)\n",
    "\n",
    "print(lst)\n",
    "\n",
    "sorted_students\n",
    "\n"
   ]
  },
  {
   "cell_type": "markdown",
   "id": "7ae0cc49",
   "metadata": {},
   "source": [
    "### 9|"
   ]
  },
  {
   "cell_type": "code",
   "execution_count": 3,
   "id": "4f3b663e",
   "metadata": {},
   "outputs": [
    {
     "data": {
      "text/plain": [
       "[[1, 4, 7], [2, 5, 8], [3, 6, 9]]"
      ]
     },
     "execution_count": 3,
     "metadata": {},
     "output_type": "execute_result"
    }
   ],
   "source": [
    "def transpose(matrix):\n",
    "    transposed = [[matrix[j][i] for j  in range(len(matrix))] for i in range(len(matrix[0]))]\n",
    "    return transposed\n",
    "\n",
    "matrix = [\n",
    "    [1, 2, 3],\n",
    "    [4, 5, 6],\n",
    "    [7, 8, 9]\n",
    "]\n",
    "\n",
    "print(matrix)\n",
    "print(transpose(matrix))"
   ]
  },
  {
   "cell_type": "markdown",
   "metadata": {},
   "source": [
    "### 10"
   ]
  },
  {
   "cell_type": "code",
   "execution_count": 7,
   "id": "94f7ae21",
   "metadata": {},
   "outputs": [
    {
     "name": "stdout",
     "output_type": "stream",
     "text": [
      "[[1, 2, 3], [4, 5, 6], [7, 8, 9]]\n",
      "[1, 2, 3, 4, 5, 6, 7, 8, 9]\n"
     ]
    }
   ],
   "source": [
    "def flatten(matrix):\n",
    "    flattened=[ matrix[i][j] for i in range (len(matrix)) for j in range(len(matrix[0])) ]\n",
    "    return flattened\n",
    "\n",
    "matrix = [\n",
    "    [1, 2, 3],\n",
    "    [4, 5, 6],\n",
    "    [7, 8, 9]\n",
    "]\n",
    "\n",
    "print(matrix)\n",
    "print(flatten(matrix))"
   ]
  },
  {
   "cell_type": "markdown",
   "id": "db029b80",
   "metadata": {},
   "source": [
    "### 11"
   ]
  },
  {
   "cell_type": "code",
   "execution_count": 10,
   "id": "e8f43209",
   "metadata": {},
   "outputs": [
    {
     "name": "stdout",
     "output_type": "stream",
     "text": [
      "Before operation : [1, 2, 3, 4, 5, 6, 7, 8, 9, 10]\n",
      "After operation : [1, 2, 4, 5, 7, 99, 8, 10]\n"
     ]
    }
   ],
   "source": [
    "lst=[1,2,3,4,5,6,7,8,9,10]\n",
    "\n",
    "print(\"Before operation :\",lst )\n",
    "\n",
    "#Method 1\n",
    "# removed1=lst.pop(2)\n",
    "# removed2=lst.pop(4)\n",
    "# removed3=lst.pop(6)\n",
    "\n",
    "\n",
    "#MEthod 2\n",
    "del lst[2]\n",
    "del lst[4]\n",
    "del lst[6]\n",
    "\n",
    "lst.insert(5,99)\n",
    "\n",
    "print(\"After operation :\",lst )\n",
    "\n",
    "\n"
   ]
  },
  {
   "cell_type": "markdown",
   "id": "2704d2d0",
   "metadata": {},
   "source": [
    "### 12"
   ]
  },
  {
   "cell_type": "markdown",
   "id": "760de600",
   "metadata": {},
   "source": [
    "### The zip() function in Python is used to combine two or more iterables (e.g., lists, tuples, etc.) element-wise into pairs (or tuples). It groups elements from the provided iterables at the same index into a tuple and returns an iterator of tuples."
   ]
  },
  {
   "cell_type": "markdown",
   "id": "439ea7b9",
   "metadata": {},
   "source": [
    "### Example 1: Zipping Two Lists"
   ]
  },
  {
   "cell_type": "code",
   "execution_count": 15,
   "id": "d2aecbf6",
   "metadata": {},
   "outputs": [
    {
     "name": "stdout",
     "output_type": "stream",
     "text": [
      "[(1, 'a'), (2, 'b'), (3, 'c')]\n"
     ]
    }
   ],
   "source": [
    "list1 = [1, 2, 3]\n",
    "list2 = ['a', 'b', 'c']\n",
    "\n",
    "result = zip(list1, list2)\n",
    "print(list(result))  # Output: [(1, 'a'), (2, 'b'), (3, 'c')]\n"
   ]
  },
  {
   "cell_type": "markdown",
   "id": "e7ca57aa",
   "metadata": {},
   "source": [
    "### Unequal Lengths\n",
    "### When the iterables are of different lengths, zip() stops at the shortest one:\n",
    "\n",
    "\n"
   ]
  },
  {
   "cell_type": "code",
   "execution_count": 16,
   "id": "d9fa3b62",
   "metadata": {},
   "outputs": [
    {
     "name": "stdout",
     "output_type": "stream",
     "text": [
      "[(1, 'a'), (2, 'b')]\n"
     ]
    }
   ],
   "source": [
    "list1 = [1, 2, 3]\n",
    "list2 = ['a', 'b']\n",
    "\n",
    "result = zip(list1, list2)\n",
    "print(list(result))  # Output: [(1, 'a'), (2, 'b')]"
   ]
  },
  {
   "cell_type": "markdown",
   "id": "60b36170",
   "metadata": {},
   "source": [
    "### Unzipping with zip()\n",
    "### You can unzip a zipped object using the zip(*zipped) technique:"
   ]
  },
  {
   "cell_type": "code",
   "execution_count": null,
   "id": "72eb8a4f",
   "metadata": {},
   "outputs": [],
   "source": [
    "\n",
    "\n",
    "\n",
    "zipped = [(1, 'a'), (2, 'b'), (3, 'c')]\n",
    "\n",
    "list1, list2 = zip(*zipped)\n",
    "print(list1)  # Output: (1, 2, 3)\n",
    "print(list2)  # Output: ('a', 'b', 'c')"
   ]
  },
  {
   "cell_type": "markdown",
   "id": "bbf30ebc",
   "metadata": {},
   "source": [
    "### Answer to question\n"
   ]
  },
  {
   "cell_type": "code",
   "execution_count": 19,
   "id": "9ad18763",
   "metadata": {},
   "outputs": [
    {
     "name": "stdout",
     "output_type": "stream",
     "text": [
      "((1, 6), (2, 7), (3, 8), (4, 9), (5, 10))\n"
     ]
    }
   ],
   "source": [
    "lst1=[1,2,3,4,5]\n",
    "lst2=[6,7,8,9,10]\n",
    "\n",
    "#lst1.extend(lst2) Takes One Argument\n",
    "\n",
    "zipped=zip(lst1,lst2)\n",
    "\n",
    "#once made into list ,cannot be made into tuple and vice versa\n",
    "\n",
    "# print(list(zipped))#Returns List of Tuples\n",
    "\n",
    "print(tuple(zipped))#`Returns Tuple of Tuples"
   ]
  },
  {
   "cell_type": "markdown",
   "id": "2f1122c6",
   "metadata": {},
   "source": [
    "### 13"
   ]
  },
  {
   "cell_type": "code",
   "execution_count": 20,
   "id": "b2111700",
   "metadata": {},
   "outputs": [
    {
     "name": "stdout",
     "output_type": "stream",
     "text": [
      "[10, 9, 8, 7, 6, 5, 4, 3, 2, 1]\n"
     ]
    }
   ],
   "source": [
    "def reverse(lst):\n",
    "    return lst[::-1]\n",
    "\n",
    "lst=[1,2,3,4,5,6,7,8,9,10]\n",
    "\n",
    "print(reverse(lst))"
   ]
  },
  {
   "cell_type": "markdown",
   "id": "1bb13d84",
   "metadata": {},
   "source": [
    "### 14"
   ]
  },
  {
   "cell_type": "markdown",
   "id": "17373581",
   "metadata": {},
   "source": [
    "### Method 1 - Right rotation"
   ]
  },
  {
   "cell_type": "code",
   "execution_count": 23,
   "id": "366bd454",
   "metadata": {},
   "outputs": [
    {
     "name": "stdout",
     "output_type": "stream",
     "text": [
      "[1, 2, 3, 4, 5, 6, 7, 8, 9, 10]\n",
      "[8, 9, 10, 1, 2, 3, 4, 5, 6, 7]\n"
     ]
    }
   ],
   "source": [
    "def rotation(lst,k):\n",
    "    n=len(lst)\n",
    "    rotate=[0]*n\n",
    "    for i in range(n):\n",
    "        rotate[(i+k)%n]=lst[i]\n",
    "    return rotate\n",
    "\n",
    "lst=[1,2,3,4,5,6,7,8,9,10]\n",
    "\n",
    "print(lst)\n",
    "print(rotation(lst,3))\n"
   ]
  },
  {
   "cell_type": "markdown",
   "id": "56006bd4",
   "metadata": {},
   "source": [
    "### Method 2 - Left Rotation"
   ]
  },
  {
   "cell_type": "code",
   "execution_count": 24,
   "id": "058c4c2e",
   "metadata": {},
   "outputs": [
    {
     "name": "stdout",
     "output_type": "stream",
     "text": [
      "[1, 2, 3, 4, 5, 6, 7, 8, 9, 10]\n",
      "[4, 5, 6, 7, 8, 9, 10, 1, 2, 3]\n"
     ]
    }
   ],
   "source": [
    "def rotate(lst,k):\n",
    "    return lst[k:]+lst[:k] # List Concatenation\n",
    "\n",
    "lst=[1,2,3,4,5,6,7,8,9,10]\n",
    "\n",
    "print(lst)\n",
    "print(rotate(lst,3))\n"
   ]
  },
  {
   "cell_type": "markdown",
   "id": "bc7c882a",
   "metadata": {},
   "source": [
    "### 15"
   ]
  },
  {
   "cell_type": "markdown",
   "id": "c35c6ab9",
   "metadata": {},
   "source": [
    "### Method 1"
   ]
  },
  {
   "cell_type": "code",
   "execution_count": 25,
   "id": "6a002f68",
   "metadata": {},
   "outputs": [
    {
     "name": "stdout",
     "output_type": "stream",
     "text": [
      "[3, 4, 5]\n"
     ]
    }
   ],
   "source": [
    "def intersection(lst1,lst2):\n",
    "    return list(set(lst1) & set(lst2))\n",
    "\n",
    "lst1=[1,2,3,4,5]\n",
    "lst2=[3,4,5,6,7]\n",
    "\n",
    "print(intersection(lst1,lst2))"
   ]
  },
  {
   "cell_type": "markdown",
   "id": "1c7207d8",
   "metadata": {},
   "source": [
    "### Method 2"
   ]
  },
  {
   "cell_type": "code",
   "execution_count": 26,
   "id": "b4a3e315",
   "metadata": {},
   "outputs": [
    {
     "name": "stdout",
     "output_type": "stream",
     "text": [
      "[3, 4, 5]\n"
     ]
    }
   ],
   "source": [
    "def intersection(lst1,lst2):\n",
    "    return [x for x in lst1 if x in lst2]\n",
    "\n",
    "lst1=[1,2,3,4,5]\n",
    "lst2=[3,4,5,6,7]\n",
    "\n",
    "print(intersection(lst1,lst2))"
   ]
  },
  {
   "cell_type": "markdown",
   "id": "35b46f14",
   "metadata": {},
   "source": [
    "### Method 3"
   ]
  },
  {
   "cell_type": "code",
   "execution_count": 30,
   "id": "01c74145",
   "metadata": {},
   "outputs": [
    {
     "name": "stdout",
     "output_type": "stream",
     "text": [
      "[4, 5]\n"
     ]
    }
   ],
   "source": [
    "def intersection(lst1,lst2):\n",
    "    lst1.sort()\n",
    "    lst2.sort()\n",
    "\n",
    "    intersect=[]\n",
    "    i=0;j=0\n",
    "    while i<len(lst1) and j<len(lst2):\n",
    "        if lst1[i]==lst2[j]:\n",
    "            intersect.append(lst1[i])\n",
    "            i+=1\n",
    "            j+=1\n",
    "        elif lst1[i]<lst2[j]:\n",
    "            i+=1\n",
    "        else:\n",
    "            j+=1\n",
    "    return intersect\n",
    "\n",
    "lst1=[1,2,3,4,5]\n",
    "lst2=[67,32,5,4,90]\n",
    "\n",
    "print(intersection(lst1,lst2))"
   ]
  },
  {
   "cell_type": "markdown",
   "id": "5a716b28",
   "metadata": {},
   "source": [
    "### Extra Understanding\n"
   ]
  },
  {
   "cell_type": "code",
   "execution_count": 32,
   "id": "26d6d8dc",
   "metadata": {},
   "outputs": [
    {
     "name": "stdout",
     "output_type": "stream",
     "text": [
      "[0, 1, 0, 1]\n",
      "(0, 1, 0, 1)\n"
     ]
    }
   ],
   "source": [
    "lst=[0,1]*2\n",
    "print(lst)\n",
    "\n",
    "tup=(0,1)*2\n",
    "print(tup)"
   ]
  },
  {
   "cell_type": "markdown",
   "id": "0ac035f9",
   "metadata": {},
   "source": [
    "### Empty list and tuple"
   ]
  },
  {
   "cell_type": "code",
   "execution_count": 34,
   "id": "3e13ed75",
   "metadata": {},
   "outputs": [
    {
     "name": "stdout",
     "output_type": "stream",
     "text": [
      "[]\n",
      "()\n"
     ]
    }
   ],
   "source": [
    "lst=list()\n",
    "print(lst)\n",
    "\n",
    "tup=tuple()\n",
    "print(tup)\n"
   ]
  },
  {
   "cell_type": "markdown",
   "id": "0ef8f428",
   "metadata": {},
   "source": [
    "### List to tuple and vice versa"
   ]
  },
  {
   "cell_type": "code",
   "execution_count": 35,
   "id": "a69f0dbf",
   "metadata": {},
   "outputs": [
    {
     "name": "stdout",
     "output_type": "stream",
     "text": [
      "(1, 2, 3, 4, 5, 6, 7, 8, 9, 10)\n",
      "[1, 2, 3, 4, 5, 6, 7, 8, 9, 10]\n"
     ]
    }
   ],
   "source": [
    "lst=[1,2,3,4,5,6,7,8,9,10]\n",
    "tup=(1,2,3,4,5,6,7,8,9,10)\n",
    "\n",
    "print(tuple(lst))   \n",
    "print(list(tup))\n"
   ]
  },
  {
   "cell_type": "code",
   "execution_count": null,
   "id": "9531f557",
   "metadata": {},
   "outputs": [],
   "source": []
  }
 ],
 "metadata": {
  "kernelspec": {
   "display_name": "venv",
   "language": "python",
   "name": "python3"
  },
  "language_info": {
   "codemirror_mode": {
    "name": "ipython",
    "version": 3
   },
   "file_extension": ".py",
   "mimetype": "text/x-python",
   "name": "python",
   "nbconvert_exporter": "python",
   "pygments_lexer": "ipython3",
   "version": "3.12.0"
  }
 },
 "nbformat": 4,
 "nbformat_minor": 5
}
