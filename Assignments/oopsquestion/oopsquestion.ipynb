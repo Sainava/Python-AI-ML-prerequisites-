{
 "cells": [
  {
   "cell_type": "markdown",
   "metadata": {},
   "source": [
    "# Module: OOP Assignments\n",
    "## Lesson: Polymorphism, Abstraction, and Encapsulation\n",
    "### Assignment 1: Polymorphism with Methods\n",
    "\n",
    "Create a base class named `Shape` with a method `area`. Create two derived classes `Circle` and `Square` that override the `area` method. Create a list of `Shape` objects and call the `area` method on each object to demonstrate polymorphism.\n",
    "\n",
    "### Assignment 2: Polymorphism with Function Arguments\n",
    "\n",
    "Create a function named `describe_shape` that takes a `Shape` object as an argument and calls its `area` method. Create objects of `Circle` and `Square` classes and pass them to the `describe_shape` function.\n",
    "\n",
    "### Assignment 3: Abstract Base Class with Abstract Methods\n",
    "\n",
    "Create an abstract base class named `Vehicle` with an abstract method `start_engine`. Create derived classes `Car` and `Bike` that implement the `start_engine` method. Create objects of the derived classes and call the `start_engine` method.\n",
    "\n",
    "### Assignment 4: Abstract Base Class with Concrete Methods\n",
    "\n",
    "In the `Vehicle` class, add a concrete method `fuel_type` that returns a generic fuel type. Override this method in `Car` and `Bike` classes to return specific fuel types. Create objects of the derived classes and call the `fuel_type` method.\n",
    "\n",
    "### Assignment 5: Encapsulation with Private Attributes\n",
    "\n",
    "Create a class named `BankAccount` with private attributes `account_number` and `balance`. Add methods to deposit and withdraw money, and to check the balance. Ensure that the balance cannot be accessed directly.\n",
    "\n",
    "### Assignment 6: Encapsulation with Property Decorators\n",
    "\n",
    "In the `BankAccount` class, use property decorators to get and set the `balance` attribute. Ensure that the balance cannot be set to a negative value.\n",
    "\n",
    "### Assignment 7: Combining Encapsulation and Inheritance\n",
    "\n",
    "Create a base class named `Person` with private attributes `name` and `age`. Add methods to get and set these attributes. Create a derived class named `Student` that adds an attribute `student_id`. Create an object of the `Student` class and test the encapsulation.\n",
    "\n",
    "### Assignment 8: Polymorphism with Inheritance\n",
    "\n",
    "Create a base class named `Animal` with a method `speak`. Create two derived classes `Dog` and `Cat` that override the `speak` method. Create a list of `Animal` objects and call the `speak` method on each object to demonstrate polymorphism.\n",
    "\n",
    "### Assignment 9: Abstract Methods in Base Class\n",
    "\n",
    "Create an abstract base class named `Employee` with an abstract method `calculate_salary`. Create two derived classes `FullTimeEmployee` and `PartTimeEmployee` that implement the `calculate_salary` method. Create objects of the derived classes and call the `calculate_salary` method.\n",
    "\n",
    "### Assignment 10: Encapsulation in Data Classes\n",
    "\n",
    "Create a data class named `Product` with private attributes `product_id`, `name`, and `price`. Add methods to get and set these attributes. Ensure that the price cannot be set to a negative value.\n",
    "\n",
    "### Assignment 11: Polymorphism with Operator Overloading\n",
    "\n",
    "Create a class named `Vector` with attributes `x` and `y`. Overload the `+` operator to add two `Vector` objects. Create objects of the class and test the operator overloading.\n",
    "\n",
    "### Assignment 12: Abstract Properties\n",
    "\n",
    "Create an abstract base class named `Appliance` with an abstract property `power`. Create two derived classes `WashingMachine` and `Refrigerator` that implement the `power` property. Create objects of the derived classes and access the `power` property.\n",
    "\n",
    "### Assignment 13: Encapsulation in Class Hierarchies\n",
    "\n",
    "Create a base class named `Account` with private attributes `account_number` and `balance`. Add methods to get and set these attributes. Create a derived class named `SavingsAccount` that adds an attribute `interest_rate`. Create an object of the `SavingsAccount` class and test the encapsulation.\n",
    "\n",
    "### Assignment 14: Polymorphism with Multiple Inheritance\n",
    "\n",
    "Create a class named `Flyer` with a method `fly`. Create a class named `Swimmer` with a method `swim`. Create a class named `Superhero` that inherits from both `Flyer` and `Swimmer` and overrides both methods. Create an object of the `Superhero` class and call both methods.\n",
    "\n",
    "### Assignment 15: Abstract Methods and Multiple Inheritance\n",
    "\n",
    "Create an abstract base class named `Worker` with an abstract method `work`. Create two derived classes `Engineer` and `Doctor` that implement the `work` method. Create another derived class `Scientist` that inherits from both `Engineer` and `Doctor`. Create an object of the `Scientist` class and call the `work` method."
   ]
  },
  {
   "cell_type": "markdown",
   "id": "5f6fde56",
   "metadata": {},
   "source": [
    "# Module: OOP Assignments\n",
    "## Lesson: Polymorphism, Abstraction, and Encapsulation\n",
    "### Assignment 1: Polymorphism with Methods\n",
    "\n",
    "Create a base class named `Shape` with a method `area`. Create two derived classes `Circle` and `Square` that override the `area` method. Create a list of `Shape` objects and call the `area` method on each object to demonstrate polymorphism."
   ]
  },
  {
   "cell_type": "code",
   "execution_count": 7,
   "metadata": {},
   "outputs": [
    {
     "name": "stdout",
     "output_type": "stream",
     "text": [
      "Area of shape\n",
      "Area of shape\n"
     ]
    },
    {
     "data": {
      "text/plain": [
       "'Even abstract methods can be called even if they are not implemented or we cvan say overidden in the child class\\nBut only true if the class is not ABC\\n'"
      ]
     },
     "execution_count": 7,
     "metadata": {},
     "output_type": "execute_result"
    }
   ],
   "source": [
    "from abc import ABC ,abstractmethod\n",
    "class Shape():\n",
    "    @abstractmethod\n",
    "    def area(self):\n",
    "        print(\"Area of shape\")\n",
    "\n",
    "class Circle(Shape):\n",
    "    pass\n",
    "\n",
    "class Square(Shape):\n",
    "    pass\n",
    "\n",
    "c = Circle()\n",
    "c.area()\n",
    "\n",
    "shape=Shape()\n",
    "shape.area()\n",
    "\n",
    "'''Even abstract methods can be called even if they are not implemented or we cvan say overidden in the child class\n",
    "But only true if the class is not ABC\n",
    "'''\n"
   ]
  },
  {
   "cell_type": "code",
   "execution_count": 8,
   "id": "199e991b",
   "metadata": {},
   "outputs": [
    {
     "ename": "TypeError",
     "evalue": "Can't instantiate abstract class Circle without an implementation for abstract method 'area'",
     "output_type": "error",
     "traceback": [
      "\u001b[0;31m---------------------------------------------------------------------------\u001b[0m",
      "\u001b[0;31mTypeError\u001b[0m                                 Traceback (most recent call last)",
      "Cell \u001b[0;32mIn[8], line 13\u001b[0m\n\u001b[1;32m     10\u001b[0m \u001b[38;5;28;01mclass\u001b[39;00m \u001b[38;5;21;01mSquare\u001b[39;00m(Shape):\n\u001b[1;32m     11\u001b[0m     \u001b[38;5;28;01mpass\u001b[39;00m\n\u001b[0;32m---> 13\u001b[0m c \u001b[38;5;241m=\u001b[39m \u001b[43mCircle\u001b[49m\u001b[43m(\u001b[49m\u001b[43m)\u001b[49m\n\u001b[1;32m     14\u001b[0m c\u001b[38;5;241m.\u001b[39marea()\n",
      "\u001b[0;31mTypeError\u001b[0m: Can't instantiate abstract class Circle without an implementation for abstract method 'area'"
     ]
    }
   ],
   "source": [
    "from abc import ABC ,abstractmethod\n",
    "class Shape(ABC):\n",
    "    @abstractmethod\n",
    "    def area(self):\n",
    "        print(\"Area of shape\")\n",
    "\n",
    "class Circle(Shape):\n",
    "    pass\n",
    "\n",
    "class Square(Shape):\n",
    "    pass\n",
    "\n",
    "c = Circle()# This will give error as we have not implemented the abstract method\n",
    "c.area()"
   ]
  },
  {
   "cell_type": "code",
   "execution_count": 3,
   "id": "0781701e",
   "metadata": {},
   "outputs": [
    {
     "name": "stdout",
     "output_type": "stream",
     "text": [
      "Area of circle  314.0\n",
      "Area of square  100\n"
     ]
    }
   ],
   "source": [
    "from abc import ABC ,abstractmethod\n",
    "class Shape:\n",
    "    @abstractmethod\n",
    "    def area(self):\n",
    "        print(\"Area of shape\")\n",
    "\n",
    "class Circle(Shape):\n",
    "    def __init__(self,radius):\n",
    "        self.radius = radius\n",
    "    def area(self):\n",
    "        print(\"Area of circle \",3.14*self.radius**2)\n",
    "\n",
    "class Square(Shape):\n",
    "    def __init__(self,side):\n",
    "        self.side = side\n",
    "    def area(self):\n",
    "        print(\"Area of square \",self.side**2)\n",
    "    \n",
    "\n",
    "shapes=[Circle(10),Square(10)]\n",
    "\n",
    "for obj in shapes:\n",
    "    obj.area()"
   ]
  },
  {
   "cell_type": "markdown",
   "id": "4f21958a",
   "metadata": {},
   "source": [
    "### Assignment 2: Polymorphism with Function Arguments\n",
    "\n",
    "Create a function named `describe_shape` that takes a `Shape` object as an argument and calls its `area` method. Create objects of `Circle` and `Square` classes and pass them to the `describe_shape` function."
   ]
  },
  {
   "cell_type": "code",
   "execution_count": 4,
   "id": "59322372",
   "metadata": {},
   "outputs": [
    {
     "name": "stdout",
     "output_type": "stream",
     "text": [
      "Area of circle  314.0\n",
      "Area of square  100\n"
     ]
    }
   ],
   "source": [
    "def describe_shape(obj):\n",
    "    obj.area()\n",
    "\n",
    "for i in shapes:\n",
    "    describe_shape(i)"
   ]
  },
  {
   "cell_type": "markdown",
   "id": "51f701cc",
   "metadata": {},
   "source": [
    "### Assignment 3: Abstract Base Class with Abstract Methods\n",
    "\n",
    "Create an abstract base class named `Vehicle` with an abstract method `start_engine`. Create derived classes `Car` and `Bike` that implement the `start_engine` method. Create objects of the derived classes and call the `start_engine` method."
   ]
  },
  {
   "cell_type": "code",
   "execution_count": 9,
   "id": "76e12755",
   "metadata": {},
   "outputs": [
    {
     "name": "stdout",
     "output_type": "stream",
     "text": [
      "Start engine of car\n",
      "Start engine of bike\n"
     ]
    }
   ],
   "source": [
    "from abc import ABC,abstractmethod\n",
    "\n",
    "class Vehicle(ABC):\n",
    "    @abstractmethod\n",
    "    def start_engine(self):\n",
    "        print(\"Start engine of vehicle--Will never be called so doesnt matter\")\n",
    "\n",
    "class Car(Vehicle):\n",
    "    def start_engine(self):\n",
    "        print(\"Start engine of car\")\n",
    "\n",
    "class Bike(Vehicle):\n",
    "    def start_engine(self):\n",
    "        print(\"Start engine of bike\")\n",
    "\n",
    "\n",
    "vehicles=[Car(),Bike()]\n",
    "\n",
    "for obj in vehicles:\n",
    "    obj.start_engine()"
   ]
  },
  {
   "cell_type": "markdown",
   "id": "bb43fa31",
   "metadata": {},
   "source": [
    "### Assignment 4: Abstract Base Class with Concrete Methods\n",
    "\n",
    "In the `Vehicle` class, add a concrete method `fuel_type` that returns a generic fuel type. Override this method in `Car` and `Bike` classes to return specific fuel types. Create objects of the derived classes and call the `fuel_type` method."
   ]
  },
  {
   "cell_type": "code",
   "execution_count": 11,
   "id": "86a83f9c",
   "metadata": {},
   "outputs": [
    {
     "name": "stdout",
     "output_type": "stream",
     "text": [
      "Start engine of car\n",
      "Fuel type of car is petrol\n",
      "Start engine of bike\n",
      "Fuel type of bike is petrol\n"
     ]
    }
   ],
   "source": [
    "from abc import ABC,abstractmethod\n",
    "\n",
    "class Vehicle(ABC):\n",
    "    @abstractmethod\n",
    "    def start_engine(self):\n",
    "        print(\"Start engine of vehicle--Will never be called so doesnt matter\")\n",
    "\n",
    "    def fuel_type(self):\n",
    "        print(\"Fuel type of vehicle\")\n",
    "    #This just gets overridden like a normal method\n",
    "\n",
    "class Car(Vehicle):\n",
    "    def start_engine(self):\n",
    "        print(\"Start engine of car\")\n",
    "    def fuel_type(self):\n",
    "        print(\"Fuel type of car is petrol\")\n",
    "\n",
    "class Bike(Vehicle):\n",
    "    def start_engine(self):\n",
    "        print(\"Start engine of bike\")\n",
    "    def fuel_type(self):\n",
    "        print(\"Fuel type of bike is petrol\")\n",
    "\n",
    "\n",
    "vehicles=[Car(),Bike()]\n",
    "\n",
    "for obj in vehicles:\n",
    "    obj.start_engine()\n",
    "    obj.fuel_type()"
   ]
  },
  {
   "cell_type": "markdown",
   "id": "2a8473ea",
   "metadata": {},
   "source": [
    "### Assignment 5: Encapsulation with Private Attributes\n",
    "\n",
    "Create a class named `BankAccount` with private attributes `account_number` and `balance`. Add methods to deposit and withdraw money, and to check the balance. Ensure that the balance cannot be accessed directly."
   ]
  },
  {
   "cell_type": "code",
   "execution_count": 12,
   "id": "447dcdd5",
   "metadata": {},
   "outputs": [
    {
     "name": "stdout",
     "output_type": "stream",
     "text": [
      "Amount deposited 1000\n",
      "Amount withdrawn 500\n",
      "1500\n"
     ]
    }
   ],
   "source": [
    "class BankAccount:\n",
    "    def __init__(self,acc_number,balance):\n",
    "        self.__account_number = acc_number\n",
    "        self.__balance = balance\n",
    "\n",
    "    def deposit(self,amount):\n",
    "        self.__balance+=amount\n",
    "        print(\"Amount deposited\",amount)\n",
    "    \n",
    "    def withdraw(self,amount):\n",
    "        if amount>self.__balance:\n",
    "            print(\"Insufficient balance\")\n",
    "        else:\n",
    "            self.__balance-=amount\n",
    "            print(\"Amount withdrawn\",amount)\n",
    "    \n",
    "    def get_balance(self):\n",
    "        print(self.__balance)\n",
    "\n",
    "Acc=BankAccount(1234,1000)\n",
    "Acc.deposit(1000)\n",
    "Acc.withdraw(500)\n",
    "Acc.get_balance()"
   ]
  },
  {
   "cell_type": "markdown",
   "id": "ac54a82d",
   "metadata": {},
   "source": [
    "### Assignment 6: Encapsulation with Property Decorators\n",
    "\n",
    "In the `BankAccount` class, use property decorators to get and set the `balance` attribute. Ensure that the balance cannot be set to a negative value."
   ]
  },
  {
   "cell_type": "code",
   "execution_count": 13,
   "id": "282f73f8",
   "metadata": {},
   "outputs": [
    {
     "ename": "NameError",
     "evalue": "name 'balance' is not defined",
     "output_type": "error",
     "traceback": [
      "\u001b[0;31m---------------------------------------------------------------------------\u001b[0m",
      "\u001b[0;31mNameError\u001b[0m                                 Traceback (most recent call last)",
      "Cell \u001b[0;32mIn[13], line 1\u001b[0m\n\u001b[0;32m----> 1\u001b[0m \u001b[38;5;28;43;01mclass\u001b[39;49;00m\u001b[43m \u001b[49m\u001b[38;5;21;43;01mBankAccount\u001b[39;49;00m\u001b[43m:\u001b[49m\n\u001b[1;32m      2\u001b[0m \u001b[43m    \u001b[49m\u001b[38;5;28;43;01mdef\u001b[39;49;00m\u001b[43m \u001b[49m\u001b[38;5;21;43m__init__\u001b[39;49m\u001b[43m(\u001b[49m\u001b[38;5;28;43mself\u001b[39;49m\u001b[43m,\u001b[49m\u001b[43macc_number\u001b[49m\u001b[43m,\u001b[49m\u001b[43mbalance\u001b[49m\u001b[38;5;241;43m=\u001b[39;49m\u001b[38;5;241;43m0\u001b[39;49m\u001b[43m)\u001b[49m\u001b[43m:\u001b[49m\n\u001b[1;32m      3\u001b[0m \u001b[43m        \u001b[49m\u001b[38;5;28;43mself\u001b[39;49m\u001b[38;5;241;43m.\u001b[39;49m\u001b[43m__account_number\u001b[49m\u001b[43m \u001b[49m\u001b[38;5;241;43m=\u001b[39;49m\u001b[43m \u001b[49m\u001b[43macc_number\u001b[49m\n",
      "Cell \u001b[0;32mIn[13], line 17\u001b[0m, in \u001b[0;36mBankAccount\u001b[0;34m()\u001b[0m\n\u001b[1;32m     14\u001b[0m         \u001b[38;5;28mself\u001b[39m\u001b[38;5;241m.\u001b[39m__balance\u001b[38;5;241m-\u001b[39m\u001b[38;5;241m=\u001b[39mamount\n\u001b[1;32m     15\u001b[0m         \u001b[38;5;28mprint\u001b[39m(\u001b[38;5;124m\"\u001b[39m\u001b[38;5;124mAmount withdrawn\u001b[39m\u001b[38;5;124m\"\u001b[39m,amount)\n\u001b[0;32m---> 17\u001b[0m \u001b[38;5;129m@balance\u001b[39m\u001b[38;5;241m.\u001b[39msetter\n\u001b[1;32m     18\u001b[0m \u001b[38;5;28;01mdef\u001b[39;00m \u001b[38;5;21mbalance\u001b[39m(\u001b[38;5;28mself\u001b[39m,value):\n\u001b[1;32m     19\u001b[0m     \u001b[38;5;28mself\u001b[39m\u001b[38;5;241m.\u001b[39m__balance \u001b[38;5;241m=\u001b[39m value\n\u001b[1;32m     21\u001b[0m \u001b[38;5;129m@property\u001b[39m\n\u001b[1;32m     22\u001b[0m \u001b[38;5;28;01mdef\u001b[39;00m \u001b[38;5;21mbalance\u001b[39m(\u001b[38;5;28mself\u001b[39m):\n",
      "\u001b[0;31mNameError\u001b[0m: name 'balance' is not defined"
     ]
    }
   ],
   "source": [
    "class BankAccount:\n",
    "    def __init__(self,acc_number,balance=0):\n",
    "        self.__account_number = acc_number\n",
    "        self.__balance = balance\n",
    "\n",
    "    def deposit(self,amount):\n",
    "        self.__balance+=amount\n",
    "        print(\"Amount deposited\",amount)\n",
    "    \n",
    "    def withdraw(self,amount):\n",
    "        if amount>self.__balance:\n",
    "            print(\"Insufficient balance\")\n",
    "        else:\n",
    "            self.__balance-=amount\n",
    "            print(\"Amount withdrawn\",amount)\n",
    "    \n",
    "    @balance.setter\n",
    "    def balance(self,value):\n",
    "        self.__balance = value\n",
    "\n",
    "    @property\n",
    "    def balance(self):\n",
    "        return self.__balance\n",
    "\n",
    "\n",
    "Acc=BankAccount(1234,1000)\n",
    "Acc.deposit(1000)\n",
    "Acc.withdraw(500)\n",
    "print(Acc.balance)"
   ]
  },
  {
   "cell_type": "markdown",
   "id": "87a9918b",
   "metadata": {},
   "source": [
    "### The issue with the setter not working is that you've defined the @balance.setter decorator after defining the @property method for balance. In Python, the @property decorator should come before the setter method for it to work correctly."
   ]
  },
  {
   "cell_type": "code",
   "execution_count": 17,
   "id": "d837e4af",
   "metadata": {},
   "outputs": [
    {
     "name": "stdout",
     "output_type": "stream",
     "text": [
      "Amount deposited 1000\n",
      "Amount withdrawn 500\n",
      "1500\n"
     ]
    }
   ],
   "source": [
    "class BankAccount:\n",
    "    def __init__(self,acc_number,balance=0):\n",
    "        self.__account_number = acc_number\n",
    "        self.__balance = balance\n",
    "\n",
    "    def deposit(self,amount):\n",
    "        self.__balance+=amount\n",
    "        print(\"Amount deposited\",amount)\n",
    "    \n",
    "    def withdraw(self,amount):\n",
    "        if amount>self.__balance:\n",
    "            print(\"Insufficient balance\")\n",
    "        else:\n",
    "            self.__balance-=amount\n",
    "            print(\"Amount withdrawn\",amount)\n",
    "    \n",
    " \n",
    "    @property\n",
    "    def balance(self):\n",
    "        return self.__balance\n",
    "    \n",
    "    @balance.setter\n",
    "    def balance(self,value):\n",
    "        if value<0:\n",
    "            print(\"Balance cannot be negative\")\n",
    "        else:\n",
    "            self.__balance = value\n",
    "\n",
    "\n",
    "\n",
    "Acc=BankAccount(1234)\n",
    "Acc.balance=1000\n",
    "Acc.deposit(1000)\n",
    "Acc.withdraw(500)\n",
    "\n",
    "print(Acc.balance)"
   ]
  },
  {
   "cell_type": "markdown",
   "id": "55e45973",
   "metadata": {},
   "source": [
    "In Python, the `@property` and `@property.setter` decorators are used together when you want to create a property with both a getter and a setter. However, **they are not strictly required to be used together**. You can use either the `@property` decorator **alone** (without the setter) or the setter **without the property getter** if your use case only requires one of them.\n",
    "\n",
    "### 1. **Using `@property` Without Setter**:\n",
    "You can define a **read-only property** using just the `@property` decorator. In this case, the property value can only be retrieved but not set.\n",
    "\n",
    "```python\n",
    "class BankAccount:\n",
    "    def __init__(self, acc_number, balance=0):\n",
    "        self.__account_number = acc_number\n",
    "        self.__balance = balance\n",
    "\n",
    "    @property\n",
    "    def balance(self):\n",
    "        return self.__balance\n",
    "\n",
    "Acc = BankAccount(1234, 1000)\n",
    "print(Acc.balance)  # This works fine as a read-only property\n",
    "# Acc.balance = 2000  # This would raise an error because there is no setter\n",
    "```\n",
    "\n",
    "### 2. **Using `@property.setter` Without Getter**:\n",
    "You can also define a setter method **without a getter**. However, this is uncommon and not the usual use case since you typically want both getter and setter to work together for a property. If you only define a setter without a getter, you need to access the property through the setter, but there will be no way to get the value directly using `Acc.balance`.\n",
    "\n",
    "```python\n",
    "class BankAccount:\n",
    "    def __init__(self, acc_number, balance=0):\n",
    "        self.__account_number = acc_number\n",
    "        self.__balance = balance\n",
    "\n",
    "    @property\n",
    "    def balance(self):\n",
    "        raise AttributeError(\"Cannot access balance directly.\")\n",
    "    \n",
    "    @balance.setter\n",
    "    def balance(self, value):\n",
    "        self.__balance = value\n",
    "\n",
    "Acc = BankAccount(1234, 1000)\n",
    "Acc.balance = 2000  # This works\n",
    "# print(Acc.balance)  # This raises AttributeError, as getter is not defined\n",
    "```\n",
    "\n",
    "### Conclusion:\n",
    "- **With Getter Only** (`@property`): You can use a property that is **read-only**.\n",
    "- **With Setter Only** (`@property.setter`): You can create a setter for setting a value, but there won't be a getter to retrieve it directly (not very common).\n",
    "- **With Both** (`@property` and `@property.setter`): Typically used to create a property that is both readable and writable."
   ]
  },
  {
   "cell_type": "code",
   "execution_count": null,
   "id": "36ee53a5",
   "metadata": {},
   "outputs": [
    {
     "ename": "NameError",
     "evalue": "name 'balance' is not defined",
     "output_type": "error",
     "traceback": [
      "\u001b[0;31m---------------------------------------------------------------------------\u001b[0m",
      "\u001b[0;31mNameError\u001b[0m                                 Traceback (most recent call last)",
      "Cell \u001b[0;32mIn[16], line 1\u001b[0m\n\u001b[0;32m----> 1\u001b[0m \u001b[38;5;28;43;01mclass\u001b[39;49;00m\u001b[43m \u001b[49m\u001b[38;5;21;43;01mBankAccount\u001b[39;49;00m\u001b[43m:\u001b[49m\n\u001b[1;32m      2\u001b[0m \u001b[43m    \u001b[49m\u001b[38;5;28;43;01mdef\u001b[39;49;00m\u001b[43m \u001b[49m\u001b[38;5;21;43m__init__\u001b[39;49m\u001b[43m(\u001b[49m\u001b[38;5;28;43mself\u001b[39;49m\u001b[43m,\u001b[49m\u001b[43macc_number\u001b[49m\u001b[43m,\u001b[49m\u001b[43mbalance\u001b[49m\u001b[38;5;241;43m=\u001b[39;49m\u001b[38;5;241;43m0\u001b[39;49m\u001b[43m)\u001b[49m\u001b[43m:\u001b[49m\n\u001b[1;32m      3\u001b[0m \u001b[43m        \u001b[49m\u001b[38;5;28;43mself\u001b[39;49m\u001b[38;5;241;43m.\u001b[39;49m\u001b[43m__account_number\u001b[49m\u001b[43m \u001b[49m\u001b[38;5;241;43m=\u001b[39;49m\u001b[43m \u001b[49m\u001b[43macc_number\u001b[49m\n",
      "Cell \u001b[0;32mIn[16], line 22\u001b[0m, in \u001b[0;36mBankAccount\u001b[0;34m()\u001b[0m\n\u001b[1;32m     18\u001b[0m \u001b[38;5;129m@property\u001b[39m\n\u001b[1;32m     19\u001b[0m \u001b[38;5;28;01mdef\u001b[39;00m \u001b[38;5;21mbalan\u001b[39m(\u001b[38;5;28mself\u001b[39m):\n\u001b[1;32m     20\u001b[0m     \u001b[38;5;28;01mreturn\u001b[39;00m \u001b[38;5;28mself\u001b[39m\u001b[38;5;241m.\u001b[39m__balance\n\u001b[0;32m---> 22\u001b[0m \u001b[38;5;129m@balance\u001b[39m\u001b[38;5;241m.\u001b[39msetter\n\u001b[1;32m     23\u001b[0m \u001b[38;5;28;01mdef\u001b[39;00m \u001b[38;5;21mbalance\u001b[39m(\u001b[38;5;28mself\u001b[39m,value):\n\u001b[1;32m     24\u001b[0m     \u001b[38;5;28mself\u001b[39m\u001b[38;5;241m.\u001b[39m__balance \u001b[38;5;241m=\u001b[39m value\n",
      "\u001b[0;31mNameError\u001b[0m: name 'balance' is not defined"
     ]
    }
   ],
   "source": [
    "class BankAccount:\n",
    "    def __init__(self,acc_number,balance=0):\n",
    "        self.__account_number = acc_number\n",
    "        self.__balance = balance\n",
    "\n",
    "    def deposit(self,amount):\n",
    "        self.__balance+=amount\n",
    "        print(\"Amount deposited\",amount)\n",
    "    \n",
    "    def withdraw(self,amount):\n",
    "        if amount>self.__balance:\n",
    "            print(\"Insufficient balance\")\n",
    "        else:\n",
    "            self.__balance-=amount\n",
    "            print(\"Amount withdrawn\",amount)\n",
    "    \n",
    " \n",
    "    @property\n",
    "    def balan(self):\n",
    "        return self.__balance\n",
    "    \n",
    "    @balance.setter\n",
    "    def balance(self,value):\n",
    "        self.__balance = value\n",
    "\n",
    "''', the error is because the property name and setter method name must match. In your code, the property is named balan,\n",
    " but the setter is named balance. They should have the same name for the setter to work with the property.'''\n",
    "\n",
    "Acc=BankAccount(1234)\n",
    "Acc.balance=1000\n",
    "Acc.deposit(1000)\n",
    "Acc.withdraw(500)\n",
    "\n",
    "print(Acc.balan)"
   ]
  },
  {
   "cell_type": "markdown",
   "id": "9835620c",
   "metadata": {},
   "source": [
    "### Assignment 7: Combining Encapsulation and Inheritance\n",
    "\n",
    "Create a base class named `Person` with private attributes `name` and `age`. Add methods to get and set these attributes. Create a derived class named `Student` that adds an attribute `student_id`. Create an object of the `Student` class and test the encapsulation."
   ]
  },
  {
   "cell_type": "code",
   "execution_count": 21,
   "id": "6bbb5336",
   "metadata": {},
   "outputs": [
    {
     "name": "stdout",
     "output_type": "stream",
     "text": [
      "John\n",
      "21\n"
     ]
    },
    {
     "ename": "AttributeError",
     "evalue": "'Student' object has no attribute 'student_id'",
     "output_type": "error",
     "traceback": [
      "\u001b[0;31m---------------------------------------------------------------------------\u001b[0m",
      "\u001b[0;31mAttributeError\u001b[0m                            Traceback (most recent call last)",
      "Cell \u001b[0;32mIn[21], line 30\u001b[0m\n\u001b[1;32m     28\u001b[0m \u001b[38;5;28mprint\u001b[39m(stu\u001b[38;5;241m.\u001b[39mname)\n\u001b[1;32m     29\u001b[0m \u001b[38;5;28mprint\u001b[39m(stu\u001b[38;5;241m.\u001b[39mage)\n\u001b[0;32m---> 30\u001b[0m \u001b[38;5;28mprint\u001b[39m(\u001b[43mstu\u001b[49m\u001b[38;5;241;43m.\u001b[39;49m\u001b[43mstudent_id\u001b[49m)\u001b[38;5;66;03m#Private vannot be accessed directly\u001b[39;00m\n",
      "\u001b[0;31mAttributeError\u001b[0m: 'Student' object has no attribute 'student_id'"
     ]
    }
   ],
   "source": [
    "class Person:\n",
    "    def __init__(self,name,age):\n",
    "        self.__name=name\n",
    "        self.__age=age\n",
    "\n",
    "    @property\n",
    "    def name(self):\n",
    "        return self.__name\n",
    "    \n",
    "    @name.setter\n",
    "    def name(self,value):\n",
    "        self.__name=value\n",
    "    \n",
    "    @property\n",
    "    def age(self):\n",
    "        return self.__age\n",
    "    \n",
    "    @age.setter\n",
    "    def age(self,value):\n",
    "        self.__age=value\n",
    "\n",
    "class Student(Person):\n",
    "    def __init__(self,name,age,student_id):\n",
    "        self.__student_id=student_id\n",
    "        super().__init__(name,age)\n",
    "\n",
    "stu=Student(\"John\",21,1234)\n",
    "print(stu.name)\n",
    "print(stu.age)\n",
    "print(stu.student_id)#Private vannot be accessed directly"
   ]
  },
  {
   "cell_type": "code",
   "execution_count": 22,
   "id": "120f91ab",
   "metadata": {},
   "outputs": [
    {
     "name": "stdout",
     "output_type": "stream",
     "text": [
      "John\n",
      "21\n",
      "1234\n"
     ]
    }
   ],
   "source": [
    "class Person:\n",
    "    def __init__(self,name,age):\n",
    "        self.__name=name\n",
    "        self.__age=age\n",
    "\n",
    "    @property\n",
    "    def name(self):\n",
    "        return self.__name\n",
    "    \n",
    "    @name.setter\n",
    "    def name(self,value):\n",
    "        self.__name=value\n",
    "    \n",
    "    @property\n",
    "    def age(self):\n",
    "        return self.__age\n",
    "    \n",
    "    @age.setter\n",
    "    def age(self,value):\n",
    "        self.__age=value\n",
    "\n",
    "class Student(Person):\n",
    "    def __init__(self,name,age,student_id):\n",
    "        self.student_id=student_id\n",
    "        super().__init__(name,age)\n",
    "\n",
    "stu=Student(\"John\",21,1234)\n",
    "print(stu.name)#The setter and property method is essentially inherited by the child class\n",
    "print(stu.age)\n",
    "print(stu.student_id)#Private vannot be accessed directly\n",
    "\n",
    "'''This works fine now because of the setter and the property'''"
   ]
  },
  {
   "cell_type": "code",
   "execution_count": 23,
   "id": "0091be46",
   "metadata": {},
   "outputs": [
    {
     "ename": "AttributeError",
     "evalue": "'Student' object has no attribute 'name'",
     "output_type": "error",
     "traceback": [
      "\u001b[0;31m---------------------------------------------------------------------------\u001b[0m",
      "\u001b[0;31mAttributeError\u001b[0m                            Traceback (most recent call last)",
      "Cell \u001b[0;32mIn[23], line 22\u001b[0m\n\u001b[1;32m     19\u001b[0m         \u001b[38;5;28msuper\u001b[39m()\u001b[38;5;241m.\u001b[39m\u001b[38;5;21m__init__\u001b[39m(name,age)\n\u001b[1;32m     21\u001b[0m stu\u001b[38;5;241m=\u001b[39mStudent(\u001b[38;5;124m\"\u001b[39m\u001b[38;5;124mJohn\u001b[39m\u001b[38;5;124m\"\u001b[39m,\u001b[38;5;241m21\u001b[39m,\u001b[38;5;241m1234\u001b[39m)\n\u001b[0;32m---> 22\u001b[0m \u001b[38;5;28mprint\u001b[39m(\u001b[43mstu\u001b[49m\u001b[38;5;241;43m.\u001b[39;49m\u001b[43mname\u001b[49m)\n\u001b[1;32m     23\u001b[0m \u001b[38;5;28mprint\u001b[39m(stu\u001b[38;5;241m.\u001b[39mage)\n\u001b[1;32m     24\u001b[0m \u001b[38;5;28mprint\u001b[39m(stu\u001b[38;5;241m.\u001b[39mstudent_id)\u001b[38;5;66;03m#Private vannot be accessed directly\u001b[39;00m\n",
      "\u001b[0;31mAttributeError\u001b[0m: 'Student' object has no attribute 'name'"
     ]
    }
   ],
   "source": [
    "class Person:\n",
    "    def __init__(self,name,age):\n",
    "        self.__name=name\n",
    "        self.__age=age\n",
    "\n",
    "    def set_name(self,value):\n",
    "        self.__name=value\n",
    "    \n",
    "\n",
    "    \n",
    "  \n",
    "    def set_age(self,value):\n",
    "        self.__age=value\n",
    "\n",
    "\n",
    "class Student(Person):\n",
    "    def __init__(self,name,age,student_id):\n",
    "        self.student_id=student_id\n",
    "        super().__init__(name,age)\n",
    "\n",
    "stu=Student(\"John\",21,1234)\n",
    "print(stu.name)\n",
    "print(stu.age)\n",
    "print(stu.student_id)\n",
    "\n",
    "'''This no longer works  now as they are private'''"
   ]
  },
  {
   "cell_type": "markdown",
   "id": "22187306",
   "metadata": {},
   "source": [
    "# Remember private members can be inherited in python"
   ]
  },
  {
   "cell_type": "code",
   "execution_count": 24,
   "id": "7a94f4b8",
   "metadata": {},
   "outputs": [
    {
     "data": {
      "text/plain": [
       "['_Person__age',\n",
       " '_Person__name',\n",
       " '__class__',\n",
       " '__delattr__',\n",
       " '__dict__',\n",
       " '__dir__',\n",
       " '__doc__',\n",
       " '__eq__',\n",
       " '__format__',\n",
       " '__ge__',\n",
       " '__getattribute__',\n",
       " '__getstate__',\n",
       " '__gt__',\n",
       " '__hash__',\n",
       " '__init__',\n",
       " '__init_subclass__',\n",
       " '__le__',\n",
       " '__lt__',\n",
       " '__module__',\n",
       " '__ne__',\n",
       " '__new__',\n",
       " '__reduce__',\n",
       " '__reduce_ex__',\n",
       " '__repr__',\n",
       " '__setattr__',\n",
       " '__sizeof__',\n",
       " '__str__',\n",
       " '__subclasshook__',\n",
       " '__weakref__',\n",
       " 'set_age',\n",
       " 'set_name',\n",
       " 'student_id']"
      ]
     },
     "execution_count": 24,
     "metadata": {},
     "output_type": "execute_result"
    }
   ],
   "source": [
    "dir(stu)\n",
    "\n",
    "#'_Person__age',\n",
    "#'_Person__name',\n",
    "#Private members can be seen but their names now contain the name of the superclass or base class"
   ]
  },
  {
   "cell_type": "code",
   "execution_count": 25,
   "id": "9bbe7120",
   "metadata": {},
   "outputs": [
    {
     "name": "stdout",
     "output_type": "stream",
     "text": [
      "John\n",
      "21\n"
     ]
    }
   ],
   "source": [
    "print(stu._Person__name)\n",
    "print(stu._Person__age)"
   ]
  },
  {
   "cell_type": "markdown",
   "id": "015db511",
   "metadata": {},
   "source": [
    "## Python allows flexibility\n"
   ]
  },
  {
   "cell_type": "markdown",
   "id": "2e9de6fb",
   "metadata": {},
   "source": [
    "###  private members cannot be accesses inside the derived class"
   ]
  },
  {
   "cell_type": "code",
   "execution_count": 27,
   "id": "999df53f",
   "metadata": {},
   "outputs": [
    {
     "name": "stdout",
     "output_type": "stream",
     "text": [
      "1234\n"
     ]
    },
    {
     "ename": "AttributeError",
     "evalue": "'Student' object has no attribute '_Student__name'",
     "output_type": "error",
     "traceback": [
      "\u001b[0;31m---------------------------------------------------------------------------\u001b[0m",
      "\u001b[0;31mAttributeError\u001b[0m                            Traceback (most recent call last)",
      "Cell \u001b[0;32mIn[27], line 25\u001b[0m\n\u001b[1;32m     23\u001b[0m stu\u001b[38;5;241m=\u001b[39mStudent(\u001b[38;5;124m\"\u001b[39m\u001b[38;5;124mJohn\u001b[39m\u001b[38;5;124m\"\u001b[39m,\u001b[38;5;241m21\u001b[39m,\u001b[38;5;241m1234\u001b[39m)\n\u001b[1;32m     24\u001b[0m \u001b[38;5;28mprint\u001b[39m(stu\u001b[38;5;241m.\u001b[39mstudent_id)\n\u001b[0;32m---> 25\u001b[0m \u001b[43mstu\u001b[49m\u001b[38;5;241;43m.\u001b[39;49m\u001b[43mcheck_usage\u001b[49m\u001b[43m(\u001b[49m\u001b[43m)\u001b[49m\n\u001b[1;32m     27\u001b[0m \u001b[38;5;124;03m'''This no longer works  now as they are private'''\u001b[39;00m\n",
      "Cell \u001b[0;32mIn[27], line 20\u001b[0m, in \u001b[0;36mStudent.check_usage\u001b[0;34m(self)\u001b[0m\n\u001b[1;32m     19\u001b[0m \u001b[38;5;28;01mdef\u001b[39;00m \u001b[38;5;21mcheck_usage\u001b[39m(\u001b[38;5;28mself\u001b[39m):\n\u001b[0;32m---> 20\u001b[0m     \u001b[38;5;28mprint\u001b[39m(\u001b[38;5;28;43mself\u001b[39;49m\u001b[38;5;241;43m.\u001b[39;49m\u001b[43m__name\u001b[49m)\n\u001b[1;32m     21\u001b[0m     \u001b[38;5;28mprint\u001b[39m(\u001b[38;5;28mself\u001b[39m\u001b[38;5;241m.\u001b[39m__age)\n",
      "\u001b[0;31mAttributeError\u001b[0m: 'Student' object has no attribute '_Student__name'"
     ]
    }
   ],
   "source": [
    "class Person:\n",
    "    def __init__(self,name,age):\n",
    "        \n",
    "        self.__name=name\n",
    "        self.__age=age\n",
    "\n",
    "    def set_name(self,value):\n",
    "        self.__name=value\n",
    "  \n",
    "    def set_age(self,value):\n",
    "        self.__age=value\n",
    "\n",
    "\n",
    "class Student(Person):\n",
    "    def __init__(self,name,age,student_id):\n",
    "        self.student_id=student_id\n",
    "        super().__init__(name,age)\n",
    "\n",
    "    def check_usage(self):\n",
    "        print(self.__name)\n",
    "        print(self.__age)\n",
    "\n",
    "'''As private members cannot be accesses inside the derived class'''\n",
    "\n",
    "stu=Student(\"John\",21,1234)\n",
    "print(stu.student_id)\n",
    "stu.check_usage()\n",
    "\n",
    "'''This no longer works  now as they are private'''"
   ]
  },
  {
   "cell_type": "code",
   "execution_count": 28,
   "id": "77673915",
   "metadata": {},
   "outputs": [
    {
     "name": "stdout",
     "output_type": "stream",
     "text": [
      "1234\n",
      "John\n",
      "21\n"
     ]
    },
    {
     "data": {
      "text/plain": [
       "'This no longer works  now as they are private'"
      ]
     },
     "execution_count": 28,
     "metadata": {},
     "output_type": "execute_result"
    }
   ],
   "source": [
    "class Person:\n",
    "    def __init__(self,name,age):\n",
    "        \n",
    "        self._name=name\n",
    "        self._age=age\n",
    "\n",
    "    def set_name(self,value):\n",
    "        self._name=value\n",
    "  \n",
    "    def set_age(self,value):\n",
    "        self._age=value\n",
    "\n",
    "\n",
    "class Student(Person):\n",
    "    def __init__(self,name,age,student_id):\n",
    "        self.student_id=student_id\n",
    "        super().__init__(name,age)\n",
    "\n",
    "    def check_usage(self):\n",
    "        print(self._name)\n",
    "        print(self._age)\n",
    "\n",
    "'''But protected  members cannot be accessed inside the derived class'''\n",
    "\n",
    "stu=Student(\"John\",21,1234)\n",
    "print(stu.student_id)\n",
    "stu.check_usage()\n",
    "\n",
    "'''This no longer works  now as they are private'''"
   ]
  },
  {
   "cell_type": "markdown",
   "id": "78d5fa86",
   "metadata": {},
   "source": [
    "### But protected  members cannot be accessed inside the derived class"
   ]
  },
  {
   "cell_type": "markdown",
   "id": "378f0061",
   "metadata": {},
   "source": [
    "## But all private,protected and public will be inherited"
   ]
  },
  {
   "cell_type": "markdown",
   "id": "f958cb2d",
   "metadata": {},
   "source": [
    "### Assignment 8: Polymorphism with Inheritance\n",
    "\n",
    "Create a base class named `Animal` with a method `speak`. Create two derived classes `Dog` and `Cat` that override the `speak` method. Create a list of `Animal` objects and call the `speak` method on each object to demonstrate polymorphism."
   ]
  },
  {
   "cell_type": "code",
   "execution_count": 32,
   "id": "395c2ccb",
   "metadata": {},
   "outputs": [
    {
     "name": "stdout",
     "output_type": "stream",
     "text": [
      "Dog barks\n",
      "Cat meows\n"
     ]
    }
   ],
   "source": [
    "class Animal:\n",
    "    def speak(self):\n",
    "        print(\"Animal speaks\")\n",
    "\n",
    "class Dog(Animal):\n",
    "    def speak(self):\n",
    "        print(\"Dog barks\")\n",
    "\n",
    "class Cat(Animal):\n",
    "    def speak(self):\n",
    "        print(\"Cat meows\")\n",
    "\n",
    "animals=[Dog(),Cat()]\n",
    "\n",
    "for obj in animals:\n",
    "    obj.speak()"
   ]
  },
  {
   "cell_type": "markdown",
   "id": "67b0a098",
   "metadata": {},
   "source": [
    "### Assignment 9: Abstract Methods in Base Class\n",
    "\n",
    "Create an abstract base class named `Employee` with an abstract method `calculate_salary`. Create two derived classes `FullTimeEmployee` and `PartTimeEmployee` that implement the `calculate_salary` method. Create objects of the derived classes and call the `calculate_salary` method."
   ]
  },
  {
   "cell_type": "code",
   "execution_count": 33,
   "id": "a48cd7d7",
   "metadata": {},
   "outputs": [
    {
     "name": "stdout",
     "output_type": "stream",
     "text": [
      "10000\n",
      "4000\n"
     ]
    }
   ],
   "source": [
    "from abc import ABC,abstractmethod\n",
    "\n",
    "class Employee:\n",
    "    @abstractmethod\n",
    "    def calculate_salary(self):\n",
    "        pass\n",
    "\n",
    "class FullTimeEmployee(Employee):\n",
    "    def __init__(self,salary):\n",
    "        self.salary=salary\n",
    "\n",
    "    def calculate_salary(self):\n",
    "        return self.salary\n",
    "\n",
    "class PartTimeEmployee(Employee):\n",
    "    def __init__(self,hours_worked,hourly_rate):\n",
    "        self.hours_worked=hours_worked\n",
    "        self.hourly_rate=hourly_rate\n",
    "\n",
    "\n",
    "    def calculate_salary(self):\n",
    "        return self.hours_worked*self.hourly_rate\n",
    "    \n",
    "\n",
    "employees=[FullTimeEmployee(10000),PartTimeEmployee(40,100)]\n",
    "for obj in employees:\n",
    "    print(obj.calculate_salary())"
   ]
  },
  {
   "cell_type": "markdown",
   "id": "88f882a6",
   "metadata": {},
   "source": [
    "### Assignment 10: Encapsulation in Data Classes\n",
    "\n",
    "Create a data class named `Product` with private attributes `product_id`, `name`, and `price`. Add methods to get and set these attributes. Ensure that the price cannot be set to a negative value."
   ]
  },
  {
   "cell_type": "code",
   "execution_count": 34,
   "id": "f4f3eadc",
   "metadata": {},
   "outputs": [
    {
     "name": "stdout",
     "output_type": "stream",
     "text": [
      "1234\n",
      "Laptop\n",
      "1000\n",
      "Price cannot be negative\n"
     ]
    }
   ],
   "source": [
    "class Product:\n",
    "    def __init__(self,product_id,name,price):\n",
    "        self.__product_id=product_id\n",
    "        self.__name=name\n",
    "        self.__price=price\n",
    "\n",
    "    @property\n",
    "    def product_id(self):\n",
    "        return self.__product_id\n",
    "\n",
    "    @product_id.setter\n",
    "    def product_id(self,value):\n",
    "        self.__product_id=value\n",
    "\n",
    "    @property\n",
    "    def name(self):\n",
    "        return self.__name\n",
    "    \n",
    "    @name.setter\n",
    "    def name(self,value):\n",
    "        self.__name=value\n",
    "    \n",
    "    @property\n",
    "    def price(self):\n",
    "        return self.__price\n",
    "    \n",
    "    @price.setter\n",
    "    def price(self,value):\n",
    "        if value<0:\n",
    "            print(\"Price cannot be negative\")\n",
    "        self.__price=value\n",
    "\n",
    "prod=Product(1234,\"Laptop\",1000)\n",
    "print(prod.product_id)\n",
    "print(prod.name)\n",
    "print(prod.price)\n",
    "prod.price=-2\n",
    "\n",
    "\n"
   ]
  },
  {
   "cell_type": "markdown",
   "id": "26c7e54b",
   "metadata": {},
   "source": [
    "### Assignment 11: Polymorphism with Operator Overloading\n",
    "\n",
    "Create a class named `Vector` with attributes `x` and `y`. Overload the `+` operator to add two `Vector` objects. Create objects of the class and test the operator overloading."
   ]
  },
  {
   "cell_type": "code",
   "execution_count": 35,
   "id": "e4a880cb",
   "metadata": {},
   "outputs": [
    {
     "name": "stdout",
     "output_type": "stream",
     "text": [
      "VEctor(6,8)\n"
     ]
    }
   ],
   "source": [
    "class Vector:\n",
    "    def __init__(self,x,y):\n",
    "        self.__x=x\n",
    "        self.__y=y\n",
    "\n",
    "    def __add__(self,other):\n",
    "        return Vector(self.__x+other.__x,self.__y+other.__y)\n",
    "    \n",
    "    def __sub__(self,other):\n",
    "        return Vector(self.__x-other.__x,self.__y-other.__y)\n",
    "    \n",
    "    def __str__(self):\n",
    "        return f\"VEctor({self.__x},{self.__y})\"\n",
    "    \n",
    "v1=Vector(2,3)\n",
    "v2=Vector(4,5)\n",
    "v3=v1+v2\n",
    "\n",
    "print(v3)"
   ]
  },
  {
   "cell_type": "markdown",
   "id": "2a376069",
   "metadata": {},
   "source": [
    "### Assignment 12: Abstract Properties\n",
    "\n",
    "Create an abstract base class named `Appliance` with an abstract property `power`. Create two derived classes `WashingMachine` and `Refrigerator` that implement the `power` property. Create objects of the derived classes and access the `power` property."
   ]
  },
  {
   "cell_type": "code",
   "execution_count": 36,
   "id": "eb4aec5e",
   "metadata": {},
   "outputs": [
    {
     "name": "stdout",
     "output_type": "stream",
     "text": [
      "1000\n",
      "2000\n"
     ]
    }
   ],
   "source": [
    "from abc import ABC,abstractmethod\n",
    "\n",
    "class Appliances(ABC):\n",
    "    @abstractmethod\n",
    "    def power(self):\n",
    "        pass\n",
    "\n",
    "class washing_machine(Appliances):\n",
    "    @property\n",
    "    def power(self):\n",
    "        return 1000\n",
    "\n",
    "class refrigerator(Appliances):\n",
    "    @property\n",
    "    def power(self):\n",
    "        return 2000\n",
    "    \n",
    "wm=washing_machine()\n",
    "print(wm.power)\n",
    "rf=refrigerator()\n",
    "print(rf.power)"
   ]
  },
  {
   "cell_type": "markdown",
   "id": "eac6f93b",
   "metadata": {},
   "source": [
    "### Assignment 13: Encapsulation in Class Hierarchies\n",
    "\n",
    "Create a base class named `Account` with private attributes `account_number` and `balance`. Add methods to get and set these attributes. Create a derived class named `SavingsAccount` that adds an attribute `interest_rate`. Create an object of the `SavingsAccount` class and test the encapsulation."
   ]
  },
  {
   "cell_type": "code",
   "execution_count": 38,
   "id": "622cbcb6",
   "metadata": {},
   "outputs": [
    {
     "name": "stdout",
     "output_type": "stream",
     "text": [
      "1234\n",
      "1000\n",
      "5\n"
     ]
    }
   ],
   "source": [
    "class Account:\n",
    "    def __init__(self,acc_number,balance):\n",
    "        self.__acc_number=acc_number\n",
    "        self.__balance=balance\n",
    "\n",
    "    @property\n",
    "    def acc_number(self):\n",
    "        return self.__acc_number\n",
    "    \n",
    "    @acc_number.setter\n",
    "    def acc_number(self,value):\n",
    "        self.__acc_number=value\n",
    "    \n",
    "    @property\n",
    "    def balance(self):\n",
    "        return self.__balance\n",
    "    \n",
    "    @balance.setter\n",
    "    def balance(self,value):\n",
    "        self.__balance=value\n",
    "\n",
    "class SavingsAccount(Account):\n",
    "    def __init__(self,acc_number,balance,interest_rate):\n",
    "        super().__init__(acc_number,balance)\n",
    "        self.__interest_rate=interest_rate\n",
    "\n",
    "    @property\n",
    "    def interest_rate(self):\n",
    "        return self.__interest_rate\n",
    "    \n",
    "    @interest_rate.setter\n",
    "    def interest_rate(self,value):\n",
    "        self.__interest_rate=value\n",
    "\n",
    "acc=SavingsAccount(1234,1000,5)\n",
    "print(acc.acc_number)\n",
    "print(acc.balance)\n",
    "print(acc.interest_rate)\n",
    "\n",
    "'''Always remember even private members are inherited by the child class  and can be set .Its dir also includes the private memebers'''"
   ]
  },
  {
   "cell_type": "markdown",
   "id": "542806e8",
   "metadata": {},
   "source": [
    "# Yes, private members are inherited in Python and C++, but they are not directly accessible in the derived class due to access restrictions."
   ]
  },
  {
   "cell_type": "markdown",
   "id": "b34d9b9c",
   "metadata": {},
   "source": [
    "### Assignment 14: Polymorphism with Multiple Inheritance\n",
    "\n",
    "Create a class named `Flyer` with a method `fly`. Create a class named `Swimmer` with a method `swim`. Create a class named `Superhero` that inherits from both `Flyer` and `Swimmer` and overrides both methods. Create an object of the `Superhero` class and call both methods."
   ]
  },
  {
   "cell_type": "code",
   "execution_count": 39,
   "id": "db9fdaec",
   "metadata": {},
   "outputs": [
    {
     "name": "stdout",
     "output_type": "stream",
     "text": [
      "Superhero flying\n",
      "Superhero swimming\n"
     ]
    }
   ],
   "source": [
    "class Flyer:\n",
    "    def fly(self):\n",
    "        print(\"Flying\")\n",
    "    \n",
    "class Swimmer:\n",
    "    def swim(self):\n",
    "        print(\"Swimming\")\n",
    "    \n",
    "class Superhero(Flyer,Swimmer):\n",
    "    def fly(self):\n",
    "        print(\"Superhero flying\")\n",
    "    \n",
    "    def swim(self):\n",
    "        print(\"Superhero swimming\")\n",
    "\n",
    "sp=Superhero()\n",
    "sp.fly()\n",
    "sp.swim()\n"
   ]
  },
  {
   "cell_type": "markdown",
   "id": "f1e1dd35",
   "metadata": {},
   "source": [
    "### Assignment 15: Abstract Methods and Multiple Inheritance\n",
    "\n",
    "Create an abstract base class named `Worker` with an abstract method `work`. Create two derived classes `Engineer` and `Doctor` that implement the `work` method. Create another derived class `Scientist` that inherits from both `Engineer` and `Doctor`. Create an object of the `Scientist` class and call the `work` method."
   ]
  },
  {
   "cell_type": "code",
   "execution_count": 40,
   "id": "420e6217",
   "metadata": {},
   "outputs": [
    {
     "name": "stdout",
     "output_type": "stream",
     "text": [
      "Employee working\n"
     ]
    },
    {
     "data": {
      "text/plain": [
       "'The employee one will be called'"
      ]
     },
     "execution_count": 40,
     "metadata": {},
     "output_type": "execute_result"
    }
   ],
   "source": [
    "from abc import ABC,abstractmethod\n",
    "\n",
    "class Worker:\n",
    "    @abstractmethod\n",
    "    def work(self):\n",
    "        pass\n",
    "\n",
    "class Employee(Worker):\n",
    "    def work(self):\n",
    "        print(\"Employee working\")\n",
    "\n",
    "class Manager(Worker):\n",
    "    def work(self):\n",
    "        print(\"Manager working\")\n",
    "\n",
    "class Scientist(Employee,Worker):\n",
    "    pass\n",
    "\n",
    "sc=Scientist()\n",
    "sc.work()\n",
    "'''The employee one will be called'''"
   ]
  },
  {
   "cell_type": "code",
   "execution_count": null,
   "id": "902db5e5",
   "metadata": {},
   "outputs": [],
   "source": []
  }
 ],
 "metadata": {
  "kernelspec": {
   "display_name": "venv",
   "language": "python",
   "name": "python3"
  },
  "language_info": {
   "codemirror_mode": {
    "name": "ipython",
    "version": 3
   },
   "file_extension": ".py",
   "mimetype": "text/x-python",
   "name": "python",
   "nbconvert_exporter": "python",
   "pygments_lexer": "ipython3",
   "version": "3.12.0"
  }
 },
 "nbformat": 4,
 "nbformat_minor": 5
}
