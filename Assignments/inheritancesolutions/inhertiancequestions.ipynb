{
 "cells": [
  {
   "cell_type": "markdown",
   "metadata": {},
   "source": [
    "# Module: Inheritance Assignments\n",
    "## Lesson: Single and Multiple Inheritance\n",
    "### Assignment 1: Single Inheritance Basic\n",
    "\n",
    "Create a base class named `Animal` with attributes `name` and `species`. Create a derived class named `Dog` that inherits from `Animal` and adds an attribute `breed`. Create an object of the `Dog` class and print its attributes.\n",
    "\n",
    "### Assignment 2: Method Overriding in Single Inheritance\n",
    "\n",
    "In the `Dog` class, override the `__str__` method to return a string representation of the object. Create an object of the class and print it.\n",
    "\n",
    "### Assignment 3: Single Inheritance with Additional Methods\n",
    "\n",
    "In the `Dog` class, add a method named `bark` that prints a barking sound. Create an object of the class and call the method.\n",
    "\n",
    "### Assignment 4: Multiple Inheritance Basic\n",
    "\n",
    "Create a base class named `Walker` with a method `walk` that prints a walking message. Create another base class named `Runner` with a method `run` that prints a running message. Create a derived class named `Athlete` that inherits from both `Walker` and `Runner`. Create an object of the `Athlete` class and call both methods.\n",
    "\n",
    "### Assignment 5: Method Resolution Order (MRO) in Multiple Inheritance\n",
    "\n",
    "In the `Athlete` class, override the `walk` method to print a different message. Create an object of the class and call the `walk` method. Use the `super()` function to call the `walk` method of the `Walker` class.\n",
    "\n",
    "### Assignment 6: Multiple Inheritance with Additional Attributes\n",
    "\n",
    "In the `Athlete` class, add an attribute `training_hours` and a method `train` that prints the training hours. Create an object of the class and call the method.\n",
    "\n",
    "### Assignment 7: Diamond Problem in Multiple Inheritance\n",
    "\n",
    "Create a class named `A` with a method `show` that prints a message. Create two derived classes `B` and `C` that inherit from `A` and override the `show` method. Create a class `D` that inherits from both `B` and `C`. Create an object of the `D` class and call the `show` method. Observe the method resolution order.\n",
    "\n",
    "### Assignment 8: Using `super()` in Single Inheritance\n",
    "\n",
    "Create a base class named `Shape` with an attribute `color`. Create a derived class named `Circle` that inherits from `Shape` and adds an attribute `radius`. Use the `super()` function to initialize the attributes. Create an object of the `Circle` class and print its attributes.\n",
    "\n",
    "### Assignment 9: Using `super()` in Multiple Inheritance\n",
    "\n",
    "Create a class named `Person` with an attribute `name`. Create a class named `Employee` with an attribute `employee_id`. Create a derived class `Manager` that inherits from both `Person` and `Employee`. Use the `super()` function to initialize the attributes. Create an object of the `Manager` class and print its attributes.\n",
    "\n",
    "### Assignment 10: Method Overriding and `super()`\n",
    "\n",
    "Create a class named `Vehicle` with a method `start` that prints a starting message. Create a derived class `Car` that overrides the `start` method to print a different message. Use the `super()` function to call the `start` method of the `Vehicle` class. Create an object of the `Car` class and call the `start` method.\n",
    "\n",
    "### Assignment 11: Multiple Inheritance with Different Methods\n",
    "\n",
    "Create a class named `Flyer` with a method `fly` that prints a flying message. Create a class named `Swimmer` with a method `swim` that prints a swimming message. Create a derived class `Superhero` that inherits from both `Flyer` and `Swimmer`. Create an object of the `Superhero` class and call both methods.\n",
    "\n",
    "### Assignment 12: Complex Multiple Inheritance\n",
    "\n",
    "Create a class named `Base1` with an attribute `a`. Create a class named `Base2` with an attribute `b`. Create a class named `Derived` that inherits from both `Base1` and `Base2` and adds an attribute `c`. Initialize all attributes using the `super()` function. Create an object of the `Derived` class and print its attributes.\n",
    "\n",
    "### Assignment 13: Checking Instance Types with Inheritance\n",
    "\n",
    "Create a base class named `Animal` and a derived class named `Cat`. Create objects of both classes and use the `isinstance` function to check the instance types.\n",
    "\n",
    "### Assignment 14: Polymorphism with Inheritance\n",
    "\n",
    "Create a base class named `Bird` with a method `speak`. Create two derived classes `Parrot` and `Penguin` that override the `speak` method. Create a list of `Bird` objects and call the `speak` method on each object to demonstrate polymorphism.\n",
    "\n",
    "### Assignment 15: Combining Single and Multiple Inheritance\n",
    "\n",
    "Create a base class named `Device` with an attribute `brand`. Create a derived class `Phone` that inherits from `Device` and adds an attribute `model`. Create another base class `Camera` with an attribute `resolution`. Create a derived class `Smartphone` that inherits from both `Phone` and `Camera`. Create an object of the `Smartphone` class and print its attributes."
   ]
  },
  {
   "cell_type": "markdown",
   "id": "02924492",
   "metadata": {},
   "source": [
    "# Module: Inheritance Assignments\n",
    "## Lesson: Single and Multiple Inheritance\n",
    "### Assignment 1: Single Inheritance Basic\n",
    "\n",
    "Create a base class named `Animal` with attributes `name` and `species`. Create a derived class named `Dog` that inherits from `Animal` and adds an attribute `breed`. Create an object of the `Dog` class and print its attributes."
   ]
  },
  {
   "cell_type": "code",
   "execution_count": 1,
   "metadata": {},
   "outputs": [
    {
     "name": "stdout",
     "output_type": "stream",
     "text": [
      "Tommy\n",
      "Dog\n",
      "Pug\n"
     ]
    }
   ],
   "source": [
    "class Animal:\n",
    "    def __init__(self,name,species):\n",
    "        self.name = name\n",
    "        self.species = species\n",
    "\n",
    "\n",
    "class Dog(Animal):\n",
    "    def __init__(self,name,species,breed):\n",
    "        super().__init__(name,species)\n",
    "        self.breed = breed\n",
    "\n",
    "d=Dog(\"Tommy\",\"Dog\",\"Pug\")\n",
    "print(d.name)\n",
    "print(d.species)\n",
    "print(d.breed)\n"
   ]
  },
  {
   "cell_type": "markdown",
   "id": "d034f898",
   "metadata": {},
   "source": [
    "### Assignment 2: Method Overriding in Single Inheritance\n",
    "\n",
    "In the `Dog` class, override the `__str__` method to return a string representation of the object. Create an object of the class and print it."
   ]
  },
  {
   "cell_type": "code",
   "execution_count": 2,
   "id": "38f2800a",
   "metadata": {},
   "outputs": [
    {
     "name": "stdout",
     "output_type": "stream",
     "text": [
      "Tommy is a Pug Dog\n"
     ]
    }
   ],
   "source": [
    "class Dog(Animal):\n",
    "    def __init__(self,name,species,breed):\n",
    "        super().__init__(name,species)\n",
    "        self.breed = breed\n",
    "\n",
    "    def __str__(self):\n",
    "        return f\"{self.name} is a {self.breed} {self.species}\"\n",
    "    \n",
    "d=Dog(\"Tommy\",\"Dog\",\"Pug\")\n",
    "print(d)"
   ]
  },
  {
   "cell_type": "markdown",
   "id": "6e9feb77",
   "metadata": {},
   "source": [
    "### Assignment 3: Single Inheritance with Additional Methods\n",
    "\n",
    "In the `Dog` class, add a method named `bark` that prints a barking sound. Create an object of the class and call the method."
   ]
  },
  {
   "cell_type": "code",
   "execution_count": 4,
   "id": "5608da24",
   "metadata": {},
   "outputs": [
    {
     "name": "stdout",
     "output_type": "stream",
     "text": [
      "Tommy is a Pug Dog\n",
      "Woof Wooof Woooof !\n"
     ]
    }
   ],
   "source": [
    "class Dog(Animal):\n",
    "    def __init__(self,name,species,breed):\n",
    "        super().__init__(name,species)\n",
    "        self.breed = breed\n",
    "\n",
    "    def __str__(self):\n",
    "        return f\"{self.name} is a {self.breed} {self.species}\"\n",
    "    \n",
    "    def bark(self):\n",
    "        return \"Woof Wooof Woooof !\"\n",
    "    \n",
    "d=Dog(\"Tommy\",\"Dog\",\"Pug\")\n",
    "print(d)\n",
    "print(d.bark())"
   ]
  },
  {
   "cell_type": "markdown",
   "id": "0fc932a6",
   "metadata": {},
   "source": [
    "### Assignment 4: Multiple Inheritance Basic\n",
    "\n",
    "Create a base class named `Walker` with a method `walk` that prints a walking message. Create another base class named `Runner` with a method `run` that prints a running message. Create a derived class named `Athlete` that inherits from both `Walker` and `Runner`. Create an object of the `Athlete` class and call both methods."
   ]
  },
  {
   "cell_type": "code",
   "execution_count": 6,
   "id": "70501dca",
   "metadata": {},
   "outputs": [
    {
     "name": "stdout",
     "output_type": "stream",
     "text": [
      "Athlete comstructed\n",
      "Walking ......\n",
      "Running ......\n"
     ]
    }
   ],
   "source": [
    "class Walker:\n",
    "    def walk(self):\n",
    "        return f\"Walking ......\"\n",
    "    \n",
    "class Runner:\n",
    "    def run(self):\n",
    "        return f\"Running ......\"\n",
    "\n",
    "class Athlete(Walker,Runner):\n",
    "    def __init__(self):\n",
    "        print(\"Athlete comstructed\")\n",
    "    pass\n",
    "\n",
    "Bolt=Athlete()\n",
    "\n",
    "print(Bolt.walk())\n",
    "print(Bolt.run())\n",
    "\n"
   ]
  },
  {
   "cell_type": "markdown",
   "id": "c6703a5e",
   "metadata": {},
   "source": [
    "### Assignment 5: Method Resolution Order (MRO) in Multiple Inheritance\n",
    "\n",
    "In the `Athlete` class, override the `walk` method to print a different message. Create an object of the class and call the `walk` method. Use the `super()` function to call the `walk` method of the `Walker` class."
   ]
  },
  {
   "cell_type": "markdown",
   "id": "788b3898",
   "metadata": {},
   "source": [
    "MRO (Method Resolution Order) in Python determines the order in which a method or attribute is inherited when a class is derived from multiple classes (i.e., in multiple inheritance).\n",
    "\n",
    "It follows the **C3 Linearization Algorithm**, which ensures:\n",
    "\n",
    "1. **Left-to-right**: Child classes are searched before parent classes.\n",
    "2. **Depth-first**: Parent classes are searched in the order they are defined.\n",
    "3. **No duplication**: A class is considered only once.\n",
    "\n",
    "You can view a class's MRO using the `__mro__` attribute or the `mro()` method:\n",
    "\n",
    "```python\n",
    "class A: pass\n",
    "class B(A): pass\n",
    "class C(B): pass\n",
    "\n",
    "print(C.mro())\n",
    "# Output: [<class '__main__.C'>, <class '__main__.B'>, <class '__main__.A'>, <class 'object'>]\n",
    "```\n",
    "\n",
    "This means Python looks in `C`, then `B`, then `A`, and finally `object` for methods or attributes."
   ]
  },
  {
   "cell_type": "code",
   "execution_count": 8,
   "id": "ef6c4224",
   "metadata": {},
   "outputs": [
    {
     "name": "stdout",
     "output_type": "stream",
     "text": [
      "Athlete is walking\n",
      "Walking ......\n"
     ]
    }
   ],
   "source": [
    "class Athlete(Walker,Runner):\n",
    "    def walk(self):\n",
    "        print(\"Athlete is walking\")\n",
    "        print(super().walk())\n",
    "\n",
    "Atl=Athlete()\n",
    "Atl.walk()"
   ]
  },
  {
   "cell_type": "code",
   "execution_count": 11,
   "id": "a9efc90f",
   "metadata": {},
   "outputs": [
    {
     "name": "stdout",
     "output_type": "stream",
     "text": [
      "A\n"
     ]
    }
   ],
   "source": [
    "class A:\n",
    "    def func(self):\n",
    "        print(\"A\")\n",
    "    \n",
    "class B:\n",
    "    def func(self):\n",
    "        print(\"B\")\n",
    "\n",
    "class C(A,B):\n",
    "    pass\n",
    "\n",
    "c=C()\n",
    "c.func()\n",
    "\n",
    "'''The MRO determines the order in which Python searches for a method. Since C inherits from A first, A takes precedence over B.'''"
   ]
  },
  {
   "cell_type": "code",
   "execution_count": 12,
   "id": "45d8c23d",
   "metadata": {},
   "outputs": [
    {
     "name": "stdout",
     "output_type": "stream",
     "text": [
      "B\n"
     ]
    }
   ],
   "source": [
    "class C(B,A):\n",
    "    pass\n",
    "\n",
    "c=C()\n",
    "c.func()\n",
    "'''HEre B takes precedence over A'''"
   ]
  },
  {
   "cell_type": "code",
   "execution_count": 13,
   "id": "33d8c7d8",
   "metadata": {},
   "outputs": [
    {
     "name": "stdout",
     "output_type": "stream",
     "text": [
      "z\n"
     ]
    }
   ],
   "source": [
    "class x:\n",
    "    def function(self):\n",
    "        print(\"x\")\n",
    "\n",
    "class y(x):\n",
    "    def function(self):\n",
    "        print(\"y\")\n",
    "\n",
    "class z(y):\n",
    "    def function(self):\n",
    "        print(\"z\")\n",
    "\n",
    "z=z()\n",
    "z.function()"
   ]
  },
  {
   "cell_type": "code",
   "execution_count": 14,
   "id": "48130a87",
   "metadata": {},
   "outputs": [
    {
     "name": "stdout",
     "output_type": "stream",
     "text": [
      "y\n"
     ]
    }
   ],
   "source": [
    "class x:\n",
    "    def function(self):\n",
    "        print(\"x\")\n",
    "\n",
    "class y(x):\n",
    "    def function(self):\n",
    "        print(\"y\")\n",
    "\n",
    "class z(y):\n",
    "    pass\n",
    "\n",
    "z=z()\n",
    "z.function()\n",
    "\n",
    "'''FIrst looks for func in z, then in y and then in x'''"
   ]
  },
  {
   "cell_type": "markdown",
   "id": "a9492cda",
   "metadata": {},
   "source": [
    "### Assignment 6: Multiple Inheritance with Additional Attributes\n",
    "\n",
    "In the `Athlete` class, add an attribute `training_hours` and a method `train` that prints the training hours. Create an object of the class and call the method."
   ]
  },
  {
   "cell_type": "code",
   "execution_count": 16,
   "id": "d269fbf8",
   "metadata": {},
   "outputs": [
    {
     "name": "stdout",
     "output_type": "stream",
     "text": [
      "Training for 10 hours\n"
     ]
    }
   ],
   "source": [
    "class Athlete(Walker,Runner):\n",
    "    def __init__(self,training_hours):\n",
    "        self._training_hours=training_hours\n",
    "\n",
    "    def walk(self):\n",
    "        print(\"Athlete is walking\")\n",
    "        print(super().walk())\n",
    "\n",
    "    def train( self):\n",
    "        print(f\"Training for {self._training_hours} hours\")\n",
    "\n",
    "Atl=Athlete(10)\n",
    "Atl.train()\n",
    "    \n",
    "    "
   ]
  },
  {
   "cell_type": "markdown",
   "id": "af088dbf",
   "metadata": {},
   "source": [
    "### Assignment 7: Diamond Problem in Multiple Inheritance\n",
    "\n",
    "Create a class named `A` with a method `show` that prints a message. Create two derived classes `B` and `C` that inherit from `A` and override the `show` method. Create a class `D` that inherits from both `B` and `C`. Create an object of the `D` class and call the `show` method. Observe the method resolution order."
   ]
  },
  {
   "cell_type": "code",
   "execution_count": 19,
   "id": "320238f9",
   "metadata": {},
   "outputs": [
    {
     "name": "stdout",
     "output_type": "stream",
     "text": [
      "show B\n"
     ]
    }
   ],
   "source": [
    "class A:\n",
    "    def show(self):\n",
    "        print(\"show A\")\n",
    "\n",
    "class B(A):\n",
    "    def show(self):\n",
    "        print(\"show B\")\n",
    "\n",
    "class C(A):\n",
    "    def show(self):\n",
    "        print(\"show C\")\n",
    "\n",
    "class D(B,C):\n",
    "    pass\n",
    "\n",
    "d=D()\n",
    "d.show()\n",
    "'''B overrides A and C also overrides A, buy B takes precedence over C since B is inherited first in ths line --> class D(B,C):'''\n",
    "    "
   ]
  },
  {
   "cell_type": "markdown",
   "id": "0dfdbf53",
   "metadata": {},
   "source": [
    "### Assignment 8: Using `super()` in Single Inheritance\n",
    "\n",
    "Create a base class named `Shape` with an attribute `color`. Create a derived class named `Circle` that inherits from `Shape` and adds an attribute `radius`. Use the `super()` function to initialize the attributes. Create an object of the `Circle` class and print its attributes."
   ]
  },
  {
   "cell_type": "code",
   "execution_count": 22,
   "id": "33c4196e",
   "metadata": {},
   "outputs": [
    {
     "name": "stdout",
     "output_type": "stream",
     "text": [
      "Red\n",
      "10\n",
      "Blue\n",
      "20\n"
     ]
    }
   ],
   "source": [
    "class Shape:\n",
    "    def __init__(self,cl):\n",
    "        self.color=cl\n",
    "    \n",
    "class Circle(Shape):\n",
    "    def __init__(self,cl,radius):\n",
    "        super().__init__(cl)\n",
    "        self.radius=radius\n",
    "\n",
    "cir=Circle(\"Red\",10)\n",
    "print(cir.color)\n",
    "print(cir.radius)\n",
    "cir.__init__(\"Blue\",20)\n",
    "print(cir.color)\n",
    "print(cir.radius)\n",
    "\n",
    "'''YOu can change the values of the attributes of the class by calling the __init__ method again'''"
   ]
  },
  {
   "cell_type": "markdown",
   "id": "dcaa8da0",
   "metadata": {},
   "source": [
    "### Assignment 9: Using `super()` in Multiple Inheritance\n",
    "\n",
    "Create a class named `Person` with an attribute `name`. Create a class named `Employee` with an attribute `employee_id`. Create a derived class `Manager` that inherits from both `Person` and `Employee`. Use the `super()` function to initialize the attributes. Create an object of the `Manager` class and print its attributes."
   ]
  },
  {
   "cell_type": "code",
   "execution_count": 26,
   "id": "fe95169c",
   "metadata": {},
   "outputs": [
    {
     "name": "stdout",
     "output_type": "stream",
     "text": [
      "John\n",
      "101\n"
     ]
    }
   ],
   "source": [
    "class Person:\n",
    "    def __init__(self,name):\n",
    "        self.name=name\n",
    "\n",
    "class Employee:\n",
    "    def __init__(self,emp_id):\n",
    "        self.emp_id=emp_id\n",
    "\n",
    "\n",
    "'''When you use super() in Python, it resolves to the next class in the Method Resolution Order (MRO), \n",
    "starting with the first inherited class.\n",
    "\n",
    "Basically it corresponds to the next class in the MRO list.\n",
    "That is in this this case the class which is inherited first\n",
    "\n",
    "'''\n",
    "class Manager(Person,Employee):\n",
    "    def __init__(self,name,emp_id):\n",
    "        super().__init__(name)#Self is not required here as super implicitely takes care of  it \n",
    "        Employee.__init__(self,emp_id)# Here when calling with the class name, self is required --Only for cases like these where you are calling the method with the class name during inheritance\n",
    "\n",
    "m=Manager(\"John\",101)\n",
    "print(m.name)\n",
    "print(m.emp_id)\n"
   ]
  },
  {
   "cell_type": "markdown",
   "id": "0b274ba5",
   "metadata": {},
   "source": [
    "Here’s the rule:\n",
    "\n",
    "### **When to Pass `self` Explicitly:**\n",
    "- **Explicit Method Calls**: You need to pass `self` when calling a method directly on a class (bypassing the instance or `super()`), e.g.:\n",
    "  ```python\n",
    "  Employee.__init__(self, emp_id)  # Pass `self` explicitly\n",
    "  ```\n",
    "\n",
    "### **When NOT to Pass `self`:**\n",
    "- **Using an Instance**: Python automatically passes `self` when you call a method on an object:\n",
    "  ```python\n",
    "  m = Manager(\"John\", 101)  # `self` is passed automatically\n",
    "  ```\n",
    "- **Using `super()`**: Python handles `self` internally when using `super()`:\n",
    "  ```python\n",
    "  super().__init__(name)  # No need to pass `self`\n",
    "  ```\n",
    "\n",
    "---\n",
    "\n",
    "### Summary:\n",
    "- Pass `self` explicitly when **calling a method on a class** directly.\n",
    "- Do NOT pass `self` explicitly when **using `super()` or an instance**."
   ]
  },
  {
   "cell_type": "code",
   "execution_count": 27,
   "id": "df8d594a",
   "metadata": {},
   "outputs": [
    {
     "name": "stdout",
     "output_type": "stream",
     "text": [
      "OBject is created\n",
      "test constructor called\n",
      "\n",
      "Called using object \n",
      "test constructor called\n",
      "\n",
      "Called using class name\n",
      "test constructor called\n"
     ]
    }
   ],
   "source": [
    "class test:\n",
    "    def __init__(self):\n",
    "        print(\"test constructor called\")\n",
    "\n",
    "print(\"OBject is created\")\n",
    "ts=test()\n",
    "print()\n",
    "print(\"Called using object \")\n",
    "ts.__init__()\n",
    "print()\n",
    "\n",
    "print(\"Called using class name\")\n",
    "'''In cases like these you need to pass the self argument explicitly as a valid instance of the class'''\n",
    "test.__init__(ts)\n",
    "\n"
   ]
  },
  {
   "cell_type": "code",
   "execution_count": 29,
   "id": "8ef5d6f0",
   "metadata": {},
   "outputs": [
    {
     "ename": "TypeError",
     "evalue": "Employee.__init__() missing 1 required positional argument: 'emp_id'",
     "output_type": "error",
     "traceback": [
      "\u001b[0;31m---------------------------------------------------------------------------\u001b[0m",
      "\u001b[0;31mTypeError\u001b[0m                                 Traceback (most recent call last)",
      "Cell \u001b[0;32mIn[29], line 6\u001b[0m\n\u001b[1;32m      3\u001b[0m         \u001b[38;5;28msuper\u001b[39m()\u001b[38;5;241m.\u001b[39m\u001b[38;5;21m__init__\u001b[39m(name)\u001b[38;5;66;03m#Self is not required here as super implicitely takes care of  it \u001b[39;00m\n\u001b[1;32m      4\u001b[0m         Employee()\u001b[38;5;241m.\u001b[39m\u001b[38;5;21m__init__\u001b[39m(\u001b[38;5;28mself\u001b[39m,emp_id)\u001b[38;5;66;03m# Wrong\u001b[39;00m\n\u001b[0;32m----> 6\u001b[0m m\u001b[38;5;241m=\u001b[39m\u001b[43mManager\u001b[49m\u001b[43m(\u001b[49m\u001b[38;5;124;43m\"\u001b[39;49m\u001b[38;5;124;43mJohn\u001b[39;49m\u001b[38;5;124;43m\"\u001b[39;49m\u001b[43m,\u001b[49m\u001b[38;5;241;43m101\u001b[39;49m\u001b[43m)\u001b[49m\n\u001b[1;32m      7\u001b[0m \u001b[38;5;28mprint\u001b[39m(m\u001b[38;5;241m.\u001b[39mname)\n\u001b[1;32m      8\u001b[0m \u001b[38;5;28mprint\u001b[39m(m\u001b[38;5;241m.\u001b[39memp_id)\n",
      "Cell \u001b[0;32mIn[29], line 4\u001b[0m, in \u001b[0;36mManager.__init__\u001b[0;34m(self, name, emp_id)\u001b[0m\n\u001b[1;32m      2\u001b[0m \u001b[38;5;28;01mdef\u001b[39;00m \u001b[38;5;21m__init__\u001b[39m(\u001b[38;5;28mself\u001b[39m,name,emp_id):\n\u001b[1;32m      3\u001b[0m     \u001b[38;5;28msuper\u001b[39m()\u001b[38;5;241m.\u001b[39m\u001b[38;5;21m__init__\u001b[39m(name)\u001b[38;5;66;03m#Self is not required here as super implicitely takes care of  it \u001b[39;00m\n\u001b[0;32m----> 4\u001b[0m     \u001b[43mEmployee\u001b[49m\u001b[43m(\u001b[49m\u001b[43m)\u001b[49m\u001b[38;5;241m.\u001b[39m\u001b[38;5;21m__init__\u001b[39m(\u001b[38;5;28mself\u001b[39m,emp_id)\n",
      "\u001b[0;31mTypeError\u001b[0m: Employee.__init__() missing 1 required positional argument: 'emp_id'"
     ]
    }
   ],
   "source": [
    "class Manager(Person,Employee):\n",
    "    def __init__(self,name,emp_id):\n",
    "        super().__init__(name)#Self is not required here as super implicitely takes care of  it \n",
    "        Employee().__init__(emp_id)# Wrong\n",
    "\n",
    "m=Manager(\"John\",101)\n",
    "print(m.name)\n",
    "print(m.emp_id)"
   ]
  },
  {
   "cell_type": "code",
   "execution_count": 30,
   "id": "667aea34",
   "metadata": {},
   "outputs": [
    {
     "ename": "TypeError",
     "evalue": "Employee.__init__() missing 1 required positional argument: 'emp_id'",
     "output_type": "error",
     "traceback": [
      "\u001b[0;31m---------------------------------------------------------------------------\u001b[0m",
      "\u001b[0;31mTypeError\u001b[0m                                 Traceback (most recent call last)",
      "Cell \u001b[0;32mIn[30], line 6\u001b[0m\n\u001b[1;32m      3\u001b[0m         \u001b[38;5;28msuper\u001b[39m()\u001b[38;5;241m.\u001b[39m\u001b[38;5;21m__init__\u001b[39m(name)\u001b[38;5;66;03m#Self is not required here as super implicitely takes care of  it \u001b[39;00m\n\u001b[1;32m      4\u001b[0m         Employee()\u001b[38;5;241m.\u001b[39m\u001b[38;5;21m__init__\u001b[39m(\u001b[38;5;28mself\u001b[39m,emp_id)\u001b[38;5;66;03m# still Wrong\u001b[39;00m\n\u001b[0;32m----> 6\u001b[0m m\u001b[38;5;241m=\u001b[39m\u001b[43mManager\u001b[49m\u001b[43m(\u001b[49m\u001b[38;5;124;43m\"\u001b[39;49m\u001b[38;5;124;43mJohn\u001b[39;49m\u001b[38;5;124;43m\"\u001b[39;49m\u001b[43m,\u001b[49m\u001b[38;5;241;43m101\u001b[39;49m\u001b[43m)\u001b[49m\n\u001b[1;32m      7\u001b[0m \u001b[38;5;28mprint\u001b[39m(m\u001b[38;5;241m.\u001b[39mname)\n\u001b[1;32m      8\u001b[0m \u001b[38;5;28mprint\u001b[39m(m\u001b[38;5;241m.\u001b[39memp_id)\n",
      "Cell \u001b[0;32mIn[30], line 4\u001b[0m, in \u001b[0;36mManager.__init__\u001b[0;34m(self, name, emp_id)\u001b[0m\n\u001b[1;32m      2\u001b[0m \u001b[38;5;28;01mdef\u001b[39;00m \u001b[38;5;21m__init__\u001b[39m(\u001b[38;5;28mself\u001b[39m,name,emp_id):\n\u001b[1;32m      3\u001b[0m     \u001b[38;5;28msuper\u001b[39m()\u001b[38;5;241m.\u001b[39m\u001b[38;5;21m__init__\u001b[39m(name)\u001b[38;5;66;03m#Self is not required here as super implicitely takes care of  it \u001b[39;00m\n\u001b[0;32m----> 4\u001b[0m     \u001b[43mEmployee\u001b[49m\u001b[43m(\u001b[49m\u001b[43m)\u001b[49m\u001b[38;5;241m.\u001b[39m\u001b[38;5;21m__init__\u001b[39m(\u001b[38;5;28mself\u001b[39m,emp_id)\n",
      "\u001b[0;31mTypeError\u001b[0m: Employee.__init__() missing 1 required positional argument: 'emp_id'"
     ]
    }
   ],
   "source": [
    "class Manager(Person,Employee):\n",
    "    def __init__(self,name,emp_id):\n",
    "        super().__init__(name)#Self is not required here as super implicitely takes care of  it \n",
    "        Employee().__init__(self,emp_id)# still Wrong\n",
    "\n",
    "m=Manager(\"John\",101)\n",
    "print(m.name)\n",
    "print(m.emp_id)"
   ]
  },
  {
   "cell_type": "markdown",
   "id": "c3914029",
   "metadata": {},
   "source": [
    "### Assignment 10: Method Overriding and `super()`\n",
    "\n",
    "Create a class named `Vehicle` with a method `start` that prints a starting message. Create a derived class `Car` that overrides the `start` method to print a different message. Use the `super()` function to call the `start` method of the `Vehicle` class. Create an object of the `Car` class and call the `start` method."
   ]
  },
  {
   "cell_type": "code",
   "execution_count": 31,
   "id": "8cd5bf1c",
   "metadata": {},
   "outputs": [
    {
     "name": "stdout",
     "output_type": "stream",
     "text": [
      "Car started\n",
      "Vehicle started\n"
     ]
    }
   ],
   "source": [
    "class Vehicle:\n",
    "    def start(self):\n",
    "        print(\"Vehicle started\")\n",
    "\n",
    "class Car(Vehicle):\n",
    "    def start(self):\n",
    "        print(\"Car started\")\n",
    "        super().start()\n",
    "\n",
    "c=Car()\n",
    "c.start()"
   ]
  },
  {
   "cell_type": "markdown",
   "id": "e0609dd3",
   "metadata": {},
   "source": [
    "### Assignment 11: Multiple Inheritance with Different Methods\n",
    "\n",
    "Create a class named `Flyer` with a method `fly` that prints a flying message. Create a class named `Swimmer` with a method `swim` that prints a swimming message. Create a derived class `Superhero` that inherits from both `Flyer` and `Swimmer`. Create an object of the `Superhero` class and call both methods."
   ]
  },
  {
   "cell_type": "code",
   "execution_count": 34,
   "id": "f237f65f",
   "metadata": {},
   "outputs": [
    {
     "name": "stdout",
     "output_type": "stream",
     "text": [
      "Flying\n",
      "Swimming\n"
     ]
    }
   ],
   "source": [
    "class Flyer:\n",
    "    def fly(self):\n",
    "        print(\"Flying\")\n",
    "\n",
    "class Swimmer:\n",
    "    def swim(self):\n",
    "        print(\"Swimming\")\n",
    "\n",
    "class FlyingFish(Flyer,Swimmer):\n",
    "    pass\n",
    "\n",
    "f=FlyingFish()\n",
    "f.fly()\n",
    "f.swim()\n",
    "\n",
    "\n"
   ]
  },
  {
   "cell_type": "markdown",
   "id": "9d8c6091",
   "metadata": {},
   "source": [
    "### In Python, you can't make functions truly private or protected like in some other languages (e.g., C++ or Java).\n",
    "### But Ask Yourself why woyld you want to do that"
   ]
  },
  {
   "cell_type": "markdown",
   "id": "8a1f0663",
   "metadata": {},
   "source": [
    "### No, a class method can access both class variables and instance variables if provided with an instance via its arguments."
   ]
  },
  {
   "cell_type": "markdown",
   "id": "2a8f8c48",
   "metadata": {},
   "source": [
    "Here's an example showing a class method accessing both class and instance variables:\n",
    "\n",
    "```python\n",
    "class Example:\n",
    "    class_var = \"I am a class variable\"\n",
    "\n",
    "    def __init__(self, instance_var):\n",
    "        self.instance_var = instance_var\n",
    "\n",
    "    @classmethod\n",
    "    def show_variables(cls, instance):\n",
    "        print(f\"Class variable: {cls.class_var}\")\n",
    "        print(f\"Instance variable: {instance.instance_var}\")\n",
    "\n",
    "# Create an instance of the class\n",
    "obj = Example(\"I am an instance variable\")\n",
    "\n",
    "# Call the class method\n",
    "Example.show_variables(obj)\n",
    "```\n",
    "\n",
    "### Output:\n",
    "```\n",
    "Class variable: I am a class variable\n",
    "Instance variable: I am an instance variable\n",
    "``` \n",
    "\n",
    "The class method `show_variables` accesses the class variable through `cls` and the instance variable through the `instance` passed as an argument."
   ]
  },
  {
   "cell_type": "markdown",
   "id": "83f043c8",
   "metadata": {},
   "source": [
    "### Assignment 12: Complex Multiple Inheritance\n",
    "\n",
    "Create a class named `Base1` with an attribute `a`. Create a class named `Base2` with an attribute `b`. Create a class named `Derived` that inherits from both `Base1` and `Base2` and adds an attribute `c`. Initialize all attributes using the `super()` function. Create an object of the `Derived` class and print its attributes."
   ]
  },
  {
   "cell_type": "code",
   "execution_count": 35,
   "id": "757dedcb",
   "metadata": {},
   "outputs": [
    {
     "name": "stdout",
     "output_type": "stream",
     "text": [
      "Base1 constructor called\n",
      "Base2 constructor called\n",
      "Derived constructor called\n",
      "10\n",
      "20\n"
     ]
    }
   ],
   "source": [
    "class Base1:\n",
    "    def __init__(self,a):\n",
    "        self.a=a\n",
    "        print(\"Base1 constructor called\")\n",
    "\n",
    "class Base2:\n",
    "    def __init__(self,b):\n",
    "        self.b=b\n",
    "        print(\"Base2 constructor called\")\n",
    "    \n",
    "class Derived(Base1,Base2):\n",
    "    def __init__(self,a,b):\n",
    "        super().__init__(a)\n",
    "        Base2.__init__(self,b)\n",
    "        print(\"Derived constructor called\")\n",
    "\n",
    "d=Derived(10,20)\n",
    "print(d.a)\n",
    "print(d.b)"
   ]
  },
  {
   "cell_type": "markdown",
   "id": "3dbf37c7",
   "metadata": {},
   "source": [
    "### Assignment 13: Checking Instance Types with Inheritance\n",
    "\n",
    "Create a base class named `Animal` and a derived class named `Cat`. Create objects of both classes and use the `isinstance` function to check the instance types."
   ]
  },
  {
   "cell_type": "code",
   "execution_count": 40,
   "id": "1ea1933c",
   "metadata": {},
   "outputs": [
    {
     "name": "stdout",
     "output_type": "stream",
     "text": [
      "True\n",
      "True\n",
      "True\n",
      "False\n"
     ]
    }
   ],
   "source": [
    "class Animal:\n",
    "    pass\n",
    "\n",
    "class Cat(Animal):\n",
    "    pass\n",
    "\n",
    "animal=Animal()\n",
    "cat=Cat()\n",
    "\n",
    "print(isinstance(animal,Animal))\n",
    "print(isinstance(cat,Cat))\n",
    "'''\n",
    "print(isinstance(cat))# TypeError: isinstance expected 2 arguments, got 1\n",
    "\n",
    "'''\n",
    "print(isinstance(cat,Animal))# True as Cat is inherited from Animal --> True for object of derived class\n",
    "print(isinstance(animal,Cat))# False as Animal is not inherited from Cat ---> False for object of base class"
   ]
  },
  {
   "cell_type": "markdown",
   "id": "94a3aaa5",
   "metadata": {},
   "source": [
    "### Assignment 14: Polymorphism with Inheritance\n",
    "\n",
    "Create a base class named `Bird` with a method `speak`. Create two derived classes `Parrot` and `Penguin` that override the `speak` method. Create a list of `Bird` objects and call the `speak` method on each object to demonstrate polymorphism."
   ]
  },
  {
   "cell_type": "code",
   "execution_count": 41,
   "id": "6445f0f6",
   "metadata": {},
   "outputs": [
    {
     "name": "stdout",
     "output_type": "stream",
     "text": [
      "Parrot Speaking\n",
      "Crow Speaking\n"
     ]
    }
   ],
   "source": [
    "class Bird:\n",
    "    def speak(self):\n",
    "        print(\"Bird Speaking\")\n",
    "\n",
    "class Parrot(Bird):\n",
    "    def speak(self):\n",
    "        print(\"Parrot Speaking\")\n",
    "\n",
    "class Crow(Bird):\n",
    "    def speak(self):\n",
    "        print(\"Crow Speaking\")\n",
    "\n",
    "# How to create a list of objects of different classes\n",
    "\n",
    "birds=[Parrot(),Crow()]\n",
    "for i in birds:# i here is an object of the classes Parrot and Crow (basicallly the objects of the classes in the list)\n",
    "    i.speak()"
   ]
  },
  {
   "cell_type": "markdown",
   "id": "a937ee07",
   "metadata": {},
   "source": [
    "### Assignment 15: Combining Single and Multiple Inheritance\n",
    "\n",
    "Create a base class named `Device` with an attribute `brand`. Create a derived class `Phone` that inherits from `Device` and adds an attribute `model`. Create another base class `Camera` with an attribute `resolution`. Create a derived class `Smartphone` that inherits from both `Phone` and `Camera`. Create an object of the `Smartphone` class and print its attributes."
   ]
  },
  {
   "cell_type": "code",
   "execution_count": 42,
   "id": "c866dfd5",
   "metadata": {},
   "outputs": [
    {
     "name": "stdout",
     "output_type": "stream",
     "text": [
      "Samsung\n",
      "Galaxy S10\n",
      "16MP\n"
     ]
    }
   ],
   "source": [
    "class Device:\n",
    "    def __init__(self,brand):\n",
    "        self.brand=brand\n",
    "\n",
    "class Phone(Device):\n",
    "    def __init__(self,brand,model):\n",
    "        super().__init__(brand)\n",
    "        self.model=model\n",
    "\n",
    "class Camera:\n",
    "    def __init__(self,resolution):\n",
    "        self.resolution=resolution\n",
    "    \n",
    "class Smartphone(Phone,Camera):\n",
    "    def __init__(self,brand,model,resolution):\n",
    "        super().__init__(brand,model)\n",
    "        Camera.__init__(self,resolution)\n",
    "\n",
    "s=Smartphone(\"Samsung\",\"Galaxy S10\",\"16MP\")\n",
    "print(s.brand)\n",
    "print(s.model)\n",
    "print(s.resolution)\n"
   ]
  },
  {
   "cell_type": "code",
   "execution_count": null,
   "id": "2eac934f",
   "metadata": {},
   "outputs": [],
   "source": []
  }
 ],
 "metadata": {
  "kernelspec": {
   "display_name": "venv",
   "language": "python",
   "name": "python3"
  },
  "language_info": {
   "codemirror_mode": {
    "name": "ipython",
    "version": 3
   },
   "file_extension": ".py",
   "mimetype": "text/x-python",
   "name": "python",
   "nbconvert_exporter": "python",
   "pygments_lexer": "ipython3",
   "version": "3.12.0"
  }
 },
 "nbformat": 4,
 "nbformat_minor": 5
}
