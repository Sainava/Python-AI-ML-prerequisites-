{
 "cells": [
  {
   "cell_type": "markdown",
   "metadata": {},
   "source": [
    "# Module: NumPy Assignments\n",
    "## Lesson: NumPy\n",
    "### Assignment 1: Array Creation and Manipulation\n",
    "\n",
    "1. Create a NumPy array of shape (5, 5) filled with random integers between 1 and 20. Replace all the elements in the third column with 1.\n",
    "2. Create a NumPy array of shape (4, 4) with values from 1 to 16. Replace the diagonal elements with 0.\n",
    "\n",
    "### Assignment 2: Array Indexing and Slicing\n",
    "\n",
    "1. Create a NumPy array of shape (6, 6) with values from 1 to 36. Extract the sub-array consisting of the 3rd to 5th rows and 2nd to 4th columns.\n",
    "2. Create a NumPy array of shape (5, 5) with random integers. Extract the elements on the border.\n",
    "\n",
    "### Assignment 3: Array Operations\n",
    "\n",
    "1. Create two NumPy arrays of shape (3, 4) filled with random integers. Perform element-wise addition, subtraction, multiplication, and division.\n",
    "2. Create a NumPy array of shape (4, 4) with values from 1 to 16. Compute the row-wise and column-wise sum.\n",
    "\n",
    "### Assignment 4: Statistical Operations\n",
    "\n",
    "1. Create a NumPy array of shape (5, 5) filled with random integers. Compute the mean, median, standard deviation, and variance of the array.\n",
    "2. Create a NumPy array of shape (3, 3) with values from 1 to 9. Normalize the array (i.e., scale the values to have a mean of 0 and a standard deviation of 1).\n",
    "\n",
    "### Assignment 5: Broadcasting\n",
    "\n",
    "1. Create a NumPy array of shape (3, 3) filled with random integers. Add a 1D array of shape (3,) to each row of the 2D array using broadcasting.\n",
    "2. Create a NumPy array of shape (4, 4) filled with random integers. Subtract a 1D array of shape (4,) from each column of the 2D array using broadcasting.\n",
    "\n",
    "### Assignment 6: Linear Algebra\n",
    "\n",
    "1. Create a NumPy array of shape (3, 3) representing a matrix. Compute its determinant, inverse, and eigenvalues.\n",
    "2. Create two NumPy arrays of shape (2, 3) and (3, 2). Perform matrix multiplication on these arrays.\n",
    "\n",
    "### Assignment 7: Advanced Array Manipulation\n",
    "\n",
    "1. Create a NumPy array of shape (3, 3) with values from 1 to 9. Reshape the array to shape (1, 9) and then to shape (9, 1).\n",
    "2. Create a NumPy array of shape (5, 5) filled with random integers. Flatten the array and then reshape it back to (5, 5).\n",
    "\n",
    "### Assignment 8: Fancy Indexing and Boolean Indexing\n",
    "\n",
    "1. Create a NumPy array of shape (5, 5) filled with random integers. Use fancy indexing to extract the elements at the corners of the array.\n",
    "2. Create a NumPy array of shape (4, 4) filled with random integers. Use boolean indexing to set all elements greater than 10 to 10.\n",
    "\n",
    "### Assignment 9: Structured Arrays\n",
    "\n",
    "1. Create a structured array with fields 'name' (string), 'age' (integer), and 'weight' (float). Add some data and sort the array by age.\n",
    "2. Create a structured array with fields 'x' and 'y' (both integers). Add some data and compute the Euclidean distance between each pair of points.\n",
    "\n",
    "### Assignment 10: Masked Arrays\n",
    "\n",
    "1. Create a masked array of shape (4, 4) with random integers and mask the elements greater than 10. Compute the sum of the unmasked elements.\n",
    "2. Create a masked array of shape (3, 3) with random integers and mask the diagonal elements. Replace the masked elements with the mean of the unmasked elements."
   ]
  },
  {
   "cell_type": "code",
   "execution_count": 3,
   "id": "cdddcdb2",
   "metadata": {},
   "outputs": [],
   "source": [
    "import numpy as np"
   ]
  },
  {
   "cell_type": "markdown",
   "id": "e4307071",
   "metadata": {},
   "source": [
    "# Module: NumPy Assignments\n",
    "## Lesson: NumPy\n",
    "### Assignment 1: Array Creation and Manipulation\n",
    "\n",
    "1. Create a NumPy array of shape (5, 5) filled with random integers between 1 and 20. Replace all the elements in the third column with 1."
   ]
  },
  {
   "cell_type": "code",
   "execution_count": 4,
   "metadata": {},
   "outputs": [
    {
     "name": "stdout",
     "output_type": "stream",
     "text": [
      "OG array \n",
      " [[ 1 15 18 13  9]\n",
      " [17  4 17  3  4]\n",
      " [12  6 19 14  2]\n",
      " [12  4 19  8 13]\n",
      " [11 18  9  4  7]]\n"
     ]
    }
   ],
   "source": [
    "arr=np.random.randint(1,21,size=(5,5))\n",
    "print(\"OG array \\n\",arr)"
   ]
  },
  {
   "cell_type": "code",
   "execution_count": 5,
   "id": "333c8da7",
   "metadata": {},
   "outputs": [
    {
     "data": {
      "text/plain": [
       "array([[ 1, 15,  1, 13,  9],\n",
       "       [17,  4,  1,  3,  4],\n",
       "       [12,  6,  1, 14,  2],\n",
       "       [12,  4,  1,  8, 13],\n",
       "       [11, 18,  1,  4,  7]])"
      ]
     },
     "execution_count": 5,
     "metadata": {},
     "output_type": "execute_result"
    }
   ],
   "source": [
    "arr[:,2]=1#you can use slicing in one of the fileds (rows or columns) and a direct value for the other\n",
    "arr"
   ]
  },
  {
   "cell_type": "markdown",
   "id": "61e9d82c",
   "metadata": {},
   "source": [
    "2. Create a NumPy array of shape (4, 4) with values from 1 to 16. Replace the diagonal elements with 0."
   ]
  },
  {
   "cell_type": "code",
   "execution_count": 6,
   "id": "669c3643",
   "metadata": {},
   "outputs": [
    {
     "name": "stdout",
     "output_type": "stream",
     "text": [
      "OG array \n",
      " [[ 1  2  3  4]\n",
      " [ 5  6  7  8]\n",
      " [ 9 10 11 12]\n",
      " [13 14 15 16]]\n"
     ]
    }
   ],
   "source": [
    "arr=np.arange(1,17).reshape((4,4))\n",
    "print(\"OG array \\n\",arr)"
   ]
  },
  {
   "cell_type": "code",
   "execution_count": 7,
   "id": "cf4a7252",
   "metadata": {},
   "outputs": [
    {
     "data": {
      "text/plain": [
       "array([[ 0,  2,  3,  4],\n",
       "       [ 5,  0,  7,  8],\n",
       "       [ 9, 10,  0, 12],\n",
       "       [13, 14, 15,  0]])"
      ]
     },
     "execution_count": 7,
     "metadata": {},
     "output_type": "execute_result"
    }
   ],
   "source": [
    "# to fill the diagonal elements \n",
    "np.fill_diagonal(arr,0)#inplace changes\n",
    "arr"
   ]
  },
  {
   "cell_type": "markdown",
   "id": "aab30313",
   "metadata": {},
   "source": [
    "### Assignment 2: Array Indexing and Slicing\n",
    "\n",
    "1. Create a NumPy array of shape (6, 6) with values from 1 to 36. Extract the sub-array consisting of the 3rd to 5th rows and 2nd to 4th columns."
   ]
  },
  {
   "cell_type": "code",
   "execution_count": 8,
   "id": "2830153d",
   "metadata": {},
   "outputs": [
    {
     "name": "stdout",
     "output_type": "stream",
     "text": [
      "OG array \n",
      " [[ 1  2  3  4  5  6]\n",
      " [ 7  8  9 10 11 12]\n",
      " [13 14 15 16 17 18]\n",
      " [19 20 21 22 23 24]\n",
      " [25 26 27 28 29 30]\n",
      " [31 32 33 34 35 36]]\n"
     ]
    }
   ],
   "source": [
    "arr=np.arange(1,37).reshape(6,6);\n",
    "\n",
    "print(\"OG array \\n\",arr)"
   ]
  },
  {
   "cell_type": "code",
   "execution_count": 9,
   "id": "0f5364f4",
   "metadata": {},
   "outputs": [
    {
     "data": {
      "text/plain": [
       "array([[21, 22, 23],\n",
       "       [27, 28, 29],\n",
       "       [33, 34, 35]])"
      ]
     },
     "execution_count": 9,
     "metadata": {},
     "output_type": "execute_result"
    }
   ],
   "source": [
    "arr[3:6,2:5]"
   ]
  },
  {
   "cell_type": "markdown",
   "id": "6436d0e6",
   "metadata": {},
   "source": [
    "2. Create a NumPy array of shape (5, 5) with random integers. Extract the elements on the border."
   ]
  },
  {
   "cell_type": "code",
   "execution_count": 10,
   "id": "e51fb99c",
   "metadata": {},
   "outputs": [
    {
     "name": "stdout",
     "output_type": "stream",
     "text": [
      "OG array \n",
      " [[ 5 17  9 19  2]\n",
      " [18  6 11  3  7]\n",
      " [15  2 10  5 19]\n",
      " [ 6 15 19 12 15]\n",
      " [19 11  1 17  3]]\n"
     ]
    }
   ],
   "source": [
    "arr=np.random.randint(1,21,size=(5,5))\n",
    "print(\"OG array \\n\",arr)\n"
   ]
  },
  {
   "cell_type": "code",
   "execution_count": 11,
   "id": "12f7a90e",
   "metadata": {},
   "outputs": [
    {
     "name": "stdout",
     "output_type": "stream",
     "text": [
      "Border elements:\n",
      "[ 5 17  9 19  2  2  7 19 15  3 19 11  1 17  3  5 18 15  6 19]\n"
     ]
    }
   ],
   "source": [
    "borderElements=np.concatenate((arr[0,:],arr[:,-1],arr[-1,:],arr[:,0]))\n",
    "print(\"Border elements:\")\n",
    "print(borderElements)"
   ]
  },
  {
   "cell_type": "markdown",
   "id": "db829f42",
   "metadata": {},
   "source": [
    "### Assignment 3: Array Operations\n",
    "\n",
    "1. Create two NumPy arrays of shape (3, 4) filled with random integers. Perform element-wise addition, subtraction, multiplication, and division."
   ]
  },
  {
   "cell_type": "code",
   "execution_count": 12,
   "id": "efb2d063",
   "metadata": {},
   "outputs": [
    {
     "name": "stdout",
     "output_type": "stream",
     "text": [
      "Addition :\n",
      "  [[ 4 10 19 16]\n",
      " [11 19  5 23]\n",
      " [ 9 12 15  6]]\n",
      "Subtraction :\n",
      "  [[ 2 -4 -5  0]\n",
      " [ 5 -1 -1  1]\n",
      " [ 1 10 -1 -4]]\n",
      "Multiplication :\n",
      "  [[  3  21  84  64]\n",
      " [ 24  90   6 132]\n",
      " [ 20  11  56   5]]\n",
      "Division:\n",
      "  [[ 3.          0.42857143  0.58333333  1.        ]\n",
      " [ 2.66666667  0.9         0.66666667  1.09090909]\n",
      " [ 1.25       11.          0.875       0.2       ]]\n"
     ]
    }
   ],
   "source": [
    "arr1=np.random.randint(1,13,size=(3,4))\n",
    "arr2=np.random.randint(1,13,size=(3,4))\n",
    "\n",
    "#Return type of each is a numpy array\n",
    "print(\"Addition :\\n \",arr1+arr2)\n",
    "print(\"Subtraction :\\n \",arr1-arr2)\n",
    "print(\"Multiplication :\\n \",arr1*arr2)\n",
    "print(\"Division:\\n \",arr1/arr2)"
   ]
  },
  {
   "cell_type": "markdown",
   "id": "d0a34221",
   "metadata": {},
   "source": [
    "2. Create a NumPy array of shape (4, 4) with values from 1 to 16. Compute the row-wise and column-wise sum."
   ]
  },
  {
   "cell_type": "code",
   "execution_count": 13,
   "id": "acd7f0ef",
   "metadata": {},
   "outputs": [
    {
     "name": "stdout",
     "output_type": "stream",
     "text": [
      "Row sum: \n",
      " [10 26 42 58]\n",
      "Column sum: \n",
      " [28 32 36 40]\n"
     ]
    }
   ],
   "source": [
    "arr=np.arange(1,17).reshape((4,4))\n",
    "\n",
    "row_sum=np.sum(arr,axis=1)#Calculates the sum of each elements of a row ,as axis =1 means traversing horizontally\n",
    "#The above is don for each of the 4 rows \n",
    "\n",
    "column_sum=np.sum(arr,axis=0)#Calculates the sum of each elements of a column ,as axis =0 means traversing vertically\n",
    "#The above is don for each of the 4 columns\n",
    "\n",
    "print(\"Row sum: \\n\",row_sum)\n",
    "print(\"Column sum: \\n\",column_sum)"
   ]
  },
  {
   "cell_type": "markdown",
   "id": "6fecd3f8",
   "metadata": {},
   "source": [
    "### Assignment 4: Statistical Operations\n",
    "\n",
    "1. Create a NumPy array of shape (5, 5) filled with random integers. Compute the mean, median, standard deviation, and variance of the array."
   ]
  },
  {
   "cell_type": "code",
   "execution_count": 14,
   "id": "64231a0f",
   "metadata": {},
   "outputs": [
    {
     "name": "stdout",
     "output_type": "stream",
     "text": [
      "Mean :  9.16\n",
      "Median :  10.0\n",
      "Standard deviation :  5.82188972757128\n",
      "Variance :  33.8944\n"
     ]
    }
   ],
   "source": [
    "arr=np.random.randint(1,21,size=(5,5))\n",
    "\n",
    "print(\"Mean : \",np.mean(arr))\n",
    "print(\"Median : \",np.median(arr))\n",
    "print(\"Standard deviation : \",np.std(arr))\n",
    "print(\"Variance : \",np.var(arr))"
   ]
  },
  {
   "cell_type": "markdown",
   "id": "f50bb00e",
   "metadata": {},
   "source": [
    "2. Create a NumPy array of shape (3, 3) with values from 1 to 9. Normalize the array (i.e., scale the values to have a mean of 0 and a standard deviation of 1)."
   ]
  },
  {
   "cell_type": "code",
   "execution_count": 15,
   "id": "fa735476",
   "metadata": {},
   "outputs": [
    {
     "name": "stdout",
     "output_type": "stream",
     "text": [
      "Normalised array : \n",
      " [[-1.54919334 -1.161895   -0.77459667]\n",
      " [-0.38729833  0.          0.38729833]\n",
      " [ 0.77459667  1.161895    1.54919334]]\n"
     ]
    }
   ],
   "source": [
    "arr=np.arange(1,10).reshape(3,3)\n",
    "\n",
    "mean=np.mean(arr)\n",
    "std=np.std(arr)\n",
    "\n",
    "normalised_array=(arr-mean)/std\n",
    "print(\"Normalised array : \\n\",normalised_array)"
   ]
  },
  {
   "cell_type": "markdown",
   "id": "f1234428",
   "metadata": {},
   "source": [
    "### Assignment 5: Broadcasting\n",
    "\n",
    "1. Create a NumPy array of shape (3, 3) filled with random integers. Add a 1D array of shape (3,) to each row of the 2D array using broadcasting."
   ]
  },
  {
   "cell_type": "code",
   "execution_count": 16,
   "id": "8c0687cf",
   "metadata": {},
   "outputs": [
    {
     "name": "stdout",
     "output_type": "stream",
     "text": [
      "[8 4 9]\n"
     ]
    }
   ],
   "source": [
    "arr=np.random.randint(1,10,size=(3,3))\n",
    "row_array=np.random.randint(1,11,size=(3,))#size does not comply with the range mentioned in the randint \n",
    "print(row_array)\n",
    "\n"
   ]
  },
  {
   "cell_type": "code",
   "execution_count": 17,
   "id": "e9c575e1",
   "metadata": {},
   "outputs": [
    {
     "name": "stdout",
     "output_type": "stream",
     "text": [
      "Original array:\n",
      "[[6 7 5]\n",
      " [1 1 4]\n",
      " [7 9 1]]\n",
      "1D array:\n",
      "[8 4 9]\n",
      "Resulting array:\n",
      "[[14 11 14]\n",
      " [ 9  5 13]\n",
      " [15 13 10]]\n"
     ]
    }
   ],
   "source": [
    "print(\"Original array:\")\n",
    "print(arr)\n",
    "print(\"1D array:\")\n",
    "print(row_array)\n",
    "\n",
    "# Add the 1D array to each row of the 2D array using broadcasting\n",
    "result = arr + row_array \n",
    "print(\"Resulting array:\")\n",
    "print(result)\n",
    "#Adiing a 1D array to a 2D array is possible only if the 1D array has the same number of elements as the number of columns in the 2D array\n",
    "#In that case the 1D array is added to each row of the 2D array"
   ]
  },
  {
   "cell_type": "markdown",
   "id": "0adc2958",
   "metadata": {},
   "source": [
    "2. Create a NumPy array of shape (4, 4) filled with random integers. Subtract a 1D array of shape (4,) from each column of the 2D array using broadcasting."
   ]
  },
  {
   "cell_type": "code",
   "execution_count": 18,
   "id": "d2f4c20f",
   "metadata": {},
   "outputs": [
    {
     "name": "stdout",
     "output_type": "stream",
     "text": [
      "Original array:\n",
      "[[64 63 45 66]\n",
      " [68 50 48 46]\n",
      " [47 54 57 68]\n",
      " [66 64 47 54]]\n",
      "1D array:\n",
      "[12 11 20 19]\n",
      "The 2D converted array: \n",
      " [[12]\n",
      " [11]\n",
      " [20]\n",
      " [19]]\n",
      "Resulting array: \n",
      " [[52 51 33 54]\n",
      " [57 39 37 35]\n",
      " [27 34 37 48]\n",
      " [47 45 28 35]]\n"
     ]
    }
   ],
   "source": [
    "# array=np.random.randint(44,10,size=(4,4))---> Wrong as the first argument needs to be lower than the second argument\n",
    "array=np.random.randint(44,69,size=(4,4))\n",
    "columnn_array=np.random.randint(10,21,size=(4,))\n",
    "print(\"Original array:\")\n",
    "print(array)\n",
    "print(\"1D array:\")\n",
    "print(columnn_array)\n",
    "\n",
    "column_array=columnn_array[:,np.newaxis]#Converts the 1D array to a 2D array with 1 column\n",
    "print(\"The 2D converted array: \\n\",column_array)\n",
    "\n",
    "ans=array-column_array\n",
    "print(\"Resulting array: \\n\",ans)\n",
    "\n"
   ]
  },
  {
   "cell_type": "markdown",
   "id": "70d36ac0",
   "metadata": {},
   "source": [
    "Let’s break it down step by step:\n",
    "\n",
    "---\n",
    "\n",
    "### Initial Assumption:\n",
    "- **`array`**: A 2D array of shape `(m, n)`.  \n",
    "- **`column_array`**: A 1D array of length `m` (number of rows in `array`).\n",
    "\n",
    "---\n",
    "\n",
    "### Code Breakdown:\n",
    "```python\n",
    "result = array - column_array[:, np.newaxis]\n",
    "```\n",
    "\n",
    "1. **`column_array[:, np.newaxis]`**:\n",
    "   - `column_array` is reshaped from 1D `(m,)` to 2D `(m, 1)` using `np.newaxis`.\n",
    "   - This makes `column_array` a column vector.\n",
    "\n",
    "   **Example:**\n",
    "   ```python\n",
    "   column_array = np.array([1, 2, 3])  # Shape: (3,)\n",
    "   column_array[:, np.newaxis]\n",
    "   # Output:\n",
    "   [[1],\n",
    "    [2],\n",
    "    [3]]  # Shape: (3, 1)\n",
    "   ```\n",
    "\n",
    "2. **Broadcasting**:\n",
    "   - NumPy performs **broadcasting** during subtraction. The reshaped `column_array` (shape `(m, 1)`) is subtracted from the 2D `array` (shape `(m, n)`).\n",
    "   - The single column `[1, 2, 3]` is subtracted from **each column** of `array`.\n",
    "\n",
    "   **Example:**\n",
    "   ```python\n",
    "   array = np.array([[5, 6, 7],\n",
    "                     [8, 9, 10],\n",
    "                     [11, 12, 13]])  # Shape: (3, 3)\n",
    "\n",
    "   column_array = np.array([1, 2, 3])  # Shape: (3,)\n",
    "\n",
    "   result = array - column_array[:, np.newaxis]\n",
    "   # Result:\n",
    "   [[4, 5, 6],   # [5-1, 6-1, 7-1]\n",
    "    [6, 7, 8],   # [8-2, 9-2, 10-2]\n",
    "    [8, 9, 10]]  # [11-3, 12-3, 13-3]\n",
    "   ```\n",
    "\n",
    "---\n",
    "\n",
    "### Why use `np.newaxis`?\n",
    "The `np.newaxis` is necessary to ensure that the shapes of `array` and `column_array` are compatible for broadcasting:\n",
    "- Without `[:, np.newaxis]`, `column_array` has shape `(m,)` and cannot be broadcast directly against a 2D array of shape `(m, n)`. \n",
    "- By reshaping to `(m, 1)`, NumPy knows to repeat the values of `column_array` across the columns of `array`.\n",
    "\n",
    "---\n",
    "\n",
    "### Summary:\n",
    "- **`column_array[:, np.newaxis]`** reshapes `column_array` into a column vector.\n",
    "- Subtracting this reshaped array from `array` applies the subtraction **row-wise**, subtracting the corresponding element of `column_array` from each column of that row in `array`."
   ]
  },
  {
   "cell_type": "markdown",
   "id": "a46e7e06",
   "metadata": {},
   "source": [
    "### Assignment 6: Linear Algebra\n",
    "\n",
    "1. Create a NumPy array of shape (3, 3) representing a matrix. Compute its determinant, inverse, and eigenvalues."
   ]
  },
  {
   "cell_type": "code",
   "execution_count": 19,
   "id": "d527d216",
   "metadata": {},
   "outputs": [
    {
     "name": "stdout",
     "output_type": "stream",
     "text": [
      "Original array: \n",
      " [[1 2 3]\n",
      " [4 5 6]\n",
      " [7 8 9]]\n",
      "Determinant of the matrix:  -9.51619735392994e-16\n"
     ]
    }
   ],
   "source": [
    "arr=np.arange(1,10).reshape(3,3)\n",
    "print(\"Original array: \\n\",arr)\n",
    "\n",
    "#determinant of a matrix\n",
    "det=np.linalg.det(arr)\n",
    "print(\"Determinant of the matrix: \",det)\n",
    "\n",
    "#rank of a matrix\n",
    "rank=np.linalg.matrix_rank(arr)\n",
    "\n",
    "#inverse of a matrix\n",
    "inverse=np.linalg.inv(arr)\n",
    "\n",
    "#eigen values of a matrix\n",
    "eigen_values=np.linalg.eig(arr)"
   ]
  },
  {
   "cell_type": "markdown",
   "id": "16fd6606",
   "metadata": {},
   "source": [
    "### so I can say numpy is more like a package(a collection of files or folder ) which has modules(or files ) and the reason i can use some functions directly like np.sum or np.array is because they have been included in the _init_.py file ?"
   ]
  },
  {
   "cell_type": "markdown",
   "id": "a9870220",
   "metadata": {},
   "source": [
    "Yes, you're absolutely correct! Your understanding is spot-on. Let me elaborate to make it even clearer:\n",
    "\n",
    "---\n",
    "\n",
    "### **NumPy as a Package**\n",
    "- **NumPy** is indeed a **package** in Python, meaning it's a **folder** containing multiple files and subfolders. \n",
    "- These files and subfolders define various **modules** and **submodules** that provide specific functionality.\n",
    "\n",
    "---\n",
    "\n",
    "### **Structure of NumPy**\n",
    "- The main **`numpy`** folder (the package) contains:\n",
    "  - Core modules like `core.py`, `multiarray.py`, etc.\n",
    "  - Submodules like `linalg` (for linear algebra), `fft` (for Fourier transforms), `random` (for random numbers), etc.\n",
    "  - A special file: **`__init__.py`**.\n",
    "\n",
    "---\n",
    "\n",
    "### **Role of `__init__.py`**\n",
    "- The **`__init__.py`** file is executed when you import the `numpy` package.\n",
    "- It defines:\n",
    "  1. **What gets imported automatically** when you run `import numpy as np`.  \n",
    "     - For example, `np.sum`, `np.array`, etc., are included in **`__init__.py`** so they are directly accessible.\n",
    "  2. **Which submodules are loaded by default** (like `np.linalg`).\n",
    "  3. **Convenient shortcuts** for commonly used features.\n",
    "\n",
    "Think of it as a **setup file** that organizes how the package behaves when imported.\n",
    "\n",
    "---\n",
    "\n",
    "### **Why Some Functions Are Directly Accessible**\n",
    "Functions like `np.sum` or `np.array` are directly accessible because:\n",
    "1. They are part of NumPy's **core functionality**.\n",
    "2. The **`__init__.py` file** ensures they are included at the top level of the package, making them easy to use.\n",
    "\n",
    "In contrast, functions like `np.linalg.matrix_rank` are in the **`linalg` submodule**, so they must be accessed through `np.linalg`.\n",
    "\n",
    "---\n",
    "\n",
    "### **Example: Inspecting `__init__.py`**\n",
    "If you look inside NumPy’s **`__init__.py`**, you might see something like:\n",
    "```python\n",
    "from .core import *\n",
    "from .linalg import linalg\n",
    "from .random import random\n",
    "# Other imports and setups\n",
    "```\n",
    "\n",
    "This ensures:\n",
    "- Core functions like `np.sum` and `np.array` are available directly.\n",
    "- Submodules like `linalg` and `random` are not fully imported but are accessible using `np.linalg` or `np.random`.\n",
    "\n",
    "---\n",
    "\n",
    "### **Summary**\n",
    "1. **NumPy is a package** (a collection of files and folders).\n",
    "2. Core functions (like `np.sum`) are made accessible at the top level through **`__init__.py`**.\n",
    "3. Submodules (like `linalg`) are not imported directly but can be accessed using their namespace (`np.linalg`).\n",
    "4. This organization keeps the package clean and efficient, only loading more specific functionality when needed. \n",
    "\n",
    "---\n",
    "\n",
    "If you'd like, I can also help you explore a specific submodule or walk you through creating your own package in Python! 😊"
   ]
  },
  {
   "cell_type": "markdown",
   "id": "ebaa18c1",
   "metadata": {},
   "source": [
    "2. Create two NumPy arrays of shape (2, 3) and (3, 2). Perform matrix multiplication on these arrays."
   ]
  },
  {
   "cell_type": "code",
   "execution_count": 20,
   "id": "d64eedba",
   "metadata": {},
   "outputs": [
    {
     "name": "stdout",
     "output_type": "stream",
     "text": [
      "First matrix: \n",
      " [[3 5 9]\n",
      " [6 3 7]]\n",
      "Second matrix: \n",
      " [[15 11]\n",
      " [20 13]\n",
      " [12 14]]\n",
      "Resultant matrix: \n",
      " [[253 224]\n",
      " [234 203]]\n"
     ]
    }
   ],
   "source": [
    "first=np.random.randint(1,11,size=(2,3))\n",
    "second=np.random.randint(11,21,size=(3,2))\n",
    "\n",
    "print(\"First matrix: \\n\",first)\n",
    "print(\"Second matrix: \\n\",second)\n",
    "\n",
    "result=np.dot(first,second)\n",
    "print(\"Resultant matrix: \\n\",result)"
   ]
  },
  {
   "cell_type": "markdown",
   "id": "e4c1cf21",
   "metadata": {},
   "source": [
    "### Assignment 7: Advanced Array Manipulation\n",
    "\n",
    "1. Create a NumPy array of shape (3, 3) with values from 1 to 9. Reshape the array to shape (1, 9) and then to shape (9, 1)."
   ]
  },
  {
   "cell_type": "code",
   "execution_count": 21,
   "id": "54fe5f6d",
   "metadata": {},
   "outputs": [
    {
     "name": "stdout",
     "output_type": "stream",
     "text": [
      "(1,9) array :  [[4 7 9 2 3 7 9 3 1]]\n",
      "(9,1) array : \n",
      " [[4]\n",
      " [7]\n",
      " [9]\n",
      " [2]\n",
      " [3]\n",
      " [7]\n",
      " [9]\n",
      " [3]\n",
      " [1]]\n",
      "Original array remains the same after the reshape fucntion: \n",
      " [[4 7 9]\n",
      " [2 3 7]\n",
      " [9 3 1]]\n"
     ]
    }
   ],
   "source": [
    "arr=np.random.randint(1,10,size=(3,3))\n",
    "\n",
    "print(\"(1,9) array : \",arr.reshape((1,9)))\n",
    "\n",
    "print(\"(9,1) array : \\n\",arr.reshape((9,1)))\n",
    "\n",
    "print(\"Original array remains the same after the reshape fucntion: \\n\",arr)\n"
   ]
  },
  {
   "cell_type": "markdown",
   "id": "f7d3e735",
   "metadata": {},
   "source": [
    "2. Create a NumPy array of shape (5, 5) filled with random integers. Flatten the array and then reshape it back to (5, 5)."
   ]
  },
  {
   "cell_type": "code",
   "execution_count": 22,
   "id": "27cc19be",
   "metadata": {},
   "outputs": [
    {
     "name": "stdout",
     "output_type": "stream",
     "text": [
      "Original array: \n",
      " [[48 69 43 85 52]\n",
      " [17 88 28 15 85]\n",
      " [ 6 61 13 44 74]\n",
      " [ 5 42 44 54 20]\n",
      " [24 23 69 77 70]]\n",
      "Flattened array: \n",
      " [48 69 43 85 52 17 88 28 15 85  6 61 13 44 74  5 42 44 54 20 24 23 69 77\n",
      " 70]\n",
      "Flattened array using ravel: \n",
      " [48 69 43 85 52 17 88 28 15 85  6 61 13 44 74  5 42 44 54 20 24 23 69 77\n",
      " 70]\n",
      "Original array remains the same after the flatten and ravel fucntion: \n",
      " [[48 69 43 85 52]\n",
      " [17 88 28 15 85]\n",
      " [ 6 61 13 44 74]\n",
      " [ 5 42 44 54 20]\n",
      " [24 23 69 77 70]]\n"
     ]
    }
   ],
   "source": [
    "arr=np.random.randint(1,100,size=(5,5))\n",
    "print(\"Original array: \\n\",arr)\n",
    "\n",
    "print(\"Flattened array: \\n\",arr.flatten())\n",
    "\n",
    "print(\"Flattened array using ravel: \\n\",arr.ravel())\n",
    "\n",
    "print(\"Original array remains the same after the flatten and ravel fucntion: \\n\",arr)"
   ]
  },
  {
   "cell_type": "markdown",
   "id": "31da5644",
   "metadata": {},
   "source": [
    "### **Difference Between `flatten()` and `ravel()`**\n",
    "\n",
    "Both `flatten()` and `ravel()` convert a multi-dimensional array into a 1D array, but they behave differently in terms of how they handle memory:\n",
    "\n",
    "---\n",
    "\n",
    "#### **1. `flatten()`**\n",
    "- **Always creates a copy** of the original data.\n",
    "- The returned array is independent of the original array.\n",
    "- Any changes made to the flattened array **do not affect** the original array.\n",
    "\n",
    "**Example:**\n",
    "```python\n",
    "arr = np.array([[1, 2], [3, 4]])\n",
    "flattened = arr.flatten()\n",
    "flattened[0] = 99\n",
    "\n",
    "print(\"Flattened array:\", flattened)  # [99, 2, 3, 4]\n",
    "print(\"Original array:\", arr)        # [[1, 2], [3, 4]] (unchanged)\n",
    "```\n",
    "\n",
    "---\n",
    "\n",
    "#### **2. `ravel()`**\n",
    "- Returns a **view** of the original array whenever possible (i.e., it doesn't make a copy unless necessary).\n",
    "- Changes to the raveled array **may affect** the original array if it's a view.\n",
    "\n",
    "**Example:**\n",
    "```python\n",
    "arr = np.array([[1, 2], [3, 4]])\n",
    "raveled = arr.ravel()\n",
    "raveled[0] = 99\n",
    "\n",
    "print(\"Raveled array:\", raveled)    # [99, 2, 3, 4]\n",
    "print(\"Original array:\", arr)      # [[99, 2], [3, 4]] (changed!)\n",
    "```\n",
    "\n",
    "---\n",
    "\n",
    "#### **Key Difference:**\n",
    "- **`flatten()`**: Always returns a new copy, so it's safer if you don't want to accidentally modify the original array.\n",
    "- **`ravel()`**: Returns a view when possible, making it more memory-efficient. Use it when you're okay with potentially modifying the original data.\n",
    "\n",
    "---\n",
    "\n",
    "### **When to Use `np.function_name()` vs. `array.function_name()`**\n",
    "\n",
    "#### **`np.function_name()` (Module-level function)**:\n",
    "- Use it when the function applies to the array as a whole, even if it’s not a NumPy object.\n",
    "- Works on lists, tuples, or other array-like objects in addition to NumPy arrays.\n",
    "- Examples:\n",
    "  - `np.sum(array)` → Sums all elements in the array.\n",
    "  - `np.mean(array)` → Computes the mean.\n",
    "\n",
    "**Example:**\n",
    "```python\n",
    "lst = [1, 2, 3, 4]\n",
    "print(np.sum(lst))  # Works because np.sum operates on any array-like object\n",
    "```\n",
    "\n",
    "#### **`array.function_name()` (Method of a NumPy object)**:\n",
    "- Use it when the function is specific to a NumPy array object.\n",
    "- These methods are attached to NumPy arrays, so they only work on objects of type `np.ndarray`.\n",
    "- Examples:\n",
    "  - `array.flatten()`\n",
    "  - `array.reshape()`\n",
    "\n",
    "**Example:**\n",
    "```python\n",
    "arr = np.array([[1, 2], [3, 4]])\n",
    "print(arr.flatten())  # Works because arr is a NumPy array\n",
    "```\n",
    "\n",
    "---\n",
    "\n",
    "### **When to Choose Which:**\n",
    "1. **Prefer `np.function_name()`** for more general-purpose operations (like sum, mean) or when working with data that might not yet be a NumPy array.\n",
    "2. **Use `array.function_name()`** for array-specific operations (like reshape, flatten, or transpose), where you're sure you're working with an `np.ndarray`.\n",
    "\n",
    "---\n",
    "\n",
    "### **Your Code Explanation:**\n",
    "```python\n",
    "rr = np.random.randint(1, 100, size=(5, 5))\n",
    "\n",
    "print(\"Original array: \\n\", rr)\n",
    "\n",
    "print(\"Flattened array: \\n\", rr.flatten())  \n",
    "# A new 1D array (copy), original remains unchanged.\n",
    "\n",
    "print(\"Flattened array using ravel: \\n\", rr.ravel())  \n",
    "# A 1D view (or copy if needed), changes to this may reflect on the original.\n",
    "\n",
    "print(\"Original array remains the same after the flatten and ravel function: \\n\", rr)\n",
    "# Confirms that `flatten()` never modifies the original array.\n",
    "```\n",
    "\n",
    "Let me know if you'd like further clarifications! 😊"
   ]
  },
  {
   "cell_type": "markdown",
   "id": "531c6091",
   "metadata": {},
   "source": [
    "### Assignment 8: Fancy Indexing and Boolean Indexing\n",
    "\n",
    "1. Create a NumPy array of shape (5, 5) filled with random integers. Use fancy indexing to extract the elements at the corners of the array."
   ]
  },
  {
   "cell_type": "markdown",
   "id": "8c0eb69a",
   "metadata": {},
   "source": [
    "### **Fancy Indexing in NumPy**\n",
    "\n",
    "Fancy indexing refers to accessing elements in a NumPy array using **integer arrays**, **boolean arrays**, or other **arrays/lists of indices** instead of just using slices (`:`) or single indices. It allows for more flexible and powerful ways to select, modify, or extract specific elements from arrays.\n",
    "\n",
    "---\n",
    "\n",
    "### **Types of Fancy Indexing**\n",
    "\n",
    "1. **Integer Array Indexing**:\n",
    "   - Use arrays or lists of integers to specify the indices you want to access.\n",
    "   - You can select multiple elements or rows/columns simultaneously.\n",
    "\n",
    "   **Example:**\n",
    "   ```python\n",
    "   arr = np.array([10, 20, 30, 40, 50])\n",
    "   indices = [1, 3, 4]\n",
    "   result = arr[indices]\n",
    "   print(result)  # Output: [20, 40, 50]\n",
    "   ```\n",
    "\n",
    "   **For 2D Arrays:**\n",
    "   ```python\n",
    "   arr = np.array([[1, 2], [3, 4], [5, 6]])\n",
    "   rows = [0, 2]\n",
    "   cols = [1, 0]\n",
    "   result = arr[rows, cols]  # Selects (0, 1) and (2, 0)\n",
    "   print(result)  # Output: [2, 5]\n",
    "   ```\n",
    "\n",
    "---\n",
    "\n",
    "2. **Boolean Array Indexing**:\n",
    "   - Use a boolean array (of the same shape) to filter elements.\n",
    "   - Only elements corresponding to `True` values in the boolean array are selected.\n",
    "\n",
    "   **Example:**\n",
    "   ```python\n",
    "   arr = np.array([10, 20, 30, 40, 50])\n",
    "   mask = arr > 25  # Create a boolean mask\n",
    "   result = arr[mask]\n",
    "   print(result)  # Output: [30, 40, 50]\n",
    "   ```\n",
    "\n",
    "   **For 2D Arrays:**\n",
    "   ```python\n",
    "   arr = np.array([[1, 2], [3, 4], [5, 6]])\n",
    "   mask = arr > 3\n",
    "   result = arr[mask]\n",
    "   print(result)  # Output: [4, 5, 6]\n",
    "   ```\n",
    "\n",
    "---\n",
    "\n",
    "3. **Combined Indexing**:\n",
    "   - You can combine fancy indexing with slicing or other forms of indexing.\n",
    "\n",
    "   **Example:**\n",
    "   ```python\n",
    "   arr = np.array([[10, 20, 30], [40, 50, 60], [70, 80, 90]])\n",
    "   result = arr[1:, [0, 2]]  # Rows 1 to end, Columns 0 and 2\n",
    "   print(result)\n",
    "   # Output:\n",
    "   # [[40 60]\n",
    "   #  [70 90]]\n",
    "   ```\n",
    "\n",
    "---\n",
    "\n",
    "### **Why Use Fancy Indexing?**\n",
    "1. **Select Specific Elements**:\n",
    "   - You can extract non-contiguous elements efficiently.\n",
    "2. **Flexible Filtering**:\n",
    "   - Use conditions to create masks and extract specific elements.\n",
    "3. **Broadcasting with Indices**:\n",
    "   - Combine arrays/lists of indices with slicing for powerful operations.\n",
    "\n",
    "---\n",
    "\n",
    "### **Key Notes**:\n",
    "- Fancy indexing **returns a copy**, not a view of the data. This means modifying the result will **not affect the original array**.\n",
    "- It's different from slicing (`:`), which creates a **view** of the original array.\n",
    "\n",
    "**Example to Compare:**\n",
    "```python\n",
    "arr = np.array([10, 20, 30, 40, 50])\n",
    "\n",
    "# Fancy Indexing\n",
    "result = arr[[0, 2, 4]]\n",
    "result[0] = 99\n",
    "print(arr)  # Original array remains unchanged: [10, 20, 30, 40, 50]\n",
    "\n",
    "# Slicing\n",
    "slice_result = arr[1:4]\n",
    "slice_result[0] = 99\n",
    "print(arr)  # Original array is modified: [10, 99, 30, 40, 50]\n",
    "```\n",
    "\n",
    "---\n",
    "\n",
    "Fancy indexing is one of NumPy's most powerful features for selecting and manipulating subsets of data. Let me know if you'd like to dive deeper into examples or advanced use cases! 😊"
   ]
  },
  {
   "cell_type": "markdown",
   "id": "95fc1404",
   "metadata": {},
   "source": [
    "# Very Very Important (see next)"
   ]
  },
  {
   "cell_type": "markdown",
   "id": "e7f38910",
   "metadata": {},
   "source": [
    "### **Key Notes**:\n",
    "- Fancy indexing **returns a copy**, not a view of the data. This means modifying the result will **not affect the original array**.\n",
    "- It's different from slicing (`:`), which creates a **view** of the original array.\n",
    "\n",
    "**Example to Compare:**\n",
    "```python\n",
    "arr = np.array([10, 20, 30, 40, 50])\n",
    "\n",
    "# Fancy Indexing\n",
    "result = arr[[0, 2, 4]]\n",
    "result[0] = 99\n",
    "print(arr)  # Original array remains unchanged: [10, 20, 30, 40, 50]\n",
    "\n",
    "# Slicing\n",
    "slice_result = arr[1:4]\n",
    "slice_result[0] = 99\n",
    "print(arr)  # Original array is modified: [10, 99, 30, 40, 50]\n",
    "```\n",
    "\n",
    "---"
   ]
  },
  {
   "cell_type": "code",
   "execution_count": 25,
   "id": "3b8904f6",
   "metadata": {},
   "outputs": [],
   "source": [
    "import numpy as np"
   ]
  },
  {
   "cell_type": "code",
   "execution_count": 28,
   "id": "cdb31732",
   "metadata": {},
   "outputs": [
    {
     "name": "stdout",
     "output_type": "stream",
     "text": [
      "Original array: \n",
      " [[95 40 40 27 21]\n",
      " [75 25 48 15 30]\n",
      " [15 78 60 69 21]\n",
      " [30 13 77 28 75]\n",
      " [88 45 25  8 86]]\n",
      "Corners of the array: \n",
      " [95 21 88 86]\n"
     ]
    }
   ],
   "source": [
    "arr=np.random.randint(1,100,size=(5,5))\n",
    "\n",
    "print(\"Original array: \\n\",arr)\n",
    "# I need 4 elements so i will need to gove 4 values in rows and 4 values in columns\n",
    "corners=arr[[0 ,0, -1, -1 ],[0, -1,0,-1]]#first argument-->rows, second argument-->columns\n",
    "# So the indexes of the selected elements are (0,0),(0,-1),(-1,0),(-1,-1)\n",
    "\n",
    "print(\"Corners of the array: \\n\",corners)\n",
    "\n"
   ]
  },
  {
   "cell_type": "markdown",
   "id": "b57b579c",
   "metadata": {},
   "source": [
    "2. Create a NumPy array of shape (4, 4) filled with random integers. Use boolean indexing to set all elements greater than 10 to 10."
   ]
  },
  {
   "cell_type": "code",
   "execution_count": 29,
   "id": "5f1a9fa4",
   "metadata": {},
   "outputs": [
    {
     "name": "stdout",
     "output_type": "stream",
     "text": [
      "Original array: \n",
      " [[15 31 37 84]\n",
      " [51 71 97 68]\n",
      " [15 94 27 76]\n",
      " [25 11 96 10]]\n",
      "After replacing all elements greater than 10 with 10: \n",
      " [[10 10 10 10]\n",
      " [10 10 10 10]\n",
      " [10 10 10 10]\n",
      " [10 10 10 10]]\n"
     ]
    }
   ],
   "source": [
    "arr=np.random.randint(1,100,size=(4,4))\n",
    "\n",
    "print(\"Original array: \\n\",arr)\n",
    "\n",
    "# remember that using list to provide indexes will not change the original array\n",
    "#But using booolean mask will change the original array\n",
    "#arr[arr>10] selects all the elements greater than 10\n",
    "arr[arr>10]=10\n",
    "print(\"After replacing all elements greater than 10 with 10: \\n\",arr)"
   ]
  },
  {
   "cell_type": "markdown",
   "id": "0600216e",
   "metadata": {},
   "source": [
    "### Assignment 9: Structured Arrays\n",
    "\n",
    "1. Create a structured array with fields 'name' (string), 'age' (integer), and 'weight' (float). Add some data and sort the array by age."
   ]
  },
  {
   "cell_type": "code",
   "execution_count": 31,
   "id": "a522ab4b",
   "metadata": {},
   "outputs": [
    {
     "name": "stdout",
     "output_type": "stream",
     "text": [
      "Original array: \n",
      " [('Messi', 38, 76.32) ('Ronaldo', 36, 78.32)]\n",
      "Sorted array based on age: \n",
      " [('Ronaldo', 36, 78.32) ('Messi', 38, 76.32)]\n"
     ]
    }
   ],
   "source": [
    "data_type=[('name','U21'),('age','i4'),('weight','f4')]#The data type of the array is defined by the data type of the elements in the tuple\n",
    "data=np.array([('Messi',38,76.32),('Ronaldo',36,78.32)],dtype=data_type)\n",
    "print(\"Original array: \\n\",data)\n",
    "\n",
    "sorted_array=np.sort(data,order='age')#sorts the array based on the age\n",
    "print(\"Sorted array based on age: \\n\",sorted_array)\n"
   ]
  },
  {
   "cell_type": "markdown",
   "id": "f8ef5215",
   "metadata": {},
   "source": [
    "2. Create a structured array with fields 'x' and 'y' (both integers). Add some data and compute the Euclidean distance between each pair of points."
   ]
  },
  {
   "cell_type": "code",
   "execution_count": 34,
   "id": "b45b9cf4",
   "metadata": {},
   "outputs": [
    {
     "name": "stdout",
     "output_type": "stream",
     "text": [
      "Original array: \n",
      " [( 0, 10) ( 3, 98) (10, 50)]\n",
      "\n",
      "[ 0  3 10]\n",
      "[[ 0]\n",
      " [ 3]\n",
      " [10]]\n",
      "[ 0  3 10]\n"
     ]
    }
   ],
   "source": [
    "data_type=[('x','i4'),('y','i4')] #'i4' means 4-byte integer\n",
    "data=np.array([(0,10),(3,98),(10,50)],dtype=data_type)\n",
    "print(\"Original array: \\n\",data)\n",
    "print()\n",
    "print(data['x'])\n",
    "print(data['x'][:,np.newaxis])\n",
    "print(data['x'])#original remains the same"
   ]
  },
  {
   "cell_type": "code",
   "execution_count": 35,
   "id": "da85d737",
   "metadata": {},
   "outputs": [
    {
     "name": "stdout",
     "output_type": "stream",
     "text": [
      "[[  0  -3 -10]\n",
      " [  3   0  -7]\n",
      " [ 10   7   0]]\n"
     ]
    }
   ],
   "source": [
    "print(data['x'][:,np.newaxis]-data['x'])#subtracts each element of the 1D array from each row of the 2D array"
   ]
  },
  {
   "cell_type": "code",
   "execution_count": 36,
   "id": "d85bd371",
   "metadata": {},
   "outputs": [
    {
     "name": "stdout",
     "output_type": "stream",
     "text": [
      "[[  0 -88 -40]\n",
      " [ 88   0  48]\n",
      " [ 40 -48   0]]\n"
     ]
    }
   ],
   "source": [
    "print(data['y'][:,np.newaxis]-data['y'])"
   ]
  },
  {
   "cell_type": "code",
   "execution_count": 37,
   "id": "fbf924e0",
   "metadata": {},
   "outputs": [
    {
     "name": "stdout",
     "output_type": "stream",
     "text": [
      "Pairwise Euclidean distances: \n",
      " [[ 0.         88.05112151 41.23105626]\n",
      " [88.05112151  0.         48.50773134]\n",
      " [41.23105626 48.50773134  0.        ]]\n"
     ]
    }
   ],
   "source": [
    "distances = np.sqrt((data['x'][:,np.newaxis]-data['x'])**2 + (data['y'][:,np.newaxis]-data['y'])**2)#calculates the distance between each pair of points\n",
    "print(\"Pairwise Euclidean distances: \\n\",distances)\n",
    "#9 elements the distnac the (0,0) element is the distnace between 1st and 1nd element\n",
    "#The (0,1) element is the distance between the 1st and 2nd element\n",
    "#The (0,2) element is the distance between the 1st and 3rd element\n",
    "# The (1,0) element is the distance between the 2nd and 1st element\n",
    "# And so on "
   ]
  },
  {
   "cell_type": "markdown",
   "id": "059f5bec",
   "metadata": {},
   "source": [
    "### Assignment 10: Masked Arrays\n",
    "\n",
    "1. Create a masked array of shape (4, 4) with random integers and mask the elements greater than 10. Compute the sum of the unmasked elements."
   ]
  },
  {
   "cell_type": "markdown",
   "id": "31b7f2cb",
   "metadata": {},
   "source": [
    "### **What is Masking in NumPy?**\n",
    "\n",
    "**Masking** in NumPy allows you to selectively \"hide\" certain elements in an array by applying a **mask**. A mask is a boolean condition (or a special indicator) that marks which elements should be considered **invalid** or **ignored** during computations.\n",
    "\n",
    "Masked arrays are implemented in the **`numpy.ma`** module, where `ma` stands for **masked array**. When elements are masked:\n",
    "- They are treated as **missing** or **invalid**.\n",
    "- Operations like summing, averaging, or other computations ignore the masked elements.\n",
    "\n",
    "---\n",
    "\n",
    "### **Your Code Explained**\n",
    "\n",
    "```python\n",
    "import numpy.ma as ma\n",
    "import numpy as np\n",
    "\n",
    "# Create a 4x4 array with random integers between 1 and 20\n",
    "array = np.random.randint(1, 21, size=(4, 4))\n",
    "```\n",
    "- Creates a 2D array of shape `(4, 4)` with random integers between 1 and 20.\n",
    "\n",
    "---\n",
    "\n",
    "#### **Step 1: Applying a Mask**\n",
    "```python\n",
    "masked_array = ma.masked_greater(array, 10)\n",
    "```\n",
    "- `ma.masked_greater(array, 10)` masks all elements in `array` that are **greater than 10**.\n",
    "- The mask is a boolean array of the same shape as `array`, where:\n",
    "  - `True` means the element is **masked** (ignored).\n",
    "  - `False` means the element is **unmasked** (valid).\n",
    "\n",
    "**Example:**\n",
    "Suppose `array` is:\n",
    "```plaintext\n",
    "[[ 3, 12, 15,  8],\n",
    " [ 9, 14, 10, 11],\n",
    " [ 7, 13,  6,  2],\n",
    " [16,  1,  4, 18]]\n",
    "```\n",
    "\n",
    "The masked array becomes:\n",
    "```plaintext\n",
    "[[ 3 -- --  8]\n",
    " [ 9 -- 10 --]\n",
    " [ 7 --  6  2]\n",
    " [--  1  4 --]]\n",
    "```\n",
    "Here, `--` indicates a masked element.\n",
    "\n",
    "---\n",
    "\n",
    "#### **Step 2: Printing the Masked Array**\n",
    "When you print a masked array, the masked elements are displayed as `--` to indicate they are ignored.\n",
    "\n",
    "```python\n",
    "print(\"Original array:\")\n",
    "print(array)\n",
    "\n",
    "print(\"Masked array:\")\n",
    "print(masked_array)\n",
    "```\n",
    "\n",
    "---\n",
    "\n",
    "#### **Step 3: Sum of Unmasked Elements**\n",
    "```python\n",
    "sum_unmasked = masked_array.sum()\n",
    "```\n",
    "- Computes the sum of all **unmasked elements** in the masked array.\n",
    "- Masked elements (`--`) are ignored during the sum.\n",
    "\n",
    "**Example (continuing from above):**\n",
    "Unmasked elements are `[3, 8, 9, 10, 7, 6, 2, 1, 4]`.\n",
    "Their sum:\n",
    "```plaintext\n",
    "3 + 8 + 9 + 10 + 7 + 6 + 2 + 1 + 4 = 50\n",
    "```\n",
    "\n",
    "---\n",
    "\n",
    "### **Key Features of Masking**\n",
    "1. **Mask Creation**:\n",
    "   - Masks can be created manually or automatically based on a condition.\n",
    "   - `ma.masked_where(condition, array)` masks elements where the condition is `True`.\n",
    "   - Other functions: `ma.masked_greater`, `ma.masked_less`, `ma.masked_equal`.\n",
    "\n",
    "2. **Masked Operations**:\n",
    "   - Masked elements are ignored in calculations like `sum`, `mean`, etc.\n",
    "   - Works seamlessly with other NumPy operations.\n",
    "\n",
    "3. **Underlying Data**:\n",
    "   - The original data remains intact; only the mask changes how it is accessed or computed.\n",
    "\n",
    "4. **Accessing the Mask**:\n",
    "   - `masked_array.mask` gives the mask (a boolean array).\n",
    "   - Example:\n",
    "     ```python\n",
    "     print(masked_array.mask)\n",
    "     ```\n",
    "\n",
    "5. **Filling Masked Elements**:\n",
    "   - You can replace masked values with a default value using `filled()`:\n",
    "     ```python\n",
    "     filled_array = masked_array.filled(0)  # Replace masked elements with 0\n",
    "     ```\n",
    "\n",
    "---\n",
    "\n",
    "### **Why Use Masking?**\n",
    "- To handle **missing** or **invalid data** in computations.\n",
    "- To focus only on specific elements in an array while ignoring others.\n",
    "- Useful for data cleaning, statistical analysis, and preprocessing.\n",
    "\n",
    "---\n",
    "\n",
    "Let me know if you'd like more examples or clarifications! 😊"
   ]
  },
  {
   "cell_type": "code",
   "execution_count": 63,
   "id": "44ef2b7e",
   "metadata": {},
   "outputs": [
    {
     "name": "stdout",
     "output_type": "stream",
     "text": [
      "Original array: \n",
      " [[ 3 18 11  4]\n",
      " [18 14 17 12]\n",
      " [ 1 17  8  1]\n",
      " [ 3 12 19  8]]\n",
      "Masked array: \n",
      " [[3 -- -- 4]\n",
      " [-- -- -- --]\n",
      " [1 -- 8 1]\n",
      " [3 -- -- 8]]\n"
     ]
    }
   ],
   "source": [
    "import numpy.ma as ma #ma stands for masked array\n",
    "\n",
    "arr=np.random.randint(1,20,size=(4,4))\n",
    "print(\"Original array: \\n\",arr)\n",
    "\n",
    "masked_array=ma.masked_greater(arr,10)\n",
    "print(\"Masked array: \\n\",masked_array)\n",
    "\n"
   ]
  },
  {
   "cell_type": "code",
   "execution_count": 64,
   "id": "2ed1744c",
   "metadata": {},
   "outputs": [
    {
     "name": "stdout",
     "output_type": "stream",
     "text": [
      "Sum of original array 166\n",
      "Sum of masked array 28\n"
     ]
    }
   ],
   "source": [
    "print(\"Sum of original array\",np.sum(arr))\n",
    "print(\"Sum of masked array\",np.sum(masked_array))"
   ]
  },
  {
   "cell_type": "code",
   "execution_count": 65,
   "id": "9e8ce933",
   "metadata": {},
   "outputs": [
    {
     "name": "stdout",
     "output_type": "stream",
     "text": [
      "Masked array filled with 0: \n",
      " [[3 -- -- 4]\n",
      " [-- -- -- --]\n",
      " [1 -- 8 1]\n",
      " [3 -- -- 8]]\n"
     ]
    }
   ],
   "source": [
    "masked_array.filled(0)\n",
    "print(\"Masked array filled with 0: \\n\",masked_array)"
   ]
  },
  {
   "cell_type": "code",
   "execution_count": 66,
   "id": "cd3a4249",
   "metadata": {},
   "outputs": [
    {
     "name": "stdout",
     "output_type": "stream",
     "text": [
      "Filled array: \n",
      " [[3 0 0 4]\n",
      " [0 0 0 0]\n",
      " [1 0 8 1]\n",
      " [3 0 0 8]]\n"
     ]
    }
   ],
   "source": [
    "filled_array=masked_array.filled(0)\n",
    "print(\"Filled array: \\n\",filled_array)"
   ]
  },
  {
   "cell_type": "markdown",
   "id": "7a8c6db4",
   "metadata": {},
   "source": [
    "2. Create a masked array of shape (3, 3) with random integers and mask the diagonal elements. Replace the masked elements with the mean of the unmasked elements."
   ]
  },
  {
   "cell_type": "code",
   "execution_count": 57,
   "id": "c8d5b86c",
   "metadata": {},
   "outputs": [
    {
     "name": "stdout",
     "output_type": "stream",
     "text": [
      "Original array: \n",
      " [[ 8  1  6]\n",
      " [11 13  7]\n",
      " [ 2  2  3]]\n",
      "Boolean mask: \n",
      " [[ True False False]\n",
      " [False  True False]\n",
      " [False False  True]]\n",
      "Masked array: \n",
      " [[-- 1 6]\n",
      " [11 -- 7]\n",
      " [2 2 --]]\n"
     ]
    }
   ],
   "source": [
    "arr=np.random.randint(1,20,size=(3,3))\n",
    "\n",
    "print(\"Original array: \\n\",arr)\n",
    "temp=np.eye(3,dtype=bool)\n",
    "print(\"Boolean mask: \\n\",temp)\n",
    "\n",
    "masked_array=ma.masked_array(arr,mask=temp)#masks the elements of the array where the mask(here temp) is True\n",
    "print(\"Masked array: \\n\",masked_array)"
   ]
  },
  {
   "cell_type": "code",
   "execution_count": 58,
   "id": "fde331ca",
   "metadata": {},
   "outputs": [
    {
     "name": "stdout",
     "output_type": "stream",
     "text": [
      "Filled array: \n",
      " [[ 4  1  6]\n",
      " [11  4  7]\n",
      " [ 2  2  4]]\n"
     ]
    }
   ],
   "source": [
    "masked_array=masked_array.filled(masked_array.mean())#fills the masked elements with the mean of the array\n",
    "print(\"Filled array: \\n\",masked_array)"
   ]
  },
  {
   "cell_type": "code",
   "execution_count": null,
   "id": "7ae7b8da",
   "metadata": {},
   "outputs": [],
   "source": []
  }
 ],
 "metadata": {
  "kernelspec": {
   "display_name": "venv",
   "language": "python",
   "name": "python3"
  },
  "language_info": {
   "codemirror_mode": {
    "name": "ipython",
    "version": 3
   },
   "file_extension": ".py",
   "mimetype": "text/x-python",
   "name": "python",
   "nbconvert_exporter": "python",
   "pygments_lexer": "ipython3",
   "version": "3.12.0"
  }
 },
 "nbformat": 4,
 "nbformat_minor": 5
}
