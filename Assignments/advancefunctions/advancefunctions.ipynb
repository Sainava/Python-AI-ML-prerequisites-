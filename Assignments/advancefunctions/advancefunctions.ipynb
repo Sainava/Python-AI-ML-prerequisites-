{
 "cells": [
  {
   "cell_type": "markdown",
   "metadata": {},
   "source": [
    "# Module 4: Advanced Functions Assignments\n",
    "## Lesson 4.1: Defining Functions\n",
    "### Assignment 1: Fibonacci Sequence with Memoization\n",
    "\n",
    "Define a recursive function to calculate the nth Fibonacci number using memoization. Test the function with different inputs.\n",
    "\n",
    "### Assignment 2: Function with Nested Default Arguments\n",
    "\n",
    "Define a function that takes two arguments, a and b, where b is a dictionary with a default value of an empty dictionary. The function should add a new key-value pair to the dictionary and return it. Test the function with different inputs.\n",
    "\n",
    "### Assignment 3: Function with Variable Keyword Arguments\n",
    "\n",
    "Define a function that takes a variable number of keyword arguments and returns a dictionary containing only those key-value pairs where the value is an integer. Test the function with different inputs.\n",
    "\n",
    "### Assignment 4: Function with Callback\n",
    "\n",
    "Define a function that takes another function as a callback and a list of integers. The function should apply the callback to each integer in the list and return a new list with the results. Test with different callback functions.\n",
    "\n",
    "### Assignment 5: Function that Returns a Function\n",
    "\n",
    "Define a function that returns another function. The returned function should take an integer and return its square. Test the returned function with different inputs.\n",
    "\n",
    "### Assignment 6: Function with Decorators\n",
    "\n",
    "Define a function that calculates the time taken to execute another function. Apply this decorator to a function that performs a complex calculation. Test the decorated function with different inputs.\n",
    "\n",
    "### Assignment 7: Higher-Order Function for Filtering and Mapping\n",
    "\n",
    "Define a higher-order function that takes two functions, a filter function and a map function, along with a list of integers. The higher-order function should first filter the integers using the filter function and then apply the map function to the filtered integers. Test with different filter and map functions.\n",
    "\n",
    "### Assignment 8: Function Composition\n",
    "\n",
    "Define a function that composes two functions, f and g, such that the result is f(g(x)). Test with different functions f and g.\n",
    "\n",
    "### Assignment 9: Partial Function Application\n",
    "\n",
    "Use the functools.partial function to create a new function that multiplies its input by 2. Test the new function with different inputs.\n",
    "\n",
    "### Assignment 10: Function with Error Handling\n",
    "\n",
    "Define a function that takes a list of integers and returns their average. The function should handle any errors that occur (e.g., empty list) and return None in such cases. Test with different inputs.\n",
    "\n",
    "### Assignment 11: Function with Generators\n",
    "\n",
    "Define a function that generates an infinite sequence of Fibonacci numbers. Test by printing the first 10 numbers in the sequence.\n",
    "\n",
    "### Assignment 12: Currying\n",
    "\n",
    "Define a curried function that takes three arguments, one at a time, and returns their product. Test the function by providing arguments one at a time.\n",
    "\n",
    "### Assignment 13: Function with Context Manager\n",
    "\n",
    "Define a function that uses a context manager to write a list of integers to a file. The function should handle any errors that occur during file operations. Test with different lists.\n",
    "\n",
    "### Assignment 14: Function with Multiple Return Types\n",
    "\n",
    "Define a function that takes a list of mixed data types (integers, strings, and floats) and returns three lists: one containing all the integers, one containing all the strings, and one containing all the floats. Test with different inputs.\n",
    "\n",
    "### Assignment 15: Function with State\n",
    "\n",
    "Define a function that maintains state between calls using a mutable default argument. The function should keep track of how many times it has been called. Test by calling the function multiple times."
   ]
  },
  {
   "cell_type": "markdown",
   "id": "0cc2ec12",
   "metadata": {},
   "source": [
    "# Solution"
   ]
  },
  {
   "cell_type": "markdown",
   "id": "1fa032fd",
   "metadata": {},
   "source": [
    "You're correct that when you're printing just the `nth` term of the Fibonacci sequence (not all of them), it may seem like memoization wouldn't be useful because only one term is being calculated.\n",
    "\n",
    "However, let's break it down to understand why memoization is still beneficial:\n",
    "\n",
    "### Fibonacci Calculation Without Memoization:\n",
    "In the original code without memoization, if you want to calculate `fibonacci(5)`, the function calls would look like this:\n",
    "\n",
    "- `fibonacci(5)` calls `fibonacci(4)` and `fibonacci(3)`\n",
    "- `fibonacci(4)` calls `fibonacci(3)` and `fibonacci(2)`\n",
    "- `fibonacci(3)` calls `fibonacci(2)` and `fibonacci(1)`\n",
    "- `fibonacci(2)` calls `fibonacci(1)` and `fibonacci(0)`\n",
    "\n",
    "As you can see, `fibonacci(3)`, `fibonacci(2)`, `fibonacci(1)`, and `fibonacci(0)` are recalculated multiple times. This creates redundant work and makes the algorithm inefficient.\n",
    "\n",
    "### Fibonacci Calculation With Memoization:\n",
    "With memoization, the first time you calculate `fibonacci(3)`, the result is cached. So when `fibonacci(3)` is called again (as part of calculating `fibonacci(4)`), it doesn't need to recompute the value. It can simply look it up in the cache, making the process faster.\n",
    "\n",
    "### Why Is Memoization Useful Even If You're Only Calculating One Term?\n",
    "If you are calculating just one term, say `fibonacci(n)`, memoization might not seem that useful for small values of `n`. However, if your program is running in a context where the Fibonacci function is called multiple times (e.g., if you have a larger program where Fibonacci calculations are needed repeatedly), memoization ensures that redundant calculations are avoided.\n",
    "\n",
    "For example:\n",
    "- **In recursive calls:** If you're calling the Fibonacci function multiple times within other recursive calls (e.g., you need the first `n` Fibonacci numbers in another function or loop), memoization helps avoid recalculating the same values.\n",
    "- **In larger programs:** Even if you're only printing a single term for now, if you plan to extend the program to compute multiple terms (like in a loop or another calculation), memoization will significantly speed up the overall execution by preventing redundant calculations.\n",
    "\n",
    "### In Your Example:\n",
    "If you're calculating and printing all Fibonacci numbers up to `n`, memoization will prevent recalculating the same Fibonacci numbers for each iteration in the loop. Here's the potential scenario:\n",
    "\n",
    "For `n = 5`, without memoization:\n",
    "- `fibonacci(5)` is called, which calls `fibonacci(4)` and `fibonacci(3)`.\n",
    "- `fibonacci(4)` is called, which calls `fibonacci(3)` and `fibonacci(2)`.\n",
    "- `fibonacci(3)` is called, which calls `fibonacci(2)` and `fibonacci(1)`.\n",
    "\n",
    "As you can see, many of these calls overlap, causing unnecessary recomputations. With memoization, once `fibonacci(3)` is calculated, it will be cached and reused.\n",
    "\n",
    "### Conclusion:\n",
    "While memoization might seem unnecessary when you're printing just one value, it becomes crucial when you're calling the function repeatedly, even within a loop or for multiple Fibonacci numbers, or when the Fibonacci sequence becomes larger. It helps reduce the time complexity from exponential to linear for recursive Fibonacci calculations."
   ]
  },
  {
   "cell_type": "markdown",
   "id": "f175c109",
   "metadata": {},
   "source": [
    "### 1"
   ]
  },
  {
   "cell_type": "markdown",
   "id": "badf56e3",
   "metadata": {},
   "source": [
    "### Explanation of Memoization in Python:\n",
    "Memoization is an optimization technique used to make functions more efficient by storing (caching) the results of expensive function calls and reusing them when the same inputs occur again. In Python, this can be done using a dictionary or built-in tools like functools.lru_cache.\n",
    "\n",
    "When you apply memoization to a function, it saves the results of function calls for specific inputs. The next time the function is called with the same input, the saved result is returned immediately, instead of recalculating it.\n",
    "\n",
    "How to Apply Memoization to Your Fibonacci Code:\n",
    "In your current Fibonacci function, the same values are being recalculated multiple times, leading to inefficient performance. Memoization can improve this by storing previously computed values.\n",
    "\n",
    "You can use functools.lru_cache, which automatically caches function results."
   ]
  },
  {
   "cell_type": "code",
   "execution_count": 1,
   "metadata": {},
   "outputs": [
    {
     "name": "stdout",
     "output_type": "stream",
     "text": [
      "0 1 1 2 3 "
     ]
    }
   ],
   "source": [
    "from functools import lru_cache\n",
    "\n",
    "@lru_cache(None) # This decorator automatically caches the function results\n",
    "def fibonacci(n):\n",
    "    '''calculates the nth term of the fibonacci series'''\n",
    "    if n==0 or n==1:\n",
    "        return n\n",
    "    else:\n",
    "        return fibonacci(n-1)+fibonacci(n-2)\n",
    "    \n",
    "n = int(input(\"Enter the number of terms: \"))\n",
    "for i in range(n):\n",
    "    print(fibonacci(i),end=\" \")"
   ]
  },
  {
   "cell_type": "markdown",
   "id": "12fcfdd0",
   "metadata": {},
   "source": [
    "A **decorator** in Python is a design pattern that allows you to modify or enhance the behavior of a function or method without changing its actual code. It’s essentially a function that takes another function as an argument, modifies its behavior, and then returns a new function with the enhanced functionality.\n",
    "\n",
    "### How Decorators Work:\n",
    "A decorator is applied to a function using the `@decorator_name` syntax, just above the function definition. When you call the decorated function, Python will first apply the decorator function, which can wrap or alter the original function.\n",
    "\n",
    "### Basic Example of a Decorator:\n",
    "\n",
    "```python\n",
    "def decorator_function(original_function):\n",
    "    def wrapper_function():\n",
    "        print(\"Function is about to run\")\n",
    "        original_function()  # Call the original function\n",
    "        print(\"Function has finished running\")\n",
    "    return wrapper_function\n",
    "\n",
    "@decorator_function\n",
    "def say_hello():\n",
    "    print(\"Hello!\")\n",
    "\n",
    "# When you call say_hello, it's actually calling the wrapper function\n",
    "say_hello()\n",
    "```\n",
    "\n",
    "### Output:\n",
    "```\n",
    "Function is about to run\n",
    "Hello!\n",
    "Function has finished running\n",
    "```\n",
    "\n",
    "### Explanation:\n",
    "1. `decorator_function` is a decorator that takes `original_function` (in this case, `say_hello`) and defines a `wrapper_function` around it.\n",
    "2. The `wrapper_function` prints a message before and after calling the original function (`say_hello`).\n",
    "3. By using `@decorator_function`, we apply this behavior to `say_hello` without modifying its code.\n",
    "\n",
    "### Key Points:\n",
    "- **Without a decorator**: You would have to manually modify `say_hello` every time you want to add extra behavior.\n",
    "- **With a decorator**: You can add pre/post actions around any function easily by just adding `@decorator_name` above the function.\n",
    "\n",
    "### Decorators in Action:\n",
    "- **Logging**: You can use decorators to log when a function is called.\n",
    "- **Authorization**: Check if a user is authorized to call a function before running it.\n",
    "- **Memoization**: As we saw in the Fibonacci example, `@lru_cache` is a decorator that caches function results to improve performance.\n",
    "\n",
    "### Built-in Decorators:\n",
    "Python provides several built-in decorators like:\n",
    "- `@staticmethod`: Defines a method that does not require access to an instance.\n",
    "- `@classmethod`: Defines a method that takes a class as the first argument.\n",
    "- `@property`: Used to define a method as a property.\n",
    "\n",
    "Decorators are a powerful feature in Python and can be used to keep code modular, clean, and reusable."
   ]
  },
  {
   "cell_type": "code",
   "execution_count": 5,
   "id": "d90cb971",
   "metadata": {},
   "outputs": [
    {
     "name": "stdout",
     "output_type": "stream",
     "text": [
      "{2: 1}\n",
      "{2: 1, 3: 2}\n",
      "{2: 1, 3: 2, 4: 3}\n",
      "{2: 1, 3: 2, 4: 3, 5: 5}\n",
      "5\n"
     ]
    }
   ],
   "source": [
    "def fib(n,memo={}):\n",
    "    '''calculates the nth term of the fibonacci series'''\n",
    "    if n in memo:\n",
    "        return memo[n]\n",
    "    if n<=1:\n",
    "        return n\n",
    "    memo[n] = fib(n-1,memo)+fib(n-2,memo)\n",
    "    print(memo)\n",
    "    return memo[n]\n",
    "\n",
    "\n",
    "print(fib(5))\n",
    "# Test\n",
    "# print(fib(10))  # 55\n",
    "# print(fib(15))  # 610\n"
   ]
  },
  {
   "cell_type": "markdown",
   "metadata": {},
   "source": [
    "The two functions, `fibonacci` with the `@lru_cache` decorator and `fib` with an explicit memoization approach, both use **memoization** to improve the efficiency of calculating Fibonacci numbers by caching previously computed results. However, they use memoization in different ways.\n",
    "\n",
    "### 1. `fibonacci` with `@lru_cache`:\n",
    "\n",
    "```python\n",
    "from functools import lru_cache\n",
    "\n",
    "@lru_cache(None)  # This decorator automatically caches the function results\n",
    "def fibonacci(n):\n",
    "    '''calculates the nth term of the fibonacci series'''\n",
    "    if n == 0 or n == 1:\n",
    "        return n\n",
    "    else:\n",
    "        return fibonacci(n-1) + fibonacci(n-2)\n",
    "```\n",
    "\n",
    "- **How it works**: The `@lru_cache(None)` decorator automatically caches the results of the function for each input value `n`. \n",
    "- **Caching**: `lru_cache` stores the function's return value for each unique argument (`n`). So when `fibonacci(n)` is called with the same value `n` again, it uses the cached value instead of recalculating the result.\n",
    "- **Behavior**: The cache is global (i.e., the cache is shared across all calls to `fibonacci`). Once the function has been called with a certain `n`, the result will be stored and reused for subsequent calls with that same `n`.\n",
    "\n",
    "### 2. `fib` with explicit `memo` argument:\n",
    "\n",
    "```python\n",
    "def fib(n, memo={}):\n",
    "    '''calculates the nth term of the fibonacci series'''\n",
    "    if n in memo:\n",
    "        return memo[n]\n",
    "    if n <= 1:\n",
    "        return n\n",
    "    memo[n] = fib(n-1, memo) + fib(n-2, memo)\n",
    "    return memo[n]\n",
    "```\n",
    "\n",
    "- **How it works**: The `fib` function explicitly accepts a `memo` dictionary as an argument. This dictionary is used to store previously computed Fibonacci values. It starts with an empty dictionary (`memo={}`), and as the function recurses, it stores results for each `n` in the `memo` dictionary.\n",
    "- **Caching**: The memoization happens manually inside the function by checking if the value of `n` is already in the `memo` dictionary. If it's found, the function returns the cached result. Otherwise, it computes the Fibonacci value and stores it in the `memo` dictionary.\n",
    "- **Behavior**: Since `memo` is passed as an argument, it persists across recursive calls. If you want to start with a fresh dictionary for each call, you would need to pass a new empty dictionary each time.\n",
    "\n",
    "### Key Differences in Memoization:\n",
    "\n",
    "1. **Automatic vs. Manual Memoization**:\n",
    "   - **`@lru_cache`**: Memoization is automatic. You don't need to pass or manage the cache yourself. The cache is handled internally.\n",
    "   - **`fib` with `memo={}`**: Memoization is manual. You need to explicitly handle the cache by passing the `memo` dictionary to each recursive call.\n",
    "\n",
    "2. **Scope of Caching**:\n",
    "   - **`@lru_cache`**: The cache is global to the function, and it retains its state between function calls. Once a value is cached, it will be available for all future calls to the `fibonacci` function.\n",
    "   - **`fib` with `memo={}`**: The cache is specific to each call because the `memo` dictionary is passed around. The cache is not shared between different calls unless you explicitly pass the same dictionary.\n",
    "\n",
    "### Will `fibonacci(15)` Use Values from `fibonacci(10)`?\n",
    "\n",
    "Yes, when you call `fibonacci(15)`, it **can use the values obtained in `fibonacci(10)`** due to caching. Here’s how:\n",
    "\n",
    "- When you call `fibonacci(10)`, it will compute the values for `fibonacci(9)`, `fibonacci(8)`, and so on, until it reaches the base cases `fibonacci(1)` and `fibonacci(0)`.\n",
    "- These computed values are stored in the cache (due to `@lru_cache`).\n",
    "- When you call `fibonacci(15)`, it will first compute the result for `fibonacci(14)`, which requires `fibonacci(13)`, and so on. But, since `fibonacci(10)` and its intermediate values are already cached, the function will reuse those cached values instead of recalculating them.\n",
    "\n",
    "### Summary of Differences:\n",
    "\n",
    "| Feature                   | `@lru_cache`                    | `fib` with explicit `memo`     |\n",
    "|---------------------------|---------------------------------|--------------------------------|\n",
    "| Memoization Approach      | Automatic caching using decorator | Manual caching with dictionary |\n",
    "| Cache Management          | Handled internally by Python    | Explicitly managed by function |\n",
    "| Scope of Cache            | Global to the function          | Specific to each call (can pass different caches) |\n",
    "\n",
    "In both cases, memoization improves performance by avoiding redundant calculations, but `@lru_cache` offers a cleaner, more automatic way to handle it, while the `fib` function gives you more control over how the cache is passed and managed."
   ]
  },
  {
   "cell_type": "code",
   "execution_count": 1,
   "id": "3505edfb",
   "metadata": {},
   "outputs": [],
   "source": [
    "# print(fib(10))  # 55\n",
    "# print(fib(15))  # 610\n",
    "# when i call print(fib(15)) ,will it use the values obtained fib(10)"
   ]
  },
  {
   "cell_type": "markdown",
   "id": "43d2e84e",
   "metadata": {},
   "source": [
    "Yes, when you call `print(fib(15))`, it **will use the values obtained from `fib(10)`** due to memoization. Here's how it works:\n",
    "\n",
    "### Detailed Explanation:\n",
    "\n",
    "1. **Calling `fib(10)`**:\n",
    "   - When you call `fib(10)`, the function recursively computes the Fibonacci values for `fib(9)`, `fib(8)`, and so on, down to the base cases `fib(1)` and `fib(0)`.\n",
    "   - These results are stored in the `memo` dictionary, which is passed as an argument to each recursive call.\n",
    "   \n",
    "2. **Memoization**:\n",
    "   - After calculating `fib(10)`, the function will have stored all the intermediate Fibonacci values (like `fib(9)`, `fib(8)`, etc.) in the `memo` dictionary. These values will be cached and reused when needed.\n",
    "\n",
    "3. **Calling `fib(15)`**:\n",
    "   - When you call `fib(15)`, the function needs to compute `fib(14)` and `fib(13)`, and so on. During this calculation, it will use the previously computed values stored in the `memo` dictionary for `fib(10)` and any other values that were already computed.\n",
    "   - So, for example:\n",
    "     - The call to `fib(14)` will use `fib(13)` and `fib(12)`.\n",
    "     - While calculating `fib(13)`, it will use `fib(10)`, `fib(9)`, and so on, if they are already cached.\n",
    "\n",
    "### In Summary:\n",
    "- **Yes, `fib(15)` will use the values obtained from `fib(10)`** because they are stored in the `memo` dictionary. Since `fib(10)` was computed and cached, the function will look up the value in the dictionary rather than recomputing it.\n",
    "\n",
    "Here's a simple demonstration of how the memoization works with this approach:\n",
    "\n",
    "```python\n",
    "def fib(n, memo={}):\n",
    "    '''calculates the nth term of the fibonacci series'''\n",
    "    if n in memo:\n",
    "        return memo[n]\n",
    "    if n <= 1:\n",
    "        return n\n",
    "    memo[n] = fib(n-1, memo) + fib(n-2, memo)\n",
    "    return memo[n]\n",
    "\n",
    "# Calling fib(10) stores values for fib(0) through fib(10) in memo\n",
    "print(fib(10))  # Output: 55\n",
    "\n",
    "# Calling fib(15) will reuse the values stored for fib(10)\n",
    "print(fib(15))  # Output: 610\n",
    "```\n",
    "\n",
    "So, when `fib(15)` is called, it will leverage the results from the `memo` dictionary, which already contains values like `fib(10)`. This makes the process faster than recalculating those intermediate Fibonacci values from scratch."
   ]
  },
  {
   "cell_type": "code",
   "execution_count": 2,
   "id": "46f97eb0",
   "metadata": {},
   "outputs": [],
   "source": [
    "# but the scope of memo dictionary in fib is till the functiion terminates right ,so it will have to calculate the value of fib(10) again when fib(15) is called right ,and cannot use the value obtaned when print(fib(10)) is called or am i wrong"
   ]
  },
  {
   "cell_type": "markdown",
   "id": "57563e4d",
   "metadata": {},
   "source": [
    "You're right to point out the behavior of the `memo` dictionary in the `fib` function. However, there is a key detail in how Python handles default arguments like `memo={}` in the function signature.\n",
    "\n",
    "### Understanding the Behavior of `memo={}`:\n",
    "The `memo` dictionary has a special property because it's defined as a **default mutable argument**. In Python, default arguments are evaluated only once when the function is defined, and then they persist across function calls. This means that the `memo` dictionary does **not** get reset each time you call the function—it will retain the cached values between multiple calls to `fib`.\n",
    "\n",
    "So, to clarify your point:\n",
    "- The `memo` dictionary **does not get reset** when you call the function again.\n",
    "- The cached values from previous calls (like `fib(10)`) **will persist** and can be used when you call `fib(15)`.\n",
    "\n",
    "### Here's a step-by-step explanation of how it works:\n",
    "\n",
    "1. **First call `fib(10)`**:\n",
    "   - The first time you call `fib(10)`, the function computes the Fibonacci values for `fib(10)` and all smaller values (`fib(9)`, `fib(8)`, ..., `fib(0)`), storing them in the `memo` dictionary.\n",
    "   - The `memo` dictionary will contain values for `fib(0)` to `fib(10)` after this call.\n",
    "\n",
    "2. **Calling `fib(15)`**:\n",
    "   - When you call `fib(15)`, it needs to compute `fib(14)` and `fib(13)`, and so on.\n",
    "   - While doing this, it will **reuse the values stored in `memo`** for `fib(10)` and any intermediate values that were previously computed (since they are cached from the first call).\n",
    "\n",
    "### Example Code:\n",
    "\n",
    "```python\n",
    "def fib(n, memo={}):\n",
    "    '''calculates the nth term of the fibonacci series'''\n",
    "    if n in memo:\n",
    "        return memo[n]\n",
    "    if n <= 1:\n",
    "        return n\n",
    "    memo[n] = fib(n-1, memo) + fib(n-2, memo)\n",
    "    return memo[n]\n",
    "\n",
    "# Calling fib(10) stores values for fib(0) through fib(10) in memo\n",
    "print(fib(10))  # Output: 55\n",
    "\n",
    "# Calling fib(15) will reuse the values stored for fib(10) in memo\n",
    "print(fib(15))  # Output: 610\n",
    "```\n",
    "\n",
    "### Key Point:\n",
    "- **The `memo` dictionary is shared** across all calls to `fib` because it is a default argument.\n",
    "- **Values from `fib(10)` will be reused in `fib(15)`** without recomputing them.\n",
    "\n",
    "### What Happens Internally:\n",
    "- When you call `fib(10)`, the function computes `fib(9)`, `fib(8)`, ..., and stores the results in `memo`.\n",
    "- When you call `fib(15)`, the function checks the `memo` dictionary and finds that `fib(10)` has already been computed, so it directly returns `memo[10]` instead of recalculating it.\n",
    "\n",
    "### Why This Works:\n",
    "- The `memo` dictionary isn't local to a single call of the `fib` function. It is shared across recursive calls and between separate calls to `fib(10)` and `fib(15)` because it's a **default argument**.\n",
    "  \n",
    "So, **you're not wrong in thinking that the `memo` dictionary persists across calls**, and because of this, `fib(15)` can use the cached value of `fib(10)` even though `fib(10)` was calculated earlier in the program."
   ]
  },
  {
   "cell_type": "code",
   "execution_count": 4,
   "id": "b731c851",
   "metadata": {},
   "outputs": [],
   "source": [
    "# This happens for mutable default arguments"
   ]
  },
  {
   "cell_type": "markdown",
   "id": "d9e24964",
   "metadata": {},
   "source": [
    "Yes, exactly! The behavior you're describing applies specifically to **mutable default arguments** like dictionaries, lists, or sets.\n",
    "\n",
    "### Why This Happens:\n",
    "\n",
    "In Python, default arguments are evaluated **once** when the function is defined, not each time the function is called. This means that if a mutable object (like a dictionary) is used as a default argument, it will be shared across all function calls, and any changes made to it will persist across those calls.\n",
    "\n",
    "### How it Works with `memo={}`:\n",
    "\n",
    "When you define the `memo` argument as a default dictionary in your `fib` function (`memo={}`), Python initializes it once when the function is defined. From that point onward, the same `memo` dictionary is used in every call to the `fib` function unless you explicitly pass a new dictionary. Therefore, when you call `fib(10)` and `fib(15)`, they both use the **same `memo` dictionary**, and the results from one call are available to the other.\n",
    "\n",
    "### Mutable vs Immutable Default Arguments:\n",
    "\n",
    "- **Mutable Default Arguments**: If you use a mutable object like a dictionary (`memo={}`), the object persists across function calls. This is what happens in your example.\n",
    "  \n",
    "- **Immutable Default Arguments**: If you use an immutable object (like `None`, an integer, a string, or a tuple), Python creates a new object each time the function is called, meaning the default value doesn't persist across calls. For example:\n",
    "\n",
    "  ```python\n",
    "  def example(n, default=None):\n",
    "      if default is None:\n",
    "          default = []\n",
    "      default.append(n)\n",
    "      return default\n",
    "  ```\n",
    "\n",
    "  In this case, since `default` is `None` by default, a new list is created each time the function is called. This avoids the issue with mutable default arguments.\n",
    "\n",
    "### Example: Mutable vs Immutable Default Arguments\n",
    "\n",
    "1. **Mutable Argument Example** (`memo={}`):\n",
    "\n",
    "   ```python\n",
    "   def fib(n, memo={}):\n",
    "       if n in memo:\n",
    "           return memo[n]\n",
    "       if n <= 1:\n",
    "           return n\n",
    "       memo[n] = fib(n-1, memo) + fib(n-2, memo)\n",
    "       return memo[n]\n",
    "\n",
    "   # First call stores results in the same `memo` dictionary.\n",
    "   print(fib(10))  # Output: 55\n",
    "   # Second call reuses the `memo` dictionary with previously computed results.\n",
    "   print(fib(15))  # Output: 610\n",
    "   ```\n",
    "\n",
    "   - The `memo` dictionary is **shared** across all calls to `fib`, and the values are cached across function calls.\n",
    "\n",
    "2. **Immutable Argument Example** (`default=None`):\n",
    "\n",
    "   ```python\n",
    "   def example(n, default=None):\n",
    "       if default is None:\n",
    "           default = []  # Creates a new list each time the function is called\n",
    "       default.append(n)\n",
    "       return default\n",
    "\n",
    "   # Calling example multiple times\n",
    "   print(example(1))  # Output: [1]\n",
    "   print(example(2))  # Output: [2]\n",
    "   ```\n",
    "\n",
    "   - Here, `default` is reinitialized as a new list each time because it's an immutable type (`None`), so no values persist between function calls.\n",
    "\n",
    "### In Summary:\n",
    "- **Mutable default arguments** (like dictionaries or lists) **persist across calls** to the function, which is why the `memo` dictionary is shared across multiple calls to `fib`.\n",
    "- **Immutable default arguments** (like `None`, integers, strings, or tuples) do **not persist** between function calls, meaning each call to the function gets a new instance of the default value."
   ]
  },
  {
   "cell_type": "markdown",
   "id": "7f2b74d4",
   "metadata": {},
   "source": [
    "### Assignment 2: Function with Nested Default Arguments\n",
    "\n",
    "Define a function that takes two arguments, a and b, where b is a dictionary with a default value of an empty dictionary. The function should add a new key-value pair to the dictionary and return it. Test the function with different inputs."
   ]
  },
  {
   "cell_type": "code",
   "execution_count": 7,
   "id": "ce6dbe40",
   "metadata": {},
   "outputs": [
    {
     "name": "stdout",
     "output_type": "stream",
     "text": [
      "{2: 4}\n",
      "{3: 9}\n",
      "{4: 16}\n",
      "{5: 25}\n",
      "{2: 4}\n",
      "{2: 4, 3: 9}\n",
      "{2: 4, 3: 9, 4: 16}\n",
      "{2: 4, 3: 9, 4: 16, 5: 25}\n"
     ]
    }
   ],
   "source": [
    "def add_to_dict(a,b=None):\n",
    "    if b is None:\n",
    "        b={}\n",
    "    b[a]=a**2\n",
    "    return b\n",
    "\n",
    "def add_to_dict_default_in_paramter(a,b={}):\n",
    "    # if b is None:\n",
    "    #     b={}\n",
    "    b[a]=a**2\n",
    "    return b\n",
    "\n",
    "print(add_to_dict(2))  \n",
    "print(add_to_dict(3))\n",
    "print(add_to_dict(4))\n",
    "print(add_to_dict(5))\n",
    "\n",
    "print(add_to_dict_default_in_paramter(2))\n",
    "print(add_to_dict_default_in_paramter(3))\n",
    "print(add_to_dict_default_in_paramter(4))\n",
    "print(add_to_dict_default_in_paramter(5))"
   ]
  },
  {
   "cell_type": "code",
   "execution_count": 8,
   "id": "c95e6678",
   "metadata": {},
   "outputs": [
    {
     "name": "stdout",
     "output_type": "stream",
     "text": [
      "{1: 11, 2: 22, 3: 33}\n",
      "{}\n"
     ]
    }
   ],
   "source": [
    "dct={1:11,2:22,3:33}\n",
    "print(dct)\n",
    "dct={}\n",
    "print(dct)"
   ]
  },
  {
   "cell_type": "markdown",
   "id": "ec00175f",
   "metadata": {},
   "source": [
    "### Assignment 3: Function with Variable Keyword Arguments\n",
    "\n",
    "Define a function that takes a variable number of keyword arguments and returns a dictionary containing only those key-value pairs where the value is an integer. Test the function with different inputs."
   ]
  },
  {
   "cell_type": "markdown",
   "id": "c422de91",
   "metadata": {},
   "source": [
    "### In positional argument : args is tuple \n",
    "### In keyword argument : kwargs is a dict"
   ]
  },
  {
   "cell_type": "code",
   "execution_count": 16,
   "id": "49bcfbf3",
   "metadata": {},
   "outputs": [
    {
     "name": "stdout",
     "output_type": "stream",
     "text": [
      "{'a': 1, 'b': 2, 'c': 3, 'f': 6}\n"
     ]
    }
   ],
   "source": [
    "def integer_dict(**kwargs):\n",
    "    '''\n",
    "    print(type(kwargs),kwargs)#<class 'dict'> {'a': 1, 'b': 2, 'c': 3, 'd': '4', 'e': '5', 'f': 6}\n",
    "    '''\n",
    "\n",
    "    '''\n",
    "    print(kwargs.items())#dict_items([('a', 1), ('b', 2), ('c', 3), ('d', '4'), ('e', '5'), ('f', 6)])\n",
    "    '''\n",
    "    return dict(filter(lambda x: isinstance(x[1],int),kwargs.items()))#Method 1\n",
    "\n",
    "    '''\n",
    "    return {k:v for k,v in kwargs.itemns() if isinstance(v,int)}#Method 2\n",
    "    '''\n",
    "\n",
    "    '''\n",
    "    # x will be a tuple \n",
    "    \n",
    "    for x in kwargs.items():\n",
    "        print(x)\n",
    "    ('a', 1)\n",
    "    ('b', 2)\n",
    "    ('c', 3)\n",
    "    ('d', '4')\n",
    "    ('e', '5')\n",
    "    ('f', 6)\n",
    "    '''\n",
    "'''\n",
    "def test_pos_args(*args):\n",
    "    print(type(args),args)#<class 'tuple'> (1, 2, 3, 4, 5, 6, 7, 8, 9, 10)\n",
    "'''\n",
    "\n",
    "\n",
    "print(integer_dict(a=1,b=2,c=3,d='4',e='5',f=6))\n",
    "#print(test_pos_args(1,2,3,4,5,6,7,8,9,10))"
   ]
  },
  {
   "cell_type": "markdown",
   "id": "583576f3",
   "metadata": {},
   "source": [
    "The `isinstance` function in Python is used to check if an object is an instance of a specified class or a subclass thereof. It returns `True` if the object is an instance of the specified class (or any class in a tuple of classes), and `False` otherwise.\n",
    "\n",
    "### Syntax:\n",
    "```python\n",
    "isinstance(object, class_or_tuple)\n",
    "```\n",
    "\n",
    "- **`object`**: The object you want to check.\n",
    "- **`class_or_tuple`**: The class, type, or a tuple of classes/types to check against.\n",
    "\n",
    "### Example Usage:\n",
    "```python\n",
    "# Single class check\n",
    "print(isinstance(42, int))  # True, because 42 is an integer\n",
    "\n",
    "# Multiple class check\n",
    "print(isinstance(\"hello\", (int, str)))  # True, because \"hello\" is a string\n",
    "\n",
    "# Subclass check\n",
    "class Animal:\n",
    "    pass\n",
    "\n",
    "class Dog(Animal):\n",
    "    pass\n",
    "\n",
    "my_pet = Dog()\n",
    "print(isinstance(my_pet, Animal))  # True, because Dog is a subclass of Animal\n",
    "```\n",
    "\n",
    "---\n",
    "\n",
    "### In Your Code:\n",
    "```python\n",
    "def integer_dict(**kwargs):\n",
    "    return dict(filter(lambda x: isinstance(x[1], int), kwargs.items()))\n",
    "```\n",
    "\n",
    "Here:\n",
    "1. `kwargs` represents a dictionary of keyword arguments passed to the function.\n",
    "2. `kwargs.items()` gives key-value pairs as tuples.\n",
    "3. `filter(lambda x: isinstance(x[1], int), kwargs.items())`:\n",
    "   - Filters only the key-value pairs where the value (`x[1]`) is an instance of the `int` type.\n",
    "4. `dict()` converts the filtered key-value pairs back into a dictionary.\n",
    "\n",
    "### Example:\n",
    "```python\n",
    "result = integer_dict(a=1, b=\"text\", c=3.5, d=42)\n",
    "print(result)  # Output: {'a': 1, 'd': 42}\n",
    "```\n",
    "\n",
    "- The `isinstance` function ensures only the key-value pairs with integer values (`1` and `42` in this case) are included in the result."
   ]
  },
  {
   "cell_type": "markdown",
   "id": "7689a5b4",
   "metadata": {},
   "source": [
    "### Assignment 4: Function with Callback\n",
    "\n",
    "Define a function that takes another function as a callback and a list of integers. The function should apply the callback to each integer in the list and return a new list with the results. Test with different callback functions."
   ]
  },
  {
   "cell_type": "code",
   "execution_count": 17,
   "id": "5d038797",
   "metadata": {},
   "outputs": [
    {
     "name": "stdout",
     "output_type": "stream",
     "text": [
      "[1, 4, 9, 16, 25, 36, 49, 64, 81, 100]\n"
     ]
    }
   ],
   "source": [
    "'''Method 1'''\n",
    "\n",
    "def square(lst):\n",
    "    square=[x**2 for x in lst]\n",
    "    return square\n",
    "\n",
    "def higher_order_function(func,lst):\n",
    "    return func(lst)\n",
    "\n",
    "print(higher_order_function(square,[1,2,3,4,5,6,7,8,9,10]))\n",
    "     \n"
   ]
  },
  {
   "cell_type": "code",
   "execution_count": 20,
   "id": "eff2d6c4",
   "metadata": {},
   "outputs": [
    {
     "name": "stdout",
     "output_type": "stream",
     "text": [
      "[1, 4, 9, 16, 25, 36, 49, 64, 81, 100]\n",
      "[1, 8, 27, 64, 125, 216, 343, 512, 729, 1000]\n"
     ]
    }
   ],
   "source": [
    "'''Method 2'''\n",
    "\n",
    "def apply_callback(callback,lst):\n",
    "    return [callback(x) for x in lst]\n",
    "\n",
    "print(apply_callback(lambda x:x**2,[1,2,3,4,5,6,7,8,9,10]))\n",
    "print(apply_callback(lambda x:x**3,[1,2,3,4,5,6,7,8,9,10]))"
   ]
  },
  {
   "cell_type": "markdown",
   "id": "5d091219",
   "metadata": {},
   "source": [
    "### Assignment 5: Function that Returns a Function\n",
    "\n",
    "Define a function that returns another function. The returned function should take an integer and return its square. Test the returned function with different inputs."
   ]
  },
  {
   "cell_type": "code",
   "execution_count": 21,
   "id": "db097df5",
   "metadata": {},
   "outputs": [
    {
     "name": "stdout",
     "output_type": "stream",
     "text": [
      "25\n"
     ]
    }
   ],
   "source": [
    "'''Method 1'''\n",
    "def sq(x):\n",
    "    return x**2\n",
    "\n",
    "def cb(func,x):\n",
    "    return func(x)\n",
    "\n",
    "print(cb(sq,5))"
   ]
  },
  {
   "cell_type": "code",
   "execution_count": 25,
   "id": "cd18d7a9",
   "metadata": {},
   "outputs": [
    {
     "name": "stdout",
     "output_type": "stream",
     "text": [
      "25\n",
      "36\n",
      "49\n"
     ]
    }
   ],
   "source": [
    "'''Method 2'''\n",
    "\n",
    "def outer_func():\n",
    "    def inner_func(x):\n",
    "        return x**2\n",
    "    return inner_func\n",
    "\n",
    "square=outer_func()# This returns the inner function so square is now the same as inner function \n",
    "\n",
    "print(square(5))\n",
    "print(square(6))    \n",
    "print(square(7))\n"
   ]
  },
  {
   "cell_type": "markdown",
   "id": "b93e9159",
   "metadata": {},
   "source": [
    "### Assignment 6: Function with Decorators\n",
    "\n",
    "Define a function that calculates the time taken to execute another function. Apply this decorator to a function that performs a complex calculation. Test the decorated function with different inputs."
   ]
  },
  {
   "cell_type": "markdown",
   "id": "350f0be7",
   "metadata": {},
   "source": [
    "### how decorators work in Python: they accept a function, add some behavior to it, and return a new function."
   ]
  },
  {
   "cell_type": "code",
   "execution_count": 28,
   "id": "191b7732",
   "metadata": {},
   "outputs": [
    {
     "name": "stdout",
     "output_type": "stream",
     "text": [
      "The function complex_func took 0.05251026153564453 seconds to run\n",
      "333333833333500000\n"
     ]
    }
   ],
   "source": [
    "import time\n",
    "\n",
    "\n",
    "def decorator(func):\n",
    "    def wrapper(*args,**kwargs):#args and kwargs are used to pass any number of arguments and all type of arguments to the function\n",
    "        start_time=time.time()\n",
    "        result=func(*args,**kwargs)\n",
    "        end_time=time.time()\n",
    "        print(f\"The function {func.__name__} took {end_time-start_time} seconds to run\")#func.__name__ gives the name of the function\n",
    "        return result\n",
    "    return wrapper\n",
    "\n",
    "\n",
    "'''The following is equivalent to complex_func = decorator(complex_func)'''\n",
    "'''Since the decorator function returns the wrapper function,the complex function is now equal  the wrapper function'''\n",
    "@decorator\n",
    "def complex_func(n):\n",
    "    return sum(x**2 for x in range(1,n+1))\n",
    "\n",
    "\n",
    "print(complex_func(1000000))"
   ]
  },
  {
   "cell_type": "markdown",
   "id": "81273a22",
   "metadata": {},
   "source": [
    "### Assignment 7: Higher-Order Function for Filtering and Mapping\n",
    "\n",
    "Define a higher-order function that takes two functions, a filter function and a map function, along with a list of integers. The higher-order function should first filter the integers using the filter function and then apply the map function to the filtered integers. Test with different filter and map functions."
   ]
  },
  {
   "cell_type": "code",
   "execution_count": 31,
   "id": "081766f4",
   "metadata": {},
   "outputs": [
    {
     "name": "stdout",
     "output_type": "stream",
     "text": [
      "[4, 16, 36, 64, 100]\n"
     ]
    }
   ],
   "source": [
    "def higher_order_func(filter_func,map_func,lst):\n",
    "    return [map_func(x) for x in lst if filter_func(x)]\n",
    "\n",
    "\n",
    "print(higher_order_func(lambda x: (x%2)==0,lambda x:x**2,[1,2,3,4,5,6,7,8,9,10]))\n",
    "\n",
    "  \n"
   ]
  },
  {
   "cell_type": "markdown",
   "id": "9468274e",
   "metadata": {},
   "source": [
    "### Assignment 8: Function Composition\n",
    "\n",
    "Define a function that composes two functions, f and g, such that the result is f(g(x)). Test with different functions f and g."
   ]
  },
  {
   "cell_type": "code",
   "execution_count": 34,
   "id": "d7a3a2d2",
   "metadata": {},
   "outputs": [
    {
     "name": "stdout",
     "output_type": "stream",
     "text": [
      "26\n",
      "37\n"
     ]
    }
   ],
   "source": [
    "def composition(f,g):\n",
    "    '''return f(g(x))# Error as x is undefined'''\n",
    "    return lambda x:f(g(x))\n",
    "\n",
    "f=lambda x:x+1\n",
    "g=lambda x:x**2\n",
    "\n",
    "h=composition(f,g)\n",
    "print(h(5))\n",
    "print(h(6))\n",
    "\n"
   ]
  },
  {
   "cell_type": "markdown",
   "id": "9ce8adb2",
   "metadata": {},
   "source": [
    "### Assignment 9: Partial Function Application\n",
    "\n",
    "Use the functools.partial function to create a new function that multiplies its input by 2. Test the new function with different inputs."
   ]
  },
  {
   "cell_type": "markdown",
   "id": "49019a52",
   "metadata": {},
   "source": [
    "A **partial function** in Python is created using the `functools.partial` function. It allows you to \"freeze\" some portion of a function's arguments or keywords, resulting in a new function with fewer arguments to specify.\n",
    "\n",
    "Here’s a breakdown of the concept and the example:\n",
    "\n",
    "---\n",
    "\n",
    "### What is a Partial Function?\n",
    "\n",
    "- **Purpose**: It creates a new function by fixing some arguments of the original function. The resulting function can be called with the remaining arguments.\n",
    "- **Usage**: It simplifies function calls where some arguments are frequently the same.\n",
    "\n",
    "The `functools.partial` function takes a callable (function, method, or other callable object) as its first argument, followed by positional and keyword arguments that you want to \"pre-fill.\"\n",
    "\n",
    "---\n",
    "\n",
    "### Explanation of the Code:\n",
    "\n",
    "1. **Original Function**:  \n",
    "   ```python\n",
    "   lambda x, y: x * y\n",
    "   ```\n",
    "   This is an anonymous function (lambda) that multiplies two numbers, `x` and `y`.\n",
    "\n",
    "2. **Partial Function**:  \n",
    "   ```python\n",
    "   multiply_by_2 = partial(lambda x, y: x * y, 2)\n",
    "   ```\n",
    "   - `partial` fixes the first argument `x` of the lambda function to `2`. \n",
    "   - The resulting `multiply_by_2` function effectively becomes:\n",
    "     ```python\n",
    "     lambda y: 2 * y\n",
    "     ```\n",
    "\n",
    "3. **Usage of the Partial Function**:\n",
    "   ```python\n",
    "   print(multiply_by_2(3))  # 6\n",
    "   print(multiply_by_2(5))  # 10\n",
    "   ```\n",
    "   - When you call `multiply_by_2(3)`, it computes `2 * 3` and returns `6`.\n",
    "   - Similarly, `multiply_by_2(5)` computes `2 * 5` and returns `10`.\n",
    "\n",
    "---\n",
    "\n",
    "### Key Benefits of Using Partial Functions:\n",
    "\n",
    "- **Reusability**: You can reuse a partially fixed function with different remaining arguments.\n",
    "- **Simplified Code**: Avoids repeated specification of common arguments.\n",
    "- **Flexibility**: Useful in functional programming paradigms.\n",
    "\n",
    "For example, if you often multiply numbers by `2`, defining `multiply_by_2` using `partial` simplifies your task."
   ]
  },
  {
   "cell_type": "code",
   "execution_count": 35,
   "id": "47ba9604",
   "metadata": {},
   "outputs": [],
   "source": [
    "# how is this different or more beneficial than default arguments"
   ]
  },
  {
   "cell_type": "markdown",
   "id": "0838dd08",
   "metadata": {},
   "source": [
    "Both **partial functions** and **default arguments** simplify function calls, but they differ in their use cases, flexibility, and functionality. Here's a detailed comparison:\n",
    "\n",
    "---\n",
    "\n",
    "### **Default Arguments**\n",
    "Default arguments are defined within the function signature. They provide fallback values if no argument is passed during the function call.\n",
    "\n",
    "#### Example:\n",
    "```python\n",
    "def add(x, y=10):\n",
    "    return x + y\n",
    "\n",
    "# Usage\n",
    "print(add(5))    # 15 (uses default y=10)\n",
    "print(add(5, 20))  # 25 (overrides default y=10)\n",
    "```\n",
    "\n",
    "**Advantages of Default Arguments**:\n",
    "1. **Simple to use**: Built directly into the function signature, easy to read and understand.\n",
    "2. **Static behavior**: Default values are tied to the function definition and don't change dynamically.\n",
    "3. **Less overhead**: No need for external tools like `functools.partial`.\n",
    "\n",
    "**Limitations**:\n",
    "- **Limited to one function**: Default arguments are specific to the function where they are defined.\n",
    "- **Not reusable**: If you need the same \"pre-filled\" behavior for other functions or use cases, you'll need to duplicate code or logic.\n",
    "- **Cannot fix intermediate arguments**: Default arguments only work from the end of the argument list backward (e.g., you can fix `y` but not `x` without rearranging the arguments).\n",
    "\n",
    "---\n",
    "\n",
    "### **Partial Functions**\n",
    "Partial functions, created using `functools.partial`, allow you to fix some arguments of an existing function, creating a new callable with a subset of arguments.\n",
    "\n",
    "#### Example:\n",
    "```python\n",
    "from functools import partial\n",
    "\n",
    "def add(x, y):\n",
    "    return x + y\n",
    "\n",
    "# Partial function\n",
    "add_five = partial(add, y=5)\n",
    "\n",
    "# Usage\n",
    "print(add_five(10))  # 15\n",
    "```\n",
    "\n",
    "**Advantages of Partial Functions**:\n",
    "1. **Reusable across functions**: You can create multiple specialized versions of the same or different functions dynamically.\n",
    "2. **Flexibility**: You can fix arguments in the middle or beginning of the parameter list without changing the original function's definition.\n",
    "3. **Dynamic behavior**: Partial functions can be created at runtime, offering more flexibility in how arguments are set.\n",
    "4. **Works with any callable**: Partial works with functions, methods, lambdas, and more.\n",
    "\n",
    "**Limitations**:\n",
    "- **Requires `functools`**: Adds some overhead by requiring an additional module and a slightly more complex syntax.\n",
    "- **Readability**: Can make code less intuitive if overused or used without clear naming.\n",
    "\n",
    "---\n",
    "\n",
    "### **Key Differences**\n",
    "| Feature                | Default Arguments                          | Partial Functions                                   |\n",
    "|------------------------|--------------------------------------------|---------------------------------------------------|\n",
    "| **Definition Time**    | Fixed at function definition time.         | Created dynamically at runtime.                   |\n",
    "| **Flexibility**        | Limited to the function signature.         | Can create multiple variants from the same function. |\n",
    "| **Reusability**        | Specific to a single function.             | Reusable across different contexts or functions.  |\n",
    "| **Intermediate Args**  | Cannot fix arguments in the middle.        | Can fix any argument in any position.             |\n",
    "| **Readability**        | Clearer in simple cases.                   | May reduce readability in complex cases.          |\n",
    "\n",
    "---\n",
    "\n",
    "### **When to Use Which?**\n",
    "\n",
    "1. **Use Default Arguments**:\n",
    "   - If you are designing a function and some arguments often have the same value.\n",
    "   - When the fixed arguments are not expected to change dynamically.\n",
    "   - For simple use cases where readability is important.\n",
    "\n",
    "2. **Use Partial Functions**:\n",
    "   - When you need multiple versions of the same function with different fixed arguments.\n",
    "   - For dynamically creating specialized versions of a function at runtime.\n",
    "   - When you want to fix arguments that are not at the end of the parameter list.\n",
    "\n",
    "---\n",
    "\n",
    "### **Example Combining Both**\n",
    "\n",
    "Here’s an example where both are useful:\n",
    "\n",
    "#### Default Argument:\n",
    "```python\n",
    "def calculate_price(price, tax_rate=0.05, discount=0):\n",
    "    return price * (1 + tax_rate) - discount\n",
    "\n",
    "print(calculate_price(100))              # Default tax rate and no discount\n",
    "print(calculate_price(100, tax_rate=0.1))  # Custom tax rate\n",
    "```\n",
    "\n",
    "#### Partial Function:\n",
    "```python\n",
    "from functools import partial\n",
    "\n",
    "# Fix tax_rate for a specific region\n",
    "regional_calculator = partial(calculate_price, tax_rate=0.08)\n",
    "\n",
    "# Fix discount for a promotion\n",
    "promotional_calculator = partial(calculate_price, discount=20)\n",
    "\n",
    "print(regional_calculator(100))         # Tax rate fixed at 0.08\n",
    "print(promotional_calculator(100, tax_rate=0.1))  # Discount fixed at 20, custom tax\n",
    "```\n",
    "\n",
    "**Why partial?**:\n",
    "- Partial allows fixing intermediate arguments like `tax_rate` or `discount` without modifying the original function or adding redundant default arguments. It also creates reusable variants dynamically."
   ]
  },
  {
   "cell_type": "code",
   "execution_count": 41,
   "id": "228f27b0",
   "metadata": {},
   "outputs": [
    {
     "name": "stdout",
     "output_type": "stream",
     "text": [
      "6\n",
      "20\n",
      "30\n"
     ]
    }
   ],
   "source": [
    "from functools import partial\n",
    "\n",
    "def multiply(a,b):\n",
    "    return a*b\n",
    "\n",
    "multiply_by_2=partial(multiply,2)# The first argument is fixed to 2 (here a)\n",
    "\n",
    "multiply_by_3=partial(multiply,b=3)\n",
    "\n",
    "'''Once fixed through partial ,the values cannot be overwridden'''\n",
    "\n",
    "\n",
    "\n",
    "print(multiply(2,3))#OG func remians the same\n",
    "print(multiply_by_2(10))\n",
    "# print(multiply_by_2(10,10))#Error\n",
    "print(multiply_by_3(10))\n"
   ]
  },
  {
   "cell_type": "markdown",
   "id": "a5a179c3",
   "metadata": {},
   "source": [
    "### Assignment 10: Function with Error Handling\n",
    "\n",
    "Define a function that takes a list of integers and returns their average. The function should handle any errors that occur (e.g., empty list) and return None in such cases. Test with different inputs."
   ]
  },
  {
   "cell_type": "code",
   "execution_count": 43,
   "id": "79d368e8",
   "metadata": {},
   "outputs": [
    {
     "name": "stdout",
     "output_type": "stream",
     "text": [
      "5.5\n",
      "None\n"
     ]
    }
   ],
   "source": [
    "def avg(lst):\n",
    "    try:\n",
    "        return (sum(lst)/len(lst))\n",
    "    except ZeroDivisionError:\n",
    "        return None\n",
    "    \n",
    "print(avg([1,2,3,4,5,6,7,8,9,10]))\n",
    "print(avg([]))"
   ]
  },
  {
   "cell_type": "markdown",
   "id": "39354cbd",
   "metadata": {},
   "source": [
    "### Assignment 11: Function with Generators\n",
    "\n",
    "Define a function that generates an infinite sequence of Fibonacci numbers. Test by printing the first 10 numbers in the sequence."
   ]
  },
  {
   "cell_type": "code",
   "execution_count": 47,
   "id": "9b377a93",
   "metadata": {},
   "outputs": [
    {
     "name": "stdout",
     "output_type": "stream",
     "text": [
      "0 1 1 2 3 5 8 13 21 34 "
     ]
    }
   ],
   "source": [
    "'''A generator function is not required to be infinite. It is simply a function that uses the yield keyword to produce a sequence of values one at a time, \n",
    "and it can terminate once all values have been yielded.'''\n",
    "\n",
    "def fibonacci_generator():\n",
    "    a,b=0,1\n",
    "    while True:\n",
    "        yield a\n",
    "        a,b = b,a+b\n",
    "\n",
    "fib=fibonacci_generator()# when i run a generator function ,it returns a generator object instead of running the function\n",
    "'''When I say \"the function doesn't run immediately,\" I mean that the function's code doesn't execute fully as soon as you call it.\n",
    " Instead, it returns a generator object, and the execution of the function's code starts only when you request the next value, \n",
    " either by calling next() or using it in a loop.'''\n",
    "for i in range(10):\n",
    "    print(next(fib),end=\" \")\n",
    "\n",
    "\n",
    "\n"
   ]
  },
  {
   "cell_type": "markdown",
   "id": "ea3b664e",
   "metadata": {},
   "source": [
    "### https://chatgpt.com/share/67645a84-11bc-8001-bb1e-6ab397dbe68a"
   ]
  },
  {
   "cell_type": "markdown",
   "id": "5c355271",
   "metadata": {},
   "source": [
    "### The above is the link for the detail comcept \n"
   ]
  },
  {
   "cell_type": "markdown",
   "id": "3abc8aef",
   "metadata": {},
   "source": [
    "### Assignment 12: Currying\n",
    "\n",
    "Define a curried function that takes three arguments, one at a time, and returns their product. Test the function by providing arguments one at a time."
   ]
  },
  {
   "cell_type": "markdown",
   "id": "ae980dfc",
   "metadata": {},
   "source": [
    "A **curried function** in Python is a function that allows you to break down a function that takes multiple arguments into a series of functions that each take one argument at a time. This is achieved by partially applying arguments in a step-by-step manner.\n",
    "\n",
    "In simple terms, currying transforms a function that takes multiple arguments into a chain of functions that each take a single argument.\n",
    "\n",
    "For example, consider a simple function that adds two numbers:\n",
    "\n",
    "```python\n",
    "def add(x, y):\n",
    "    return x + y\n",
    "```\n",
    "\n",
    "A curried version of this function would be:\n",
    "\n",
    "```python\n",
    "def curried_add(x):\n",
    "    def add_y(y):\n",
    "        return x + y\n",
    "    return add_y\n",
    "```\n",
    "\n",
    "Now, you can use it in a curried fashion like this:\n",
    "\n",
    "```python\n",
    "add_five = curried_add(5)  # Partially apply '5'\n",
    "result = add_five(3)  # Apply '3' and get 8\n",
    "print(result)  # Output: 8\n",
    "```\n",
    "\n",
    "In Python, currying is often implemented using `functools.partial` or lambda functions. Here's how you could use `partial` to curry the `add` function:\n",
    "\n",
    "```python\n",
    "from functools import partial\n",
    "\n",
    "add_five = partial(add, 5)  # This creates a new function where 'x' is fixed as 5\n",
    "result = add_five(3)  # Output will be 8\n",
    "print(result)\n",
    "```\n",
    "\n",
    "Currying can be useful when you want to create specialized versions of functions by fixing some arguments in advance."
   ]
  },
  {
   "cell_type": "code",
   "execution_count": 49,
   "id": "82473569",
   "metadata": {},
   "outputs": [
    {
     "name": "stdout",
     "output_type": "stream",
     "text": [
      "24\n"
     ]
    }
   ],
   "source": [
    "def curry_product(x):\n",
    "    def inner_y(y):\n",
    "        def inner_z(z):\n",
    "            return x*y*z\n",
    "        return inner_z\n",
    "    return inner_y\n",
    "\n",
    "print(curry_product(2)(3)(4))#24 x=2,y=3,z=4"
   ]
  },
  {
   "cell_type": "code",
   "execution_count": 51,
   "id": "135053ec",
   "metadata": {},
   "outputs": [
    {
     "name": "stdout",
     "output_type": "stream",
     "text": [
      "9\n"
     ]
    }
   ],
   "source": [
    "def curry_add(x):\n",
    "    def inner_y(y):\n",
    "        def inner_z(z):\n",
    "            return x+y+z\n",
    "        return inner_z\n",
    "    return inner_y\n",
    "\n",
    "# print(curry_add(2)(3)(4))# x=2,y=3,z=4\n",
    "\n",
    "inner_first=curry_add(2)#inner_y->x=2\n",
    "\n",
    "inner_second=inner_first(3)#inner_z->x=2,y=3\n",
    "\n",
    "print(inner_second(4))#x=2,y=3,z=4\n"
   ]
  },
  {
   "cell_type": "markdown",
   "id": "b2f4acb5",
   "metadata": {},
   "source": [
    "### Assignment 13: Function with Context Manager\n",
    "\n",
    "Define a function that uses a context manager to write a list of integers to a file. The function should handle any errors that occur during file operations. Test with different lists."
   ]
  },
  {
   "cell_type": "markdown",
   "id": "75287b4e",
   "metadata": {},
   "source": [
    "A **context manager** in Python is an object that defines methods for setting up and cleaning up a resource, typically used with the `with` statement. It ensures that resources are properly acquired and released, even if an exception occurs. The primary use of a context manager is for handling resources like file operations, database connections, or network connections, ensuring that they are properly opened and closed.\n",
    "\n",
    "In Python, the most common way to create a context manager is by using the `with` statement. When used with files, it ensures that the file is properly closed after the block of code inside the `with` statement completes, even if an error occurs.\n",
    "\n",
    "### Where is the context manager used in your example?\n",
    "\n",
    "In your function `write_to_file(lst, filename)`, the **context manager** is used here:\n",
    "\n",
    "```python\n",
    "with open(filename, 'w') as f:\n",
    "    for num in lst:\n",
    "        f.write(f\"{num}\\n\")\n",
    "```\n",
    "\n",
    "### Explanation:\n",
    "- `open(filename, 'w')` is a context manager.\n",
    "  - `open` is a built-in function that opens a file and returns a file object.\n",
    "  - By using it with the `with` statement, Python automatically handles opening the file and ensures that it is closed after the block of code inside the `with` statement is executed, even if an error occurs within that block.\n",
    "- The `as f` part assigns the file object to the variable `f`, which can then be used inside the block to write to the file.\n",
    "\n",
    "This is the **core idea** of a context manager: it ensures resources are properly cleaned up (in this case, closing the file) once the code finishes executing, without the programmer needing to explicitly call `f.close()`.\n",
    "\n",
    "### Example of the full function using a context manager:\n",
    "\n",
    "```python\n",
    "def write_to_file(lst, filename):\n",
    "    try:\n",
    "        with open(filename, 'w') as f:  # Context manager used here\n",
    "            for num in lst:\n",
    "                f.write(f\"{num}\\n\")\n",
    "    except IOError as e:\n",
    "        print(f\"An error occurred: {e}\")\n",
    "```\n",
    "\n",
    "- If you have a list like `[1, 2, 3, 4, 5]`, this function will open `output.txt` in write mode and write the numbers to the file.\n",
    "- Once the block inside the `with` statement finishes (after writing to the file), Python automatically closes the file.\n",
    "- If any error occurs during the file operation (such as permission issues or a non-existent path), the error is caught by the `except` block, and an error message is printed.\n",
    "\n",
    "### Why Use a Context Manager?\n",
    "Using a context manager in this case makes the code safer and more reliable by ensuring:\n",
    "1. The file is always closed after the block of code finishes, even if an error occurs.\n",
    "2. You don't have to explicitly call `f.close()`, reducing the risk of leaving open files.\n"
   ]
  },
  {
   "cell_type": "code",
   "execution_count": 55,
   "id": "8d06a398",
   "metadata": {},
   "outputs": [],
   "source": [
    "'''Essentially ,a context manager is an object that defines the runtime context to be established when executing a with statement.'''\n",
    "''' It essentially handles the setup and teardown of resources, such as opening and closing a file, in a way that is clean and predictable.'''\n",
    "'''The with statement simplifies exception handling by encapsulating common preparation and cleanup tasks in so-called context managers.'''\n",
    "'''The with statement allows objects like files to be used in a way that ensures they are always cleaned up promptly and correctly.'''\n",
    "'''The with statement in the case of files ensure that the file is closed after the block of code is executed without the intervention of the user'''\n",
    "\n",
    "'''\n",
    "A context manager is an object in Python that helps manage resources like files or network connections, \n",
    "ensuring they are set up before a block of code runs and cleaned up after the code runs, even if there's an error.\n",
    "When you use a with statement, the context manager automatically handles the setup (like opening a file) and cleanup (like closing the file) for you.\n",
    "\n",
    "'''\n",
    "\n",
    "# Context Manager is usually used with the with statement\n",
    "def write_to_file(filename,lst):\n",
    "    try:\n",
    "        with open(filename,'w') as file:\n",
    "            for item in lst:\n",
    "                file.write(str(item)+'\\n')\n",
    "          \n",
    "    except Exception as e:\n",
    "        print(\"An error occurred\" ,e)\n",
    "\n",
    "'''you can write an integer to a file, but you need to convert it to a string first. \n",
    "Files handle data as text (strings), so when you try to write an integer directly, it will result in an error.\n",
    "'''\n",
    "\n",
    "\n",
    "write_to_file(\"test.txt\",[1,2,3,4,5,6,7,8,9,10])\n"
   ]
  },
  {
   "cell_type": "markdown",
   "id": "e668fff9",
   "metadata": {},
   "source": [
    "### Assignment 14: Function with Multiple Return Types\n",
    "\n",
    "Define a function that takes a list of mixed data types (integers, strings, and floats) and returns three lists: one containing all the integers, one containing all the strings, and one containing all the floats. Test with different inputs."
   ]
  },
  {
   "cell_type": "code",
   "execution_count": 56,
   "id": "e5d33918",
   "metadata": {},
   "outputs": [
    {
     "name": "stdout",
     "output_type": "stream",
     "text": [
      "[1, 2, 3, 4, 5]\n",
      "[6.0, 7.0, 8.0, 9.0, 10.0]\n",
      "['a', 'b', 'c', 'd', 'e', 'f', 'g', 'h', 'i', 'j']\n"
     ]
    }
   ],
   "source": [
    "def separate_data_types(lst):\n",
    "    int_list=[x for x in lst if isinstance(x,int)]\n",
    "    float_list=[x for x in lst if isinstance(x,float)]\n",
    "    str_list=[x for x in lst if isinstance(x,str)]\n",
    "    return int_list,float_list,str_list \n",
    "    '''Essentially retiurns a tuple of the three lists'''\n",
    "\n",
    "    #Python can handle multiple return values by returning a tuple of the values.\n",
    "\n",
    "\n",
    "\n",
    "\n",
    "\n",
    "mixed_list=[1,2,3,4,5,6.0,7.0,8.0,9.0,10.0,'a','b','c','d','e','f','g','h','i','j']\n",
    "\n",
    "int_list,float_list,str_list=separate_data_types(mixed_list)\n",
    "\n",
    "print(int_list)\n",
    "print(float_list)\n",
    "print(str_list)\n"
   ]
  },
  {
   "cell_type": "markdown",
   "id": "56861f2c",
   "metadata": {},
   "source": [
    "### Assignment 15: Function with State\n",
    "\n",
    "Define a function that maintains state between calls using a mutable default argument. The function should keep track of how many times it has been called. Test by calling the function multiple times."
   ]
  },
  {
   "cell_type": "code",
   "execution_count": 58,
   "id": "b13c3a6e",
   "metadata": {},
   "outputs": [
    {
     "name": "stdout",
     "output_type": "stream",
     "text": [
      "1\n",
      "2\n",
      "3\n",
      "4\n"
     ]
    }
   ],
   "source": [
    "'''A function maintains a state using a mutable default argument'''\n",
    "\n",
    "\n",
    "def count_call(cnt={'count':0}):\n",
    "    cnt['count']+=1\n",
    "    return cnt['count']\n",
    "\n",
    "print(count_call())\n",
    "print(count_call())\n",
    "print(count_call())\n",
    "print(count_call())"
   ]
  },
  {
   "cell_type": "code",
   "execution_count": null,
   "id": "8bece10b",
   "metadata": {},
   "outputs": [],
   "source": [
    "\n",
    "\n"
   ]
  }
 ],
 "metadata": {
  "kernelspec": {
   "display_name": "venv",
   "language": "python",
   "name": "python3"
  },
  "language_info": {
   "codemirror_mode": {
    "name": "ipython",
    "version": 3
   },
   "file_extension": ".py",
   "mimetype": "text/x-python",
   "name": "python",
   "nbconvert_exporter": "python",
   "pygments_lexer": "ipython3",
   "version": "3.12.0"
  }
 },
 "nbformat": 4,
 "nbformat_minor": 5
}
