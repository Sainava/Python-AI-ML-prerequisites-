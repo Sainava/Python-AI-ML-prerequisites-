{
 "cells": [
  {
   "cell_type": "markdown",
   "metadata": {},
   "source": [
    "# Module 5: Modules and Packages Assignments\n",
    "## Lesson 5.1: Importing Modules\n",
    "### Assignment 1: Importing and Using Modules\n",
    "\n",
    "Import the `math` module and use it to calculate the square root of 25 and the sine of 90 degrees.\n",
    "\n",
    "### Assignment 2: Aliasing Modules\n",
    "\n",
    "Import the `datetime` module with an alias and use it to print the current date and time.\n",
    "\n",
    "### Assignment 3: Importing Specific Functions\n",
    "\n",
    "Import the `randint` function from the `random` module and use it to generate a random integer between 1 and 100.\n",
    "\n",
    "### Assignment 4: Importing Multiple Functions\n",
    "\n",
    "Import the `sqrt` and `pow` functions from the `math` module and use them to calculate the square root of 16 and 2 raised to the power of 3.\n",
    "\n",
    "### Assignment 5: Handling Import Errors\n",
    "\n",
    "Write code that attempts to import a non-existent module and gracefully handles the import error by printing an error message.\n",
    "\n",
    "## Lesson 5.2: Standard Library Overview\n",
    "### Assignment 6: Working with the `os` Module\n",
    "\n",
    "Use the `os` module to create a new directory, list the contents of the current directory, and remove the newly created directory.\n",
    "\n",
    "### Assignment 7: Working with the `sys` Module\n",
    "\n",
    "Use the `sys` module to print the Python version currently in use and the command-line arguments passed to the script.\n",
    "\n",
    "### Assignment 8: Working with the `math` Module\n",
    "\n",
    "Use the `math` module to calculate the greatest common divisor (GCD) of two numbers and the factorial of a number.\n",
    "\n",
    "### Assignment 9: Working with the `datetime` Module\n",
    "\n",
    "Use the `datetime` module to print the current date, calculate the date 100 days from today, and determine the day of the week for a given date.\n",
    "\n",
    "### Assignment 10: Working with the `random` Module\n",
    "\n",
    "Use the `random` module to generate a list of 5 random numbers between 1 and 50 and shuffle the elements of a list.\n",
    "\n",
    "## Lesson 5.3: Creating and Using Packages\n",
    "### Assignment 11: Creating a Simple Package\n",
    "\n",
    "Create a package named `mypackage` with two modules: `module1` and `module2`. `module1` should contain a function that adds two numbers, and `module2` should contain a function that multiplies two numbers. Write code to use these functions.\n",
    "\n",
    "### Assignment 12: Using `__init__.py`\n",
    "\n",
    "Modify the `mypackage` package to include an `__init__.py` file that imports the functions from `module1` and `module2`. Write code to use these functions.\n",
    "\n",
    "### Assignment 13: Importing from a Package\n",
    "\n",
    "Write code to import and use the functions from `mypackage` without explicitly importing `module1` and `module2`.\n",
    "\n",
    "### Assignment 14: Relative Imports\n",
    "\n",
    "Create a subpackage named `subpackage` within `mypackage` and move `module2` into `subpackage`. Modify the import statements in `__init__.py` to use relative imports. Write code to use the functions from both modules.\n",
    "\n",
    "### Assignment 15: Handling Package Import Errors\n",
    "\n",
    "Write code that attempts to import a non-existent function from `mypackage` and gracefully handles the import error by printing an error message."
   ]
  },
  {
   "cell_type": "markdown",
   "id": "ee9a4d95",
   "metadata": {},
   "source": [
    "## Solution\n"
   ]
  },
  {
   "cell_type": "markdown",
   "id": "099cdffc",
   "metadata": {},
   "source": [
    "# Module 5: Modules and Packages Assignments\n",
    "## Lesson 5.1: Importing Modules\n",
    "### Assignment 1: Importing and Using Modules\n",
    "\n",
    "Import the `math` module and use it to calculate the square root of 25 and the sine of 90 degrees."
   ]
  },
  {
   "cell_type": "code",
   "execution_count": 1,
   "metadata": {},
   "outputs": [
    {
     "name": "stdout",
     "output_type": "stream",
     "text": [
      "The square root of 25 is : 5.0\n"
     ]
    }
   ],
   "source": [
    "import math\n",
    "\n",
    "print(\"The square root of 25 is :\",math.sqrt(25))"
   ]
  },
  {
   "cell_type": "markdown",
   "id": "b850af20",
   "metadata": {},
   "source": [
    "### Assignment 2: Aliasing Modules\n",
    "\n",
    "Import the `datetime` module with an alias and use it to print the current date and time."
   ]
  },
  {
   "cell_type": "code",
   "execution_count": 2,
   "id": "33405ee1",
   "metadata": {},
   "outputs": [
    {
     "name": "stdout",
     "output_type": "stream",
     "text": [
      "The current date and time is : 2024-12-21 18:19:12.762059\n"
     ]
    }
   ],
   "source": [
    "import datetime as dt\n",
    "\n",
    "\n",
    "'''dt is the alias name for the package ,datatetime is the class  and now is the method of the class'''\n",
    "print(\"The current date and time is :\",dt.datetime.now())"
   ]
  },
  {
   "cell_type": "markdown",
   "id": "3fcbba58",
   "metadata": {},
   "source": [
    "### Assignment 3: Importing Specific Functions\n",
    "\n",
    "Import the `randint` function from the `random` module and use it to generate a random integer between 1 and 100."
   ]
  },
  {
   "cell_type": "code",
   "execution_count": 4,
   "id": "85530035",
   "metadata": {},
   "outputs": [
    {
     "name": "stdout",
     "output_type": "stream",
     "text": [
      "The random number between 0 and 100 is : 95\n"
     ]
    }
   ],
   "source": [
    "from random import randint\n",
    "\n",
    "'''Both 0 and 100 are inclusive'''\n",
    "print(\"The random number between 0 and 100 is :\",randint(0,100))"
   ]
  },
  {
   "cell_type": "markdown",
   "id": "923182db",
   "metadata": {},
   "source": [
    "### Assignment 4: Importing Multiple Functions\n",
    "\n",
    "Import the `sqrt` and `pow` functions from the `math` module and use them to calculate the square root of 16 and 2 raised to the power of 3."
   ]
  },
  {
   "cell_type": "code",
   "execution_count": 5,
   "id": "2be7b72c",
   "metadata": {},
   "outputs": [
    {
     "name": "stdout",
     "output_type": "stream",
     "text": [
      "The square root of 16 is : 4.0\n",
      "The power of 2 raised to 3 is : 8.0\n"
     ]
    }
   ],
   "source": [
    "from math import sqrt,pow\n",
    "\n",
    "print(\"The square root of 16 is :\",sqrt(16))\n",
    "print(\"The power of 2 raised to 3 is :\",pow(2,3))"
   ]
  },
  {
   "cell_type": "markdown",
   "id": "16afb7c5",
   "metadata": {},
   "source": [
    "### Assignment 5: Handling Import Errors\n",
    "\n",
    "Write code that attempts to import a non-existent module and gracefully handles the import error by printing an error message."
   ]
  },
  {
   "cell_type": "code",
   "execution_count": 6,
   "id": "c358995c",
   "metadata": {},
   "outputs": [
    {
     "name": "stdout",
     "output_type": "stream",
     "text": [
      "The error is : No module named 'non_existent_module'\n"
     ]
    }
   ],
   "source": [
    "try:\n",
    "    import non_existent_module\n",
    "except Exception as e # or exept ImportError as e\n",
    "    print(\"The error is :\",e)"
   ]
  },
  {
   "cell_type": "markdown",
   "id": "3edf71cb",
   "metadata": {},
   "source": [
    "## Lesson 5.2: Standard Library Overview\n",
    "### Assignment 6: Working with the `os` Module\n",
    "\n",
    "Use the `os` module to create a new directory, list the contents of the current directory, and remove the newly created directory."
   ]
  },
  {
   "cell_type": "code",
   "execution_count": 10,
   "id": "a21a7d69",
   "metadata": {},
   "outputs": [
    {
     "name": "stdout",
     "output_type": "stream",
     "text": [
      "The current working directory is : /Users/sainava/Desktop/Python(AI-ML)/Assignments/packagessolution/new_dir/new_dir/new_dir/new_dir\n"
     ]
    }
   ],
   "source": [
    "'''' os module is used to interact with the operating system'''\n",
    "\n",
    "''' It is like the terminal commands'''\n",
    "\n",
    "'''It can be used to create directories,files,delete files,check if a file exists,check the size of the file,check the last modified time of the file'''\n",
    "\n",
    "import os\n",
    "\n",
    "\n",
    "os.mkdir(\"new_dir\")\n",
    "os.chdir(\"new_dir\")\n",
    "print(\"The current working directory is :\",os.getcwd())\n",
    "os.listdir()\n",
    "with open(\"test.txt\",\"w\") as f:\n",
    "    f.write(\"Hello World\")\n",
    "os.rename(\"test.txt\",\"new_test.txt\")\n",
    "os.remove(\"new_test.txt\")\n",
    "\n",
    "\n"
   ]
  },
  {
   "cell_type": "code",
   "execution_count": 13,
   "id": "964ebcc3",
   "metadata": {},
   "outputs": [],
   "source": [
    "os.chdir(\"..\")\n",
    "os.rmdir(\"new_dir\")"
   ]
  },
  {
   "cell_type": "code",
   "execution_count": 14,
   "id": "00687504",
   "metadata": {},
   "outputs": [
    {
     "data": {
      "text/plain": [
       "'/Users/sainava/Desktop/Python(AI-ML)/Assignments/packagessolution/new_dir/new_dir/new_dir'"
      ]
     },
     "execution_count": 14,
     "metadata": {},
     "output_type": "execute_result"
    }
   ],
   "source": [
    "os.getcwd()"
   ]
  },
  {
   "cell_type": "code",
   "execution_count": 15,
   "id": "98210268",
   "metadata": {},
   "outputs": [],
   "source": [
    "os.remove(\"new_test.txt\")"
   ]
  },
  {
   "cell_type": "code",
   "execution_count": 16,
   "id": "89322c19",
   "metadata": {},
   "outputs": [],
   "source": [
    "os.chdir(\"..\")"
   ]
  },
  {
   "cell_type": "code",
   "execution_count": 17,
   "id": "b9331d0e",
   "metadata": {},
   "outputs": [],
   "source": [
    "os.rmdir(\"new_dir\")"
   ]
  },
  {
   "cell_type": "code",
   "execution_count": 18,
   "id": "4100a644",
   "metadata": {},
   "outputs": [
    {
     "data": {
      "text/plain": [
       "'test_copy.txt'"
      ]
     },
     "execution_count": 18,
     "metadata": {},
     "output_type": "execute_result"
    }
   ],
   "source": [
    "import shutil\n",
    "shutil.copyfile(\"test.txt\",\"test_copy.txt\")"
   ]
  },
  {
   "cell_type": "code",
   "execution_count": 19,
   "id": "d47a67e2",
   "metadata": {},
   "outputs": [
    {
     "data": {
      "text/plain": [
       "'/Users/sainava/Desktop/Python(AI-ML)/Assignments/packagessolution/new_dir/new_dir'"
      ]
     },
     "execution_count": 19,
     "metadata": {},
     "output_type": "execute_result"
    }
   ],
   "source": [
    "os.getcwd()"
   ]
  },
  {
   "cell_type": "code",
   "execution_count": 20,
   "id": "457ec193",
   "metadata": {},
   "outputs": [],
   "source": [
    "os.chdir(\"..\")"
   ]
  },
  {
   "cell_type": "code",
   "execution_count": 23,
   "id": "90efc35e",
   "metadata": {},
   "outputs": [
    {
     "data": {
      "text/plain": [
       "'/Users/sainava/Desktop/Python(AI-ML)/Assignments/packagessolution/new_dir'"
      ]
     },
     "execution_count": 23,
     "metadata": {},
     "output_type": "execute_result"
    }
   ],
   "source": [
    "os.getcwd()"
   ]
  },
  {
   "cell_type": "code",
   "execution_count": 22,
   "id": "21423e60",
   "metadata": {},
   "outputs": [
    {
     "ename": "OSError",
     "evalue": "[Errno 66] Directory not empty: 'new_dir'",
     "output_type": "error",
     "traceback": [
      "\u001b[0;31m---------------------------------------------------------------------------\u001b[0m",
      "\u001b[0;31mOSError\u001b[0m                                   Traceback (most recent call last)",
      "Cell \u001b[0;32mIn[22], line 1\u001b[0m\n\u001b[0;32m----> 1\u001b[0m \u001b[43mos\u001b[49m\u001b[38;5;241;43m.\u001b[39;49m\u001b[43mrmdir\u001b[49m\u001b[43m(\u001b[49m\u001b[38;5;124;43m\"\u001b[39;49m\u001b[38;5;124;43mnew_dir\u001b[39;49m\u001b[38;5;124;43m\"\u001b[39;49m\u001b[43m)\u001b[49m\n",
      "\u001b[0;31mOSError\u001b[0m: [Errno 66] Directory not empty: 'new_dir'"
     ]
    }
   ],
   "source": [
    "os.rmdir(\"new_dir\")\n",
    "'''Error as os.rmdir cannot remove a non empty directory'''"
   ]
  },
  {
   "cell_type": "code",
   "execution_count": 24,
   "id": "dbd7f6f7",
   "metadata": {},
   "outputs": [],
   "source": [
    "'''To remove non empty directory use shutil.rmtree'''\n",
    "\n",
    "'''\n",
    "Yes, shutil is used for high-level operations on files and directories, such as copying, moving, deleting, and archiving.\n",
    "'''\n",
    "\n",
    "shutil.rmtree(\"new_dir\")"
   ]
  },
  {
   "cell_type": "code",
   "execution_count": 26,
   "id": "a6991f76",
   "metadata": {},
   "outputs": [
    {
     "data": {
      "text/plain": [
       "[]"
      ]
     },
     "execution_count": 26,
     "metadata": {},
     "output_type": "execute_result"
    }
   ],
   "source": [
    "os.listdir()"
   ]
  },
  {
   "cell_type": "code",
   "execution_count": 28,
   "id": "cdd44381",
   "metadata": {},
   "outputs": [],
   "source": [
    "os.chdir(\"..\")"
   ]
  },
  {
   "cell_type": "code",
   "execution_count": 29,
   "id": "f4155472",
   "metadata": {},
   "outputs": [
    {
     "data": {
      "text/plain": [
       "'/Users/sainava/Desktop/Python(AI-ML)/Assignments/packagessolution'"
      ]
     },
     "execution_count": 29,
     "metadata": {},
     "output_type": "execute_result"
    }
   ],
   "source": [
    "os.getcwd()\n"
   ]
  },
  {
   "cell_type": "code",
   "execution_count": 30,
   "id": "32c7ba9a",
   "metadata": {},
   "outputs": [
    {
     "data": {
      "text/plain": [
       "['packagesquestion.ipynb', 'packagessolution.ipynb', 'new_dir']"
      ]
     },
     "execution_count": 30,
     "metadata": {},
     "output_type": "execute_result"
    }
   ],
   "source": [
    "os.listdir()"
   ]
  },
  {
   "cell_type": "code",
   "execution_count": 31,
   "id": "21519968",
   "metadata": {},
   "outputs": [],
   "source": [
    "os.rmdir(\"new_dir\")"
   ]
  },
  {
   "cell_type": "markdown",
   "id": "e3cd90d0",
   "metadata": {},
   "source": [
    "### Assignment 7: Working with the `sys` Module\n",
    "\n",
    "Use the `sys` module to print the Python version currently in use and the command-line arguments passed to the script."
   ]
  },
  {
   "cell_type": "code",
   "execution_count": 32,
   "id": "2dcc4de3",
   "metadata": {},
   "outputs": [
    {
     "name": "stdout",
     "output_type": "stream",
     "text": [
      "The cuurent version of python is :3.12.0 | packaged by Anaconda, Inc. | (main, Oct  2 2023, 12:22:05) [Clang 14.0.6 ]\n",
      "The command line arguments are :['/Users/sainava/Desktop/Python(AI-ML)/venv/lib/python3.12/site-packages/ipykernel_launcher.py', '--f=/Users/sainava/Library/Jupyter/runtime/kernel-v32d39d8eec93cb6034e79b21c0f56b6729c90101c.json']\n"
     ]
    }
   ],
   "source": [
    "import sys\n",
    "\n",
    "print(f\"The cuurent version of python is :{sys.version}\")\n",
    "print(f\"The command line arguments are :{sys.argv}\")\n",
    "\n",
    "'''\n",
    "In this context, command line arguments are the values passed to the Python script when you run it from the command line or terminal\n",
    "'''"
   ]
  },
  {
   "cell_type": "markdown",
   "id": "f1762c09",
   "metadata": {},
   "source": [
    "In a Jupyter notebook (`.ipynb`), **command line arguments** (`sys.argv`) don't work the same way as when running a Python script from a terminal. \n",
    "\n",
    "In a terminal, `sys.argv` is used to pass extra information when running the script, like:\n",
    "```bash\n",
    "python script.py argument1 argument2\n",
    "```\n",
    "\n",
    "But in a notebook, `sys.argv` is usually just:\n",
    "```python\n",
    "['ipykernel_launcher.py', '-f', 'some_path_to_kernel.json']\n",
    "```\n",
    "\n",
    "This happens because Jupyter uses `ipykernel_launcher.py` to start the notebook, and the extra `-f` argument points to the kernel configuration file.\n",
    "\n",
    "In short:\n",
    "- In Jupyter, you don’t pass command-line arguments manually like in a script.\n",
    "- `sys.argv` will just contain internal details about the Jupyter kernel."
   ]
  },
  {
   "cell_type": "markdown",
   "id": "65461856",
   "metadata": {},
   "source": [
    "### Assignment 8: Working with the `math` Module\n",
    "\n",
    "Use the `math` module to calculate the greatest common divisor (GCD) of two numbers and the factorial of a number."
   ]
  },
  {
   "cell_type": "code",
   "execution_count": 33,
   "id": "ecc3dcc8",
   "metadata": {},
   "outputs": [
    {
     "name": "stdout",
     "output_type": "stream",
     "text": [
      "The greatest common divisor of 10 and 20 is : 10\n",
      "The factorial of 5 is : 120\n",
      "\n",
      "The value of pi is : 3.141592653589793\n",
      "The value of e is : 2.718281828459045\n",
      "The value of tau is : 6.283185307179586\n"
     ]
    }
   ],
   "source": [
    "print(\"The greatest common divisor of 10 and 20 is :\",math.gcd(10,20))# gcd is the same as hcf\n",
    "print(\"The factorial of 5 is :\",math.factorial(5))\n",
    "print()\n",
    "print(\"The value of pi is :\",math.pi)\n",
    "print(\"The value of e is :\",math.e)\n",
    "print(\"The value of tau is :\",math.tau)\n"
   ]
  },
  {
   "cell_type": "markdown",
   "id": "2c9e0957",
   "metadata": {},
   "source": [
    "### Assignment 9: Working with the `datetime` Module\n",
    "\n",
    "Use the `datetime` module to print the current date, calculate the date 100 days from today, and determine the day of the week for a given date."
   ]
  },
  {
   "cell_type": "code",
   "execution_count": 41,
   "id": "dc0d0e8c",
   "metadata": {},
   "outputs": [
    {
     "name": "stdout",
     "output_type": "stream",
     "text": [
      "The current date and time is : 2024-12-21 18:54:01.895180\n",
      "The date 100 days from now is : 2025-03-31 18:54:01.895264\n",
      "The date 100 days from now is : 2025-03-31\n",
      "The day for the date 100 days from now is : 31\n",
      "The day for the date 100 days from now is : Monday\n"
     ]
    }
   ],
   "source": [
    "from datetime import datetime as dt,timedelta\n",
    "\n",
    "print(\"The current date and time is :\",dt.now())\n",
    "print(\"The date 100 days from now is :\",dt.now()+timedelta(days=100))\n",
    "\n",
    "print(\"The date 100 days from now is :\",(dt.now()+timedelta(days=100)).date())\n",
    "\n",
    "print(\"The day for the date 100 days from now is :\",(dt.now()+timedelta(days=100)).date().day)#Give the day of the date as in the number of the month\n",
    "'''day is a property of date and not method(or function) so no perenthesis'''\n",
    "\n",
    "print(\"The day for the date 100 days from now is :\",(dt.now()+timedelta(days=100)).strftime(\"%A\"))\n",
    "\n",
    "'''.strftime(\"%A\"): Formats the date to return the full name of the day (e.g., \"Monday\", \"Tuesday\").'''"
   ]
  },
  {
   "cell_type": "markdown",
   "id": "f221d5a7",
   "metadata": {},
   "source": [
    "### Assignment 10: Working with the `random` Module\n",
    "\n",
    "Use the `random` module to generate a list of 5 random numbers between 1 and 50 and shuffle the elements of a list."
   ]
  },
  {
   "cell_type": "code",
   "execution_count": 44,
   "id": "1f6305e0",
   "metadata": {},
   "outputs": [
    {
     "name": "stdout",
     "output_type": "stream",
     "text": [
      "[50, 15, 49, 42, 43]\n",
      "[50, 42, 43, 49, 15]\n"
     ]
    }
   ],
   "source": [
    "import random\n",
    "lst=[random.randint(1,50) for _ in range(5)]\n",
    "print(lst)\n",
    "\n",
    "random.shuffle(lst)#Shuffles the elements of the original list.Thus returns nothing and makes changes in the original list\n",
    "\n",
    "print(lst)"
   ]
  },
  {
   "cell_type": "markdown",
   "id": "bf4d2bbd",
   "metadata": {},
   "source": [
    "## Lesson 5.3: Creating and Using Packages\n",
    "### Assignment 11: Creating a Simple Package\n",
    "\n",
    "Create a package named `mypackage` with two modules: `module1` and `module2`. `module1` should contain a function that adds two numbers, and `module2` should contain a function that multiplies two numbers. Write code to use these functions."
   ]
  },
  {
   "cell_type": "code",
   "execution_count": 45,
   "id": "947937b4",
   "metadata": {},
   "outputs": [
    {
     "data": {
      "text/plain": [
       "'/Users/sainava/Desktop/Python(AI-ML)/Assignments/packagessolution'"
      ]
     },
     "execution_count": 45,
     "metadata": {},
     "output_type": "execute_result"
    }
   ],
   "source": [
    "os.getcwd()"
   ]
  },
  {
   "cell_type": "code",
   "execution_count": 46,
   "id": "88317557",
   "metadata": {},
   "outputs": [],
   "source": [
    "os.mkdir(\"mypackage\")"
   ]
  },
  {
   "cell_type": "code",
   "execution_count": 48,
   "id": "8b713852",
   "metadata": {},
   "outputs": [],
   "source": [
    "with open(\"mypackage/__init__.py\",\"w\") as f:\n",
    "    pass"
   ]
  },
  {
   "cell_type": "code",
   "execution_count": 49,
   "id": "1ec8014e",
   "metadata": {},
   "outputs": [],
   "source": [
    "with open(\"mypackage/module1.py\",\"w\") as f:\n",
    "    f.write(\"def add(a,b):\\n\\treturn a+b\")\n",
    "\n",
    "with open(\"mypackage/module2.py\",\"w\") as f:\n",
    "    f.write(\"def multiply(a,b):\\n\\treturn a*b\")"
   ]
  },
  {
   "cell_type": "code",
   "execution_count": 58,
   "id": "128809b8",
   "metadata": {},
   "outputs": [
    {
     "name": "stdout",
     "output_type": "stream",
     "text": [
      "The sum of 10 and 20 is : 30\n"
     ]
    }
   ],
   "source": [
    "import mypackage\n",
    "\n",
    "print(\"The sum of 10 and 20 is :\",mypackage.module1.add(10,20))"
   ]
  },
  {
   "cell_type": "code",
   "execution_count": 59,
   "id": "693798aa",
   "metadata": {},
   "outputs": [
    {
     "name": "stdout",
     "output_type": "stream",
     "text": [
      "The product of 10 and 20 is : 200\n"
     ]
    }
   ],
   "source": [
    "import mypackage\n",
    "print(\"The product of 10 and 20 is :\",mypackage.module2.multiply(10,20))"
   ]
  },
  {
   "cell_type": "markdown",
   "id": "8e279766",
   "metadata": {},
   "source": [
    "### Assignment 12: Using `__init__.py`\n",
    "\n",
    "Modify the `mypackage` package to include an `__init__.py` file that imports the functions from `module1` and `module2`. Write code to use these functions."
   ]
  },
  {
   "cell_type": "code",
   "execution_count": 66,
   "id": "7048d453",
   "metadata": {},
   "outputs": [
    {
     "ename": "ImportError",
     "evalue": "cannot import name 'add' from 'mypackage' (/Users/sainava/Desktop/Python(AI-ML)/Assignments/packagessolution/mypackage/__init__.py)",
     "output_type": "error",
     "traceback": [
      "\u001b[0;31m---------------------------------------------------------------------------\u001b[0m",
      "\u001b[0;31mImportError\u001b[0m                               Traceback (most recent call last)",
      "Cell \u001b[0;32mIn[66], line 1\u001b[0m\n\u001b[0;32m----> 1\u001b[0m \u001b[38;5;28;01mfrom\u001b[39;00m \u001b[38;5;21;01mmypackage\u001b[39;00m \u001b[38;5;28;01mimport\u001b[39;00m add, multiply\n\u001b[1;32m      3\u001b[0m \u001b[38;5;28mprint\u001b[39m(add(\u001b[38;5;241m2\u001b[39m, \u001b[38;5;241m3\u001b[39m))  \u001b[38;5;66;03m# 5\u001b[39;00m\n\u001b[1;32m      4\u001b[0m \u001b[38;5;28mprint\u001b[39m(multiply(\u001b[38;5;241m2\u001b[39m, \u001b[38;5;241m3\u001b[39m))  \u001b[38;5;66;03m# 6\u001b[39;00m\n",
      "\u001b[0;31mImportError\u001b[0m: cannot import name 'add' from 'mypackage' (/Users/sainava/Desktop/Python(AI-ML)/Assignments/packagessolution/mypackage/__init__.py)"
     ]
    }
   ],
   "source": [
    "from mypackage import add, multiply\n",
    "\n",
    "print(add(2, 3))  # 5\n",
    "print(multiply(2, 3))  # 6"
   ]
  },
  {
   "cell_type": "markdown",
   "id": "c392df77",
   "metadata": {},
   "source": [
    "2. Module Caching (In Jupyter Notebooks)\n",
    "In Jupyter notebooks, modules are cached, so if mypackage was modified after being imported, it might not reflect the latest changes.\n",
    "\n",
    "Solution:\n",
    "Use importlib.reload() to reload the module:\n",
    "\n",
    "python\n",
    "Copy code\n",
    "import importlib\n",
    "import mypackage\n",
    "importlib.reload(mypackage)"
   ]
  },
  {
   "cell_type": "code",
   "execution_count": 67,
   "id": "db4d4935",
   "metadata": {},
   "outputs": [
    {
     "data": {
      "text/plain": [
       "<module 'mypackage' from '/Users/sainava/Desktop/Python(AI-ML)/Assignments/packagessolution/mypackage/__init__.py'>"
      ]
     },
     "execution_count": 67,
     "metadata": {},
     "output_type": "execute_result"
    }
   ],
   "source": [
    "import importlib\n",
    "import mypackage\n",
    "\n",
    "importlib.reload(mypackage)"
   ]
  },
  {
   "cell_type": "code",
   "execution_count": 68,
   "id": "64e44975",
   "metadata": {},
   "outputs": [
    {
     "name": "stdout",
     "output_type": "stream",
     "text": [
      "5\n",
      "6\n"
     ]
    }
   ],
   "source": [
    "from mypackage import add, multiply\n",
    "\n",
    "print(add(2, 3))  # 5\n",
    "print(multiply(2, 3))  # 6"
   ]
  },
  {
   "cell_type": "markdown",
   "id": "e0ca5767",
   "metadata": {},
   "source": [
    "### Assignment 13: Importing from a Package\n",
    "\n",
    "Write code to import and use the functions from `mypackage` without explicitly importing `module1` and `module2`."
   ]
  },
  {
   "cell_type": "code",
   "execution_count": 69,
   "id": "4cdfeae9",
   "metadata": {},
   "outputs": [
    {
     "name": "stdout",
     "output_type": "stream",
     "text": [
      "5\n",
      "6\n"
     ]
    }
   ],
   "source": [
    "from mypackage import add, multiply\n",
    "\n",
    "print(add(2, 3))  # 5\n",
    "print(multiply(2, 3))  # 6"
   ]
  },
  {
   "cell_type": "markdown",
   "id": "0e6dbddb",
   "metadata": {},
   "source": [
    "### Assignment 14: Relative Imports\n",
    "\n",
    "Create a subpackage named `subpackage` within `mypackage` and move `module2` into `subpackage`. Modify the import statements in `__init__.py` to use relative imports. Write code to use the functions from both modules."
   ]
  },
  {
   "cell_type": "code",
   "execution_count": 70,
   "id": "10a57fb4",
   "metadata": {},
   "outputs": [],
   "source": [
    "os.mkdir(\"mypackage/subpackage\")"
   ]
  },
  {
   "cell_type": "code",
   "execution_count": 71,
   "id": "463c5493",
   "metadata": {},
   "outputs": [
    {
     "data": {
      "text/plain": [
       "'mypackage/subpackage/module2.py'"
      ]
     },
     "execution_count": 71,
     "metadata": {},
     "output_type": "execute_result"
    }
   ],
   "source": [
    "shutil.move(\"mypackage/module2.py\",\"mypackage/subpackage/module2.py\")#source,destination"
   ]
  },
  {
   "cell_type": "code",
   "execution_count": 72,
   "id": "00c2b8fe",
   "metadata": {},
   "outputs": [],
   "source": [
    "with open(\"mypackage/subpackage/__init__.py\",\"w\") as f:\n",
    "    f.write(\"from .module2 import multiply\")"
   ]
  },
  {
   "cell_type": "code",
   "execution_count": 73,
   "id": "8f38e0fe",
   "metadata": {},
   "outputs": [
    {
     "data": {
      "text/plain": [
       "<module 'mypackage' from '/Users/sainava/Desktop/Python(AI-ML)/Assignments/packagessolution/mypackage/__init__.py'>"
      ]
     },
     "execution_count": 73,
     "metadata": {},
     "output_type": "execute_result"
    }
   ],
   "source": [
    "import importlib\n",
    "import mypackage\n",
    "\n",
    "importlib.reload(mypackage)"
   ]
  },
  {
   "cell_type": "code",
   "execution_count": 74,
   "id": "1a0a43e6",
   "metadata": {},
   "outputs": [
    {
     "name": "stdout",
     "output_type": "stream",
     "text": [
      "5\n",
      "6\n"
     ]
    }
   ],
   "source": [
    "from mypackage import add, multiply\n",
    "\n",
    "print(add(2, 3))  # 5\n",
    "print(multiply(2, 3))  # 6"
   ]
  },
  {
   "cell_type": "markdown",
   "id": "3fea9a0b",
   "metadata": {},
   "source": [
    "### Assignment 15: Handling Package Import Errors\n",
    "\n",
    "Write code that attempts to import a non-existent function from `mypackage` and gracefully handles the import error by printing an error message."
   ]
  },
  {
   "cell_type": "code",
   "execution_count": 75,
   "id": "e7bf7a9d",
   "metadata": {},
   "outputs": [
    {
     "name": "stdout",
     "output_type": "stream",
     "text": [
      "The error is : cannot import name 'subtract' from 'mypackage' (/Users/sainava/Desktop/Python(AI-ML)/Assignments/packagessolution/mypackage/__init__.py)\n"
     ]
    }
   ],
   "source": [
    "try:\n",
    "    from mypackage import subtract\n",
    "except ImportError as e:\n",
    "    print(\"The error is :\",e)"
   ]
  },
  {
   "cell_type": "code",
   "execution_count": null,
   "id": "d3daaf5d",
   "metadata": {},
   "outputs": [],
   "source": []
  }
 ],
 "metadata": {
  "kernelspec": {
   "display_name": "venv",
   "language": "python",
   "name": "python3"
  },
  "language_info": {
   "codemirror_mode": {
    "name": "ipython",
    "version": 3
   },
   "file_extension": ".py",
   "mimetype": "text/x-python",
   "name": "python",
   "nbconvert_exporter": "python",
   "pygments_lexer": "ipython3",
   "version": "3.12.0"
  }
 },
 "nbformat": 4,
 "nbformat_minor": 5
}
