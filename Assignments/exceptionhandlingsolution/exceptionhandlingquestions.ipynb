{
 "cells": [
  {
   "cell_type": "markdown",
   "metadata": {},
   "source": [
    "# Module: Exception Handling Assignments\n",
    "## Lesson: Exception Handling with try, except, and finally\n",
    "### Assignment 1: Handling Division by Zero\n",
    "\n",
    "Write a function that takes two integers as input and returns their division. Use try, except, and finally blocks to handle division by zero and print an appropriate message.\n",
    "\n",
    "### Assignment 2: File Reading with Exception Handling\n",
    "\n",
    "Write a function that reads the contents of a file named `data.txt`. Use try, except, and finally blocks to handle file not found errors and ensure the file is properly closed.\n",
    "\n",
    "### Assignment 3: Handling Multiple Exceptions\n",
    "\n",
    "Write a function that takes a list of integers and returns their sum. Use try, except, and finally blocks to handle TypeError if a non-integer value is encountered and print an appropriate message.\n",
    "\n",
    "### Assignment 4: Exception Handling in User Input\n",
    "\n",
    "Write a function that prompts the user to enter an integer. Use try, except, and finally blocks to handle ValueError if the user enters a non-integer value and print an appropriate message.\n",
    "\n",
    "### Assignment 5: Exception Handling in Dictionary Access\n",
    "\n",
    "Write a function that takes a dictionary and a key as input and returns the value associated with the key. Use try, except, and finally blocks to handle KeyError if the key is not found in the dictionary and print an appropriate message.\n",
    "\n",
    "### Assignment 6: Nested Exception Handling\n",
    "\n",
    "Write a function that performs nested exception handling. It should first attempt to convert a string to an integer, and then attempt to divide by that integer. Use nested try, except, and finally blocks to handle ValueError and ZeroDivisionError and print appropriate messages.\n",
    "\n",
    "### Assignment 7: Exception Handling in List Operations\n",
    "\n",
    "Write a function that takes a list and an index as input and returns the element at the given index. Use try, except, and finally blocks to handle IndexError if the index is out of range and print an appropriate message.\n",
    "\n",
    "### Assignment 8: Exception Handling in Network Operations\n",
    "\n",
    "Write a function that attempts to open a URL and read its contents. Use try, except, and finally blocks to handle network-related errors and print an appropriate message.\n",
    "\n",
    "### Assignment 9: Exception Handling in JSON Parsing\n",
    "\n",
    "Write a function that attempts to parse a JSON string. Use try, except, and finally blocks to handle JSONDecodeError if the string is not a valid JSON and print an appropriate message.\n",
    "\n",
    "### Assignment 10: Custom Exception Handling\n",
    "\n",
    "Define a custom exception named `NegativeNumberError`. Write a function that raises this exception if a negative number is encountered in a list. Use try, except, and finally blocks to handle the custom exception and print an appropriate message.\n",
    "\n",
    "### Assignment 11: Exception Handling in Function Calls\n",
    "\n",
    "Write a function that calls another function which may raise an exception. Use try, except, and finally blocks to handle the exception and print an appropriate message.\n",
    "\n",
    "### Assignment 12: Exception Handling in Class Methods\n",
    "\n",
    "Define a class with a method that performs a division operation. Use try, except, and finally blocks within the method to handle division by zero and print an appropriate message.\n",
    "\n",
    "### Assignment 13: Exception Handling in Data Conversion\n",
    "\n",
    "Write a function that takes a list of strings and converts them to integers. Use try, except, and finally blocks to handle ValueError if a string cannot be converted and print an appropriate message.\n",
    "\n",
    "### Assignment 14: Exception Handling in List Comprehensions\n",
    "\n",
    "Write a function that uses a list comprehension to convert a list of strings to integers. Use try, except, and finally blocks within the list comprehension to handle ValueError and print an appropriate message.\n",
    "\n",
    "### Assignment 15: Exception Handling in File Writing\n",
    "\n",
    "Write a function that attempts to write a list of strings to a file. Use try, except, and finally blocks to handle IOError and ensure the file is properly closed."
   ]
  },
  {
   "cell_type": "markdown",
   "id": "9ebf29e7",
   "metadata": {},
   "source": [
    "# Module: Exception Handling Assignments\n",
    "## Lesson: Exception Handling with try, except, and finally\n",
    "### Assignment 1: Handling Division by Zero\n",
    "\n",
    "Write a function that takes two integers as input and returns their division. Use try, except, and finally blocks to handle division by zero and print an appropriate message."
   ]
  },
  {
   "cell_type": "code",
   "execution_count": 1,
   "metadata": {},
   "outputs": [
    {
     "name": "stdout",
     "output_type": "stream",
     "text": [
      "Error:  division by zero\n",
      "This will always execute\n"
     ]
    }
   ],
   "source": [
    "try:\n",
    "    a=int(input(\"Enter a number: \"))\n",
    "    b=int(input(\"Enter another number: \"))\n",
    "    print(a/b)\n",
    "except ZeroDivisionError as e:\n",
    "    print(\"Error: \",e)\n",
    "except ValueError as e:\n",
    "    print(\"Error: \",e)\n",
    "except Exception as e:\n",
    "    print(\"Error: \",e)\n",
    "else:\n",
    "    print(\"No errors\")# Else block will execute if there is no exception\n",
    "finally:\n",
    "    print(\"This will always execute\")"
   ]
  },
  {
   "cell_type": "markdown",
   "id": "820cd50b",
   "metadata": {},
   "source": [
    "### Assignment 2: File Reading with Exception Handling\n",
    "\n",
    "Write a function that reads the contents of a file named `data.txt`. Use try, except, and finally blocks to handle file not found errors and ensure the file is properly closed."
   ]
  },
  {
   "cell_type": "code",
   "execution_count": 5,
   "id": "dc07ebe4",
   "metadata": {},
   "outputs": [
    {
     "name": "stdout",
     "output_type": "stream",
     "text": [
      "Error:  [Errno 2] No such file or directory: 'test.txt'\n"
     ]
    }
   ],
   "source": [
    "def file_handle(file_path):\n",
    "    try:\n",
    "        f=open(file_path)\n",
    "        content=f.read()\n",
    "        print(content)\n",
    "    except FileNotFoundError as e:\n",
    "        print(\"Error: \",e)\n",
    "    except Exception as e:\n",
    "        print(\"Error: \",e)\n",
    "    finally:\n",
    "        if 'f' in locals() and f.closed==False:#if file opened and was not closed\n",
    "            f.close()\n",
    "\n",
    "file_handle(\"test.txt\")"
   ]
  },
  {
   "cell_type": "markdown",
   "id": "750d3231",
   "metadata": {},
   "source": [
    "### Assignment 3: Handling Multiple Exceptions\n",
    "\n",
    "Write a function that takes a list of integers and returns their sum. Use try, except, and finally blocks to handle TypeError if a non-integer value is encountered and print an appropriate message."
   ]
  },
  {
   "cell_type": "code",
   "execution_count": 7,
   "id": "e4d4392b",
   "metadata": {},
   "outputs": [
    {
     "name": "stdout",
     "output_type": "stream",
     "text": [
      "15\n",
      "Error:  unsupported operand type(s) for +=: 'int' and 'str'\n",
      "None\n"
     ]
    }
   ],
   "source": [
    "'''Adding integr with string will raise TypeError'''\n",
    "\n",
    "\n",
    "def sum(lst):\n",
    "    try:\n",
    "        sum=0\n",
    "        for i in lst:\n",
    "            sum+=i\n",
    "        return sum\n",
    "    except TypeError as e:\n",
    "        print(\"Error: \",e)\n",
    "    except Exception as e:\n",
    "        print(\"Error: \",e)\n",
    "\n",
    "print(sum([1,2,3,4,5]))\n",
    "print(sum([1,2,3,4,\"5\"]))"
   ]
  },
  {
   "cell_type": "markdown",
   "id": "ca07214d",
   "metadata": {},
   "source": [
    "### Assignment 4: Exception Handling in User Input\n",
    "\n",
    "Write a function that prompts the user to enter an integer. Use try, except, and finally blocks to handle ValueError if the user enters a non-integer value and print an appropriate message."
   ]
  },
  {
   "cell_type": "code",
   "execution_count": 9,
   "id": "79cadefb",
   "metadata": {},
   "outputs": [
    {
     "name": "stdout",
     "output_type": "stream",
     "text": [
      "Error:  invalid literal for int() with base 10: 'str'\n"
     ]
    }
   ],
   "source": [
    "def err():\n",
    "    try:\n",
    "        n=int(input(\"Enter a integer: \"))\n",
    "        print(\"THe number is: \",n)\n",
    "    except ValueError as e:\n",
    "        print(\"Error: \",e)\n",
    "\n",
    "err()\n"
   ]
  },
  {
   "cell_type": "markdown",
   "id": "4ee9ebfb",
   "metadata": {},
   "source": [
    "### Assignment 5: Exception Handling in Dictionary Access\n",
    "\n",
    "Write a function that takes a dictionary and a key as input and returns the value associated with the key. Use try, except, and finally blocks to handle KeyError if the key is not found in the dictionary and print an appropriate message."
   ]
  },
  {
   "cell_type": "code",
   "execution_count": 13,
   "id": "a78b195e",
   "metadata": {},
   "outputs": [
    {
     "name": "stdout",
     "output_type": "stream",
     "text": [
      "one\n",
      "3\n",
      "None\n"
     ]
    }
   ],
   "source": [
    "def return_value(dct,key):\n",
    "    try:\n",
    "        return dct[key]\n",
    "    except KeyError as e:\n",
    "        print(e)\n",
    "\n",
    "print(return_value({1:\"one\",2:\"two\"},1))\n",
    "print(return_value({1:\"one\",2:\"two\"},3))\n",
    "\n",
    "'''Output Explained \n",
    "one as no exception \n",
    "KeyError: 3 as 3 is not present in the dictionary\n",
    "None as the function is not returning anything as when you print a function with no return value it will return None\n",
    "\n",
    "\n",
    "'''"
   ]
  },
  {
   "cell_type": "markdown",
   "id": "4e005a91",
   "metadata": {},
   "source": [
    "### Assignment 6: Nested Exception Handling\n",
    "\n",
    "Write a function that performs nested exception handling. It should first attempt to convert a string to an integer, and then attempt to divide by that integer. Use nested try, except, and finally blocks to handle ValueError and ZeroDivisionError and print appropriate messages."
   ]
  },
  {
   "cell_type": "code",
   "execution_count": 19,
   "id": "bfbab3e9",
   "metadata": {},
   "outputs": [
    {
     "name": "stdout",
     "output_type": "stream",
     "text": [
      "Error:  division by zero\n",
      "None\n",
      "Error:  invalid literal for int() with base 10: 'five'\n",
      "None\n"
     ]
    }
   ],
   "source": [
    "'''ValueError  is raised when the built-in function for a data type has the valid type of arguments, but the arguments have invalid values specified'''\n",
    "\n",
    "def nested_er(st):\n",
    "    try:\n",
    "        n=int(st)\n",
    "        try:\n",
    "            div=int(input(\"Enter a number: \"))\n",
    "            return n/div\n",
    "        except ZeroDivisionError as e:\n",
    "            print(\"Error: \",e)\n",
    "    except ValueError as e:\n",
    "        print(\"Error: \",e)\n",
    "    except Exception as e:\n",
    "        print(\"Error: \",e)\n",
    "    \n",
    "\n",
    "print(nested_er(\"5\"))\n",
    "print(nested_er(\"five\"))\n",
    "\n",
    "    "
   ]
  },
  {
   "cell_type": "code",
   "execution_count": 21,
   "id": "c703dceb",
   "metadata": {},
   "outputs": [
    {
     "name": "stdout",
     "output_type": "stream",
     "text": [
      "Conversion attempt complete.\n",
      "Division error: division by zero\n",
      "Division attempt complete.\n",
      "Overall execution complete.\n",
      "None\n",
      "Conversion error: invalid literal for int() with base 10: 'a'\n",
      "Conversion attempt complete.\n",
      "Overall execution complete.\n",
      "None\n",
      "Conversion attempt complete.\n",
      "Division attempt complete.\n",
      "Overall execution complete.\n",
      "5.0\n"
     ]
    }
   ],
   "source": [
    "def nested_exception_handling(s):\n",
    "    try:\n",
    "        try:\n",
    "            num = int(s)\n",
    "        except ValueError as e:\n",
    "            print(f\"Conversion error: {e}\")\n",
    "            num = None\n",
    "        finally:\n",
    "            print(\"Conversion attempt complete.\")\n",
    "        if num is not None:\n",
    "            try:\n",
    "                result = 10 / num\n",
    "            except ZeroDivisionError as e:\n",
    "                print(f\"Division error: {e}\")\n",
    "                result = None\n",
    "            finally:\n",
    "                print(\"Division attempt complete.\")\n",
    "            return result\n",
    "    finally:\n",
    "        print(\"Overall execution complete.\")\n",
    "\n",
    "#Test\n",
    "print(nested_exception_handling('0'))  # None\n",
    "print(nested_exception_handling('a'))  # None\n",
    "print(nested_exception_handling('2'))  # 5.0"
   ]
  },
  {
   "cell_type": "markdown",
   "id": "7043bb45",
   "metadata": {},
   "source": [
    "### Assignment 7: Exception Handling in List Operations\n",
    "\n",
    "Write a function that takes a list and an index as input and returns the element at the given index. Use try, except, and finally blocks to handle IndexError if the index is out of range and print an appropriate message."
   ]
  },
  {
   "cell_type": "code",
   "execution_count": 22,
   "id": "9c1f96f4",
   "metadata": {},
   "outputs": [
    {
     "name": "stdout",
     "output_type": "stream",
     "text": [
      "3\n",
      "list index out of range\n",
      "None\n"
     ]
    }
   ],
   "source": [
    "def return_value(lst,ind):\n",
    "    try:\n",
    "        return lst[ind]\n",
    "    except IndexError as e:\n",
    "        print(e)\n",
    "    except Exception as e:\n",
    "        print(e)\n",
    "\n",
    "print(return_value([1,2,3,4],2))\n",
    "print(return_value([1,2,3,4],5))\n"
   ]
  },
  {
   "cell_type": "markdown",
   "id": "3913125f",
   "metadata": {},
   "source": [
    "### Assignment 8: Exception Handling in Network Operations\n",
    "\n",
    "Write a function that attempts to open a URL and read its contents. Use try, except, and finally blocks to handle network-related errors and print an appropriate message."
   ]
  },
  {
   "cell_type": "code",
   "execution_count": 26,
   "id": "c23bbd22",
   "metadata": {},
   "outputs": [
    {
     "name": "stdout",
     "output_type": "stream",
     "text": [
      "<!doctype html><html itemscope=\"\" itemtype=\"http://schema.org/WebPage\" lang=\"en-IN\"><head><meta content=\"text/html; charset=UTF-8\" http-equiv=\"Content-Type\"><meta content=\"/logos/doodles/2024/rise-of-the-half-moon-december-6753651837110600.2-l.png\" itemprop=\"image\"><meta content=\"Rise of the Half Moon\" property=\"twitter:title\"><meta content=\"Rise of the Half Moon! #GoogleDoodle\" property=\"twitter:description\"><meta content=\"Rise of the Half Moon! #GoogleDoodle\" property=\"og:description\"><meta content=\"summary_large_image\" property=\"twitter:card\"><meta content=\"@GoogleDoodles\" property=\"twitter:site\"><meta content=\"https://www.google.com/logos/doodles/2024/rise-of-the-half-moon-december-6753651837110600-2xa.gif\" property=\"twitter:image\"><meta content=\"https://www.google.com/logos/doodles/2024/rise-of-the-half-moon-december-6753651837110600-2xa.gif\" property=\"og:image\"><meta content=\"1000\" property=\"og:image:width\"><meta content=\"400\" property=\"og:image:height\"><meta content=\"https://www.google.com/logos/doodles/2024/rise-of-the-half-moon-december-6753651837110600-2xa.gif\" property=\"og:url\"><meta content=\"video.other\" property=\"og:type\"><title>Google</title><script nonce=\"xGtzu8tnb1T4X_tkj5ipGg\">(function(){var _g={kEI:'j1NoZ9_XJ-Oeg8UPkdyakAo',kEXPI:'0,3700331,1053,538661,2872,2891,43028,46127,344796,45786,9779,96222,60264,7734,6614,2,20918,13446,29279,11106,15977,5213674,430,153,5992271,2842721,8,5,7438224,20539755,25222751,1294,10336,10736,61581,22464,22622,15165,8182,5928,11947,29714,1840,21669,6755,21349,2529,9139,745,2,2,3851,328,4459,1766,1116,1831,20460,6,2872,1705,5633,687,7851,22,21982,1133,208,5406,8301,8206,3292,4134,8139,4454,5221,1821,1670,33,9041,17667,10667,4144,6759,5320,4828,292,2991,5350,41,11882,1757,1,6741,728,2165,1213,306,10777,951,2906,5200,309,4653,1579,329,1189,1766,290,1374,1187,880,4894,4179,130,1380,83,2174,183,555,4378,3589,767,461,2028,4644,2004,1056,417,127,276,1742,488,2,443,78,3,2,627,514,1633,1,911,2506,1000,311,140,3,172,24,2,385,3,492,66,2121,304,1731,132,101,2317,258,453,41,2,416,204,3,306,784,5,4,4,4,530,158,90,2,2,4,148,283,35,875,582,373,546,651,393,710,4,205,34,403,2,343,160,621,114,268,893,55,525,35,408,56,1,631,189,934,527,501,867,609,570,536,193,727,4,1586,421,263,23,621,3,11,492,568,296,3,512,178,317,397,30,1,86,281,432,481,278,741,121,56,74,33,109,289,281,33,719,78,362,268,106,118,517,301,441,34,1950,1402,2858,21387287,18,2004,1480,875,3196,21,2014,45,154,554,1774,8,1135,930,3,1202,5986639,2038088,6',kBL:'MqhX',kOPI:89978449};(function(){var a;((a=window.google)==null?0:a.stvsc)?google.kEI=_g.kEI:window.google=_g;}).call(this);})();(function(){google.sn='webhp';google.kHL='en-IN';})();(function(){\n",
      "var g=this||self;function k(){return window.google&&window.google.kOPI||null};var l,m=[];function n(a){for(var b;a&&(!a.getAttribute||!(b=a.getAttribute(\"eid\")));)a=a.parentNode;return b||l}function p(a){for(var b=null;a&&(!a.getAttribute||!(b=a.getAttribute(\"leid\")));)a=a.parentNode;return b}function q(a){/^http:/i.test(a)&&window.location.protocol===\"https:\"&&(google.ml&&google.ml(Error(\"a\"),!1,{src:a,glmm:1}),a=\"\");return a}\n",
      "function r(a,b,d,c,h){var e=\"\";b.search(\"&ei=\")===-1&&(e=\"&ei=\"+n(c),b.search(\"&lei=\")===-1&&(c=p(c))&&(e+=\"&lei=\"+c));var f=b.search(\"&cshid=\")===-1&&a!==\"slh\";c=\"&zx=\"+Date.now().toString();g._cshid&&f&&(c+=\"&cshid=\"+g._cshid);(d=d())&&(c+=\"&opi=\"+d);return\"/\"+(h||\"gen_204\")+\"?atyp=i&ct=\"+String(a)+\"&cad=\"+(b+e+c)};l=google.kEI;google.getEI=n;google.getLEI=p;google.ml=function(){return null};google.log=function(a,b,d,c,h,e){e=e===void 0?k:e;d||(d=r(a,b,e,c,h));if(d=q(d)){a=new Image;var f=m.length;m[f]=a;a.onerror=a.onload=a.onabort=function(){delete m[f]};a.src=d}};google.logUrl=function(a,b){b=b===void 0?k:b;return r(\"\",a,b)};}).call(this);(function(){google.y={};google.sy=[];var d;(d=google).x||(d.x=function(a,b){if(a)var c=a.id;else{do c=Math.random();while(google.y[c])}google.y[c]=[a,b];return!1});var e;(e=google).sx||(e.sx=function(a){google.sy.push(a)});google.lm=[];var f;(f=google).plm||(f.plm=function(a){google.lm.push.apply(google.lm,a)});google.lq=[];var g;(g=google).load||(g.load=function(a,b,c){google.lq.push([[a],b,c])});var h;(h=google).loadAll||(h.loadAll=function(a,b){google.lq.push([a,b])});google.bx=!1;var k;(k=google).lx||(k.lx=function(){});var l=[],m;(m=google).fce||(m.fce=function(a,b,c,n){l.push([a,b,c,n])});google.qce=l;}).call(this);google.f={};(function(){\n",
      "document.documentElement.addEventListener(\"submit\",function(b){var a;if(a=b.target){var c=a.getAttribute(\"data-submitfalse\");a=c===\"1\"||c===\"q\"&&!a.elements.q.value?!0:!1}else a=!1;a&&(b.preventDefault(),b.stopPropagation())},!0);document.documentElement.addEventListener(\"click\",function(b){var a;a:{for(a=b.target;a&&a!==document.documentElement;a=a.parentElement)if(a.tagName===\"A\"){a=a.getAttribute(\"data-nohref\")===\"1\";break a}a=!1}a&&b.preventDefault()},!0);}).call(this);</script><style>#gbar,#guser{font-size:13px;padding-top:1px !important;}#gbar{height:22px}#guser{padding-bottom:7px !important;text-align:right}.gbh,.gbd{border-top:1px solid #c9d7f1;font-size:1px}.gbh{height:0;position:absolute;top:24px;width:100%}@media all{.gb1{height:22px;margin-right:.5em;vertical-align:top}#gbar{float:left}}a.gb1,a.gb4{text-decoration:underline !important}a.gb1,a.gb4{color:#00c !important}.gbi .gb4{color:#dd8e27 !important}.gbf .gb4{color:#900 !important}\n",
      "</style><style>body,td,a,p,.h{font-family:arial,sans-serif}body{margin:0;overflow-y:scroll}#gog{padding:3px 8px 0}td{line-height:.8em}.gac_m td{line-height:17px}form{margin-bottom:20px}.h{color:#1967d2}em{font-weight:bold;font-style:normal}.lst{height:25px;width:496px}.gsfi,.lst{font:18px arial,sans-serif}.gsfs{font:17px arial,sans-serif}.ds{display:inline-box;display:inline-block;margin:3px 0 4px;margin-left:4px}input{font-family:inherit}body{background:#fff;color:#000}a{color:#681da8;text-decoration:none}a:hover,a:active{text-decoration:underline}.fl a{color:#1967d2}a:visited{color:#681da8}.sblc{padding-top:5px}.sblc a{display:block;margin:2px 0;margin-left:13px;font-size:11px}.lsbb{background:#f8f9fa;border:solid 1px;border-color:#dadce0 #70757a #70757a #dadce0;height:30px}.lsbb{display:block}#WqQANb a{display:inline-block;margin:0 12px}.lsb{background:url(/images/nav_logo229.png) 0 -261px repeat-x;color:#000;border:none;cursor:pointer;height:30px;margin:0;outline:0;font:15px arial,sans-serif;vertical-align:top}.lsb:active{background:#dadce0}.lst:focus{outline:none}</style><script nonce=\"xGtzu8tnb1T4X_tkj5ipGg\">(function(){window.google.erd={jsr:1,bv:2133,de:true,dpf:'xd_W4gGUOxyAvYAb3WCU5LvCHCNkVNM4v2MzSaF802k'};\n",
      "var g=this||self;var k,l=(k=g.mei)!=null?k:1,m,p=(m=g.diel)!=null?m:0,q,r=(q=g.sdo)!=null?q:!0,t=0,u,w=google.erd,x=w.jsr;google.ml=function(a,b,d,n,e){e=e===void 0?2:e;b&&(u=a&&a.message);d===void 0&&(d={});d.cad=\"ple_\"+google.ple+\".aple_\"+google.aple;if(google.dl)return google.dl(a,e,d,!0),null;b=d;if(x<0){window.console&&console.error(a,b);if(x===-2)throw a;b=!1}else b=!a||!a.message||a.message===\"Error loading script\"||t>=l&&!n?!1:!0;if(!b)return null;t++;d=d||{};b=encodeURIComponent;var c=\"/gen_204?atyp=i&ei=\"+b(google.kEI);google.kEXPI&&(c+=\"&jexpid=\"+b(google.kEXPI));c+=\"&srcpg=\"+b(google.sn)+\"&jsr=\"+b(w.jsr)+\n",
      "\"&bver=\"+b(w.bv);w.dpf&&(c+=\"&dpf=\"+b(w.dpf));var f=a.lineNumber;f!==void 0&&(c+=\"&line=\"+f);var h=a.fileName;h&&(h.indexOf(\"-extension:/\")>0&&(e=3),c+=\"&script=\"+b(h),f&&h===window.location.href&&(f=document.documentElement.outerHTML.split(\"\\n\")[f],c+=\"&cad=\"+b(f?f.substring(0,300):\"No script found.\")));google.ple&&google.ple===1&&(e=2);c+=\"&jsel=\"+e;for(var v in d)c+=\"&\",c+=b(v),c+=\"=\",c+=b(d[v]);c=c+\"&emsg=\"+b(a.name+\": \"+a.message);c=c+\"&jsst=\"+b(a.stack||\"N/A\");c.length>=12288&&(c=c.substr(0,12288));a=c;n||google.log(0,\"\",a);return a};window.onerror=function(a,b,d,n,e){u!==a&&(a=e instanceof Error?e:Error(a),d===void 0||\"lineNumber\"in a||(a.lineNumber=d),b===void 0||\"fileName\"in a||(a.fileName=b),google.ml(a,!1,void 0,!1,a.name===\"SyntaxError\"||a.message.substring(0,11)===\"SyntaxError\"||a.message.indexOf(\"Script error\")!==-1?3:p));u=null;r&&t>=l&&(window.onerror=null)};})();</script></head><body bgcolor=\"#fff\"><script nonce=\"xGtzu8tnb1T4X_tkj5ipGg\">(function(){var src='/images/nav_logo229.png';var iesg=false;document.body.onload = function(){window.n && window.n();if (document.images){new Image().src=src;}\n",
      "if (!iesg){document.f&&document.f.q.focus();document.gbqf&&document.gbqf.q.focus();}\n",
      "}\n",
      "})();</script><div id=\"mngb\"><div id=gbar><nobr><b class=gb1>Search</b> <a class=gb1 href=\"https://www.google.com/imghp?hl=en&tab=wi\">Images</a> <a class=gb1 href=\"https://maps.google.co.in/maps?hl=en&tab=wl\">Maps</a> <a class=gb1 href=\"https://play.google.com/?hl=en&tab=w8\">Play</a> <a class=gb1 href=\"https://www.youtube.com/?tab=w1\">YouTube</a> <a class=gb1 href=\"https://news.google.com/?tab=wn\">News</a> <a class=gb1 href=\"https://mail.google.com/mail/?tab=wm\">Gmail</a> <a class=gb1 href=\"https://drive.google.com/?tab=wo\">Drive</a> <a class=gb1 style=\"text-decoration:none\" href=\"https://www.google.co.in/intl/en/about/products?tab=wh\"><u>More</u> &raquo;</a></nobr></div><div id=guser width=100%><nobr><span id=gbn class=gbi></span><span id=gbf class=gbf></span><span id=gbe></span><a href=\"http://www.google.co.in/history/optout?hl=en\" class=gb4>Web History</a> | <a  href=\"/preferences?hl=en\" class=gb4>Settings</a> | <a target=_top id=gb_70 href=\"https://accounts.google.com/ServiceLogin?hl=en&passive=true&continue=https://www.google.com/&ec=GAZAAQ\" class=gb4>Sign in</a></nobr></div><div class=gbh style=left:0></div><div class=gbh style=right:0></div></div><center><br clear=\"all\" id=\"lgpd\"><div id=\"XjhHGf\"><a href=\"/search?sca_esv=bf5ca7eb4b299c5c&amp;ie=UTF-8&amp;q=Lunar+phases&amp;oi=ddle&amp;ct=372680007&amp;hl=en-GB&amp;sa=X&amp;ved=0ahUKEwif26qo-ruKAxVjz6ACHRGuBqIQPQgD\"><img alt=\"Rise of the Half Moon\" border=\"0\" height=\"200\" src=\"/logos/doodles/2024/rise-of-the-half-moon-december-6753651837110600.2-l.png\" title=\"Rise of the Half Moon\" width=\"500\" id=\"hplogo\"><br></a><br></div><form action=\"/search\" name=\"f\"><table cellpadding=\"0\" cellspacing=\"0\"><tr valign=\"top\"><td width=\"25%\">&nbsp;</td><td align=\"center\" nowrap=\"\"><input name=\"ie\" value=\"ISO-8859-1\" type=\"hidden\"><input value=\"en-IN\" name=\"hl\" type=\"hidden\"><input name=\"source\" type=\"hidden\" value=\"hp\"><input name=\"biw\" type=\"hidden\"><input name=\"bih\" type=\"hidden\"><div class=\"ds\" style=\"height:32px;margin:4px 0\"><input class=\"lst\" style=\"margin:0;padding:5px 8px 0 6px;vertical-align:top;color:#000\" autocomplete=\"off\" value=\"\" title=\"Google Search\" maxlength=\"2048\" name=\"q\" size=\"57\"></div><br style=\"line-height:0\"><span class=\"ds\"><span class=\"lsbb\"><input class=\"lsb\" value=\"Google Search\" name=\"btnG\" type=\"submit\"></span></span><span class=\"ds\"><span class=\"lsbb\"><input class=\"lsb\" id=\"tsuid_j1NoZ9_XJ-Oeg8UPkdyakAo_1\" value=\"I'm Feeling Lucky\" name=\"btnI\" type=\"submit\"><script nonce=\"xGtzu8tnb1T4X_tkj5ipGg\">(function(){var id='tsuid_j1NoZ9_XJ-Oeg8UPkdyakAo_1';document.getElementById(id).onclick = function(){if (this.form.q.value){this.checked = 1;if (this.form.iflsig)this.form.iflsig.disabled = false;}\n",
      "else top.location='/doodles/';};})();</script><input value=\"AL9hbdgAAAAAZ2hhn5Vf5EkTI3CgYhHXK9i3RhWI8Y7X\" name=\"iflsig\" type=\"hidden\"></span></span></td><td class=\"fl sblc\" align=\"left\" nowrap=\"\" width=\"25%\"><a href=\"/advanced_search?hl=en-IN&amp;authuser=0\">Advanced search</a></td></tr></table><input id=\"gbv\" name=\"gbv\" type=\"hidden\" value=\"1\"><script nonce=\"xGtzu8tnb1T4X_tkj5ipGg\">(function(){var a,b=\"1\";if(document&&document.getElementById)if(typeof XMLHttpRequest!=\"undefined\")b=\"2\";else if(typeof ActiveXObject!=\"undefined\"){var c,d,e=[\"MSXML2.XMLHTTP.6.0\",\"MSXML2.XMLHTTP.3.0\",\"MSXML2.XMLHTTP\",\"Microsoft.XMLHTTP\"];for(c=0;d=e[c++];)try{new ActiveXObject(d),b=\"2\"}catch(h){}}a=b;if(a==\"2\"&&location.search.indexOf(\"&gbv=2\")==-1){var f=google.gbvu,g=document.getElementById(\"gbv\");g&&(g.value=a);f&&window.setTimeout(function(){location.href=f},0)};}).call(this);</script></form><div style=\"font-size:83%;min-height:3.5em\"><br><div id=\"gws-output-pages-elements-homepage_additional_languages__als\"><style>#gws-output-pages-elements-homepage_additional_languages__als{font-size:small;margin-bottom:24px}#SIvCob{color:#474747;display:inline-block;line-height:28px;}#SIvCob a{padding:0 3px;}.H6sW5{display:inline-block;margin:0 2px;white-space:nowrap}.z4hgWe{display:inline-block;margin:0 2px}</style><div id=\"SIvCob\">Google offered in:  <a href=\"https://www.google.com/setprefs?sig=0_sQUbzlrgVDJ9Y3Tz5Ydu8ZBz10g%3D&amp;hl=hi&amp;source=homepage&amp;sa=X&amp;ved=0ahUKEwif26qo-ruKAxVjz6ACHRGuBqIQ2ZgBCAY\">&#2361;&#2367;&#2344;&#2381;&#2342;&#2368;</a>    <a href=\"https://www.google.com/setprefs?sig=0_sQUbzlrgVDJ9Y3Tz5Ydu8ZBz10g%3D&amp;hl=bn&amp;source=homepage&amp;sa=X&amp;ved=0ahUKEwif26qo-ruKAxVjz6ACHRGuBqIQ2ZgBCAc\">&#2476;&#2494;&#2434;&#2482;&#2494;</a>    <a href=\"https://www.google.com/setprefs?sig=0_sQUbzlrgVDJ9Y3Tz5Ydu8ZBz10g%3D&amp;hl=te&amp;source=homepage&amp;sa=X&amp;ved=0ahUKEwif26qo-ruKAxVjz6ACHRGuBqIQ2ZgBCAg\">&#3108;&#3142;&#3122;&#3137;&#3095;&#3137;</a>    <a href=\"https://www.google.com/setprefs?sig=0_sQUbzlrgVDJ9Y3Tz5Ydu8ZBz10g%3D&amp;hl=mr&amp;source=homepage&amp;sa=X&amp;ved=0ahUKEwif26qo-ruKAxVjz6ACHRGuBqIQ2ZgBCAk\">&#2350;&#2352;&#2366;&#2336;&#2368;</a>    <a href=\"https://www.google.com/setprefs?sig=0_sQUbzlrgVDJ9Y3Tz5Ydu8ZBz10g%3D&amp;hl=ta&amp;source=homepage&amp;sa=X&amp;ved=0ahUKEwif26qo-ruKAxVjz6ACHRGuBqIQ2ZgBCAo\">&#2980;&#2990;&#3007;&#2996;&#3021;</a>    <a href=\"https://www.google.com/setprefs?sig=0_sQUbzlrgVDJ9Y3Tz5Ydu8ZBz10g%3D&amp;hl=gu&amp;source=homepage&amp;sa=X&amp;ved=0ahUKEwif26qo-ruKAxVjz6ACHRGuBqIQ2ZgBCAs\">&#2711;&#2753;&#2716;&#2736;&#2750;&#2724;&#2752;</a>    <a href=\"https://www.google.com/setprefs?sig=0_sQUbzlrgVDJ9Y3Tz5Ydu8ZBz10g%3D&amp;hl=kn&amp;source=homepage&amp;sa=X&amp;ved=0ahUKEwif26qo-ruKAxVjz6ACHRGuBqIQ2ZgBCAw\">&#3221;&#3240;&#3277;&#3240;&#3233;</a>    <a href=\"https://www.google.com/setprefs?sig=0_sQUbzlrgVDJ9Y3Tz5Ydu8ZBz10g%3D&amp;hl=ml&amp;source=homepage&amp;sa=X&amp;ved=0ahUKEwif26qo-ruKAxVjz6ACHRGuBqIQ2ZgBCA0\">&#3374;&#3378;&#3375;&#3390;&#3379;&#3330;</a>    <a href=\"https://www.google.com/setprefs?sig=0_sQUbzlrgVDJ9Y3Tz5Ydu8ZBz10g%3D&amp;hl=pa&amp;source=homepage&amp;sa=X&amp;ved=0ahUKEwif26qo-ruKAxVjz6ACHRGuBqIQ2ZgBCA4\">&#2602;&#2672;&#2588;&#2622;&#2604;&#2624;</a>  </div></div></div><span id=\"footer\"><div style=\"font-size:10pt\"><div style=\"margin:19px auto;text-align:center\" id=\"WqQANb\"><a href=\"/intl/en/ads/\">Advertising</a><a href=\"http://www.google.co.in/services/\">Business Solutions</a><a href=\"/intl/en/about.html\">About Google</a><a href=\"https://www.google.com/setprefdomain?prefdom=IN&amp;prev=https://www.google.co.in/&amp;sig=K_1tM-xmQhTAjClkLBDLqGBzoKNwc%3D\">Google.co.in</a></div></div><p style=\"font-size:8pt;color:#70757a\">&copy; 2024 - <a href=\"/intl/en/policies/privacy/\">Privacy</a> - <a href=\"/intl/en/policies/terms/\">Terms</a></p></span></center><script nonce=\"xGtzu8tnb1T4X_tkj5ipGg\">(function(){window.google.cdo={height:757,width:1440};(function(){var a=window.innerWidth,b=window.innerHeight;if(!a||!b){var c=window.document,d=c.compatMode==\"CSS1Compat\"?c.documentElement:c.body;a=d.clientWidth;b=d.clientHeight}if(a&&b&&(a!=google.cdo.width||b!=google.cdo.height)){var e=google,f=e.log,g=\"/client_204?&atyp=i&biw=\"+a+\"&bih=\"+b+\"&ei=\"+google.kEI,h=\"\",k=window.google&&window.google.kOPI||null;k&&(h+=\"&opi=\"+k);f.call(e,\"\",\"\",g+h)};}).call(this);})();</script>  <script nonce=\"xGtzu8tnb1T4X_tkj5ipGg\">(function(){google.xjs={basecomb:'/xjs/_/js/k\\x3dxjs.hp.en.slN0ICFlIdc.es5.O/ck\\x3dxjs.hp.ZdvoAuacH0c.L.X.O/am\\x3dBAAAAACAAAAAAAAAAAAAAAAAAAAAAAAAAAAAAAAAAABBAAAAAAAAAAAAAwCsAQAAIABAgAAAAAAAAAAAAAAAIAIAUAAQAAAAAOI7AgABsAgAAC8/d\\x3d1/ed\\x3d1/dg\\x3d0/ujg\\x3d1/rs\\x3dACT90oG2YgZBBwq8tE9dYnVc4XZLiXbO4w',basecss:'/xjs/_/ss/k\\x3dxjs.hp.ZdvoAuacH0c.L.X.O/am\\x3dBAAAAACAAAAAAAAAAAAAAAAAAAAAAAAAAAAAAAAAAABAAAAAAAAAAAAAAAAsAAAAIABAgAAAAAAAAAAAAAAAIAIAUAAQ/rs\\x3dACT90oE4VDuypTCPH8jtHQgPMB8KgoFScQ',basejs:'/xjs/_/js/k\\x3dxjs.hp.en.slN0ICFlIdc.es5.O/am\\x3dAAAAAAAAAAAAAAAAAAAAAAAAAAAAAAAAAAAAAAAAAAABAAAAAAAAAAAAAwCAAQAAAAAAAAAAAAAAAAAAAAAAAAAAAAAAAAAAAOI7AgABsAgAAC8/dg\\x3d0/rs\\x3dACT90oGMPIbLhEbfa9cuZNWYzrj6GUW7qA',excm:[]};})();</script>       <script nonce=\"xGtzu8tnb1T4X_tkj5ipGg\">(function(){var u='/xjs/_/js/k\\x3dxjs.hp.en.slN0ICFlIdc.es5.O/am\\x3dAAAAAAAAAAAAAAAAAAAAAAAAAAAAAAAAAAAAAAAAAAABAAAAAAAAAAAAAwCAAQAAAAAAAAAAAAAAAAAAAAAAAAAAAAAAAAAAAOI7AgABsAgAAC8/d\\x3d1/ed\\x3d1/dg\\x3d3/rs\\x3dACT90oGMPIbLhEbfa9cuZNWYzrj6GUW7qA/m\\x3dsb_he,d';var st=1;var amd=1000;var mmd=0;var pod=true;\n",
      "var e=this||self;function f(){var a,b,d;if(b=a=(b=window.google)==null?void 0:(d=b.ia)==null?void 0:d.r.B2Jtyd)b=a.m,b=b===1||b===5;return b&&a.cbfd!=null&&a.cbvi!=null?a:void 0};function g(){var a=[u];if(!google.dp){for(var b=0;b<a.length;b++){var d=a[b],c=document.createElement(\"link\");c.as=\"script\";c.href=d;c.rel=\"preload\";document.body.appendChild(c)}google.dp=!0}};google.ps===void 0&&(google.ps=[]);function h(){var a=u,b=function(){};google.lx=google.stvsc?b:function(){k(a);google.lx=b};google.bx||google.lx()}function l(a,b){b&&(a.src=b);var d=a.onload;a.onload=function(c){d&&d(c);google.ps=google.ps.filter(function(C){return a!==C})};google.ps.push(a);document.body.appendChild(a)}google.as=l;function k(a){google.timers&&google.timers.load&&google.tick&&google.tick(\"load\",\"xjsls\");var b=document.createElement(\"script\");b.onerror=function(){google.ple=1};b.onload=function(){google.ple=0};google.xjsus=void 0;l(b,a);google.aple=-1;google.dp=!0};function m(a){var b=a.getAttribute(\"jscontroller\");return(b===\"UBXHI\"||b===\"R3fhkb\"||b===\"TSZEqd\")&&a.hasAttribute(\"data-src\")}function n(){for(var a=document.getElementsByTagName(\"img\"),b=0,d=a.length;b<d;b++){var c=a[b];if(c.hasAttribute(\"data-lzy_\")&&Number(c.getAttribute(\"data-atf\"))&1&&!m(c))return!0}return!1}for(var p=document.getElementsByTagName(\"img\"),q=0,r=p.length;q<r;++q){var t=p[q];Number(t.getAttribute(\"data-atf\"))&1&&m(t)&&(t.src=t.getAttribute(\"data-src\"))};var w,x,y,z,A,B;function D(){google.xjsu=u;e._F_jsUrl=u;A=function(){h()};w=!1;x=(st===1||st===3)&&!!google.caft&&!n();y=f();z=(st===2||st===3)&&!!y&&!n();B=pod}function E(){w||x||z||(A(),w=!0)}setTimeout(function(){google&&google.tick&&google.timers&&google.timers.load&&google.tick(\"load\",\"xjspls\");D();if(x||z){if(x){var a=function(){x=!1;E()};google.caft(a);window.setTimeout(a,amd)}z&&(a=function(){z=!1;E()},y.cbvi.push(a),window.setTimeout(a,mmd));B&&(w||g())}else A()},0);})();window._ = window._ || {};window._DumpException = _._DumpException = function(e){throw e;};window._s = window._s || {};_s._DumpException = _._DumpException;window._qs = window._qs || {};_qs._DumpException = _._DumpException;(function(){var t=[4,131072,0,0,0,0,0,0,4259840,0,65536,721813704,603981057,33619970,655360,0,536870912,20971528,257,251166720,813760514,1006632994,2];window._F_toggles = window._xjs_toggles = t;})();window._F_installCss = window._F_installCss || function(css){};(function(){google.jl={bfl:0,dw:false,ine:false,ubm:false,uwp:true,vs:false};})();(function(){var pmc='{\\x22d\\x22:{},\\x22sb_he\\x22:{\\x22agen\\x22:false,\\x22cgen\\x22:false,\\x22client\\x22:\\x22heirloom-hp\\x22,\\x22dh\\x22:true,\\x22ds\\x22:\\x22\\x22,\\x22fl\\x22:true,\\x22host\\x22:\\x22google.com\\x22,\\x22jsonp\\x22:true,\\x22msgs\\x22:{\\x22cibl\\x22:\\x22Clear Search\\x22,\\x22dym\\x22:\\x22Did you mean:\\x22,\\x22lcky\\x22:\\x22I\\\\u0026#39;m Feeling Lucky\\x22,\\x22lml\\x22:\\x22Learn more\\x22,\\x22psrc\\x22:\\x22This search was removed from your \\\\u003Ca href\\x3d\\\\\\x22/history\\\\\\x22\\\\u003EWeb History\\\\u003C/a\\\\u003E\\x22,\\x22psrl\\x22:\\x22Remove\\x22,\\x22sbit\\x22:\\x22Search by image\\x22,\\x22srch\\x22:\\x22Google Search\\x22},\\x22ovr\\x22:{},\\x22pq\\x22:\\x22\\x22,\\x22rfs\\x22:[],\\x22stok\\x22:\\x22JLRP6D6sRo2JsjlWwR3MY97rpG4\\x22}}';google.pmc=JSON.parse(pmc);})();(function(){var b=function(a){var c=0;return function(){return c<a.length?{done:!1,value:a[c++]}:{done:!0}}};\n",
      "var e=this||self;var g,h;a:{for(var k=[\"CLOSURE_FLAGS\"],l=e,n=0;n<k.length;n++)if(l=l[k[n]],l==null){h=null;break a}h=l}var p=h&&h[610401301];g=p!=null?p:!1;var q,r=e.navigator;q=r?r.userAgentData||null:null;function t(a){return g?q?q.brands.some(function(c){return(c=c.brand)&&c.indexOf(a)!=-1}):!1:!1}function u(a){var c;a:{if(c=e.navigator)if(c=c.userAgent)break a;c=\"\"}return c.indexOf(a)!=-1};function v(){return g?!!q&&q.brands.length>0:!1}function w(){return u(\"Safari\")&&!(x()||(v()?0:u(\"Coast\"))||(v()?0:u(\"Opera\"))||(v()?0:u(\"Edge\"))||(v()?t(\"Microsoft Edge\"):u(\"Edg/\"))||(v()?t(\"Opera\"):u(\"OPR\"))||u(\"Firefox\")||u(\"FxiOS\")||u(\"Silk\")||u(\"Android\"))}function x(){return v()?t(\"Chromium\"):(u(\"Chrome\")||u(\"CriOS\"))&&!(v()?0:u(\"Edge\"))||u(\"Silk\")}function y(){return u(\"Android\")&&!(x()||u(\"Firefox\")||u(\"FxiOS\")||(v()?0:u(\"Opera\"))||u(\"Silk\"))};var z=v()?!1:u(\"Trident\")||u(\"MSIE\");y();x();w();var A=!z&&!w(),D=function(a){if(/-[a-z]/.test(\"ved\"))return null;if(A&&a.dataset){if(y()&&!(\"ved\"in a.dataset))return null;a=a.dataset.ved;return a===void 0?null:a}return a.getAttribute(\"data-\"+\"ved\".replace(/([A-Z])/g,\"-$1\").toLowerCase())};var E=[],F=null;function G(a){a=a.target;var c=performance.now(),f=[],H=f.concat,d=E;if(!(d instanceof Array)){var m=typeof Symbol!=\"undefined\"&&Symbol.iterator&&d[Symbol.iterator];if(m)d=m.call(d);else if(typeof d.length==\"number\")d={next:b(d)};else throw Error(\"b`\"+String(d));for(var B=[];!(m=d.next()).done;)B.push(m.value);d=B}E=H.call(f,d,[c]);if(a&&a instanceof HTMLElement)if(a===F){if(c=E.length>=4)c=(E[E.length-1]-E[E.length-4])/1E3<5;if(c){c=google.getEI(a);a.hasAttribute(\"data-ved\")?f=a?D(a)||\"\":\"\":f=(f=\n",
      "a.closest(\"[data-ved]\"))?D(f)||\"\":\"\";f=f||\"\";if(a.hasAttribute(\"jsname\"))a=a.getAttribute(\"jsname\");else{var C;a=(C=a.closest(\"[jsname]\"))==null?void 0:C.getAttribute(\"jsname\")}google.log(\"rcm\",\"&ei=\"+c+\"&tgtved=\"+f+\"&jsname=\"+(a||\"\"))}}else F=a,E=[c]}window.document.addEventListener(\"DOMContentLoaded\",function(){document.body.addEventListener(\"click\",G)});}).call(this);</script></body></html>\n"
     ]
    }
   ],
   "source": [
    "import requests\n",
    "\n",
    "def get_data(url):\n",
    "    try:\n",
    "        response=requests.get(url)\n",
    "        response.raise_for_status()\n",
    "        return response.text\n",
    "    except requests.exceptions.HTTPError as e:\n",
    "        print(\"Error: \",e)\n",
    "    except requests.exceptions.ConnectionError as e:\n",
    "        print(\"Error: \",e)\n",
    "    except requests.exceptions.Timeout as e:\n",
    "        print(\"Error: \",e)\n",
    "    except requests.exceptions.RequestException as e:\n",
    "        print(\"Error: \",e)\n",
    "    except Exception as e:\n",
    "        print(\"Error: \",e)\n",
    "    \n",
    "print(get_data(\"https://www.google.com\"))\n"
   ]
  },
  {
   "cell_type": "markdown",
   "id": "a46b0be9",
   "metadata": {},
   "source": [
    "# Explanation"
   ]
  },
  {
   "cell_type": "markdown",
   "id": "9fab830c",
   "metadata": {},
   "source": [
    "The code is a Python function that attempts to fetch data from a specified URL using the `requests` library and handles potential errors that might arise during the HTTP request process.\n",
    "\n",
    "Here’s an explanation of each part of the code:\n",
    "\n",
    "### Function Definition: `get_data(url)`\n",
    "The function `get_data(url)` takes a URL as an argument and attempts to send an HTTP request to that URL to fetch data.\n",
    "\n",
    "### Code Breakdown:\n",
    "1. **Sending the Request**:\n",
    "   ```python\n",
    "   response = requests.get(url)\n",
    "   ```\n",
    "   - The function makes an HTTP GET request to the specified `url` using `requests.get(url)`. This sends a request to the server at that URL.\n",
    "\n",
    "2. **Checking for HTTP Errors**:\n",
    "   ```python\n",
    "   response.raise_for_status()\n",
    "   ```\n",
    "   - `response.raise_for_status()` checks if the HTTP request returned an unsuccessful status code (e.g., 4xx or 5xx). If an error status code is encountered, it raises an `HTTPError` exception.\n",
    "\n",
    "3. **Returning the Response**:\n",
    "   ```python\n",
    "   return response.text\n",
    "   ```\n",
    "   - If the request is successful (status code 2xx), the function returns the `text` content of the response, which is the body of the HTTP response.\n",
    "\n",
    "### Exception Handling:\n",
    "The function includes multiple `except` blocks to handle different types of exceptions that may occur during the request process.\n",
    "\n",
    "1. **HTTPError**:\n",
    "   ```python\n",
    "   except requests.exceptions.HTTPError as e:\n",
    "       print(\"Error: \", e)\n",
    "   ```\n",
    "   - This block catches `HTTPError` exceptions, which are raised if the server responds with an error status code (e.g., 404 Not Found, 500 Internal Server Error).\n",
    "   - It prints the error message.\n",
    "\n",
    "2. **ConnectionError**:\n",
    "   ```python\n",
    "   except requests.exceptions.ConnectionError as e:\n",
    "       print(\"Error: \", e)\n",
    "   ```\n",
    "   - This block catches `ConnectionError` exceptions, which occur when there is an issue with establishing a network connection (e.g., if the server is unreachable).\n",
    "\n",
    "3. **Timeout**:\n",
    "   ```python\n",
    "   except requests.exceptions.Timeout as e:\n",
    "       print(\"Error: \", e)\n",
    "   ```\n",
    "   - This block catches `Timeout` exceptions, which occur when the request times out due to a slow server or network issues.\n",
    "\n",
    "4. **RequestException**:\n",
    "   ```python\n",
    "   except requests.exceptions.RequestException as e:\n",
    "       print(\"Error: \", e)\n",
    "   ```\n",
    "   - This block catches any other exceptions raised by the `requests` library that don’t fall into the specific categories above. It's a catch-all for any other request-related errors.\n",
    "\n",
    "5. **General Exception**:\n",
    "   ```python\n",
    "   except Exception as e:\n",
    "   ```\n",
    "   - This block is intended to catch any general exceptions that might not be related to the `requests` library (e.g., errors in the function itself or unrelated issues). However, there's no code following the `except Exception` block, so it won't do anything if it catches an exception. This block appears to be incomplete because it doesn’t handle or log the exception.\n",
    "\n",
    "### Summary:\n",
    "The `get_data` function attempts to retrieve data from a URL and handles various exceptions that may arise during the HTTP request. It prints error messages when an issue occurs, but it does not return anything if there is an error. The final `except Exception` block seems incomplete, as it does not have any handling code.\n",
    "\n",
    "To make the function more robust, you could add logging or return values in the final exception handler."
   ]
  },
  {
   "cell_type": "code",
   "execution_count": 25,
   "id": "003e4c69",
   "metadata": {},
   "outputs": [
    {
     "data": {
      "text/plain": [
       "'so requests is a package,exception is the module and requestException is the function ?'"
      ]
     },
     "execution_count": 25,
     "metadata": {},
     "output_type": "execute_result"
    }
   ],
   "source": [
    "'''so requests is a package,exception is the module and requestException is the function ?'''"
   ]
  },
  {
   "cell_type": "markdown",
   "id": "d97a1daa",
   "metadata": {},
   "source": [
    "Not exactly! Let me clarify the terminology for you:\n",
    "\n",
    "- **`requests`** is a **package** (also called a library) that allows you to make HTTP requests in Python.\n",
    "  \n",
    "- **`requests.exceptions`** is a **module** within the `requests` package that contains various exception classes for handling errors that may occur during HTTP requests.\n",
    "\n",
    "- **`RequestException`** is a **class** within the `requests.exceptions` module, not a function. It is the base class for all exceptions raised by the `requests` library. Any errors related to HTTP requests that don't fall into the more specific exception types (like `HTTPError`, `Timeout`, etc.) can be caught using `RequestException`.\n",
    "\n",
    "### To summarize:\n",
    "- `requests` is the package.\n",
    "- `requests.exceptions` is the module.\n",
    "- `RequestException` is an exception class (not a function) within the `requests.exceptions` module.\n",
    "\n",
    "### Example of how exceptions work:\n",
    "- `HTTPError`, `ConnectionError`, `Timeout`, and `RequestException` are all **exception classes** within `requests.exceptions`.\n",
    "- You can raise or catch these exceptions when using the `requests` library."
   ]
  },
  {
   "cell_type": "markdown",
   "id": "1bf8733f",
   "metadata": {},
   "source": [
    "### Assignment 9: Exception Handling in JSON Parsing\n",
    "\n",
    "Write a function that attempts to parse a JSON string. Use try, except, and finally blocks to handle JSONDecodeError if the string is not a valid JSON and print an appropriate message."
   ]
  },
  {
   "cell_type": "code",
   "execution_count": 31,
   "id": "11fdbf9c",
   "metadata": {},
   "outputs": [
    {
     "name": "stdout",
     "output_type": "stream",
     "text": [
      "{'name': 'John', 'age': 30, 'city': 'New York'}\n",
      "Error through JSONDecodeError :  Expecting property name enclosed in double quotes: line 1 column 2 (char 1)\n",
      "None\n"
     ]
    }
   ],
   "source": [
    "import json\n",
    "\n",
    "def json_parser(json_str):\n",
    "    try:\n",
    "        return json.loads(json_str)\n",
    "    except json.JSONDecodeError as e:\n",
    "        print(\"Error through JSONDecodeError : \",e)\n",
    "    except Exception as e:\n",
    "        print(\"Error through exception: \",e)\n",
    "\n",
    "print(json_parser(\"{\\\"name\\\":\\\"John\\\",\\\"age\\\":30,\\\"city\\\":\\\"New York\\\"}\"))\n",
    "print(json_parser(\"{'name':'John','age':30,'city':'New York'\"))"
   ]
  },
  {
   "cell_type": "markdown",
   "id": "8c6ca23c",
   "metadata": {},
   "source": [
    "### Assignment 10: Custom Exception Handling\n",
    "\n",
    "Define a custom exception named `NegativeNumberError`. Write a function that raises this exception if a negative number is encountered in a list. Use try, except, and finally blocks to handle the custom exception and print an appropriate message."
   ]
  },
  {
   "cell_type": "code",
   "execution_count": 32,
   "id": "d4de495d",
   "metadata": {},
   "outputs": [
    {
     "name": "stdout",
     "output_type": "stream",
     "text": [
      "1 2 3 4 Error:  Number is negative\n"
     ]
    }
   ],
   "source": [
    "'''Remember Exception is a class'''\n",
    "\n",
    "class NegativeNumberError(Exception):\n",
    "    pass\n",
    "\n",
    "def check_negative(lst):\n",
    "    try:\n",
    "        for num in lst:\n",
    "            if num<0:\n",
    "                raise NegativeNumberError(\"Number is negative\")\n",
    "            '''THis is like the throw keyword in java or cpp'''\n",
    "            print(num,end=\" \")\n",
    "    except NegativeNumberError as e:\n",
    "        print(\"Error: \",e)\n",
    "\n",
    "check_negative([1,2,3,4,-5,6,7,8])\n",
    "    "
   ]
  },
  {
   "cell_type": "markdown",
   "id": "bb06b06f",
   "metadata": {},
   "source": [
    "Yes, you're correct! When an exception is raised in Python, it essentially creates an instance (object) of the exception class. Here's a detailed breakdown:\n",
    "\n",
    "### Exception Creation:\n",
    "When you raise an exception using `raise NegativeNumberError(\"Number is negative\")`, Python creates an **instance of the `NegativeNumberError` class** and passes it the message `\"Number is negative\"`. This instance (object) is then thrown (raised) to signal that an error occurred.\n",
    "\n",
    "### In Your Code:\n",
    "1. **Defining the `NegativeNumberError` class**:\n",
    "   ```python\n",
    "   class NegativeNumberError(Exception):\n",
    "       pass\n",
    "   ```\n",
    "   This creates a custom exception class, `NegativeNumberError`, which inherits from the built-in `Exception` class.\n",
    "\n",
    "2. **Raising the exception inside `check_negative`**:\n",
    "   ```python\n",
    "   if num < 0:\n",
    "       raise NegativeNumberError(\"Number is negative\")\n",
    "   ```\n",
    "   When a negative number is encountered in the list, the `NegativeNumberError` exception is **raised**. This creates an instance of `NegativeNumberError`, with the message `\"Number is negative\"`, and that instance is then passed to the `except` block to be handled.\n",
    "\n",
    "3. **The `except` block**:\n",
    "   ```python\n",
    "   except NegativeNumberError as e:\n",
    "       print(\"Error: \", e)\n",
    "   ```\n",
    "   Inside the `except` block, the exception object is referenced by `e`. When you print `e`, you're printing the string representation of the exception, which is `\"Number is negative\"` in this case.\n",
    "\n",
    "4. **Raising the exception manually**:\n",
    "   ```python\n",
    "   raise NegativeNumberError(\"Number is negative\")\n",
    "   ```\n",
    "   This line explicitly raises the exception again outside the `check_negative` function. When the exception is raised here, it also creates an instance of `NegativeNumberError` with the message `\"Number is negative\"`, which will be caught by an appropriate `try-except` block (if one exists).\n",
    "\n",
    "### Does this create an object?\n",
    "Yes, **raising the exception does create an object**. Here's how:\n",
    "- When you do `raise NegativeNumberError(\"Number is negative\")`, Python instantiates `NegativeNumberError` and passes the string `\"Number is negative\"` as an argument to its constructor.\n",
    "- The constructor of `NegativeNumberError` (inherited from `Exception`) creates an instance of the class, which becomes the exception object.\n",
    "- This object is then raised and can be caught by an `except` block.\n",
    "\n",
    "### Example Output:\n",
    "\n",
    "For the code you've written:\n",
    "```python\n",
    "check_negative([1, 2, 3, 4, -5, 6, 7, 8])\n",
    "```\n",
    "This will print:\n",
    "```\n",
    "1 2 3 4 \n",
    "Error:  Number is negative\n",
    "```\n",
    "\n",
    "And when you explicitly raise the exception:\n",
    "```python\n",
    "raise NegativeNumberError(\"Number is negative\")\n",
    "```\n",
    "It will throw the exception, but unless you handle it with a `try-except` block, it will terminate the program and show an error like this:\n",
    "```\n",
    "__main__.NegativeNumberError: Number is negative\n",
    "```"
   ]
  },
  {
   "cell_type": "code",
   "execution_count": 33,
   "id": "fd99e6c9",
   "metadata": {},
   "outputs": [
    {
     "data": {
      "text/plain": [
       "'and e is the object right ?'"
      ]
     },
     "execution_count": 33,
     "metadata": {},
     "output_type": "execute_result"
    }
   ],
   "source": [
    "'''and e is the object right ?'''"
   ]
  },
  {
   "cell_type": "markdown",
   "id": "8ca28a4d",
   "metadata": {},
   "source": [
    "Yes, exactly! In your code:\n",
    "\n",
    "```python\n",
    "except NegativeNumberError as e:\n",
    "    print(\"Error: \", e)\n",
    "```\n",
    "\n",
    "- **`e`** is the **exception object**.\n",
    "- When the exception is raised using `raise NegativeNumberError(\"Number is negative\")`, an instance of the `NegativeNumberError` class is created. This instance is then passed to the `except` block and assigned to the variable `e`.\n",
    "- **`e`** is an object of the class `NegativeNumberError` (which inherits from `Exception`).\n",
    "\n",
    "The `print(\"Error: \", e)` statement calls the string representation of the exception object (`e`). By default, when you print an exception object in Python, it will show the message that was passed to it during the exception creation, like this:\n",
    "\n",
    "```\n",
    "Error:  Number is negative\n",
    "```\n",
    "\n",
    "So, in summary:\n",
    "- `e` refers to the exception object.\n",
    "- This object contains the information (like the error message `\"Number is negative\"`) passed when the exception was raised.\n"
   ]
  },
  {
   "cell_type": "markdown",
   "id": "ca69b05f",
   "metadata": {},
   "source": [
    "### Assignment 11: Exception Handling in Function Calls\n",
    "\n",
    "Write a function that calls another function which may raise an exception. Use try, except, and finally blocks to handle the exception and print an appropriate message."
   ]
  },
  {
   "cell_type": "code",
   "execution_count": 35,
   "id": "fd9f44b4",
   "metadata": {},
   "outputs": [
    {
     "name": "stdout",
     "output_type": "stream",
     "text": [
      "Error as ZeroDivisionError  :  division by zero\n"
     ]
    }
   ],
   "source": [
    "def caller():\n",
    "    try:\n",
    "        return risky_func()\n",
    "    except ZeroDivisionError as e:\n",
    "        print(\"Error as ZeroDivisionError  : \",e)\n",
    "    except Exception as e:\n",
    "        print(\"Error as Exception: \",e)\n",
    "\n",
    "def risky_func():\n",
    "    return 1/0\n",
    "\n",
    "caller()"
   ]
  },
  {
   "cell_type": "code",
   "execution_count": 37,
   "id": "0bb1e380",
   "metadata": {},
   "outputs": [
    {
     "name": "stdout",
     "output_type": "stream",
     "text": [
      "Error: An error occurred in risky_function.\n",
      "Execution complete.\n"
     ]
    }
   ],
   "source": [
    "def risk_function():\n",
    "    raise ValueError(\"An error occurred in risky_function.\")\n",
    "\n",
    "def safe_function():\n",
    "    try:\n",
    "        risk_function()\n",
    "    except ValueError as e:\n",
    "        print(f\"Error: {e}\")\n",
    "    finally:\n",
    "        print(\"Execution complete.\")\n",
    "\n",
    "safe_function()"
   ]
  },
  {
   "cell_type": "markdown",
   "id": "f6f87d60",
   "metadata": {},
   "source": [
    "### Assignment 12: Exception Handling in Class Methods\n",
    "\n",
    "Define a class with a method that performs a division operation. Use try, except, and finally blocks within the method to handle division by zero and print an appropriate message."
   ]
  },
  {
   "cell_type": "code",
   "execution_count": 38,
   "id": "4c962d7b",
   "metadata": {},
   "outputs": [
    {
     "name": "stdout",
     "output_type": "stream",
     "text": [
      "5.0\n",
      "Error:  division by zero\n",
      "None\n"
     ]
    }
   ],
   "source": [
    "class calculator:\n",
    "    def divide(self,a,b):\n",
    "        try:\n",
    "            return a/b\n",
    "        except ZeroDivisionError as e:\n",
    "            print(\"Error: \",e)\n",
    "        except Exception as e:\n",
    "            print(\"Error: \",e)\n",
    "\n",
    "calc=calculator()\n",
    "print(calc.divide(10,2))\n",
    "print(calc.divide(10,0))"
   ]
  },
  {
   "cell_type": "markdown",
   "id": "ee7fa5c5",
   "metadata": {},
   "source": [
    "### Assignment 13: Exception Handling in Data Conversion\n",
    "\n",
    "Write a function that takes a list of strings and converts them to integers. Use try, except, and finally blocks to handle ValueError if a string cannot be converted and print an appropriate message."
   ]
  },
  {
   "cell_type": "code",
   "execution_count": 41,
   "id": "930f00e6",
   "metadata": {},
   "outputs": [
    {
     "name": "stdout",
     "output_type": "stream",
     "text": [
      "[1, 2, 3, 4, 5]\n",
      "[1, 2, 3, 4, 5]\n",
      "Error:  invalid literal for int() with base 10: 'five'\n",
      "None\n"
     ]
    }
   ],
   "source": [
    "def conversion(lst):\n",
    "    try:\n",
    "        for i in range(len(lst)):\n",
    "            lst[i]=int(lst[i])\n",
    "        return lst\n",
    "    except ValueError as e:\n",
    "        print(\"Error: \",e)\n",
    "    except Exception as e:\n",
    "        print(\"Error: \",e)\n",
    "\n",
    "print(conversion([1,2,3,4,\"5\"]))\n",
    "print(conversion([\"1\",\"2\",\"3\",\"4\",\"5\"]))\n",
    "print(conversion([\"1\",\"2\",\"3\",\"4\",\"five\"]))\n"
   ]
  },
  {
   "cell_type": "markdown",
   "id": "1fc82079",
   "metadata": {},
   "source": [
    "### Assignment 14: Exception Handling in List Comprehensions\n",
    "\n",
    "Write a function that uses a list comprehension to convert a list of strings to integers. Use try, except, and finally blocks within the list comprehension to handle ValueError and print an appropriate message."
   ]
  },
  {
   "cell_type": "code",
   "execution_count": 44,
   "id": "71d78790",
   "metadata": {},
   "outputs": [
    {
     "name": "stdout",
     "output_type": "stream",
     "text": [
      "None\n",
      "Error:  invalid literal for int() with base 10: 'five'\n",
      "None\n"
     ]
    }
   ],
   "source": [
    "def convert(lst):\n",
    "    try:\n",
    "        lst=[int(i) for i in lst]\n",
    "        return\n",
    "    except ValueError as e:\n",
    "        print(\"Error: \",e)\n",
    "    except Exception as e:\n",
    "        print(\"Error: \",e)\n",
    "\n",
    "print(convert([1,2,3,4,\"5\"]))\n",
    "print(convert([\"1\",\"2\",\"3\",\"4\",\"five\"]))"
   ]
  },
  {
   "cell_type": "markdown",
   "id": "a014ffec",
   "metadata": {},
   "source": [
    "### Assignment 15: Exception Handling in File Writing\n",
    "\n",
    "Write a function that attempts to write a list of strings to a file. Use try, except, and finally blocks to handle IOError and ensure the file is properly closed."
   ]
  },
  {
   "cell_type": "code",
   "execution_count": 47,
   "id": "24cdc942",
   "metadata": {},
   "outputs": [],
   "source": [
    "def file_handle(file_path,lst):\n",
    "    try:\n",
    "        f=open(file_path,'w')\n",
    "        f.writelines(lst)\n",
    "    except IOError as e:\n",
    "        print(\"Error: \",e)\n",
    "    except Exception as e:\n",
    "        print(\"Error: \",e)\n",
    "    finally:\n",
    "        if 'f' in locals() and not f.closed:\n",
    "            f.close()\n",
    "\n",
    "file_handle(\"test.txt\",[\"Hello\\n\",\"World\\n\",\"How\\n\",\"are\\n\",\"you\\n\"])\n"
   ]
  },
  {
   "cell_type": "markdown",
   "id": "738c9f40",
   "metadata": {},
   "source": [
    "An **`IOError`** in this code can occur when there is an issue related to input/output operations while working with the file. Specifically, in the context of this function, you might encounter an `IOError` for the following reasons:\n",
    "\n",
    "### Situations Causing `IOError` in the Code:\n",
    "\n",
    "1. **Invalid File Path**:\n",
    "   - If the `file_path` provided is invalid (e.g., a directory path instead of a file or contains illegal characters).\n",
    "   - Example:\n",
    "     ```python\n",
    "     file_handle(\"/invalid/path/test.txt\", [\"Hello\\n\", \"World\\n\"])\n",
    "     ```\n",
    "     Error: `IOError` because the file cannot be created in the specified path.\n",
    "\n",
    "2. **Lack of Write Permissions**:\n",
    "   - If the program doesn't have write permissions to the directory where the file is being created.\n",
    "   - Example:\n",
    "     - Trying to write to `/root/test.txt` as a non-root user on Unix/Linux systems.\n",
    "   - This raises an `IOError` because the file cannot be opened for writing.\n",
    "\n",
    "3. **Disk Space Issues**:\n",
    "   - If the disk is full or the file system doesn't have enough space to write the data, an `IOError` might occur during the `f.writelines(lst)` operation.\n",
    "\n",
    "4. **File System Errors**:\n",
    "   - Corrupted file systems or external storage devices (like USB drives) can also cause an `IOError` when attempting to write.\n",
    "\n",
    "5. **Hardware Issues**:\n",
    "   - Problems with the underlying hardware (e.g., a failing hard drive) could lead to an `IOError`.\n",
    "\n",
    "### How the `IOError` Is Handled:\n",
    "The `except IOError as e` block will catch the error and print the message. For example:\n",
    "\n",
    "```python\n",
    "Error: [Errno 13] Permission denied: '/restricted_path/test.txt'\n",
    "```\n",
    "\n",
    "### Example Output:\n",
    "If you try to run:\n",
    "```python\n",
    "file_handle(\"/restricted_path/test.txt\", [\"Hello\\n\", \"World\\n\"])\n",
    "```\n",
    "You might get an output like:\n",
    "```\n",
    "Error: [Errno 13] Permission denied: '/restricted_path/test.txt'\n",
    "```\n",
    "\n",
    "### Finally Block:\n",
    "The `finally` block ensures that the file is closed if it was successfully opened. Even if an error occurs, the code checks:\n",
    "```python\n",
    "if 'f' in locals() and not f.closed:\n",
    "    f.close()\n",
    "```\n",
    "This ensures the program properly releases resources and avoids potential file corruption or memory leaks.\n",
    "\n",
    "### General Notes:\n",
    "- On modern Python versions, `IOError` has been merged with the built-in `OSError`. However, `IOError` is still supported for backward compatibility."
   ]
  },
  {
   "cell_type": "code",
   "execution_count": null,
   "id": "87c7480c",
   "metadata": {},
   "outputs": [],
   "source": []
  }
 ],
 "metadata": {
  "kernelspec": {
   "display_name": "venv",
   "language": "python",
   "name": "python3"
  },
  "language_info": {
   "codemirror_mode": {
    "name": "ipython",
    "version": 3
   },
   "file_extension": ".py",
   "mimetype": "text/x-python",
   "name": "python",
   "nbconvert_exporter": "python",
   "pygments_lexer": "ipython3",
   "version": "3.12.0"
  }
 },
 "nbformat": 4,
 "nbformat_minor": 5
}
