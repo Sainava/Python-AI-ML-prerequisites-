{
 "cells": [
  {
   "cell_type": "markdown",
   "metadata": {},
   "source": [
    "# Module 3: Data Structures Assignments\n",
    "## Lesson 3.4: Dictionaries\n",
    "### Assignment 1: Creating and Accessing Dictionaries\n",
    "\n",
    "Create a dictionary with the first 10 positive integers as keys and their squares as values. Print the dictionary.\n",
    "\n",
    "### Assignment 2: Accessing Dictionary Elements\n",
    "\n",
    "Print the value of the key 5 and the keys of the dictionary created in Assignment 1.\n",
    "\n",
    "### Assignment 3: Dictionary Methods\n",
    "\n",
    "Add a new key-value pair (11, 121) to the dictionary created in Assignment 1 and then remove the key-value pair with key 1. Print the modified dictionary.\n",
    "\n",
    "### Assignment 4: Iterating Over Dictionaries\n",
    "\n",
    "Iterate over the dictionary created in Assignment 1 and print each key-value pair.\n",
    "\n",
    "### Assignment 5: Dictionary Comprehensions\n",
    "\n",
    "Create a new dictionary containing the cubes of the first 10 positive integers using a dictionary comprehension. Print the new dictionary.\n",
    "\n",
    "### Assignment 6: Merging Dictionaries\n",
    "\n",
    "Create two dictionaries: one with keys as the first 5 positive integers and values as their squares, and another with keys as the next 5 positive integers and values as their squares. Merge these dictionaries into a single dictionary and print it.\n",
    "\n",
    "### Assignment 7: Nested Dictionaries\n",
    "\n",
    "Create a nested dictionary representing a student with keys 'name', 'age', 'grades', where 'grades' is another dictionary with keys 'math', 'science', and 'english'. Print the nested dictionary.\n",
    "\n",
    "### Assignment 8: Dictionary of Lists\n",
    "\n",
    "Create a dictionary where the keys are the first 5 positive integers and the values are lists containing the first 5 multiples of the key. Print the dictionary.\n",
    "\n",
    "### Assignment 9: Dictionary of Tuples\n",
    "\n",
    "Create a dictionary where the keys are the first 5 positive integers and the values are tuples containing the key and its square. Print the dictionary.\n",
    "\n",
    "### Assignment 10: Dictionary and List Conversion\n",
    "\n",
    "Create a dictionary with the first 5 positive integers as keys and their squares as values. Convert the dictionary to a list of tuples and print it.\n",
    "\n",
    "### Assignment 11: Dictionary Filtering\n",
    "\n",
    "Create a dictionary with the first 10 positive integers as keys and their squares as values. Create a new dictionary containing only the key-value pairs where the key is even. Print the new dictionary.\n",
    "\n",
    "### Assignment 12: Dictionary Key and Value Transformation\n",
    "\n",
    "Create a dictionary with the first 5 positive integers as keys and their squares as values. Create a new dictionary with keys and values swapped. Print the new dictionary.\n",
    "\n",
    "### Assignment 13: Default Dictionary\n",
    "\n",
    "Create a default dictionary where each key has a default value of an empty list. Add some elements to the lists and print the dictionary.\n",
    "\n",
    "### Assignment 14: Counting with Dictionaries\n",
    "\n",
    "Write a function that takes a string and returns a dictionary with the count of each character in the string. Print the dictionary.\n",
    "\n",
    "### Assignment 15: Dictionary and JSON\n",
    "\n",
    "Create a dictionary representing a book with keys 'title', 'author', 'year', and 'genre'. Convert the dictionary to a JSON string and print it."
   ]
  },
  {
   "cell_type": "markdown",
   "id": "d6ea776b",
   "metadata": {},
   "source": [
    "## Keys are immutable so we cannot use lists as keys--> Can use Tuple or frozenset"
   ]
  },
  {
   "cell_type": "markdown",
   "id": "cec03451",
   "metadata": {},
   "source": [
    "### 1"
   ]
  },
  {
   "cell_type": "code",
   "execution_count": 1,
   "metadata": {},
   "outputs": [
    {
     "name": "stdout",
     "output_type": "stream",
     "text": [
      "{1: 1, 2: 4, 3: 9, 4: 16, 5: 25, 6: 36, 7: 49, 8: 64, 9: 81, 10: 100}\n"
     ]
    }
   ],
   "source": [
    "Dict={x:x**2 for x in range (1,11)}\n",
    "print(Dict)"
   ]
  },
  {
   "cell_type": "markdown",
   "id": "a7df8898",
   "metadata": {},
   "source": [
    "### 2"
   ]
  },
  {
   "cell_type": "code",
   "execution_count": 3,
   "id": "d4ba3c2d",
   "metadata": {},
   "outputs": [
    {
     "name": "stdout",
     "output_type": "stream",
     "text": [
      "5:25\n",
      "1:1\n",
      "2:4\n",
      "3:9\n",
      "4:16\n",
      "5:25\n",
      "6:36\n",
      "7:49\n",
      "8:64\n",
      "9:81\n",
      "10:100\n"
     ]
    }
   ],
   "source": [
    "print(f\"{5}:{Dict[5]}\")\n",
    "\n",
    "for keys,values in Dict.items():\n",
    "    print(f\"{keys}:{values}\")"
   ]
  },
  {
   "cell_type": "markdown",
   "id": "dfd750ca",
   "metadata": {},
   "source": [
    "### 3"
   ]
  },
  {
   "cell_type": "code",
   "execution_count": 4,
   "id": "833bfd13",
   "metadata": {},
   "outputs": [
    {
     "data": {
      "text/plain": [
       "{2: 4, 3: 9, 4: 16, 5: 25, 6: 36, 7: 49, 8: 64, 9: 81, 10: 100, 11: 121}"
      ]
     },
     "execution_count": 4,
     "metadata": {},
     "output_type": "execute_result"
    }
   ],
   "source": [
    "Dict[11]=121\n",
    "del Dict[1]\n",
    "\n",
    "Dict"
   ]
  },
  {
   "cell_type": "markdown",
   "id": "a27184d0",
   "metadata": {},
   "source": [
    "### 4"
   ]
  },
  {
   "cell_type": "code",
   "execution_count": 5,
   "id": "37138add",
   "metadata": {},
   "outputs": [
    {
     "name": "stdout",
     "output_type": "stream",
     "text": [
      "2:4\n",
      "3:9\n",
      "4:16\n",
      "5:25\n",
      "6:36\n",
      "7:49\n",
      "8:64\n",
      "9:81\n",
      "10:100\n",
      "11:121\n"
     ]
    }
   ],
   "source": [
    "for keys,values in Dict.items():\n",
    "    print(f\"{keys}:{values}\")"
   ]
  },
  {
   "cell_type": "markdown",
   "id": "62f493c2",
   "metadata": {},
   "source": [
    "### 5"
   ]
  },
  {
   "cell_type": "code",
   "execution_count": 6,
   "id": "461cbdb2",
   "metadata": {},
   "outputs": [
    {
     "data": {
      "text/plain": [
       "{1: 1, 2: 8, 3: 27, 4: 64, 5: 125, 6: 216, 7: 343, 8: 512, 9: 729, 10: 1000}"
      ]
     },
     "execution_count": 6,
     "metadata": {},
     "output_type": "execute_result"
    }
   ],
   "source": [
    "Cubes={x:x**3 for x in range(1,11)}\n",
    "Cubes"
   ]
  },
  {
   "cell_type": "markdown",
   "id": "25ba68d8",
   "metadata": {},
   "source": [
    "### 6"
   ]
  },
  {
   "cell_type": "code",
   "execution_count": 7,
   "id": "a1780848",
   "metadata": {},
   "outputs": [
    {
     "name": "stdout",
     "output_type": "stream",
     "text": [
      "{1: 1, 2: 4, 3: 9, 4: 16, 5: 25, 6: 36, 7: 49, 8: 64, 9: 81, 10: 100}\n"
     ]
    }
   ],
   "source": [
    "First_five={x:x**2 for x in range(1,6)}\n",
    "Next_five={x:x**2 for x in range(6,11)}\n",
    "\n",
    "meged_dict={**First_five,**Next_five}\n",
    "print(meged_dict)"
   ]
  },
  {
   "cell_type": "markdown",
   "id": "40b2a023",
   "metadata": {},
   "source": [
    "### 7"
   ]
  },
  {
   "cell_type": "code",
   "execution_count": 10,
   "id": "b0f99344",
   "metadata": {},
   "outputs": [
    {
     "name": "stdout",
     "output_type": "stream",
     "text": [
      "{'name': 'Obiwan', 'age': 25, 'grade': {'math': 99, 'science': 94, 'english': 91}}\n",
      "name:Obiwan\n",
      "age:25\n",
      "grade:{'math': 99, 'science': 94, 'english': 91}\n",
      "math:99\n",
      "science:94\n",
      "english:91\n"
     ]
    }
   ],
   "source": [
    "student={\n",
    "    \"name\": \"Obiwan\",\n",
    "    \"age\": 25,\n",
    "    \"grade\":{\"math\":99,\"science\":94,\"english\":91}\n",
    "}\n",
    "\n",
    "print(student)\n",
    "\n",
    "for keys,values in student.items():\n",
    "    print(f\"{keys}:{values}\")\n",
    "    if(keys==\"grade\"):\n",
    "        for k,v in student[keys].items():\n",
    "            print(f\"{k}:{v}\")"
   ]
  },
  {
   "cell_type": "markdown",
   "id": "19b60daf",
   "metadata": {},
   "source": [
    "### 8"
   ]
  },
  {
   "cell_type": "code",
   "execution_count": 11,
   "id": "bc1486d3",
   "metadata": {},
   "outputs": [
    {
     "name": "stdout",
     "output_type": "stream",
     "text": [
      "{1: [1, 2, 3, 4, 5], 2: [2, 4, 6, 8, 10], 3: [3, 6, 9, 12, 15], 4: [4, 8, 12, 16, 20], 5: [5, 10, 15, 20, 25]}\n"
     ]
    }
   ],
   "source": [
    "multiple={\n",
    "    1:[1,2,3,4,5],\n",
    "    2:[2,4,6,8,10],\n",
    "    3:[3,6,9,12,15],\n",
    "    4:[4,8,12,16,20],\n",
    "    5:[5,10,15,20,25]\n",
    "\n",
    "}\n",
    "\n",
    "print(multiple)"
   ]
  },
  {
   "cell_type": "markdown",
   "id": "05fb6824",
   "metadata": {},
   "source": [
    "### 9"
   ]
  },
  {
   "cell_type": "code",
   "execution_count": 13,
   "id": "36156760",
   "metadata": {},
   "outputs": [
    {
     "name": "stdout",
     "output_type": "stream",
     "text": [
      "{1: (1, 1), 2: (2, 4), 3: (3, 9), 4: (4, 16), 5: [5, 25]}\n"
     ]
    }
   ],
   "source": [
    "multiples={\n",
    "    1:tuple([1,1]),\n",
    "    2:(2,4),\n",
    "    3:(3,9),\n",
    "    4:(4,16),\n",
    "    5:[5,25]\n",
    "\n",
    "}\n",
    "\n",
    "print(multiples)"
   ]
  },
  {
   "cell_type": "markdown",
   "id": "166f74a5",
   "metadata": {},
   "source": [
    "### 10"
   ]
  },
  {
   "cell_type": "code",
   "execution_count": 15,
   "id": "94781643",
   "metadata": {},
   "outputs": [
    {
     "name": "stdout",
     "output_type": "stream",
     "text": [
      "<class 'dict_items'> dict_items([(1, 1), (2, 4), (3, 9), (4, 16), (5, 25), (6, 36), (7, 49), (8, 64), (9, 81), (10, 100)])\n",
      "<class 'list'> [(1, 1), (2, 4), (3, 9), (4, 16), (5, 25), (6, 36), (7, 49), (8, 64), (9, 81), (10, 100)]\n"
     ]
    }
   ],
   "source": [
    "d={x:x**2 for x in range(1,11)}\n",
    "\n",
    "print(type(d.items()),d.items())\n",
    "lst=list(d.items())\n",
    "print(type(lst),lst)"
   ]
  },
  {
   "cell_type": "markdown",
   "id": "4c74f110",
   "metadata": {},
   "source": [
    "### 11"
   ]
  },
  {
   "cell_type": "code",
   "execution_count": 18,
   "id": "c41bc5cf",
   "metadata": {},
   "outputs": [
    {
     "name": "stdout",
     "output_type": "stream",
     "text": [
      "{2: 4, 4: 16, 6: 36, 8: 64, 10: 100}\n"
     ]
    }
   ],
   "source": [
    "square={x:x**2 for x in range(1,11)}\n",
    "even={x:y for x,y in square.items() if x%2==0}\n",
    "print(even)"
   ]
  },
  {
   "cell_type": "markdown",
   "id": "04aad655",
   "metadata": {},
   "source": [
    "### 12"
   ]
  },
  {
   "cell_type": "code",
   "execution_count": 19,
   "id": "8e36105e",
   "metadata": {},
   "outputs": [
    {
     "name": "stdout",
     "output_type": "stream",
     "text": [
      "{1: 1, 4: 2, 9: 3, 16: 4, 25: 5, 36: 6, 49: 7, 64: 8, 81: 9, 100: 10}\n"
     ]
    }
   ],
   "source": [
    "square={x:x**2 for x in range(1,11)}\n",
    "swapped={y:x for x,y in square.items()}\n",
    "print(swapped)"
   ]
  },
  {
   "cell_type": "markdown",
   "id": "5a6af8f6",
   "metadata": {},
   "source": [
    "### 13"
   ]
  },
  {
   "cell_type": "markdown",
   "id": "8915a2b7",
   "metadata": {},
   "source": [
    "### What is defaultdict?\n",
    "defaultdict is a subclass of Python's built-in dict. It provides a default value for a key that does not exist, eliminating the need to check if a key is already in the dictionary before performing operations like appending or assigning.\n",
    "\n"
   ]
  },
  {
   "cell_type": "markdown",
   "id": "b9d0a509",
   "metadata": {},
   "source": [
    "### Create a defaultdict with `list` as the default factory.\n",
    "default_dict = defaultdict(list)\n"
   ]
  },
  {
   "cell_type": "code",
   "execution_count": 24,
   "id": "ca1b311f",
   "metadata": {},
   "outputs": [
    {
     "name": "stdout",
     "output_type": "stream",
     "text": [
      "defaultdict(<class 'list'>, {'a': [1], 'b': [2]})\n"
     ]
    }
   ],
   "source": [
    "from collections import defaultdict\n",
    "\n",
    "# default_dict=defaultdict(int)\n",
    "# print(default_dict)\n",
    "\n",
    "default_dict=defaultdict(list)#\n",
    "default_dict[\"a\"].append(1)\n",
    "default_dict[\"b\"].append(2)\n",
    "\n",
    "\n",
    "\n",
    "print(default_dict)\n"
   ]
  },
  {
   "cell_type": "markdown",
   "id": "699e6281",
   "metadata": {},
   "source": [
    "### With list"
   ]
  },
  {
   "cell_type": "code",
   "execution_count": 25,
   "id": "6e5c89ef",
   "metadata": {},
   "outputs": [
    {
     "name": "stdout",
     "output_type": "stream",
     "text": [
      "defaultdict(<class 'list'>, {'a': [1, 2], 'b': [3]})\n",
      "[]\n"
     ]
    }
   ],
   "source": [
    "from collections import defaultdict\n",
    "\n",
    "default_dict = defaultdict(list)\n",
    "\n",
    "# Accessing or modifying a missing key\n",
    "default_dict['a'].append(1)  # Creates 'a' with default value [] and appends 1\n",
    "default_dict['a'].append(2)\n",
    "default_dict['b'].append(3)\n",
    "\n",
    "print(default_dict)  \n",
    "# Output: defaultdict(<class 'list'>, {'a': [1, 2], 'b': [3]})\n",
    "\n",
    "print(default_dict['c'])  \n",
    "# Output: [] (default value for a missing key is an empty list)\n"
   ]
  },
  {
   "cell_type": "markdown",
   "id": "15ee3662",
   "metadata": {},
   "source": [
    "### int\n"
   ]
  },
  {
   "cell_type": "code",
   "execution_count": 26,
   "id": "ac57e0ce",
   "metadata": {},
   "outputs": [
    {
     "name": "stdout",
     "output_type": "stream",
     "text": [
      "defaultdict(<class 'int'>, {'m': 1, 'i': 4, 's': 4, 'p': 2})\n",
      "0\n"
     ]
    }
   ],
   "source": [
    "from collections import defaultdict\n",
    "\n",
    "default_dict = defaultdict(int)\n",
    "\n",
    "# Counting occurrences of elements\n",
    "for char in \"mississippi\":\n",
    "    default_dict[char] += 1  # Missing keys get default value 0, then incremented\n",
    "\n",
    "print(default_dict)  \n",
    "# Output: defaultdict(<class 'int'>, {'m': 1, 'i': 4, 's': 4, 'p': 2})\n",
    "\n",
    "print(default_dict['z'])  \n",
    "# Output: 0 (default value for a missing key is 0)\n"
   ]
  },
  {
   "cell_type": "markdown",
   "id": "11ff934f",
   "metadata": {},
   "source": [
    "### str"
   ]
  },
  {
   "cell_type": "code",
   "execution_count": 31,
   "id": "1513b6c9",
   "metadata": {},
   "outputs": [
    {
     "name": "stdout",
     "output_type": "stream",
     "text": [
      "defaultdict(<class 'str'>, {'a': 'hello', 'b': 'world'})\n",
      "\n",
      "defaultdict(<class 'str'>, {'a': 'hello', 'b': 'world', 'c': '', 'd': ''})\n"
     ]
    }
   ],
   "source": [
    "from collections import defaultdict\n",
    "\n",
    "default_dict = defaultdict(str)\n",
    "\n",
    "# Concatenating strings\n",
    "default_dict['a'] += \"hello\"\n",
    "default_dict['b'] += \"world\"\n",
    "\n",
    "print(default_dict)  \n",
    "# Output: defaultdict(<class 'str'>, {'a': 'hello', 'b': 'world'})\n",
    "\n",
    "print(default_dict['c'])  \n",
    "# Output: '' (default value for a missing key is an empty string)\n",
    "default_dict['d']\n",
    "print(default_dict) \n",
    "\n"
   ]
  },
  {
   "cell_type": "markdown",
   "id": "904c0142",
   "metadata": {},
   "source": [
    "### float"
   ]
  },
  {
   "cell_type": "code",
   "execution_count": 28,
   "id": "91c57a9f",
   "metadata": {},
   "outputs": [
    {
     "name": "stdout",
     "output_type": "stream",
     "text": [
      "defaultdict(<class 'float'>, {'a': 1.5, 'b': 2.0})\n",
      "0.0\n"
     ]
    }
   ],
   "source": [
    "from collections import defaultdict\n",
    "\n",
    "default_dict = defaultdict(float)\n",
    "\n",
    "# Assigning or incrementing float values\n",
    "default_dict['a'] += 1.5\n",
    "default_dict['b'] += 2.0\n",
    "\n",
    "print(default_dict)  \n",
    "# Output: defaultdict(<class 'float'>, {'a': 1.5, 'b': 2.0})\n",
    "\n",
    "print(default_dict['c'])  \n",
    "# Output: 0.0 (default value for a missing key is 0.0)\n"
   ]
  },
  {
   "cell_type": "markdown",
   "id": "d06c70ad",
   "metadata": {},
   "source": [
    "### tuple"
   ]
  },
  {
   "cell_type": "code",
   "execution_count": 32,
   "id": "0ef1fa84",
   "metadata": {},
   "outputs": [
    {
     "name": "stdout",
     "output_type": "stream",
     "text": [
      "()\n",
      "defaultdict(<class 'tuple'>, {'a': (1, 2)})\n",
      "defaultdict(<class 'tuple'>, {'a': (1, 2), 'b': (3, 4)})\n",
      "()\n"
     ]
    }
   ],
   "source": [
    "from collections import defaultdict\n",
    "\n",
    "default_dict = defaultdict(tuple)\n",
    "\n",
    "# Accessing a missing key\n",
    "print(default_dict['a'])  # Output: () (default value is an empty tuple)\n",
    "\n",
    "# Attempting to modify the tuple (will require reassignment)\n",
    "default_dict['a'] += (1, 2)\n",
    "print(default_dict)  \n",
    "# Output: defaultdict(<class 'tuple'>, {'a': (1, 2)})\n",
    "\n",
    "# Adding to another key\n",
    "default_dict['b'] += (3, 4)\n",
    "print(default_dict)  \n",
    "# Output: defaultdict(<class 'tuple'>, {'a': (1, 2), 'b': (3, 4)})\n",
    "\n",
    "# Accessing another missing key\n",
    "print(default_dict['c'])  # Output: () (default value is an empty tuple)\n"
   ]
  },
  {
   "cell_type": "markdown",
   "id": "a5393a51",
   "metadata": {},
   "source": [
    "### 14"
   ]
  },
  {
   "cell_type": "code",
   "execution_count": 34,
   "id": "d85218ec",
   "metadata": {},
   "outputs": [
    {
     "name": "stdout",
     "output_type": "stream",
     "text": [
      "S:1\n",
      "a:3\n",
      "i:1\n",
      "n:1\n",
      "v:1\n"
     ]
    }
   ],
   "source": [
    "def count(str):\n",
    "    count={}\n",
    "    for ch in str:\n",
    "        if ch in count:\n",
    "            count[ch]+=1\n",
    "        else:\n",
    "            count[ch]=1\n",
    "    return count\n",
    "\n",
    "name=\"Sainava\"\n",
    "freq=count(name)\n",
    "\n",
    "for keys,values in freq.items():\n",
    "    print(f\"{keys}:{values}\")\n",
    "\n"
   ]
  },
  {
   "cell_type": "markdown",
   "id": "07b11d87",
   "metadata": {},
   "source": [
    "### 15"
   ]
  },
  {
   "cell_type": "markdown",
   "id": "088f08ec",
   "metadata": {},
   "source": [
    "### JSON and Dictionary have the same format"
   ]
  },
  {
   "cell_type": "markdown",
   "id": "d2acfbef",
   "metadata": {},
   "source": [
    "### In Python, the json.dumps() method is used to convert a Python dictionary (or any Python object) into a JSON string. The name dumps stands for \"dump string,\" which refers to converting an object into a string representation of JSON."
   ]
  },
  {
   "cell_type": "markdown",
   "id": "2466344b",
   "metadata": {},
   "source": [
    "### json.dumps() takes a Python object (like a dictionary) and returns its JSON-formatted string representation.\n",
    "### This method is useful when you want to send data in JSON format (e.g., for APIs or saving data to files)."
   ]
  },
  {
   "cell_type": "code",
   "execution_count": 36,
   "id": "d8726f60",
   "metadata": {},
   "outputs": [
    {
     "name": "stdout",
     "output_type": "stream",
     "text": [
      "<class 'str'> {\"title\": \"To Kill a Mockingbird\", \"author\": \"Harper Lee\", \"year\": 1960, \"genre\": \"Fiction\"}\n"
     ]
    }
   ],
   "source": [
    "import json\n",
    "book = {\n",
    "    'title': 'To Kill a Mockingbird',\n",
    "    'author': 'Harper Lee',\n",
    "    'year': 1960,\n",
    "    'genre': 'Fiction'\n",
    "}\n",
    "\n",
    "# Convert the dictionary to a JSON string\n",
    "book_json=json.dumps(book)\n",
    "print(type(book_json),book_json)\n"
   ]
  },
  {
   "cell_type": "code",
   "execution_count": null,
   "id": "078f9a2b",
   "metadata": {},
   "outputs": [],
   "source": []
  }
 ],
 "metadata": {
  "kernelspec": {
   "display_name": "venv",
   "language": "python",
   "name": "python3"
  },
  "language_info": {
   "codemirror_mode": {
    "name": "ipython",
    "version": 3
   },
   "file_extension": ".py",
   "mimetype": "text/x-python",
   "name": "python",
   "nbconvert_exporter": "python",
   "pygments_lexer": "ipython3",
   "version": "3.12.0"
  }
 },
 "nbformat": 4,
 "nbformat_minor": 5
}
