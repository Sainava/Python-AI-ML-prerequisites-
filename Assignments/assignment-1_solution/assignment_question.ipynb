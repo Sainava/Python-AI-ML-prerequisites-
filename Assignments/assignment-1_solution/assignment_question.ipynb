{
 "cells": [
  {
   "cell_type": "markdown",
   "metadata": {},
   "source": [
    "# Lesson 1.2: Python Basics\n",
    "## Topics Covered:\n",
    "- Syntax and Semantics\n",
    "- Variables and Data Types\n",
    "- Basic Operators (Arithmetic, Comparison, Logical)\n"
   ]
  },
  {
   "cell_type": "markdown",
   "metadata": {},
   "source": [
    "## 1. Syntax and Semantics\n",
    "\n",
    "**Question 1:** Write a Python program to print \"Hello, World!\"."
   ]
  },
  {
   "cell_type": "code",
   "execution_count": 6,
   "metadata": {},
   "outputs": [
    {
     "name": "stdout",
     "output_type": "stream",
     "text": [
      "Hello, World!\n"
     ]
    }
   ],
   "source": [
    "# Your code here\n",
    "print(\"Hello, World!\")\n"
   ]
  },
  {
   "cell_type": "markdown",
   "metadata": {},
   "source": [
    "**Question 2:** Write a Python program that takes a user input and prints it."
   ]
  },
  {
   "cell_type": "code",
   "execution_count": 7,
   "metadata": {},
   "outputs": [
    {
     "name": "stdout",
     "output_type": "stream",
     "text": [
      "hello Sainava\n"
     ]
    }
   ],
   "source": [
    "# Your code here\n",
    "var=input(\"Enetr your name: \")\n",
    "\n",
    "print(\"hello\",var)\n",
    "\n"
   ]
  },
  {
   "cell_type": "markdown",
   "metadata": {},
   "source": [
    "**Question 3:** Write a Python program to check if a number is positive, negative, or zero."
   ]
  },
  {
   "cell_type": "code",
   "execution_count": 10,
   "metadata": {},
   "outputs": [
    {
     "name": "stdout",
     "output_type": "stream",
     "text": [
      "7975959  is positive\n"
     ]
    }
   ],
   "source": [
    "# Your code here\n",
    "\n",
    "num=int(input(\"Ente the number: \"))\n",
    "\n",
    "if(num>0):\n",
    "    print(num,\" is positive\")\n",
    "elif num<0:\n",
    "     print(\"The number is negative\")\n",
    "else:\n",
    "    print(\"The number is zero\")"
   ]
  },
  {
   "cell_type": "markdown",
   "metadata": {},
   "source": [
    "**Question 4:** Write a Python program to find the largest of three numbers."
   ]
  },
  {
   "cell_type": "code",
   "execution_count": 11,
   "metadata": {},
   "outputs": [
    {
     "name": "stdout",
     "output_type": "stream",
     "text": [
      "987  is the largest number\n"
     ]
    }
   ],
   "source": [
    "# Your code here\n",
    "\n",
    "num1=int(input(\"Enter the first number: \"))\n",
    "num2=int(input(\"Enter the second number: \"))\n",
    "num3=int(input(\"Enter the third number: \"))\n",
    "\n",
    "if(num1>num2 and num1>num3):\n",
    "    print(num1,\" is the largest number\")\n",
    "elif(num2>num1 and num2>num3):\n",
    "    print(num2,\" is the largest number\")\n",
    "else:\n",
    "    print(num3,\" is the largest number\")"
   ]
  },
  {
   "cell_type": "markdown",
   "metadata": {},
   "source": [
    "**Question 5:** Write a Python program to calculate the factorial of a number."
   ]
  },
  {
   "cell_type": "code",
   "execution_count": 13,
   "metadata": {},
   "outputs": [
    {
     "name": "stdout",
     "output_type": "stream",
     "text": [
      "The factorial of  7  is  5040\n"
     ]
    }
   ],
   "source": [
    "# Your code here\n",
    "\n",
    "num=int(input(\"Enter the number: \"))\n",
    "fact=1\n",
    "for i in range(1,num+1):\n",
    "    fact*=i\n",
    "print(\"The factorial of \",num,\" is \",fact)"
   ]
  },
  {
   "cell_type": "markdown",
   "metadata": {},
   "source": [
    "## 2. Variables and Data Types\n",
    "\n",
    "**Question 6:** Create variables of different data types: integer, float, string, and boolean. Print their values and types."
   ]
  },
  {
   "cell_type": "code",
   "execution_count": 38,
   "metadata": {},
   "outputs": [
    {
     "name": "stdout",
     "output_type": "stream",
     "text": [
      "<class 'bool'> True\n"
     ]
    }
   ],
   "source": [
    "# Your code here\n",
    "\n",
    "# num=int(input(\"Enter the number: \"))\n",
    "# print(type(num),num)\n",
    "# st=input(\"Enter the string: \")\n",
    "# print(type(st),st)\n",
    "# flt=float(input(\"Enter the float: \"))\n",
    "# print(type(flt),flt)\n",
    "bl=bool(float(input(\"Enter the boolean: \")))\n",
    "print(type(bl),bl)\n"
   ]
  },
  {
   "cell_type": "markdown",
   "metadata": {},
   "source": [
    "**Question 7:** Write a Python program to swap the values of two variables."
   ]
  },
  {
   "cell_type": "code",
   "execution_count": null,
   "metadata": {},
   "outputs": [
    {
     "name": "stdout",
     "output_type": "stream",
     "text": [
      "Before swapping:  12 34\n",
      "After swapping:  34 12\n"
     ]
    }
   ],
   "source": [
    "# Your code here\n",
    "\n",
    "num1=int(input(\"Enter the number: \"))\n",
    "num2=int(input(\"Enter the number: \"))\n",
    "\n",
    "print(\"Before swapping: \",num1,num2)\n",
    "\n",
    "# temp=num1\n",
    "# num1=num2\n",
    "# num2=temp\n",
    "\n",
    "num1,num2=num2,num1\n",
    "\n",
    "# num1=num1+num2\n",
    "# num2=num1-num2\n",
    "# num1=num1-num2\n",
    "\n",
    "#Using Bitwise XOR\n",
    "# num1=num1^num2\n",
    "# num2=num1^num2\n",
    "# num1=num1^num2\n",
    "\n",
    "print(\"After swapping: \",num1,num2)"
   ]
  },
  {
   "cell_type": "markdown",
   "metadata": {},
   "source": [
    "**Question 8:** Write a Python program to convert Celsius to Fahrenheit."
   ]
  },
  {
   "cell_type": "code",
   "execution_count": 16,
   "metadata": {},
   "outputs": [
    {
     "name": "stdout",
     "output_type": "stream",
     "text": [
      "The temperature in fahrenheit is:  73.4\n"
     ]
    }
   ],
   "source": [
    "# Your code here\n",
    "\n",
    "cel=float(input(\"Enter the temperature in celsius: \"))\n",
    "fah=(cel*9/5)+32\n",
    "print(\"The temperature in fahrenheit is: \",fah)\n",
    "\n"
   ]
  },
  {
   "cell_type": "markdown",
   "metadata": {},
   "source": [
    "**Question 9:** Write a Python program to concatenate two strings."
   ]
  },
  {
   "cell_type": "code",
   "execution_count": 18,
   "metadata": {},
   "outputs": [
    {
     "name": "stdout",
     "output_type": "stream",
     "text": [
      "The concatenated string is:  Sainava  Modak\n"
     ]
    }
   ],
   "source": [
    "# Your code here\n",
    "\n",
    "str1=input(\"Enter the string: \")\n",
    "str2=input(\"Enter the string: \")\n",
    "str3=str1 + \" \" +str2\n",
    "print(\"The concatenated string is: \",str3)"
   ]
  },
  {
   "cell_type": "markdown",
   "metadata": {},
   "source": [
    "**Question 10:** Write a Python program to check if a variable is of a specific data type."
   ]
  },
  {
   "cell_type": "code",
   "execution_count": 21,
   "metadata": {},
   "outputs": [
    {
     "name": "stdout",
     "output_type": "stream",
     "text": [
      "The variable is of type int\n",
      "The variable is of type str\n",
      "The variable is of type float\n",
      "The variable is of type bool\n"
     ]
    }
   ],
   "source": [
    "# Function to check the data type of a variable\n",
    "def check_data_type(variable, data_type):\n",
    "    if isinstance(variable, data_type):\n",
    "        print(f\"The variable is of type {data_type.__name__}\")\n",
    "    else:\n",
    "        print(f\"The variable is NOT of type {data_type.__name__}\")\n",
    "\n",
    "# Test cases\n",
    "num = 10\n",
    "string = \"Hello\"\n",
    "flt = 23.56\n",
    "bl = True\n",
    "\n",
    "# Checking data types\n",
    "check_data_type(num, int)      # Checks if 'num' is an integer\n",
    "check_data_type(string, str)   # Checks if 'string' is a string\n",
    "check_data_type(flt, float)    # Checks if 'flt' is a float\n",
    "check_data_type(bl, bool)      # Checks if 'bl' is a boolean\n"
   ]
  },
  {
   "cell_type": "code",
   "execution_count": 22,
   "metadata": {},
   "outputs": [
    {
     "name": "stdout",
     "output_type": "stream",
     "text": [
      "<class 'int'>\n",
      "int\n"
     ]
    }
   ],
   "source": [
    "# Your code here\n",
    "\n",
    "x=type(10)\n",
    "print(x)\n",
    "print(x.__name__)\n"
   ]
  },
  {
   "cell_type": "markdown",
   "metadata": {},
   "source": [
    "## 3. Basic Operators (Arithmetic, Comparison, Logical)\n",
    "\n",
    "**Question 11:** Write a Python program to perform arithmetic operations: addition, subtraction, multiplication, and division."
   ]
  },
  {
   "cell_type": "code",
   "execution_count": 23,
   "metadata": {},
   "outputs": [
    {
     "name": "stdout",
     "output_type": "stream",
     "text": [
      "The sum of 10 and 20 is 30\n"
     ]
    }
   ],
   "source": [
    "# Your code here\n",
    "num1 = 10\n",
    "num2 = 20\n",
    "\n",
    "# Addition\n",
    "add = num1 + num2\n",
    "print(f\"The sum of {num1} and {num2} is {add}\")\n"
   ]
  },
  {
   "cell_type": "markdown",
   "metadata": {},
   "source": [
    "**Question 12:** Write a Python program to demonstrate comparison operators: equal to, not equal to, greater than, less than."
   ]
  },
  {
   "cell_type": "code",
   "execution_count": null,
   "metadata": {},
   "outputs": [],
   "source": [
    "# Your code here"
   ]
  },
  {
   "cell_type": "markdown",
   "metadata": {},
   "source": [
    "**Question 13:** Write a Python program to demonstrate logical operators: and, or, not."
   ]
  },
  {
   "cell_type": "code",
   "execution_count": 26,
   "metadata": {},
   "outputs": [
    {
     "name": "stdout",
     "output_type": "stream",
     "text": [
      "True\n"
     ]
    }
   ],
   "source": [
    "# Your code here\n",
    "\n",
    "num1 = 10\n",
    "num2 = 20\n",
    "\n",
    "print(num1<=10 and num2 >=20)"
   ]
  },
  {
   "cell_type": "markdown",
   "metadata": {},
   "source": [
    "**Question 14:** Write a Python program to calculate the square of a number."
   ]
  },
  {
   "cell_type": "code",
   "execution_count": 28,
   "metadata": {},
   "outputs": [
    {
     "name": "stdout",
     "output_type": "stream",
     "text": [
      "The square of  5  is  25\n"
     ]
    }
   ],
   "source": [
    "# Your code here\n",
    "num=int(input(\"Enter the number: \"))\n",
    "\n",
    "square=num**2\n",
    "\n",
    "print(\"The square of \",num,\" is \",square)"
   ]
  },
  {
   "cell_type": "markdown",
   "metadata": {},
   "source": [
    "**Question 15:** Write a Python program to check if a number is even or odd."
   ]
  },
  {
   "cell_type": "code",
   "execution_count": 29,
   "metadata": {},
   "outputs": [
    {
     "name": "stdout",
     "output_type": "stream",
     "text": [
      "34  is even\n"
     ]
    }
   ],
   "source": [
    "# Your code here\n",
    "\n",
    "num1=int(input(\"Enter the first number: \"))\n",
    "\n",
    "if(num1&1):\n",
    "    print(num1,\" is odd\")\n",
    "else:\n",
    "    print(num1,\" is even\")"
   ]
  },
  {
   "cell_type": "markdown",
   "metadata": {},
   "source": [
    "**Question 16:** Write a Python program to find the sum of the first n natural numbers."
   ]
  },
  {
   "cell_type": "code",
   "execution_count": 41,
   "metadata": {},
   "outputs": [
    {
     "name": "stdout",
     "output_type": "stream",
     "text": [
      "The sum of first  100  natural numbers is  5050\n"
     ]
    }
   ],
   "source": [
    "# Your code here\n",
    "n=int(input(\"Enter the number: \"))\n",
    "sum=0\n",
    "\n",
    "for i in range(1,n+1):\n",
    "    sum+=i\n",
    "print(\"The sum of first \",n,\" natural numbers is \",sum)"
   ]
  },
  {
   "cell_type": "markdown",
   "metadata": {},
   "source": [
    "**Question 17:** Write a Python program to check if a year is a leap year."
   ]
  },
  {
   "cell_type": "code",
   "execution_count": 43,
   "metadata": {},
   "outputs": [
    {
     "name": "stdout",
     "output_type": "stream",
     "text": [
      "2010 is not a leap year\n"
     ]
    }
   ],
   "source": [
    "# Your code here\n",
    "\n",
    "year =int(input(\"Enter a year: \"))\n",
    "\n",
    "if(year%4==0 and (year%100!=0 or year%400==0)):\n",
    "    print(year, \"is a leap year\")\n",
    "else:\n",
    "    print(year, \"is not a leap year\")"
   ]
  },
  {
   "cell_type": "markdown",
   "metadata": {},
   "source": [
    "**Question 18:** Write a Python program to reverse a string."
   ]
  },
  {
   "cell_type": "code",
   "execution_count": 48,
   "metadata": {},
   "outputs": [
    {
     "name": "stdout",
     "output_type": "stream",
     "text": [
      "The reversed string is:  avaniaS\n"
     ]
    }
   ],
   "source": [
    "# Your code here\n",
    "\n",
    "st=input(\"Enter the string: \")\n",
    "\n",
    "\n",
    "# print(st[::-1])\n",
    "st=st[::-1]#Returns the reversed string\n",
    "print(\"The reversed string is: \",st)\n",
    "\n",
    "#s[0]=\"i\"#Strings are immutable in python\n"
   ]
  },
  {
   "cell_type": "markdown",
   "metadata": {},
   "source": [
    "**Question 19:** Write a Python program to check if a string is a palindrome."
   ]
  },
  {
   "cell_type": "code",
   "execution_count": 53,
   "metadata": {},
   "outputs": [
    {
     "name": "stdout",
     "output_type": "stream",
     "text": [
      "The string is not palindrome\n"
     ]
    }
   ],
   "source": [
    "# Your code here\n",
    "\n",
    "st=input(\"Enter the string: \")\n",
    "i=0\n",
    "j=len(st)-1\n",
    "\n",
    "while(i!=j):\n",
    "    if(st[i]==st[j]):\n",
    "        i+=1\n",
    "        j-=1\n",
    "    else:\n",
    "        print(\"The string is not palindrome\")\n",
    "        break\n",
    "\n",
    "else:\n",
    "\n",
    "    print(\"The string is palindrome\")"
   ]
  },
  {
   "cell_type": "markdown",
   "metadata": {},
   "source": [
    "**Question 20:** Write a Python program to sort a list of numbers in ascending order."
   ]
  },
  {
   "cell_type": "code",
   "execution_count": 55,
   "metadata": {},
   "outputs": [
    {
     "ename": "IndexError",
     "evalue": "list index out of range",
     "output_type": "error",
     "traceback": [
      "\u001b[0;31m---------------------------------------------------------------------------\u001b[0m",
      "\u001b[0;31mIndexError\u001b[0m                                Traceback (most recent call last)",
      "Cell \u001b[0;32mIn[55], line 9\u001b[0m\n\u001b[1;32m      7\u001b[0m \u001b[38;5;28;01mfor\u001b[39;00m i \u001b[38;5;129;01min\u001b[39;00m \u001b[38;5;28mrange\u001b[39m(\u001b[38;5;28mlen\u001b[39m(l)\u001b[38;5;241m-\u001b[39m\u001b[38;5;241m1\u001b[39m):\n\u001b[1;32m      8\u001b[0m     \u001b[38;5;28;01mfor\u001b[39;00m j \u001b[38;5;129;01min\u001b[39;00m \u001b[38;5;28mrange\u001b[39m(\u001b[38;5;28mlen\u001b[39m(l)\u001b[38;5;241m-\u001b[39mi):\n\u001b[0;32m----> 9\u001b[0m         \u001b[38;5;28;01mif\u001b[39;00m(l[j]\u001b[38;5;241m>\u001b[39m\u001b[43ml\u001b[49m\u001b[43m[\u001b[49m\u001b[43mj\u001b[49m\u001b[38;5;241;43m+\u001b[39;49m\u001b[38;5;241;43m1\u001b[39;49m\u001b[43m]\u001b[49m):\n\u001b[1;32m     10\u001b[0m             l[j],l[j\u001b[38;5;241m+\u001b[39m\u001b[38;5;241m1\u001b[39m]\u001b[38;5;241m=\u001b[39ml[j\u001b[38;5;241m+\u001b[39m\u001b[38;5;241m1\u001b[39m],l[j]\n\u001b[1;32m     12\u001b[0m \u001b[38;5;28mprint\u001b[39m(\u001b[38;5;124m\"\u001b[39m\u001b[38;5;124mThe sorted list is: \u001b[39m\u001b[38;5;124m\"\u001b[39m,l)\n",
      "\u001b[0;31mIndexError\u001b[0m: list index out of range"
     ]
    }
   ],
   "source": [
    "# Your code here\n",
    "\n",
    "l=[145,76,23,89,45,12,67,90,34,56]\n",
    "\n",
    "#Bubble sort\n",
    "\n",
    "for i in range(len(l)-1):\n",
    "    for j in range(len(l)-i):\n",
    "        if(l[j]>l[j+1]):\n",
    "            l[j],l[j+1]=l[j+1],l[j]\n",
    "\n",
    "print(\"The sorted list is: \",l)"
   ]
  },
  {
   "cell_type": "code",
   "execution_count": null,
   "metadata": {},
   "outputs": [],
   "source": []
  }
 ],
 "metadata": {
  "kernelspec": {
   "display_name": "venv",
   "language": "python",
   "name": "python3"
  },
  "language_info": {
   "codemirror_mode": {
    "name": "ipython",
    "version": 3
   },
   "file_extension": ".py",
   "mimetype": "text/x-python",
   "name": "python",
   "nbconvert_exporter": "python",
   "pygments_lexer": "ipython3",
   "version": "3.12.0"
  }
 },
 "nbformat": 4,
 "nbformat_minor": 4
}
