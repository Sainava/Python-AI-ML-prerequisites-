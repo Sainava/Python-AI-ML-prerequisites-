{
 "cells": [
  {
   "cell_type": "markdown",
   "metadata": {},
   "source": [
    "# Module: File Handling Assignments\n",
    "## Lesson: File Handling and Operations\n",
    "### Assignment 1: Reading a File\n",
    "\n",
    "Write a function that reads the contents of a file named `sample.txt` and prints each line.\n",
    "\n",
    "### Assignment 2: Writing to a File\n",
    "\n",
    "Write a function that writes a list of strings to a file named `output.txt`, with each string on a new line.\n",
    "\n",
    "### Assignment 3: Copying a File\n",
    "\n",
    "Write a function that copies the contents of a file named `source.txt` to a new file named `destination.txt`.\n",
    "\n",
    "### Assignment 4: Appending to a File\n",
    "\n",
    "Write a function that appends a given string to the end of a file named `log.txt`.\n",
    "\n",
    "### Assignment 5: Counting Words in a File\n",
    "\n",
    "Write a function that reads the contents of a file named `document.txt` and returns the number of words in the file.\n",
    "\n",
    "### Assignment 6: Finding and Replacing Text\n",
    "\n",
    "Write a function that finds and replaces all occurrences of a given word in a file named `data.txt` with another word.\n",
    "\n",
    "### Assignment 7: Reading a File in Reverse\n",
    "\n",
    "Write a function that reads the contents of a file named `reverse.txt` and prints each line in reverse order.\n",
    "\n",
    "### Assignment 8: Counting Lines, Words, and Characters\n",
    "\n",
    "Write a function that reads the contents of a file named `stats.txt` and returns the number of lines, words, and characters in the file.\n",
    "\n",
    "### Assignment 9: Merging Multiple Files\n",
    "\n",
    "Write a function that merges the contents of multiple files into a single file named `merged.txt`.\n",
    "\n",
    "### Assignment 10: Splitting a Large File\n",
    "\n",
    "Write a function that splits a large file named `large.txt` into smaller files of 100 lines each.\n",
    "\n",
    "### Assignment 11: Creating a Log File\n",
    "\n",
    "Write a function that creates a log file named `activity.log` and writes log messages with timestamps.\n",
    "\n",
    "### Assignment 12: Binary File Operations\n",
    "\n",
    "Write a function that reads a binary file named `image.bin` and writes its contents to another binary file named `copy_image.bin`.\n",
    "\n",
    "### Assignment 13: CSV File Operations\n",
    "\n",
    "Write a function that reads a CSV file named `data.csv` and prints its contents as a list of dictionaries.\n",
    "\n",
    "### Assignment 14: JSON File Operations\n",
    "\n",
    "Write a function that reads a JSON file named `data.json` and prints its contents as a Python dictionary.\n",
    "\n",
    "### Assignment 15: File Permission Handling\n",
    "\n",
    "Write a function that attempts to read a file named `protected.txt` and handles any permission errors gracefully by printing an error message."
   ]
  },
  {
   "cell_type": "markdown",
   "id": "190655c2",
   "metadata": {},
   "source": [
    "# Solution"
   ]
  },
  {
   "cell_type": "markdown",
   "id": "31e153e6",
   "metadata": {},
   "source": [
    "# Module: File Handling Assignments\n",
    "## Lesson: File Handling and Operations\n",
    "### Assignment 1: Reading a File\n",
    "\n",
    "Write a function that reads the contents of a file named `sample.txt` and prints each line."
   ]
  },
  {
   "cell_type": "code",
   "execution_count": 5,
   "metadata": {},
   "outputs": [
    {
     "name": "stdout",
     "output_type": "stream",
     "text": [
      "THis is a test for the first assignment \n",
      "2 lines should suffice \n",
      "A third line just in case \n",
      "Line 4 for no reason whatsoever\n"
     ]
    }
   ],
   "source": [
    "with open(\"sample.txt\",mode='r') as file:\n",
    "    content=file.read()\n",
    "    print(content)\n"
   ]
  },
  {
   "cell_type": "markdown",
   "id": "c7e6441e",
   "metadata": {},
   "source": [
    "### Assignment 2: Writing to a File\n",
    "\n",
    "Write a function that writes a list of strings to a file named `output.txt`, with each string on a new line."
   ]
  },
  {
   "cell_type": "code",
   "execution_count": 6,
   "id": "bdd8e95c",
   "metadata": {},
   "outputs": [],
   "source": [
    "lst =[\"Line one \\n\",\"Line Two\",\"Line Three\\n\",\"\\tLine Bakayaro \\n\"]# You \n",
    "\n",
    "with open(\"output.txt\",'w') as file:\n",
    "    file.writelines (lst)"
   ]
  },
  {
   "cell_type": "markdown",
   "id": "80dd5a33",
   "metadata": {},
   "source": [
    "### Assignment 3: Copying a File\n",
    "\n",
    "Write a function that copies the contents of a file named `source.txt` to a new file named `destination.txt`."
   ]
  },
  {
   "cell_type": "code",
   "execution_count": 7,
   "id": "ea909905",
   "metadata": {},
   "outputs": [
    {
     "data": {
      "text/plain": [
       "'destination.txt'"
      ]
     },
     "execution_count": 7,
     "metadata": {},
     "output_type": "execute_result"
    }
   ],
   "source": [
    "'''Method 1'''\n",
    "\n",
    "import shutil\n",
    "\n",
    "shutil.copyfile('source.txt','destination.txt')"
   ]
  },
  {
   "cell_type": "code",
   "execution_count": 8,
   "id": "b336365d",
   "metadata": {},
   "outputs": [],
   "source": [
    "'''Method 2'''\n",
    "\n",
    "with open('source.txt','r') as file:\n",
    "    content=file.read()\n",
    "    with open('destination_2.txt','w') as f:\n",
    "        f.write(content)"
   ]
  },
  {
   "cell_type": "markdown",
   "id": "b8e2b4ab",
   "metadata": {},
   "source": [
    "### Assignment 4: Appending to a File\n",
    "\n",
    "Write a function that appends a given string to the end of a file named `log.txt`."
   ]
  },
  {
   "cell_type": "code",
   "execution_count": 9,
   "id": "1d1e8443",
   "metadata": {},
   "outputs": [],
   "source": [
    "'''Append too creates a file if it does not exist'''\n",
    "\n",
    "with open('log.txt','a') as file :\n",
    "    file.write('This is a log file \\nThis is the second line \\n')\n",
    "    file.write('This is the third line \\n')\n"
   ]
  },
  {
   "cell_type": "markdown",
   "id": "3dea73de",
   "metadata": {},
   "source": [
    "### Assignment 5: Counting Words in a File\n",
    "\n",
    "Write a function that reads the contents of a file named `document.txt` and returns the number of words in the file."
   ]
  },
  {
   "cell_type": "markdown",
   "id": "0b2c360c",
   "metadata": {},
   "source": [
    "The `split()` method in Python, when used without any arguments, will split a string at **any whitespace** characters, including spaces, newlines (`\\n`), and tabs (`\\t`). It treats all types of whitespace as delimiters, so it works for not just spaces, but also other whitespace characters such as newlines and tabs.\n",
    "\n",
    "### How `split()` works:\n",
    "\n",
    "- By default, `split()` splits the string at any sequence of whitespace characters (spaces, newlines, tabs, etc.) and returns a list of words.\n",
    "- It also **ignores extra whitespace**. For example, if there are multiple spaces, tabs, or newlines between words, it will treat them as a single delimiter.\n",
    "\n",
    "### Example:\n",
    "\n",
    "```python\n",
    "text = \"Hello \\n world\\t this is   a test\"\n",
    "words = text.split()\n",
    "print(words)\n",
    "```\n",
    "\n",
    "### Output:\n",
    "```python\n",
    "['Hello', 'world', 'this', 'is', 'a', 'test']\n",
    "```\n",
    "\n",
    "- In the above example:\n",
    "  - The `\\n` (newline) and `\\t` (tab) are treated as spaces, and multiple spaces between words are ignored.\n",
    "\n",
    "### In your code:\n",
    "When you use `split()` in the `count_words()` function:\n",
    "```python\n",
    "def count_words(filename):\n",
    "    with open(filename, 'r') as file:\n",
    "        text = file.read()\n",
    "        words = text.split()\n",
    "        return len(words)\n",
    "```\n",
    "\n",
    "It will split the text at all types of whitespace characters, including spaces, newlines, and tabs, and count the number of resulting words.\n",
    "\n",
    "### Summary:\n",
    "- **Yes**, the `split()` method works with newlines (`\\n`), tabs (`\\t`), and spaces by default, treating all of them as delimiters between words."
   ]
  },
  {
   "cell_type": "markdown",
   "id": "4a910fd9",
   "metadata": {},
   "source": [
    "Yes, when you use the `split()` method without any arguments, it will treat **any sequence of whitespace characters** (including spaces, newlines `\\n`, and tabs `\\t`) as a single delimiter, and it will ignore any extra whitespace characters. \n",
    "\n",
    "So, for consecutive `\\n` or `\\t`, it **removes all of them** and splits only where there are actual words.\n",
    "\n",
    "### Example:\n",
    "\n",
    "```python\n",
    "text = \"Hello \\n\\t  world\\n\\t \\tthis is \\t a test\"\n",
    "words = text.split()\n",
    "print(words)\n",
    "```\n",
    "\n",
    "### Output:\n",
    "```python\n",
    "['Hello', 'world', 'this', 'is', 'a', 'test']\n",
    "```\n",
    "\n",
    "### Explanation:\n",
    "- The `split()` method treats **all whitespace characters** (spaces, newlines, and tabs) as the same and removes any excess ones.\n",
    "- Even though you have multiple newlines (`\\n`) and tabs (`\\t`) in between words, `split()` treats them as a single delimiter and ignores the extra ones.\n",
    "- The result is a list of words that were separated by any form of whitespace, regardless of how many consecutive newlines or tabs there were.\n",
    "\n",
    "### Summary:\n",
    "- Yes, `split()` removes both newlines (`\\n`) and tabs (`\\t`) continuously if they appear together, treating them as a single delimiter, and it ignores any excessive whitespace between words."
   ]
  },
  {
   "cell_type": "markdown",
   "id": "ed0f1a74",
   "metadata": {},
   "source": [
    "Yes, the `split()` method also behaves the same way for multiple consecutive spaces. It treats any sequence of whitespace characters (including spaces, newlines `\\n`, and tabs `\\t`) as a single delimiter, meaning multiple spaces between words are **ignored** and not counted as separate delimiters.\n",
    "\n",
    "### Example with Multiple Spaces:\n",
    "\n",
    "```python\n",
    "text = \"Hello    world     this    is    a    test\"\n",
    "words = text.split()\n",
    "print(words)\n",
    "```\n",
    "\n",
    "### Output:\n",
    "```python\n",
    "['Hello', 'world', 'this', 'is', 'a', 'test']\n",
    "```\n",
    "\n",
    "### Explanation:\n",
    "- Even though there are **multiple spaces** between the words in the input string, the `split()` method treats them as a single delimiter and splits the string into words correctly.\n",
    "- It ignores the extra spaces between the words, effectively removing all unnecessary whitespace.\n",
    "\n",
    "### Summary:\n",
    "- **Yes**, when using `split()` without any arguments, multiple consecutive spaces are treated as a single delimiter, and the method splits the string correctly while ignoring any extra spaces."
   ]
  },
  {
   "cell_type": "code",
   "execution_count": 10,
   "id": "59576a15",
   "metadata": {},
   "outputs": [
    {
     "name": "stdout",
     "output_type": "stream",
     "text": [
      "24\n"
     ]
    }
   ],
   "source": [
    "def count_words(filepath):\n",
    "    with open(filepath,'r')as file:\n",
    "        content=file.read()\n",
    "        words=content.split()\n",
    "        return len(words)\n",
    "    \n",
    "print(count_words('sample.txt'))\n",
    "\n",
    "    "
   ]
  },
  {
   "cell_type": "markdown",
   "id": "dbd10cc8",
   "metadata": {},
   "source": [
    "### Assignment 6: Finding and Replacing Text\n",
    "\n",
    "Write a function that finds and replaces all occurrences of a given word in a file named `data.txt` with another word."
   ]
  },
  {
   "cell_type": "code",
   "execution_count": 11,
   "id": "0d8e5bf5",
   "metadata": {},
   "outputs": [],
   "source": [
    "def replace_word(file_path,word,replace):\n",
    "    with open(file_path,'a+') as file:\n",
    "        file.seek(0)\n",
    "        content=file.read()\n",
    "        content=content.replace(word,replace)\n",
    "        file.write(\"\\n\\n\")\n",
    "        file.write(content)\n",
    "\n",
    "replace_word('data.txt','forest','Data bayo')\n"
   ]
  },
  {
   "cell_type": "markdown",
   "id": "ee163708",
   "metadata": {},
   "source": [
    "### Assignment 7: Reading a File in Reverse\n",
    "\n",
    "Write a function that reads the contents of a file named `reverse.txt` and prints each line in reverse order."
   ]
  },
  {
   "cell_type": "code",
   "execution_count": 12,
   "id": "9cff7694",
   "metadata": {},
   "outputs": [
    {
     "name": "stdout",
     "output_type": "stream",
     "text": [
      "\n",
      "The deeper one ventured into the Data bayo, the more one could sense the magic that seemed to dwell there.\n",
      "Despite the quiet, the Data bayo was alive with the sounds of animals, the wind, and the whispering leaves.\n",
      "Every step taken in the Data bayo felt like an adventure, as if the Data bayo itself was watching and guiding the way.\n",
      "The Data bayo seemed to hold secrets, hidden beneath the thick canopy of leaves.\n",
      "The trees towered high above, their leaves rustling gently in the breeze.\n",
      "The Data bayo was dense and mysterious.\n",
      "\n",
      "\n",
      "\n",
      "The deeper one ventured into the Data bayo, the more one could sense the magic that seemed to dwell there.\n",
      "Despite the quiet, the Data bayo was alive with the sounds of animals, the wind, and the whispering leaves.\n",
      "Every step taken in the Data bayo felt like an adventure, as if the Data bayo itself was watching and guiding the way.\n",
      "The Data bayo seemed to hold secrets, hidden beneath the thick canopy of leaves.\n",
      "The trees towered high above, their leaves rustling gently in the breeze.\n",
      "The Data bayo was dense and mysterious.\n",
      "\n",
      "\n",
      "\n",
      "The deeper one ventured into the Data bayo, the more one could sense the magic that seemed to dwell there.\n",
      "Despite the quiet, the Data bayo was alive with the sounds of animals, the wind, and the whispering leaves.\n",
      "Every step taken in the Data bayo felt like an adventure, as if the Data bayo itself was watching and guiding the way.\n",
      "The Data bayo seemed to hold secrets, hidden beneath the thick canopy of leaves.\n",
      "The trees towered high above, their leaves rustling gently in the breeze.\n",
      "The Data bayo was dense and mysterious.\n",
      "\n",
      "\n",
      "\n",
      "The deeper one ventured into the forest, the more one could sense the magic that seemed to dwell there.\n",
      "Despite the quiet, the forest was alive with the sounds of animals, the wind, and the whispering leaves.\n",
      "Every step taken in the forest felt like an adventure, as if the forest itself was watching and guiding the way.\n",
      "The forest seemed to hold secrets, hidden beneath the thick canopy of leaves.\n",
      "The trees towered high above, their leaves rustling gently in the breeze.\n",
      "The forest was dense and mysterious.\n"
     ]
    }
   ],
   "source": [
    "def read_reversed(file_path):\n",
    "    with open(file_path,'r') as file:\n",
    "        content=file.readlines()\n",
    "        '''\n",
    "        print(reversed(content))#<list_reverseiterator object at 0x107732c20>\n",
    "        '''\n",
    "        # for line in reversed(content):\n",
    "        for line in content[::-1]:\n",
    "            print(line.strip())\n",
    "\n",
    "read_reversed('data.txt')"
   ]
  },
  {
   "cell_type": "markdown",
   "id": "6984d228",
   "metadata": {},
   "source": [
    "### Assignment 8: Counting Lines, Words, and Characters\n",
    "\n",
    "Write a function that reads the contents of a file named `stats.txt` and returns the number of lines, words, and characters in the file."
   ]
  },
  {
   "cell_type": "code",
   "execution_count": 13,
   "id": "fd90a025",
   "metadata": {},
   "outputs": [
    {
     "name": "stdout",
     "output_type": "stream",
     "text": [
      "{'lines': 34, 'words': 374, 'characters': 2112}\n"
     ]
    }
   ],
   "source": [
    "def count(filepath):\n",
    "    with open(filepath,'r') as file:\n",
    "        lines=file.readlines()\n",
    "        cnt_lines=len(lines)\n",
    "        cnt_words=sum(len(line.split())for line in lines)\n",
    "        # cnt_chars=sum(len(line.strip())for line in lines)#1028\n",
    "        '''\n",
    "         your count function is almost correct! It properly counts the number of lines, words, and characters in the file. However, there is one small issue with the character count: you are using line.strip() to count characters, which removes leading and trailing whitespace (including spaces, tabs, and newlines). If you want to count all characters, including spaces, you should use line instead of line.strip().\n",
    "        '''\n",
    "        cnt_chars=sum(len(line) for line in lines)#1046\n",
    "        return {'lines':cnt_lines,'words':cnt_words,'characters':cnt_chars}\n",
    "\n",
    "print(count('data.txt'))"
   ]
  },
  {
   "cell_type": "markdown",
   "id": "6d83f08c",
   "metadata": {},
   "source": [
    "### Assignment 9: Merging Multiple Files\n",
    "\n",
    "Write a function that merges the contents of multiple files into a single file named `merged.txt`."
   ]
  },
  {
   "cell_type": "code",
   "execution_count": 14,
   "id": "9ee9d381",
   "metadata": {},
   "outputs": [],
   "source": [
    "def merged(file1,file2):\n",
    "    with open(file1,'r') as file:\n",
    "        content1=file.read()\n",
    "    with open(file2,'r') as file:\n",
    "        content2=file.read()\n",
    "    with open('merged.txt','w') as file:\n",
    "        file.write(content1+'\\n'+content2)\n",
    "\n",
    "merged('log.txt','output.txt')"
   ]
  },
  {
   "cell_type": "markdown",
   "id": "b37c2655",
   "metadata": {},
   "source": [
    "### Assignment 10: Splitting a Large File\n",
    "\n",
    "Write a function that splits a large file named `large.txt` into smaller files of 100 lines each."
   ]
  },
  {
   "cell_type": "code",
   "execution_count": 15,
   "id": "29f39e5d",
   "metadata": {},
   "outputs": [],
   "source": [
    "''''Rather ill split 100 lines into 10 files of 10 lines each'''\n",
    "\n",
    "def spit(file_path):\n",
    "    with open(file_path,'r') as file:\n",
    "        content=file.readlines()\n",
    "        for i in range(10):\n",
    "            with open(f\"file_{i}.txt\",\"w\") as f:\n",
    "                f.writelines(content[i*10:(i+1)*10])\n",
    "\n",
    "spit('large.txt')"
   ]
  },
  {
   "cell_type": "markdown",
   "id": "ff4a3822",
   "metadata": {},
   "source": [
    "### Assignment 11: Creating a Log File\n",
    "\n",
    "Write a function that creates a log file named `activity.log` and writes log messages with timestamps."
   ]
  },
  {
   "cell_type": "markdown",
   "id": "84665973",
   "metadata": {},
   "source": [
    "You're almost there! The correct format specifiers for `strftime` in Python are as follows:\n",
    "\n",
    "- `%Y` - Year with century as a decimal number (e.g., 2024).\n",
    "- `%m` - Month as a zero-padded decimal number (01 to 12).\n",
    "- `%d` - Day of the month as a zero-padded decimal number (01 to 31).\n",
    "- `%H` - Hour (24-hour clock) as a zero-padded decimal number (00 to 23).\n",
    "- `%M` - Minute as a zero-padded decimal number (00 to 59).\n",
    "- `%S` - Second as a zero-padded decimal number (00 to 59).\n",
    "\n",
    "For example, to format the current timestamp as `year month day hour:minute:second`, you should use:\n",
    "\n",
    "```python\n",
    "timestamp = dt.now().strftime('%Y %m %d %H:%M:%S')\n",
    "```\n",
    "\n",
    "- `%A` gives the full weekday name (e.g., Monday).\n",
    "- `%B` gives the full month name (e.g., January).\n",
    "- `%d` is for the day of the month.\n",
    "  \n",
    "In your case, if you wanted the full day name, you could use `%A`:\n",
    "\n",
    "```python\n",
    "timestamp = dt.now().strftime('%A %Y %m %d %H:%M:%S')\n",
    "```\n",
    "\n",
    "This would give something like: `Friday 2024 12 21 14:25:37`"
   ]
  },
  {
   "cell_type": "code",
   "execution_count": 16,
   "id": "7a8df8bf",
   "metadata": {},
   "outputs": [],
   "source": [
    "from datetime import datetime as dt\n",
    "\n",
    "def log_message(message,file_name='activity.txt'):\n",
    "    with open(file_name,'a') as file:\n",
    "        # timestamp=dt.now().strftime('%Y %m %d %H:%M:%S')\n",
    "        timestamp=dt.now().strftime('%Y %B %d %H:%M:%S')\n",
    "        ts=dt.now().isoformat()\n",
    "        \n",
    "        file.write(f'{timestamp} - {message}\\n')\n",
    "        file.write(f'{ts} - {message}\\n')\n",
    "\n",
    "log_message('This is a log message')"
   ]
  },
  {
   "cell_type": "markdown",
   "id": "bc9f1f83",
   "metadata": {},
   "source": [
    "The `isoformat()` method in Python converts a `datetime` object to a string representation in the ISO 8601 format. The ISO 8601 format is a standardized way to represent date and time, and it follows this structure:\n",
    "\n",
    "```\n",
    "YYYY-MM-DDTHH:MM:SS.ssssss\n",
    "```\n",
    "\n",
    "Where:\n",
    "- `YYYY` is the year (4 digits).\n",
    "- `MM` is the month (2 digits).\n",
    "- `DD` is the day of the month (2 digits).\n",
    "- `T` is a separator between the date and the time.\n",
    "- `HH` is the hour (2 digits).\n",
    "- `MM` is the minute (2 digits).\n",
    "- `SS` is the second (2 digits).\n",
    "- `.ssssss` (optional) is microseconds (up to 6 digits, if applicable).\n",
    "\n",
    "For example:\n",
    "```python\n",
    "import datetime\n",
    "timestamp = datetime.datetime.now().isoformat()\n",
    "print(timestamp)\n",
    "```\n",
    "\n",
    "This might output something like:\n",
    "```\n",
    "2024-12-21T14:45:30.123456\n",
    "```\n",
    "\n",
    "If you don't want the microseconds part, you can use:\n",
    "```python\n",
    "timestamp = datetime.datetime.now().replace(microsecond=0).isoformat()\n",
    "print(timestamp)\n",
    "```\n",
    "\n",
    "Which would output:\n",
    "```\n",
    "2024-12-21T14:45:30\n",
    "```"
   ]
  },
  {
   "cell_type": "markdown",
   "id": "4b895a89",
   "metadata": {},
   "source": [
    "### Assignment 12: Binary File Operations\n",
    "\n",
    "Write a function that reads a binary file named `image.bin` and writes its contents to another binary file named `copy_image.bin`."
   ]
  },
  {
   "cell_type": "code",
   "execution_count": 17,
   "id": "57d0f1e0",
   "metadata": {},
   "outputs": [],
   "source": [
    "def copy_bin(src,des):\n",
    "    with open(src,'rb') as file:\n",
    "        with open(des,'wb') as f:\n",
    "            f.write(file.read())\n"
   ]
  },
  {
   "cell_type": "markdown",
   "id": "599b82df",
   "metadata": {},
   "source": [
    "### Assignment 13: CSV File Operations\n",
    "\n",
    "Write a function that reads a CSV file named `data.csv` and prints its contents as a list of dictionaries."
   ]
  },
  {
   "cell_type": "markdown",
   "id": "8e1ad11d",
   "metadata": {},
   "source": [
    "Here's a demonstration of what can happen when you **do not use** the `newline=''` parameter versus when you **do use** it while writing to a CSV file.\n",
    "\n",
    "### Without `newline=''`:\n",
    "If you don't specify `newline=''`, Python's CSV writer will automatically insert extra blank lines between rows on certain systems (especially on Windows), because the writer uses the system's default line ending (which might be `\\r\\n`). This could lead to an unintended appearance in the output CSV file.\n",
    "\n",
    "```python\n",
    "import csv\n",
    "\n",
    "# Writing to the file without specifying 'newline=\"\"'\n",
    "with open('example_without_newline.csv', 'w') as file:\n",
    "    writer = csv.writer(file)\n",
    "    writer.writerow(['Name', 'Age', 'City'])\n",
    "    writer.writerow(['Alice', '30', 'New York'])\n",
    "    writer.writerow(['Bob', '25', 'Los Angeles'])\n",
    "```\n",
    "\n",
    "**Output in `example_without_newline.csv` (especially on Windows):**\n",
    "```\n",
    "Name,Age,City\n",
    "\n",
    "Alice,30,New York\n",
    "\n",
    "Bob,25,Los Angeles\n",
    "\n",
    "```\n",
    "\n",
    "Note the extra blank lines between rows. This happens because the CSV writer adds additional `\\r\\n` line breaks (one for each `\\n` used in the writer's output) which can cause unwanted spacing.\n",
    "\n",
    "### With `newline=''`:\n",
    "When you use `newline=''`, you instruct Python not to alter the line breaks, thus ensuring the CSV file is written exactly as you want, without extra blank lines.\n",
    "\n",
    "```python\n",
    "import csv\n",
    "\n",
    "# Writing to the file with specifying 'newline=\"\"'\n",
    "with open('example_with_newline.csv', 'w', newline='') as file:\n",
    "    writer = csv.writer(file)\n",
    "    writer.writerow(['Name', 'Age', 'City'])\n",
    "    writer.writerow(['Alice', '30', 'New York'])\n",
    "    writer.writerow(['Bob', '25', 'Los Angeles'])\n",
    "```\n",
    "\n",
    "**Output in `example_with_newline.csv`:**\n",
    "```\n",
    "Name,Age,City\n",
    "Alice,30,New York\n",
    "Bob,25,Los Angeles\n",
    "```\n",
    "\n",
    "### Summary of Differences:\n",
    "1. **Without `newline=''`**: \n",
    "   - You might end up with **extra blank lines** between rows, especially on Windows.\n",
    "   - This happens because the CSV writer adds extra line breaks for each row.\n",
    "\n",
    "2. **With `newline=''`**:\n",
    "   - You avoid the extra blank lines and get a **clean CSV** file with only the necessary line breaks between rows.\n",
    "   \n",
    "In general, when working with CSV files (especially on Windows), it's a good practice to use `newline=''` to avoid unexpected formatting issues."
   ]
  },
  {
   "cell_type": "code",
   "execution_count": 18,
   "id": "4309e860",
   "metadata": {},
   "outputs": [],
   "source": [
    "import csv\n",
    "with open(\"example.csv\",'w',newline='') as file:\n",
    "    writer=csv.writer(file)\n",
    "    writer.writerow(['name','age','city'])\n",
    "    writer.writerow(['John Doe',33,'New York'])\n",
    "    writer.writerow(['Jane Doe',28,'San Francisco'])\n",
    "    writer.writerow(['Tom Smith',45,'Chicago'])\n",
    "    writer.writerow(['Lucy Black',22,'Boston'])\n"
   ]
  },
  {
   "cell_type": "code",
   "execution_count": 19,
   "id": "ed0bf706",
   "metadata": {},
   "outputs": [
    {
     "name": "stdout",
     "output_type": "stream",
     "text": [
      "\n",
      "<csv.DictReader object at 0x106199cd0>\n",
      "{'name': 'John Doe', 'age': '33', 'city': 'New York'}\n",
      "{'name': 'Jane Doe', 'age': '28', 'city': 'San Francisco'}\n",
      "{'name': 'Tom Smith', 'age': '45', 'city': 'Chicago'}\n",
      "{'name': 'Lucy Black', 'age': '22', 'city': 'Boston'}\n",
      "[]\n"
     ]
    }
   ],
   "source": [
    "def csv_raeder(file_path):\n",
    "    with open(file_path,'r') as file:\n",
    "        '''\n",
    "        reader=csv.reader(file)\n",
    "        print(reader)#<_csv.reader object at 0x10bafb990>\n",
    "        \n",
    "        for row in reader:\n",
    "            print(row)\n",
    "\n",
    "        output:\n",
    "        ['name', 'age', 'city']\n",
    "        ['John Doe', '33', 'New York']\n",
    "        ['Jane Doe', '28', 'San Francisco']\n",
    "        ['Tom Smith', '45', 'Chicago']\n",
    "        ['Lucy Black', '22', 'Boston']\n",
    "        '''\n",
    "        reader=csv.DictReader(file)\n",
    "        print(reader)#<csv.DictReader object at 0x10bafb9d0>\n",
    "        for row in reader:\n",
    "            print(row)\n",
    "\n",
    "        return list(reader)\n",
    "\n",
    "\n",
    "print()\n",
    "print(csv_raeder('example.csv'))"
   ]
  },
  {
   "cell_type": "markdown",
   "id": "aa436ef9",
   "metadata": {},
   "source": [
    "\n",
    "### The reason you're getting an empty list ([]) as the return value from the csv_raeder function is that csv.DictReader works by iterating over the file, so when you try to convert it to a list after the loop, it's already exhausted. Iterators (like DictReader) can only be iterated over once. After the for row in reader loop has been completed, the DictReader iterator has been exhausted and there are no more rows to read."
   ]
  },
  {
   "cell_type": "code",
   "execution_count": 20,
   "id": "d732341f",
   "metadata": {},
   "outputs": [
    {
     "name": "stdout",
     "output_type": "stream",
     "text": [
      "[{'name': 'John Doe', 'age': '33', 'city': 'New York'}, {'name': 'Jane Doe', 'age': '28', 'city': 'San Francisco'}, {'name': 'Tom Smith', 'age': '45', 'city': 'Chicago'}, {'name': 'Lucy Black', 'age': '22', 'city': 'Boston'}]\n"
     ]
    }
   ],
   "source": [
    "def csv_Reader(file_path):\n",
    "    with open(file_path,'r') as file:\n",
    "        reader=csv.DictReader(file)\n",
    "        return list(reader)\n",
    "    \n",
    "print(csv_Reader('example.csv'))"
   ]
  },
  {
   "cell_type": "markdown",
   "id": "31fa465d",
   "metadata": {},
   "source": [
    "### Assignment 14: JSON File Operations\n",
    "\n",
    "Write a function that reads a JSON file named `data.json` and prints its contents as a Python dictionary."
   ]
  },
  {
   "cell_type": "markdown",
   "id": "9487884f",
   "metadata": {},
   "source": [
    "Yes, both **JSON arrays** and **JavaScript arrays** can contain elements of different data types.\n",
    "\n",
    "### JSON Array:\n",
    "In **JSON** (JavaScript Object Notation), an array can hold values of any valid JSON data type, such as:\n",
    "\n",
    "- **Numbers**\n",
    "- **Strings**\n",
    "- **Booleans**\n",
    "- **Objects**\n",
    "- **Arrays**\n",
    "- **Null**\n",
    "\n",
    "A JSON array can have elements of different types, like this:\n",
    "\n",
    "```json\n",
    "[1, \"string\", true, null, {\"key\": \"value\"}, [1, 2, 3]]\n",
    "```\n",
    "\n",
    "In this example:\n",
    "- `1` is a number.\n",
    "- `\"string\"` is a string.\n",
    "- `true` is a boolean.\n",
    "- `null` is a null value.\n",
    "- `{\"key\": \"value\"}` is an object.\n",
    "- `[1, 2, 3]` is another array.\n",
    "\n",
    "### JavaScript Array:\n",
    "Similarly, in **JavaScript**, an array can also contain elements of different types:\n",
    "\n",
    "```javascript\n",
    "let arr = [1, \"hello\", true, null, {key: \"value\"}, [1, 2, 3]];\n",
    "```\n",
    "\n",
    "This is exactly the same structure as the JSON array example, and JavaScript allows arrays to hold multiple types of values in the same array, such as numbers, strings, objects, arrays, booleans, and nulls.\n",
    "\n",
    "### Summary:\n",
    "Both JSON arrays and JavaScript arrays are flexible in that they can contain elements of various data types within the same array. However, it's worth noting that the types allowed in JSON are limited to a specific set (like numbers, strings, and booleans), while JavaScript arrays can hold any JavaScript value (including functions, `undefined`, and more)."
   ]
  },
  {
   "cell_type": "code",
   "execution_count": 21,
   "id": "5da44807",
   "metadata": {},
   "outputs": [
    {
     "name": "stdout",
     "output_type": "stream",
     "text": [
      "<class 'str'>\n",
      "<class 'dict'>\n",
      "{'name': 'John', 'age': 30, 'cars': {'car1': 'Ford', 'car2': 'BMW', 'car3': 'Fiat'}, 'friends': [{'name': 'Michael', 'age': 23}, {'name': 'William', 'age': 25}]}\n"
     ]
    }
   ],
   "source": [
    "import json\n",
    "\n",
    "'''\n",
    "\n",
    "Yes, the data in the data.json file is indeed in JSON format, but when you read it from a file in Python,\n",
    " it will be in the form of a string. To convert this string into a Python dictionary, you need to use json.load(). \n",
    "This function reads the JSON data from the file and converts it into a Python dictionary.\n",
    "'''\n",
    "'''JSON file has json object and json array but json object is a dictionary in python and json array is a list in python'''\n",
    "def json_reader(file_path):\n",
    "    with open(file_path,'r') as file:\n",
    "        content=file.read()#This is in the form of json string\n",
    "        print(type(content))\n",
    "        data=json.loads(content)#This converts the json string into a python dictionary or json object\n",
    "        print(type(data))\n",
    "        return data\n",
    "    \n",
    "print(json_reader('Json_example.json'))\n",
    "\n"
   ]
  },
  {
   "cell_type": "markdown",
   "id": "b22a69b9",
   "metadata": {},
   "source": [
    "### Assignment 15: File Permission Handling\n",
    "\n",
    "Write a function that attempts to read a file named `protected.txt` and handles any permission errors gracefully by printing an error message."
   ]
  },
  {
   "cell_type": "code",
   "execution_count": 22,
   "id": "fb04765a",
   "metadata": {},
   "outputs": [
    {
     "name": "stdout",
     "output_type": "stream",
     "text": [
      "jwjd fjew ffjwofjoewjfefff\n",
      "fwkfeofn\n",
      "\n",
      "ffjwofjoewjfeffffjwoif\n",
      "kjfnnf of  ffjwofjoewjfefffnw \n",
      "biwdfgfhn\n"
     ]
    }
   ],
   "source": [
    "def protected(file_path):\n",
    "    try:\n",
    "        with open(file_path,'r') as file:\n",
    "            return file.read()\n",
    "    except PermissionError as e:\n",
    "        print(f'Error reading file: {e}')\n",
    "\n",
    "print(protected('protected_data.txt'))"
   ]
  },
  {
   "cell_type": "code",
   "execution_count": null,
   "id": "d127af46",
   "metadata": {},
   "outputs": [],
   "source": []
  }
 ],
 "metadata": {
  "kernelspec": {
   "display_name": "venv",
   "language": "python",
   "name": "python3"
  },
  "language_info": {
   "codemirror_mode": {
    "name": "ipython",
    "version": 3
   },
   "file_extension": ".py",
   "mimetype": "text/x-python",
   "name": "python",
   "nbconvert_exporter": "python",
   "pygments_lexer": "ipython3",
   "version": "3.12.0"
  }
 },
 "nbformat": 4,
 "nbformat_minor": 5
}
