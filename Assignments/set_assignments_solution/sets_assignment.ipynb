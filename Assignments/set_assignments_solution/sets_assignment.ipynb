{
 "cells": [
  {
   "cell_type": "markdown",
   "metadata": {},
   "source": [
    "# Module 3: Data Structures Assignments\n",
    "## Lesson 3.3: Sets\n",
    "### Assignment 1: Creating and Accessing Sets\n",
    "\n",
    "Create a set with the first 10 positive integers. Print the set.\n",
    "\n",
    "### Assignment 2: Adding and Removing Elements\n",
    "\n",
    "Add the number 11 to the set created in Assignment 1. Then remove the number 1 from the set. Print the modified set.\n",
    "\n",
    "### Assignment 3: Set Operations\n",
    "\n",
    "Create two sets: one with the first 5 positive integers and another with the first 5 even integers. Perform and print the results of union, intersection, difference, and symmetric difference operations on these sets.\n",
    "\n",
    "### Assignment 4: Set Comprehensions\n",
    "\n",
    "Create a new set containing the squares of the first 10 positive integers using a set comprehension. Print the new set.\n",
    "\n",
    "### Assignment 5: Filtering Sets\n",
    "\n",
    "Create a new set containing only the even numbers from the set created in Assignment 1 using a set comprehension. Print the new set.\n",
    "\n",
    "### Assignment 6: Set Methods\n",
    "\n",
    "Create a set with duplicate elements and remove the duplicates using set methods. Print the modified set.\n",
    "\n",
    "### Assignment 7: Subsets and Supersets\n",
    "\n",
    "Create two sets: one with the first 5 positive integers and another with the first 3 positive integers. Check if the second set is a subset of the first set and if the first set is a superset of the second set. Print the results.\n",
    "\n",
    "### Assignment 8: Frozenset\n",
    "\n",
    "Create a frozenset with the first 5 positive integers. Print the frozenset.\n",
    "\n",
    "### Assignment 9: Set and List Conversion\n",
    "\n",
    "Create a set with the first 5 positive integers. Convert it to a list, append the number 6, and convert it back to a set. Print the resulting set.\n",
    "\n",
    "### Assignment 10: Set and Dictionary\n",
    "\n",
    "Create a dictionary with set keys and integer values. Print the dictionary.\n",
    "\n",
    "### Assignment 11: Iterating Over Sets\n",
    "\n",
    "Create a set and iterate over the elements, printing each element.\n",
    "\n",
    "### Assignment 12: Removing Elements from Sets\n",
    "\n",
    "Create a set and remove elements from it until it is empty. Print the set after each removal.\n",
    "\n",
    "### Assignment 13: Set Symmetric Difference Update\n",
    "\n",
    "Create two sets and update the first set with the symmetric difference of the two sets. Print the modified first set.\n",
    "\n",
    "### Assignment 14: Set Membership Testing\n",
    "\n",
    "Create a set and test if certain elements are present in the set. Print the results.\n",
    "\n",
    "### Assignment 15: Set of Tuples\n",
    "\n",
    "Create a set containing tuples, where each tuple contains two elements. Print the set."
   ]
  },
  {
   "cell_type": "markdown",
   "id": "840591f4",
   "metadata": {},
   "source": [
    "### remove()- removes ,does not return and gives errror if not present \n",
    "### discard()- removes ,does not return and DOES NOT GIVE ERROR  if not present (List does not have discard)\n",
    "### pop()-removes and returns the first element"
   ]
  },
  {
   "cell_type": "markdown",
   "id": "ca3bdeeb",
   "metadata": {},
   "source": [
    "### 1"
   ]
  },
  {
   "cell_type": "markdown",
   "id": "fb77f5d8",
   "metadata": {},
   "source": [
    "##### Yes, set comprehensions are supported in Python, similar to list comprehensions. A set comprehension allows you to create a set by specifying an expression and an optional condition, just like list comprehensions. The syntax is almost identical, except that the result will be a set, ensuring unique and unordered elements.\n",
    "\n",
    "##### Syntax for Set Comprehension\n",
    "\n",
    "##### {expression for item in iterable if condition}"
   ]
  },
  {
   "cell_type": "code",
   "execution_count": 3,
   "metadata": {},
   "outputs": [
    {
     "data": {
      "text/plain": [
       "{1, 2, 3, 4, 5, 6, 7, 8, 9, 10}"
      ]
     },
     "execution_count": 3,
     "metadata": {},
     "output_type": "execute_result"
    }
   ],
   "source": [
    "st={x for x in range(1,11)}\n",
    "st"
   ]
  },
  {
   "cell_type": "markdown",
   "id": "834abfc7",
   "metadata": {},
   "source": [
    "### 2"
   ]
  },
  {
   "cell_type": "code",
   "execution_count": 4,
   "id": "1733c675",
   "metadata": {},
   "outputs": [
    {
     "data": {
      "text/plain": [
       "{2, 3, 4, 5, 6, 7, 8, 9, 10, 11}"
      ]
     },
     "execution_count": 4,
     "metadata": {},
     "output_type": "execute_result"
    }
   ],
   "source": [
    "st.add(11)\n",
    "st.pop()\n",
    "#st.remove(1)\n",
    "# st.discard(1)\n",
    "\n",
    "st"
   ]
  },
  {
   "cell_type": "markdown",
   "id": "06eef28e",
   "metadata": {},
   "source": [
    "### 3"
   ]
  },
  {
   "cell_type": "code",
   "execution_count": 5,
   "id": "45fe7db1",
   "metadata": {},
   "outputs": [
    {
     "name": "stdout",
     "output_type": "stream",
     "text": [
      "{1, 2, 3, 4, 5, 6, 7, 8, 9, 10}\n",
      "set()\n",
      "{2, 4, 6, 8, 10}\n",
      "{1, 2, 3, 4, 5, 6, 7, 8, 9, 10}\n"
     ]
    }
   ],
   "source": [
    "even={x for x in range(1,11) if x%2==0}\n",
    "odd={x for x in range(1,11) if x%2!=0}\n",
    "\n",
    "union_set=even.union(odd)\n",
    "intersection_set=even.intersection(odd)\n",
    "difference_set=even.difference(odd)\n",
    "symmetric_difference_set=even.symmetric_difference(odd)\n",
    "\n",
    "print(union_set)\n",
    "print(intersection_set)\n",
    "print(difference_set)\n",
    "print(symmetric_difference_set)\n"
   ]
  },
  {
   "cell_type": "code",
   "execution_count": 6,
   "id": "ff6eae64",
   "metadata": {},
   "outputs": [],
   "source": [
    "even={x for x in range(1,11) if x%2==0}\n",
    "odd={x for x in range(1,11) if x%2!=0}\n",
    "\n",
    "union_set=even or odd\n",
    "intersection_set=even and odd\n",
    "difference_set=even - odd\n",
    "symmetric_difference_set=even^(odd)"
   ]
  },
  {
   "cell_type": "markdown",
   "id": "53d1dc0a",
   "metadata": {},
   "source": [
    "### 4"
   ]
  },
  {
   "cell_type": "code",
   "execution_count": 7,
   "id": "4584cce8",
   "metadata": {},
   "outputs": [
    {
     "data": {
      "text/plain": [
       "{1, 4, 9, 16, 25, 36, 49, 64, 81, 100}"
      ]
     },
     "execution_count": 7,
     "metadata": {},
     "output_type": "execute_result"
    }
   ],
   "source": [
    "square={x**2 for x in range(1,11)}\n",
    "\n",
    "square"
   ]
  },
  {
   "cell_type": "markdown",
   "id": "d27a0b78",
   "metadata": {},
   "source": [
    "### 5"
   ]
  },
  {
   "cell_type": "code",
   "execution_count": 8,
   "id": "877fedc4",
   "metadata": {},
   "outputs": [
    {
     "data": {
      "text/plain": [
       "{2, 4, 6, 8, 10}"
      ]
     },
     "execution_count": 8,
     "metadata": {},
     "output_type": "execute_result"
    }
   ],
   "source": [
    "ev={x for x in st if x%2==0 }    \n",
    "ev"
   ]
  },
  {
   "cell_type": "markdown",
   "id": "84b45ccd",
   "metadata": {},
   "source": [
    "### 6"
   ]
  },
  {
   "cell_type": "markdown",
   "id": "5a6e45d1",
   "metadata": {},
   "source": [
    "### Method 1 : Directly Print"
   ]
  },
  {
   "cell_type": "code",
   "execution_count": 10,
   "id": "25811538",
   "metadata": {},
   "outputs": [
    {
     "data": {
      "text/plain": [
       "{1, 22, 33, 34, 45, 67}"
      ]
     },
     "execution_count": 10,
     "metadata": {},
     "output_type": "execute_result"
    }
   ],
   "source": [
    "dup={1,22,33,22,45,22,67,22,34,22}\n",
    "\n",
    "dup"
   ]
  },
  {
   "cell_type": "markdown",
   "id": "b9a94b92",
   "metadata": {},
   "source": [
    "### MEthod 2 : Set Method"
   ]
  },
  {
   "cell_type": "code",
   "execution_count": 11,
   "id": "ca422e31",
   "metadata": {},
   "outputs": [
    {
     "data": {
      "text/plain": [
       "{1, 22, 33, 34, 45, 67}"
      ]
     },
     "execution_count": 11,
     "metadata": {},
     "output_type": "execute_result"
    }
   ],
   "source": [
    "dup1={1,22,33,22,45,22,67,22,34,22}\n",
    "\n",
    "unique_set=set(dup1)\n",
    "\n",
    "unique_set\n",
    "\n"
   ]
  },
  {
   "cell_type": "markdown",
   "id": "6ccc324c",
   "metadata": {},
   "source": [
    "### 7"
   ]
  },
  {
   "cell_type": "code",
   "execution_count": 13,
   "id": "13d4036c",
   "metadata": {},
   "outputs": [
    {
     "name": "stdout",
     "output_type": "stream",
     "text": [
      "True\n",
      "False\n",
      "True\n"
     ]
    }
   ],
   "source": [
    "first={1,2,3,4,5}\n",
    "second={1,2,3}\n",
    "\n",
    "\n",
    "print(second.issubset(first))\n",
    "print(first.issubset(second))\n",
    "\n",
    "print(first.issuperset(second))"
   ]
  },
  {
   "cell_type": "markdown",
   "id": "aa11d799",
   "metadata": {},
   "source": [
    "### 8"
   ]
  },
  {
   "cell_type": "code",
   "execution_count": 19,
   "id": "efe83c9f",
   "metadata": {},
   "outputs": [
    {
     "name": "stdout",
     "output_type": "stream",
     "text": [
      "frozenset({1, 2, 3, 4, 5})\n",
      "frozenset({8, 10, 6, 7})\n",
      "frozenset({1, 2, 3, 4, 5, 6, 7, 8, 9, 10})\n",
      "frozenset({1, 2, 3, 4, 5})\n"
     ]
    }
   ],
   "source": [
    "immutable_set_using_list=frozenset([1,2,3,4,5])\n",
    "immutable_set_using_tuple=frozenset((6,7,8,10))\n",
    "immutable_set_using_range=frozenset(range(1,11))\n",
    "immutable_set_using_set=frozenset({1,2,3,4,5})\n",
    "\n",
    "print(immutable_set_using_list)\n",
    "print(immutable_set_using_tuple)\n",
    "print(immutable_set_using_range)\n",
    "print(immutable_set_using_set)\n",
    "\n",
    "\n"
   ]
  },
  {
   "cell_type": "markdown",
   "id": "9d1badb7",
   "metadata": {},
   "source": [
    "### 9"
   ]
  },
  {
   "cell_type": "code",
   "execution_count": 17,
   "id": "c9bbf2a9",
   "metadata": {},
   "outputs": [
    {
     "data": {
      "text/plain": [
       "{1, 2, 3, 4, 5, 6}"
      ]
     },
     "execution_count": 17,
     "metadata": {},
     "output_type": "execute_result"
    }
   ],
   "source": [
    "st={1,2,3,4,5}\n",
    "\n",
    "lst=list(st)\n",
    "\n",
    "lst.append(6)\n",
    "\n",
    "st=set(lst)\n",
    "\n",
    "st\n",
    "\n",
    "\n"
   ]
  },
  {
   "cell_type": "markdown",
   "id": "923f83db",
   "metadata": {},
   "source": [
    "### 10"
   ]
  },
  {
   "cell_type": "markdown",
   "id": "a08b83ed",
   "metadata": {},
   "source": [
    "### The following error occurs because sets are unhashable in Python, which means they cannot be used as keys in a dictionary.\n",
    "\n",
    "### Why Sets are Unhashable\n",
    "#### Sets are mutable, meaning their content can change.\n",
    "#### Hashing relies on immutability to ensure that the hash value of an object remains consistent. Since sets can change, they cannot provide a reliable hash value.\n"
   ]
  },
  {
   "cell_type": "code",
   "execution_count": 18,
   "id": "d4a7219f",
   "metadata": {},
   "outputs": [
    {
     "ename": "TypeError",
     "evalue": "unhashable type: 'set'",
     "output_type": "error",
     "traceback": [
      "\u001b[0;31m---------------------------------------------------------------------------\u001b[0m",
      "\u001b[0;31mTypeError\u001b[0m                                 Traceback (most recent call last)",
      "Cell \u001b[0;32mIn[18], line 1\u001b[0m\n\u001b[0;32m----> 1\u001b[0m \u001b[38;5;28mdict\u001b[39m\u001b[38;5;241m=\u001b[39m{ {\u001b[38;5;241m2\u001b[39m,\u001b[38;5;241m4\u001b[39m,\u001b[38;5;241m6\u001b[39m,\u001b[38;5;241m8\u001b[39m}:\u001b[38;5;241m2\u001b[39m , {\u001b[38;5;241m3\u001b[39m,\u001b[38;5;241m6\u001b[39m,\u001b[38;5;241m9\u001b[39m}:\u001b[38;5;241m3\u001b[39m}\n",
      "\u001b[0;31mTypeError\u001b[0m: unhashable type: 'set'"
     ]
    }
   ],
   "source": [
    "dict={ {2,4,6,8}:2 , {3,6,9}:3}"
   ]
  },
  {
   "cell_type": "code",
   "execution_count": 21,
   "id": "5561e4eb",
   "metadata": {},
   "outputs": [
    {
     "data": {
      "text/plain": [
       "{frozenset({2, 4, 6, 8}): 2, frozenset({3, 6, 9}): 3}"
      ]
     },
     "execution_count": 21,
     "metadata": {},
     "output_type": "execute_result"
    }
   ],
   "source": [
    "dict={frozenset({2,4,6,8}):2 , frozenset({3,6,9}):3}\n",
    "dict"
   ]
  },
  {
   "cell_type": "markdown",
   "id": "f145d6dd",
   "metadata": {},
   "source": [
    "### 11"
   ]
  },
  {
   "cell_type": "code",
   "execution_count": 22,
   "id": "877fe0bc",
   "metadata": {},
   "outputs": [
    {
     "name": "stdout",
     "output_type": "stream",
     "text": [
      "1\n",
      "2\n",
      "3\n",
      "4\n",
      "5\n",
      "6\n",
      "7\n",
      "8\n",
      "9\n",
      "10\n"
     ]
    }
   ],
   "source": [
    "Set={1,2,3,4,5,6,7,8,9,10}\n",
    "\n",
    "for em in Set:\n",
    "    print(em)"
   ]
  },
  {
   "cell_type": "markdown",
   "id": "8e8428b6",
   "metadata": {},
   "source": [
    "### 12"
   ]
  },
  {
   "cell_type": "markdown",
   "id": "841b446f",
   "metadata": {},
   "source": [
    "#### 1. remove()\n",
    " Removes a specific element from the set.\n",
    " Raises a KeyError if the element is not found."
   ]
  },
  {
   "cell_type": "markdown",
   "id": "9ad2ffd0",
   "metadata": {},
   "source": [
    "### 2. discard()\n",
    "Removes a specific element from the set.\n",
    "Does NOT raise an error if the element is not found.\n"
   ]
  },
  {
   "cell_type": "markdown",
   "id": "2bf85308",
   "metadata": {},
   "source": [
    "### 3. pop()\n",
    "Removes and returns an arbitrary element(Generally the first Element) from the set.\n",
    "Raises a KeyError if the set is empty.\n"
   ]
  },
  {
   "cell_type": "markdown",
   "id": "b3ebde65",
   "metadata": {},
   "source": [
    "### 4. clear()\n",
    "Removes all elements from the set, leaving it empty.\n",
    "Example:"
   ]
  },
  {
   "cell_type": "code",
   "execution_count": 23,
   "id": "3c63be50",
   "metadata": {},
   "outputs": [
    {
     "name": "stdout",
     "output_type": "stream",
     "text": [
      "{2, 3, 4, 5, 6, 7, 8, 9, 10}\n",
      "{3, 4, 5, 6, 7, 8, 9, 10}\n",
      "{4, 5, 6, 7, 8, 9, 10}\n",
      "{5, 6, 7, 8, 9, 10}\n",
      "{6, 7, 8, 9, 10}\n",
      "{7, 8, 9, 10}\n",
      "{8, 9, 10}\n",
      "{9, 10}\n",
      "{10}\n",
      "set()\n"
     ]
    }
   ],
   "source": [
    "Set={1,2,3,4,5,6,7,8,9,10}\n",
    "\n",
    "for i in range(len(Set)):\n",
    "    Set.pop()\n",
    "    print(Set)"
   ]
  },
  {
   "cell_type": "markdown",
   "id": "6acd273a",
   "metadata": {},
   "source": [
    "### 13"
   ]
  },
  {
   "cell_type": "code",
   "execution_count": 24,
   "id": "cf9623dd",
   "metadata": {},
   "outputs": [
    {
     "data": {
      "text/plain": [
       "{1, 2, 3, 4, 5, 6, 7, 8, 9, 10, 11, 12, 13, 14, 15, 16, 17, 18, 19, 20}"
      ]
     },
     "execution_count": 24,
     "metadata": {},
     "output_type": "execute_result"
    }
   ],
   "source": [
    "Set1={1,2,3,4,5,6,7,8,9,10}\n",
    "Set2={11,12,13,14,15,16,17,18,19,20}\n",
    "\n",
    "Set1.symmetric_difference_update(Set2)\n",
    "Set1"
   ]
  },
  {
   "cell_type": "markdown",
   "id": "10c7e48f",
   "metadata": {},
   "source": [
    "### 14"
   ]
  },
  {
   "cell_type": "code",
   "execution_count": 25,
   "id": "10b01855",
   "metadata": {},
   "outputs": [
    {
     "name": "stdout",
     "output_type": "stream",
     "text": [
      "True\n",
      "False\n"
     ]
    }
   ],
   "source": [
    "Set={1,2,3,4,5,6,7,8,9,10}\n",
    "\n",
    "print(10 in Set)\n",
    "print(11 in Set)"
   ]
  },
  {
   "cell_type": "markdown",
   "id": "22831b99",
   "metadata": {},
   "source": [
    "### 15"
   ]
  },
  {
   "cell_type": "code",
   "execution_count": 27,
   "id": "33d330c2",
   "metadata": {},
   "outputs": [
    {
     "data": {
      "text/plain": [
       "{(1, 2), (11, 22), (111, 222)}"
      ]
     },
     "execution_count": 27,
     "metadata": {},
     "output_type": "execute_result"
    }
   ],
   "source": [
    "Set={\n",
    "    (1,2),\n",
    "    (11,22),\n",
    "    (111,222)\n",
    "}\n",
    "\n",
    "Set"
   ]
  },
  {
   "cell_type": "code",
   "execution_count": null,
   "id": "50fdba0b",
   "metadata": {},
   "outputs": [],
   "source": []
  }
 ],
 "metadata": {
  "kernelspec": {
   "display_name": "venv",
   "language": "python",
   "name": "python3"
  },
  "language_info": {
   "codemirror_mode": {
    "name": "ipython",
    "version": 3
   },
   "file_extension": ".py",
   "mimetype": "text/x-python",
   "name": "python",
   "nbconvert_exporter": "python",
   "pygments_lexer": "ipython3",
   "version": "3.12.0"
  }
 },
 "nbformat": 4,
 "nbformat_minor": 5
}
