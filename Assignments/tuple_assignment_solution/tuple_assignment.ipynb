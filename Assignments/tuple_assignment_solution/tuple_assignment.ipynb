{
 "cells": [
  {
   "cell_type": "markdown",
   "id": "6cade624",
   "metadata": {},
   "source": [
    "# Module 3: Data Structures Assignments\n",
    "## Lesson 3.2: Tuples\n",
    "### Assignment 1: Creating and Accessing Tuples\n",
    "\n",
    "Create a tuple with the first 10 positive integers. Print the tuple.\n",
    "\n",
    "### Assignment 2: Accessing Tuple Elements\n",
    "\n",
    "Print the first, middle, and last elements of the tuple created in Assignment 1.\n",
    "\n",
    "### Assignment 3: Tuple Slicing\n",
    "\n",
    "Print the first three elements, the last three elements, and the elements from index 2 to 5 of the tuple created in Assignment 1.\n",
    "\n",
    "### Assignment 4: Nested Tuples\n",
    "\n",
    "Create a nested tuple representing a 3x3 matrix and print the matrix. Access and print the element at the second row and third column.\n",
    "\n",
    "### Assignment 5: Tuple Concatenation\n",
    "\n",
    "Concatenate two tuples: (1, 2, 3) and (4, 5, 6). Print the resulting tuple.\n",
    "\n",
    "### Assignment 6: Tuple Methods\n",
    "\n",
    "Create a tuple with duplicate elements and count the occurrences of an element. Find the index of the first occurrence of an element in the tuple.\n",
    "\n",
    "### Assignment 7: Unpacking Tuples\n",
    "\n",
    "Create a tuple with 5 elements and unpack it into 5 variables. Print the variables.\n",
    "\n",
    "### Assignment 8: Tuple Conversion\n",
    "\n",
    "Convert a list of the first 5 positive integers to a tuple. Print the tuple.\n",
    "\n",
    "### Assignment 9: Tuple of Tuples\n",
    "\n",
    "Create a tuple containing 3 tuples, each with 3 elements. Print the tuple of tuples.\n",
    "\n",
    "### Assignment 10: Tuple and List\n",
    "\n",
    "Create a tuple with the first 5 positive integers. Convert it to a list, append the number 6, and convert it back to a tuple. Print the resulting tuple.\n",
    "\n",
    "### Assignment 11: Tuple and String\n",
    "\n",
    "Create a tuple with the characters of a string. Join the tuple elements into a single string. Print the string.\n",
    "\n",
    "### Assignment 12: Tuple and Dictionary\n",
    "\n",
    "Create a dictionary with tuple keys and integer values. Print the dictionary.\n",
    "\n",
    "### Assignment 13: Nested Tuple Iteration\n",
    "\n",
    "Create a nested tuple and iterate over the elements, printing each element.\n",
    "\n",
    "### Assignment 14: Tuple and Set\n",
    "\n",
    "Create a tuple with duplicate elements. Convert it to a set to remove duplicates and print the resulting set.\n",
    "\n",
    "### Assignment 15: Tuple Functions\n",
    "\n",
    "Write functions that take a tuple and return the minimum, maximum, and sum of the elements. Print the results for a sample tuple."
   ]
  },
  {
   "cell_type": "markdown",
   "id": "c5344976",
   "metadata": {},
   "source": [
    "###  tuples in Python do not have a tuple comprehension in the same way lists have list comprehensions. However, you can achieve a similar effect by using generator expressions and then converting the generator into a tuple."
   ]
  },
  {
   "cell_type": "markdown",
   "id": "5c7fe3b0",
   "metadata": {},
   "source": [
    "### 1"
   ]
  },
  {
   "cell_type": "code",
   "execution_count": 1,
   "metadata": {},
   "outputs": [
    {
     "name": "stdout",
     "output_type": "stream",
     "text": [
      "(1, 2, 3, 4, 5, 6, 7, 8, 9, 10)\n"
     ]
    }
   ],
   "source": [
    "## Generator function example given below\n",
    "\n",
    "tup=tuple(x for x in range(1,11))\n",
    "\n",
    "print(tup)"
   ]
  },
  {
   "cell_type": "markdown",
   "id": "f7c70c2e",
   "metadata": {},
   "source": [
    "### 2"
   ]
  },
  {
   "cell_type": "code",
   "execution_count": 2,
   "id": "f7de90bc",
   "metadata": {},
   "outputs": [
    {
     "name": "stdout",
     "output_type": "stream",
     "text": [
      "1 10 6\n"
     ]
    }
   ],
   "source": [
    "print(tup[0],tup[len(tup)-1],tup[len(tup)//2])"
   ]
  },
  {
   "cell_type": "markdown",
   "id": "77074c15",
   "metadata": {},
   "source": [
    "### 3"
   ]
  },
  {
   "cell_type": "code",
   "execution_count": 3,
   "id": "e0bf9892",
   "metadata": {},
   "outputs": [
    {
     "name": "stdout",
     "output_type": "stream",
     "text": [
      "(1, 2, 3)\n",
      "(8, 9, 10)\n",
      "(4, 5, 6)\n"
     ]
    }
   ],
   "source": [
    "print(tup[:3])\n",
    "print(tup[-3:])\n",
    "print(tup[3:6])"
   ]
  },
  {
   "cell_type": "markdown",
   "id": "1dbd3485",
   "metadata": {},
   "source": [
    "### 4"
   ]
  },
  {
   "cell_type": "code",
   "execution_count": 4,
   "id": "0e297c54",
   "metadata": {},
   "outputs": [
    {
     "name": "stdout",
     "output_type": "stream",
     "text": [
      "(1, 2, 3)\n",
      "(4, 5, 6)\n",
      "(7, 8, 9)\n",
      "The element at 2nd row and 3rd column is 6\n"
     ]
    }
   ],
   "source": [
    "tup=(\n",
    "    (1,2,3),\n",
    "    (4,5,6),\n",
    "    (7,8,9)\n",
    ")\n",
    "\n",
    "for row in tup:\n",
    "    print(row)\n",
    "\n",
    "print(\"The element at 2nd row and 3rd column is\",tup[1][2])"
   ]
  },
  {
   "cell_type": "markdown",
   "id": "4a59ce8d",
   "metadata": {},
   "source": [
    "### 5\n"
   ]
  },
  {
   "cell_type": "code",
   "execution_count": 6,
   "id": "aafb959d",
   "metadata": {},
   "outputs": [
    {
     "data": {
      "text/plain": [
       "(1, 2, 3, 4, 5, 6)"
      ]
     },
     "execution_count": 6,
     "metadata": {},
     "output_type": "execute_result"
    }
   ],
   "source": [
    "tup=(1,2,3) + (4,5,6)\n",
    "tup"
   ]
  },
  {
   "cell_type": "markdown",
   "id": "088c7c38",
   "metadata": {},
   "source": [
    "### 6"
   ]
  },
  {
   "cell_type": "markdown",
   "id": "fbe91416",
   "metadata": {},
   "source": [
    "### .index(item) returns the index of the first occurence of the item specified "
   ]
  },
  {
   "cell_type": "code",
   "execution_count": 5,
   "id": "3c44f708",
   "metadata": {},
   "outputs": [
    {
     "name": "stdout",
     "output_type": "stream",
     "text": [
      "The number 9 is repeated 8 times\n",
      "The number 9 is at index 8\n"
     ]
    }
   ],
   "source": [
    "numbers=(1,2,3,4,5,6,7,8,9,9,9,9,9,9,9,9,10)\n",
    "\n",
    "print(\"The number 9 is repeated\",numbers.count(9),\"times\")\n",
    "print(\"The number 9 is at index\",numbers.index(9))\n"
   ]
  },
  {
   "cell_type": "markdown",
   "id": "a591a05c",
   "metadata": {},
   "source": [
    "### 7"
   ]
  },
  {
   "cell_type": "code",
   "execution_count": 7,
   "id": "982cc38a",
   "metadata": {},
   "outputs": [
    {
     "name": "stdout",
     "output_type": "stream",
     "text": [
      "messi 10 barcelona\n"
     ]
    }
   ],
   "source": [
    "pack=\"messi\",10,\"barcelona\"\n",
    "name,number,team=pack\n",
    "\n",
    "print(name,number,team)"
   ]
  },
  {
   "cell_type": "markdown",
   "id": "a854564d",
   "metadata": {},
   "source": [
    "### 8"
   ]
  },
  {
   "cell_type": "code",
   "execution_count": 9,
   "id": "5af97d17",
   "metadata": {},
   "outputs": [
    {
     "data": {
      "text/plain": [
       "(1, 2, 3, 4, 5, 6, 7, 8, 9, 10)"
      ]
     },
     "execution_count": 9,
     "metadata": {},
     "output_type": "execute_result"
    }
   ],
   "source": [
    "convert=tuple([x for x in range(1,11)])\n",
    "convert"
   ]
  },
  {
   "cell_type": "markdown",
   "id": "5a4ccc2e",
   "metadata": {},
   "source": [
    "### 9"
   ]
  },
  {
   "cell_type": "code",
   "execution_count": 12,
   "id": "f083dea8",
   "metadata": {},
   "outputs": [
    {
     "name": "stdout",
     "output_type": "stream",
     "text": [
      "((1, 2, 3), (4, 5, 6), (7, 8, 9))\n"
     ]
    }
   ],
   "source": [
    "nested_tuple=(\n",
    "    (1,2,3),\n",
    "    (4,5,6),\n",
    "    (7,8,9)\n",
    "    )\n",
    "\n",
    "print(nested_tuple)"
   ]
  },
  {
   "cell_type": "markdown",
   "id": "f9725c1b",
   "metadata": {},
   "source": [
    "### 10"
   ]
  },
  {
   "cell_type": "code",
   "execution_count": 13,
   "id": "55bca26b",
   "metadata": {},
   "outputs": [
    {
     "name": "stdout",
     "output_type": "stream",
     "text": [
      "<class 'tuple'> (1, 2, 3, 4, 5)\n",
      "<class 'tuple'> (1, 2, 3, 4, 5, 6)\n"
     ]
    }
   ],
   "source": [
    "tup=tuple(x for x in range(1,6))\n",
    "\n",
    "print(type(tup),tup)\n",
    "lst=list(tup)\n",
    "\n",
    "lst.append(6)\n",
    "\n",
    "tup=tuple(lst)\n",
    "\n",
    "print(type(tup),tup)"
   ]
  },
  {
   "cell_type": "markdown",
   "id": "63b9c34a",
   "metadata": {},
   "source": [
    "### 11"
   ]
  },
  {
   "cell_type": "markdown",
   "id": "ab74b51b",
   "metadata": {},
   "source": [
    "### \"\".join(name): The join() method combines all elements of an iterable (like a tuple or list) into a single string, with the \"\" (empty string) acting as the separator.\n"
   ]
  },
  {
   "cell_type": "code",
   "execution_count": 14,
   "id": "ef89861a",
   "metadata": {},
   "outputs": [
    {
     "name": "stdout",
     "output_type": "stream",
     "text": [
      "<class 'str'> Sainava\n"
     ]
    }
   ],
   "source": [
    "name=\"S\",\"a\",\"i\",\"n\",\"a\",\"v\",\"a\"\n",
    "\n",
    "name=\"\".join(name)\n",
    "\n",
    "print(type(name),name)\n"
   ]
  },
  {
   "cell_type": "code",
   "execution_count": 18,
   "id": "4e2b798b",
   "metadata": {},
   "outputs": [
    {
     "name": "stdout",
     "output_type": "stream",
     "text": [
      "<class 'str'> S a i n a v a   M o d a k\n",
      "<class 'str'> S^a^i^n^a^v^a^ ^M^o^d^a^k\n",
      "<class 'str'> S&a&i&n&a&v&a& &M&o&d&a&k\n"
     ]
    }
   ],
   "source": [
    "name=\"S\",\"a\",\"i\",\"n\",\"a\",\"v\",\"a\",\" \",\"M\",\"o\",\"d\",\"a\",\"k\"\n",
    "\n",
    "name_space=\" \".join(name)\n",
    "name_try=\"&\".join(name)\n",
    "name_again=\"^\".join(name)\n",
    "\n",
    "print(type(name_space),name_space)\n",
    "print(type(name_again),name_again)\n",
    "print(type(name_try),name_try)"
   ]
  },
  {
   "cell_type": "markdown",
   "id": "d4d11db0",
   "metadata": {},
   "source": [
    "### 12"
   ]
  },
  {
   "cell_type": "code",
   "execution_count": 19,
   "id": "e18b2f9e",
   "metadata": {},
   "outputs": [
    {
     "name": "stdout",
     "output_type": "stream",
     "text": [
      "{(1, 2): 3, (4, 5): 6, (7, 8): 9}\n"
     ]
    }
   ],
   "source": [
    "tpl_dict = {\n",
    "    (1, 2): 3,\n",
    "    (4, 5): 6,\n",
    "    (7, 8): 9\n",
    "}\n",
    "print(tpl_dict)"
   ]
  },
  {
   "cell_type": "markdown",
   "id": "3ea9b1f0",
   "metadata": {},
   "source": [
    "### 13"
   ]
  },
  {
   "cell_type": "code",
   "execution_count": 20,
   "id": "ee8fbd60",
   "metadata": {},
   "outputs": [
    {
     "name": "stdout",
     "output_type": "stream",
     "text": [
      "(1, 2, 3)\n",
      "(4, 5, 6)\n",
      "(7, 8, 9)\n"
     ]
    }
   ],
   "source": [
    "nested_tuple=(\n",
    "    (1,2,3),\n",
    "    (4,5,6),\n",
    "    (7,8,9)\n",
    "    )\n",
    "\n",
    "for row in nested_tuple:\n",
    "    print(row)"
   ]
  },
  {
   "cell_type": "markdown",
   "id": "42b59f6c",
   "metadata": {},
   "source": [
    "### 14"
   ]
  },
  {
   "cell_type": "code",
   "execution_count": 21,
   "id": "571ab409",
   "metadata": {},
   "outputs": [
    {
     "name": "stdout",
     "output_type": "stream",
     "text": [
      "The maximum element in the tuple is 8\n",
      "The minimum element in the tuple is 0\n",
      "<class 'set'> {0, 1, 3, 6, 8}\n",
      "Tuple here (3, 6, 1, 8, 0, 6)\n",
      "<class 'tuple'> (0, 1, 3, 6, 8)\n"
     ]
    }
   ],
   "source": [
    "tup=(3,6,1,8,0,6)\n",
    "\n",
    "print(\"The maximum element in the tuple is\",max(tup))\n",
    "print(\"The minimum element in the tuple is\",min(tup))\n",
    "\n",
    "\n",
    "\n",
    "set_tup=set(tup)\n",
    "print(type(set_tup),set_tup)\n",
    "print(\"Tuple here\",tup)\n",
    "no_dupli=tuple(set(tup))\n",
    "print(type(no_dupli),no_dupli)\n"
   ]
  },
  {
   "cell_type": "markdown",
   "id": "ad2859de",
   "metadata": {},
   "source": [
    "### 15"
   ]
  },
  {
   "cell_type": "code",
   "execution_count": 22,
   "id": "72f6d739",
   "metadata": {},
   "outputs": [
    {
     "name": "stdout",
     "output_type": "stream",
     "text": [
      "The maximum element in the tuple is 8\n",
      "The minimum element in the tuple is 0\n",
      "The sum of the elements in the tuple is 24\n"
     ]
    }
   ],
   "source": [
    "tup=(3,6,1,8,0,6)\n",
    "\n",
    "print(\"The maximum element in the tuple is\",max(tup))\n",
    "print(\"The minimum element in the tuple is\",min(tup))\n",
    "print(\"The sum of the elements in the tuple is\",sum(tup))"
   ]
  },
  {
   "cell_type": "code",
   "execution_count": null,
   "id": "7e4972ee",
   "metadata": {},
   "outputs": [],
   "source": []
  }
 ],
 "metadata": {
  "kernelspec": {
   "display_name": "venv",
   "language": "python",
   "name": "python3"
  },
  "language_info": {
   "codemirror_mode": {
    "name": "ipython",
    "version": 3
   },
   "file_extension": ".py",
   "mimetype": "text/x-python",
   "name": "python",
   "nbconvert_exporter": "python",
   "pygments_lexer": "ipython3",
   "version": "3.12.0"
  }
 },
 "nbformat": 4,
 "nbformat_minor": 5
}
