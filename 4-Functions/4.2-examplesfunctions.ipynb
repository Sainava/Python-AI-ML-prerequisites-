{
 "cells": [
  {
   "cell_type": "markdown",
   "metadata": {},
   "source": [
    "#### Functions Examples\n"
   ]
  },
  {
   "cell_type": "markdown",
   "metadata": {},
   "source": [
    "## Python functions can accept and return any data type, including custom objects.\n",
    "## everything—lists, dicts, tuples, sets, objects, and even functions.\n",
    "## Yes, in Python, functions can be passed as parameters to other functions."
   ]
  },
  {
   "cell_type": "markdown",
   "metadata": {},
   "source": [
    "#### Example 1: Temperature Conversion"
   ]
  },
  {
   "cell_type": "code",
   "execution_count": 1,
   "metadata": {},
   "outputs": [
    {
     "name": "stdout",
     "output_type": "stream",
     "text": [
      "77.0\n",
      "25.0\n"
     ]
    }
   ],
   "source": [
    "def convert_temperature(temp,unit):\n",
    "    \"\"\"This function converts temperature between Celsius and Fahrenheit\"\"\"\n",
    "    if unit=='C':\n",
    "        return temp * 9/5 + 32  ## Celsius To Fahrenheit\n",
    "    elif unit==\"F\":\n",
    "        return (temp-32)*5/9 ## Fahrenheit to celsius\n",
    "    else:\n",
    "        return None\n",
    "\n",
    "print(convert_temperature(25,'C'))\n",
    "print(convert_temperature(77,'F'))"
   ]
  },
  {
   "cell_type": "markdown",
   "metadata": {},
   "source": [
    "##### Example 2: Password Strength Checker"
   ]
  },
  {
   "cell_type": "code",
   "execution_count": 2,
   "metadata": {},
   "outputs": [
    {
     "name": "stdout",
     "output_type": "stream",
     "text": [
      "False\n",
      "True\n"
     ]
    }
   ],
   "source": [
    "def is_strong_password(password):\n",
    "    \"\"\"This function checks if the password is strong or not\"\"\"\n",
    "    if len(password)<8:\n",
    "        return False\n",
    "    if not any(char.isdigit() for char in password):\n",
    "        return False\n",
    "    if not any(char.islower() for char in password):\n",
    "        return False\n",
    "    if not any(char.isupper() for char in password):\n",
    "        return False\n",
    "    if not any(char in '!@#$%^&*()_+' for char in password):\n",
    "        return False\n",
    "    return True\n",
    "\n",
    "## calling the function\n",
    "print(is_strong_password(\"WeakPwd\"))\n",
    "print(is_strong_password(\"Str0ngPwd!\"))\n",
    "    \n",
    "    "
   ]
  },
  {
   "cell_type": "markdown",
   "metadata": {},
   "source": [
    "## The any() function in Python returns True if at least one element in an iterable (e.g., list, tuple, or generator) evaluates to True. Otherwise, it returns False."
   ]
  },
  {
   "cell_type": "code",
   "execution_count": 3,
   "metadata": {},
   "outputs": [
    {
     "name": "stdout",
     "output_type": "stream",
     "text": [
      "False\n",
      "True\n"
     ]
    }
   ],
   "source": [
    "def is_strong_password(password):\n",
    "    if (len(password) < 8):\n",
    "        return False\n",
    "    \n",
    "    if not any(char.islower() for char in password ) :\n",
    "        return False\n",
    "    \n",
    "    if not any(char.isupper() for char in password ) :\n",
    "        return False\n",
    "    \n",
    "    if not any(char.isdigit() for char in password ) :\n",
    "        return False\n",
    "    \n",
    "    if not any(char in \"!@#$%^&*()_+\" for char in password):\n",
    "        return False\n",
    "    \n",
    "    return True\n",
    "\n",
    "## calling the function\n",
    "print(is_strong_password(\"WeakPwd\"))\n",
    "print(is_strong_password(\"Str0ngPwd!\"))"
   ]
  },
  {
   "cell_type": "markdown",
   "metadata": {},
   "source": [
    "##### Example 3: Calculate the Total Cost Of Items In a Shopping Cart"
   ]
  },
  {
   "cell_type": "code",
   "execution_count": 1,
   "metadata": {},
   "outputs": [
    {
     "name": "stdout",
     "output_type": "stream",
     "text": [
      "<class 'dict'>\n",
      "<class 'dict'>\n",
      "<class 'dict'>\n",
      "5.8999999999999995\n"
     ]
    }
   ],
   "source": [
    "def calculate_total_cost(cart):\n",
    "    total_cost=0\n",
    "    for item in cart:\n",
    "        print(type(item))\n",
    "        total_cost+=item['price']* item['quantity']\n",
    "\n",
    "    return total_cost\n",
    "\n",
    "\n",
    "## Example cart data\n",
    "\n",
    "cart=[\n",
    "    {'name':'Apple','price':0.5,'quantity':4},\n",
    "    {'name':'Banana','price':0.3,'quantity':6},\n",
    "    {'name':'Orange','price':0.7,'quantity':3}\n",
    "\n",
    "]\n",
    "\n",
    "## calling the function\n",
    "total_cost=calculate_total_cost(cart)\n",
    "print(total_cost)"
   ]
  },
  {
   "cell_type": "markdown",
   "metadata": {},
   "source": [
    "##### Example 4: Check IF a String Is Palindrome"
   ]
  },
  {
   "cell_type": "code",
   "execution_count": 5,
   "metadata": {},
   "outputs": [
    {
     "name": "stdout",
     "output_type": "stream",
     "text": [
      "True\n",
      "False\n"
     ]
    }
   ],
   "source": [
    "def is_palindrome(s):\n",
    "    s=s.lower().replace(\" \",\"\")\n",
    "    return s==s[::-1]\n",
    "\n",
    "print(is_palindrome(\"A man a plan a canal Panama\"))\n",
    "print(is_palindrome(\"Hello\"))"
   ]
  },
  {
   "cell_type": "markdown",
   "metadata": {},
   "source": [
    "### With space  gives wrong answer "
   ]
  },
  {
   "cell_type": "code",
   "execution_count": 5,
   "metadata": {},
   "outputs": [
    {
     "name": "stdout",
     "output_type": "stream",
     "text": [
      "False\n",
      "False\n"
     ]
    }
   ],
   "source": [
    "def is_palindrome_with_space(s):\n",
    "    s=s.lower()\n",
    "    return s==s[::-1]\n",
    "\n",
    "print(is_palindrome_with_space(\"A man a plan a canal Panama\"))\n",
    "print(is_palindrome_with_space(\"Hello\"))\n"
   ]
  },
  {
   "cell_type": "markdown",
   "metadata": {},
   "source": [
    "##### Example 5: Calculate the factorials of a number using recursion"
   ]
  },
  {
   "cell_type": "code",
   "execution_count": 7,
   "metadata": {},
   "outputs": [
    {
     "name": "stdout",
     "output_type": "stream",
     "text": [
      "720\n"
     ]
    }
   ],
   "source": [
    "def factorial(n):\n",
    "    if n==0:\n",
    "        return 1\n",
    "    else:\n",
    "        return n * factorial(n-1)\n",
    "    \n",
    "print(factorial(6))"
   ]
  },
  {
   "cell_type": "code",
   "execution_count": 6,
   "metadata": {},
   "outputs": [
    {
     "name": "stdout",
     "output_type": "stream",
     "text": [
      "120\n"
     ]
    }
   ],
   "source": [
    "def factorial(n):\n",
    "    if (n==1):\n",
    "        return 1\n",
    "    return n*factorial(n-1)\n",
    "\n",
    "print(factorial(5))"
   ]
  },
  {
   "cell_type": "markdown",
   "metadata": {},
   "source": [
    "##### Example 6: A Function To Read A File and count the frequency of each word"
   ]
  },
  {
   "cell_type": "markdown",
   "metadata": {},
   "source": [
    "### .strip()  Removes leading and trailing whitespace or specified characters from a string..strip() does not remove spaces in between the text. It only removes leading and trailing spaces (or specified characters).Default is whitespace"
   ]
  },
  {
   "cell_type": "code",
   "execution_count": 8,
   "metadata": {},
   "outputs": [
    {
     "name": "stdout",
     "output_type": "stream",
     "text": [
      "hello\n",
      "hello\n"
     ]
    }
   ],
   "source": [
    "text = \"  hello  \"\n",
    "print(text.strip())  # Output: \"hello\"\n",
    "\n",
    "text = \"**hello**\"\n",
    "print(text.strip(\"*\"))  # Output: \"hello\"\n"
   ]
  },
  {
   "cell_type": "markdown",
   "metadata": {},
   "source": [
    "### .split()  Splits a string into a list based on a specified delimiter (default is whitespace)."
   ]
  },
  {
   "cell_type": "code",
   "execution_count": 9,
   "metadata": {},
   "outputs": [
    {
     "name": "stdout",
     "output_type": "stream",
     "text": [
      "['apple', 'banana', 'orange']\n",
      "['hello', 'world']\n"
     ]
    }
   ],
   "source": [
    "text = \"apple,banana,orange\"\n",
    "print(text.split(\",\"))  # Output: ['apple', 'banana', 'orange']\n",
    "\n",
    "text = \"hello world\"\n",
    "print(text.split())  # Output: ['hello', 'world']\n"
   ]
  },
  {
   "cell_type": "markdown",
   "metadata": {},
   "source": [
    "### the .split() method in Python can only take one parameter as the delimiter. It does not support multiple delimiters directly.\n",
    "\n",
    "### You can use the re.split() function from the re module for splitting by multiple delimiters.\n",
    "\n"
   ]
  },
  {
   "cell_type": "code",
   "execution_count": 10,
   "metadata": {},
   "outputs": [
    {
     "name": "stdout",
     "output_type": "stream",
     "text": [
      "['apple', 'banana', 'orange']\n"
     ]
    }
   ],
   "source": [
    "import re\n",
    "\n",
    "text = \"apple,banana|orange\"\n",
    "result = re.split(\"[,|]\", text)  # Splits by \",\" or \"|\"\n",
    "print(result)  # Output: ['apple', 'banana', 'orange']\n"
   ]
  },
  {
   "cell_type": "markdown",
   "metadata": {},
   "source": [
    "### For word=word.lower().strip('.,!?;:\"\\'')\n",
    "### This strip function removes specific punctuation characters (.,!?;:\"') from both the beginning and the end of the string word.\n",
    "\n",
    "###  You do not separate characters with commas when using .strip()—you simply provide a string of characters, and it removes any of those characters (in any order) from the start and end of the string.\n",
    "\n"
   ]
  },
  {
   "cell_type": "code",
   "execution_count": 10,
   "metadata": {},
   "outputs": [
    {
     "name": "stdout",
     "output_type": "stream",
     "text": [
      "{'hello': 1, 'world': 1, 'how': 1, 'are': 1, 'you': 1, 'my': 1, 'name': 1, 'is': 1, 'krish': 2}\n"
     ]
    }
   ],
   "source": [
    "def count_word_frequency(file_path):\n",
    "    word_count={}\n",
    "    with open(file_path,'r') as file:\n",
    "        for line in file:\n",
    "            words=line.split()\n",
    "            for word in words:\n",
    "                word=word.lower().strip('.,!?;:\"\\'')\n",
    "                word_count[word]=word_count.get(word,0)+1\n",
    "    \n",
    "    return word_count\n",
    "\n",
    "filepath='sample.txt'\n",
    "word_frequency=count_word_frequency(filepath)\n",
    "print(word_frequency)\n"
   ]
  },
  {
   "cell_type": "code",
   "execution_count": 20,
   "metadata": {},
   "outputs": [
    {
     "data": {
      "text/plain": [
       "{'hello': 1,\n",
       " 'world': 1,\n",
       " 'how': 1,\n",
       " 'are': 1,\n",
       " 'you': 1,\n",
       " 'my': 1,\n",
       " 'name': 1,\n",
       " 'is': 1,\n",
       " 'krish': 2}"
      ]
     },
     "execution_count": 20,
     "metadata": {},
     "output_type": "execute_result"
    }
   ],
   "source": [
    "def  count_word_frequency(file_path):\n",
    "    word_count={}\n",
    "    with open(file_path,'r') as file:\n",
    "        #print(file)\n",
    "            # #<_io.TextIOWrapper name='sample.txt' mode='r' encoding='utf-8'>\n",
    "        for line in file :\n",
    "            words=line.split()\n",
    "            # print(words)\n",
    "            #     ['Hello', 'World', 'How', 'are', 'you']\n",
    "            #     ['My', 'name', 'is', 'Krish', 'KRish']\n",
    "            for word in words:\n",
    "                word=word.lower().strip('.,!:;/\"\\'?')\n",
    "                ''' Method 1'''\n",
    "                word_count[word]=word_count.get(word,0)+1\n",
    "                \n",
    "                ''' Method 2\n",
    "                if word in word_count:\n",
    "                    word_count[word]+=1\n",
    "                else:\n",
    "                    word_count[word]=1\n",
    "                '''\n",
    "    return word_count\n",
    "                \n",
    "\n",
    "filepath='sample.txt'\n",
    "# word_frequency=\n",
    "count_word_frequency(filepath)\n",
    "# print(word_frequency)"
   ]
  },
  {
   "cell_type": "markdown",
   "metadata": {},
   "source": [
    "##### Example 7: Validate Email Address"
   ]
  },
  {
   "cell_type": "code",
   "execution_count": 11,
   "metadata": {},
   "outputs": [
    {
     "name": "stdout",
     "output_type": "stream",
     "text": [
      "True\n",
      "False\n"
     ]
    }
   ],
   "source": [
    "import re\n",
    "\n",
    "# Email validation function\n",
    "def is_valid_email(email):\n",
    "    \"\"\"This function checks if the email is valid.\"\"\"\n",
    "    pattern = r'^[a-zA-Z0-9_.+-]+@[a-zA-Z0-9-]+\\.[a-zA-Z0-9-.]+$'\n",
    "    return re.match(pattern, email) is not None\n",
    "\n",
    "# Calling the function\n",
    "print(is_valid_email(\"test@example.com\"))  # Output: True\n",
    "print(is_valid_email(\"invalid-email\"))  # Output: False\n"
   ]
  },
  {
   "cell_type": "code",
   "execution_count": null,
   "metadata": {},
   "outputs": [],
   "source": [
    "'''This code defines a function `is_valid_email` that checks if an email address is valid using a regular expression (regex). Let’s break it down:\n",
    "\n",
    "### 1. **Importing the `re` module**:\n",
    "```python\n",
    "import re\n",
    "```\n",
    "The `re` module allows you to work with regular expressions in Python, enabling powerful text pattern matching.\n",
    "\n",
    "### 2. **The `is_valid_email` function**:\n",
    "```python\n",
    "def is_valid_email(email):\n",
    "    \"\"\"This function checks if the email is valid.\"\"\"\n",
    "    pattern = r'^[a-zA-Z0-9_.+-]+@[a-zA-Z0-9-]+\\.[a-zA-Z0-9-.]+$'\n",
    "    return re.match(pattern, email) is not None\n",
    "```\n",
    "- **`pattern`**: A regex pattern is defined to match valid email addresses.\n",
    "  - **`^[a-zA-Z0-9_.+-]+`**: The `^` means the start of the string. This part matches the **username** (before the `@` symbol), which can contain letters (`a-zA-Z`), numbers (`0-9`), underscores (`_`), periods (`.`), plus signs (`+`), and hyphens (`-`).\n",
    "  - **`@`**: This matches the literal `@` symbol that separates the username from the domain.\n",
    "  - **`[a-zA-Z0-9-]+`**: This part matches the **domain name** (after `@` but before the period), which can contain letters (`a-zA-Z`), numbers (`0-9`), and hyphens (`-`).\n",
    "  - **`\\.`**: The backslash escapes the dot (`.`), ensuring that it’s treated as a literal period, not a wildcard character.\n",
    "  - **`[a-zA-Z0-9-.]+$`**: This matches the **domain extension** (after the period), which can contain letters (`a-zA-Z`), numbers (`0-9`), hyphens (`-`), and periods (`.`). The `$` indicates the end of the string.\n",
    "\n",
    "- **`re.match(pattern, email)`**: \n",
    "  - This checks if the given `email` matches the `pattern` from the start of the string. It returns a match object if the email fits the pattern or `None` if it doesn’t.\n",
    "  \n",
    "- **`is not None`**:\n",
    "  - This part ensures that if there’s a match, the function returns `True`. Otherwise, it returns `False`.\n",
    "\n",
    "### 3. **Calling the function**:\n",
    "```python\n",
    "print(is_valid_email(\"test@example.com\"))  # Output: True\n",
    "print(is_valid_email(\"invalid-email\"))  # Output: False\n",
    "```\n",
    "- **`is_valid_email(\"test@example.com\")`**: This email matches the pattern, so it returns `True`.\n",
    "- **`is_valid_email(\"invalid-email\")`**: This email does not match the pattern (it lacks an `@` and domain), so it returns `False`.\n",
    "\n",
    "### Summary:\n",
    "The function uses a regex to check if an email is in a valid format, ensuring it has:\n",
    "- A valid username (before the `@`)\n",
    "- A valid domain (after the `@`)\n",
    "- A valid domain extension (after the period `.`)'''\n",
    "\n",
    "# explain what is regular expression\n",
    "# What is the r before the start of string in pattern \n",
    "# and the is not none \n",
    "\n",
    "'''### 1. **What is a Regular Expression?**\n",
    "A **regular expression** (often abbreviated as **regex**) is a sequence of characters that forms a search pattern. It's used to match patterns in text (strings), such as validating input, searching for specific patterns, or manipulating text.\n",
    "\n",
    "#### Key Concepts:\n",
    "- **Literal characters**: Characters that represent themselves (e.g., `a`, `1`, `.`).\n",
    "- **Meta-characters**: Special symbols that control how the matching is done, like `*`, `+`, `?`, `.` (dot), `[]` (brackets), `^` (caret), `$` (dollar sign), and more.\n",
    "\n",
    "### Example Patterns:\n",
    "- `\\d` matches any digit (`0-9`).\n",
    "- `\\w` matches any alphanumeric character (letters, digits, and underscores).\n",
    "- `^abc` matches a string starting with `abc`.\n",
    "- `abc$` matches a string ending with `abc`.\n",
    "- `[A-Za-z]` matches any uppercase or lowercase letter.\n",
    "\n",
    "### 2. **What is the `r` before the string in the pattern?**\n",
    "In Python, **`r`** before a string indicates a **raw string**. This tells Python not to process escape characters (like `\\n` or `\\t`) in the string, treating them as literal characters instead.\n",
    "\n",
    "#### Example:\n",
    "- **Without `r`**:\n",
    "  ```python\n",
    "  pattern = \"\\\\d\"  # This represents a backslash followed by 'd'\n",
    "  ```\n",
    "  Here, the backslash `\\` is treated as an escape character, so `\\\\` is needed to represent a literal backslash.\n",
    "\n",
    "- **With `r` (raw string)**:\n",
    "  ```python\n",
    "  pattern = r\"\\d\"  # This directly represents the backslash followed by 'd'\n",
    "  ```\n",
    "  The `r` tells Python to interpret the string exactly as written, making it easier to handle regular expressions where backslashes are common.\n",
    "\n",
    "### 3. **What does `is not None` do?**\n",
    "The expression `re.match(pattern, email)` returns a match object if the pattern is found in the string or `None` if there is no match.\n",
    "\n",
    "- **`is not None`**: This checks whether the result of `re.match()` is a valid match object. If a match is found, `re.match()` returns a **match object**, which is treated as `True` in a boolean context.\n",
    "  \n",
    "  - If `re.match()` returns **`None`** (no match), the expression becomes `False`.\n",
    "  - If `re.match()` returns a match object (match found), the expression becomes `True`.\n",
    "\n",
    "#### Example:\n",
    "```python\n",
    "import re\n",
    "\n",
    "pattern = r'\\d'  # Regex to match any digit\n",
    "result = re.match(pattern, \"123\")  # This matches, so result is a match object\n",
    "print(result is not None)  # Output: True\n",
    "\n",
    "result = re.match(pattern, \"abc\")  # This does not match, so result is None\n",
    "print(result is not None)  # Output: False\n",
    "```\n",
    "\n",
    "### Summary:\n",
    "- **Regular Expression (regex)** is a pattern used for text matching.\n",
    "- The **`r`** before the string creates a **raw string** where escape characters like `\\` are not processed.\n",
    "- **`is not None`** checks if the `re.match()` result is a valid match object, indicating a successful pattern match.'''\n",
    "\n",
    "\n",
    "# \\.: The backslash escapes the dot (.), ensuring that it’s treated as a literal period, not a wildcard character.\n",
    "\n",
    "# Explain the above line\n",
    "\n",
    "'''In regular expressions, the dot (`.`) is a **special character** that acts as a **wildcard**, meaning it can match **any single character** (except for a newline).\n",
    "\n",
    "### Example:\n",
    "- The pattern `a.b` would match any string like:\n",
    "  - `acb`\n",
    "  - `a1b`\n",
    "  - `a@b`\n",
    "\n",
    "However, if you want to **match a literal period (`.`)** in the string (instead of any character), you need to **escape** the dot with a backslash (`\\.`).\n",
    "\n",
    "### Why use `\\.`?\n",
    "- **`.`** by itself is a special character that matches any character.\n",
    "- **`\\.`** tells the regex engine to treat the dot as a **literal period** rather than a wildcard.\n",
    "\n",
    "### Example:\n",
    "- **Without escape (`.`)**: `a.b` matches `a` followed by any character, then `b`.\n",
    "- **With escape (`\\.`)**: `a\\.b` matches `a` followed by a literal period, then `b`.\n",
    "\n",
    "### Example Code:\n",
    "```python\n",
    "import re\n",
    "\n",
    "pattern = r\"a.b\"\n",
    "print(re.match(pattern, \"a1b\"))  # Matches: a followed by any character (e.g., 1), then b\n",
    "\n",
    "pattern = r\"a\\.b\"\n",
    "print(re.match(pattern, \"a.b\"))  # Matches: a, followed by a literal period, then b\n",
    "print(re.match(pattern, \"a1b\"))  # Does not match because 'a1b' does not contain a literal period\n",
    "```\n",
    "\n",
    "### Summary:\n",
    "- **`.`** (dot) is a wildcard character in regex.\n",
    "- **`\\.`** (escaped dot) matches a literal period, not any character.'''"
   ]
  },
  {
   "cell_type": "markdown",
   "metadata": {},
   "source": [
    "### Link for the above chatgpt \n",
    "### https://chatgpt.com/share/6763082b-b604-8001-bbcc-f881b20c42ec"
   ]
  },
  {
   "cell_type": "code",
   "execution_count": 22,
   "metadata": {},
   "outputs": [
    {
     "name": "stdout",
     "output_type": "stream",
     "text": [
      "True\n",
      "False\n"
     ]
    }
   ],
   "source": [
    "import re\n",
    "def is_valid_email(email):\n",
    "    pattern=r'^[a-zA-Z0-9_.+-]+@[A-Za-z0-9-]+\\.[A-Za-z0-9-.]+$'\n",
    "    return re.match(pattern,email) is not None\n",
    "    # As it return None if no match \n",
    "\n",
    "# Calling the function\n",
    "print(is_valid_email(\"test@example.com\"))  # Output: True\n",
    "print(is_valid_email(\"invalid-email\"))  # Output: False"
   ]
  },
  {
   "cell_type": "code",
   "execution_count": null,
   "metadata": {},
   "outputs": [],
   "source": []
  }
 ],
 "metadata": {
  "kernelspec": {
   "display_name": "venv",
   "language": "python",
   "name": "python3"
  },
  "language_info": {
   "codemirror_mode": {
    "name": "ipython",
    "version": 3
   },
   "file_extension": ".py",
   "mimetype": "text/x-python",
   "name": "python",
   "nbconvert_exporter": "python",
   "pygments_lexer": "ipython3",
   "version": "3.12.0"
  }
 },
 "nbformat": 4,
 "nbformat_minor": 2
}
