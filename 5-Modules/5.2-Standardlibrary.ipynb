{
 "cells": [
  {
   "cell_type": "markdown",
   "metadata": {},
   "source": [
    "##### Standard Library Overview\n",
    "Python's Standard Library is a vast collection of modules and packages that come bundled with Python, providing a wide range of functionalities out of the box. Here's an overview of some of the most commonly used modules and packages in the Python Standard Library."
   ]
  },
  {
   "cell_type": "markdown",
   "metadata": {},
   "source": [
    "### modules in Python can contain variables, functions, classes, and even constants. You can import any of these components from a module, including variables like pi in the math module.\n",
    "\n",
    "\n"
   ]
  },
  {
   "cell_type": "code",
   "execution_count": 1,
   "metadata": {},
   "outputs": [
    {
     "name": "stdout",
     "output_type": "stream",
     "text": [
      "4.0\n"
     ]
    }
   ],
   "source": [
    "import math\n",
    "print(math.sqrt(16))  # Function usage\n"
   ]
  },
  {
   "cell_type": "code",
   "execution_count": 2,
   "metadata": {},
   "outputs": [
    {
     "name": "stdout",
     "output_type": "stream",
     "text": [
      "3.141592653589793\n"
     ]
    }
   ],
   "source": [
    "import math\n",
    "print(math.pi)  # Variable usage (constant)\n",
    "\n"
   ]
  },
  {
   "cell_type": "code",
   "execution_count": 3,
   "metadata": {},
   "outputs": [
    {
     "name": "stdout",
     "output_type": "stream",
     "text": [
      "3.141592653589793\n"
     ]
    }
   ],
   "source": [
    "from math import pi\n",
    "print(pi)  # Importing a constant variable directly\n"
   ]
  },
  {
   "cell_type": "code",
   "execution_count": 4,
   "metadata": {},
   "outputs": [
    {
     "name": "stdout",
     "output_type": "stream",
     "text": [
      "2024-12-21 00:51:13.208554\n"
     ]
    }
   ],
   "source": [
    "# Classes\n",
    "'''Modules can also contain classes, which are templates for creating objects.\n",
    " For example, datetime is a module that contains classes like datetime and date.'''\n",
    "\n",
    "from datetime import datetime\n",
    "now = datetime.now()  # Create an object of the datetime class\n",
    "print(now)\n"
   ]
  },
  {
   "cell_type": "markdown",
   "metadata": {},
   "source": [
    "To create an object from an imported class, follow these steps:\n",
    "\n",
    "1. **Import the Class**: Use the `from module import class_name` or `import module` to import the class from a module.\n",
    "2. **Create an Object**: Use the class name followed by parentheses `()` to create an instance (object) of the class.\n",
    "\n",
    "Here's a breakdown with an example:\n",
    "\n",
    "### Example 1: Importing a Class from a Module\n",
    "\n",
    "Let's say you have a module named `my_module.py` with the following class definition:\n",
    "\n",
    "```python\n",
    "# my_module.py\n",
    "class Person:\n",
    "    def __init__(self, name, age):\n",
    "        self.name = name\n",
    "        self.age = age\n",
    "\n",
    "    def greet(self):\n",
    "        return f\"Hello, my name is {self.name} and I am {self.age} years old.\"\n",
    "```\n",
    "\n",
    "### Step-by-Step:\n",
    "\n",
    "#### 1. **Import the Class:**\n",
    "   You can import the `Person` class into your main script.\n",
    "\n",
    "```python\n",
    "from my_module import Person  # Import the class from the module\n",
    "```\n",
    "\n",
    "#### 2. **Create an Object from the Class:**\n",
    "   Use the class name `Person` followed by parentheses to create an object. You also need to pass the arguments expected by the `__init__` method (in this case, `name` and `age`).\n",
    "\n",
    "```python\n",
    "person1 = Person(\"Alice\", 30)  # Create an object of class Person\n",
    "print(person1.greet())  # Call the method of the object\n",
    "```\n",
    "\n",
    "### Output:\n",
    "```\n",
    "Hello, my name is Alice and I am 30 years old.\n",
    "```\n",
    "\n",
    "### Example 2: Using a Class from a Built-in Module (e.g., `datetime`)\n",
    "\n",
    "You can also create an object from a class in a built-in module, like `datetime`.\n",
    "\n",
    "```python\n",
    "from datetime import datetime\n",
    "\n",
    "# Create an object of the class `datetime`\n",
    "now = datetime.now()  # Calling the `now()` method to get the current date and time\n",
    "print(now)\n",
    "```\n",
    "\n",
    "### Output:\n",
    "```\n",
    "2024-12-20 15:30:45.123456\n",
    "```\n",
    "\n",
    "---\n",
    "\n",
    "### Steps Recap:\n",
    "1. **Import the Class** using `from module import class_name`.\n",
    "2. **Create an Object** by calling the class like a function (i.e., `class_name()`), passing the required arguments (if any).\n",
    "3. **Access Object Methods and Properties** using the dot `.` notation (e.g., `object.method()` or `object.property`).\n",
    "\n",
    "Let me know if you need further clarification!"
   ]
  },
  {
   "cell_type": "code",
   "execution_count": 1,
   "metadata": {},
   "outputs": [
    {
     "name": "stdout",
     "output_type": "stream",
     "text": [
      "array('i', [1, 2, 3, 4])\n"
     ]
    }
   ],
   "source": [
    "import array\n",
    "arr=array.array('i',[1,2,3,4])\n",
    "print(arr)"
   ]
  },
  {
   "cell_type": "code",
   "execution_count": 2,
   "metadata": {},
   "outputs": [
    {
     "name": "stdout",
     "output_type": "stream",
     "text": [
      "4.0\n",
      "3.141592653589793\n"
     ]
    }
   ],
   "source": [
    "import math\n",
    "print(math.sqrt(16))\n",
    "print(math.pi)"
   ]
  },
  {
   "cell_type": "code",
   "execution_count": 7,
   "metadata": {},
   "outputs": [
    {
     "name": "stdout",
     "output_type": "stream",
     "text": [
      "1\n",
      "cherry\n"
     ]
    }
   ],
   "source": [
    "## random \n",
    "\n",
    "import random\n",
    "print(random.randint(1,10))\n",
    "print(random.choice(['apple','banana','cherry']))"
   ]
  },
  {
   "cell_type": "code",
   "execution_count": 7,
   "metadata": {},
   "outputs": [
    {
     "name": "stdout",
     "output_type": "stream",
     "text": [
      "e:\\UDemy Final\\python\\5-Modules\n"
     ]
    }
   ],
   "source": [
    "### File And Directory Access\n",
    "\n",
    "import os\n",
    "print(os.getcwd())"
   ]
  },
  {
   "cell_type": "code",
   "execution_count": 8,
   "metadata": {},
   "outputs": [],
   "source": [
    "os.mkdir('test_dir')"
   ]
  },
  {
   "cell_type": "code",
   "execution_count": 9,
   "metadata": {},
   "outputs": [
    {
     "data": {
      "text/plain": [
       "'destination.txt'"
      ]
     },
     "execution_count": 9,
     "metadata": {},
     "output_type": "execute_result"
    }
   ],
   "source": [
    "## High level operations on files and collection of files\n",
    "import shutil\n",
    "shutil.copyfile('source.txt','destination.txt')"
   ]
  },
  {
   "cell_type": "markdown",
   "metadata": {},
   "source": [
    "### Yes, that's correct! Transmitted data is typically a JSON string (not a JSON object) when sent over a network or between systems. Here's the distinction:"
   ]
  },
  {
   "cell_type": "code",
   "execution_count": 10,
   "metadata": {},
   "outputs": [
    {
     "name": "stdout",
     "output_type": "stream",
     "text": [
      "{\"name\": \"Krish\", \"age\": 25}\n",
      "<class 'str'>\n",
      "{'name': 'Krish', 'age': 25}\n",
      "<class 'dict'>\n"
     ]
    }
   ],
   "source": [
    "## Data Serialization\n",
    "import json\n",
    "data={'name':'Krish','age':25}\n",
    "\n",
    "\n",
    "'''Convert JSON object to JSON string(or we can say just convert to string or serialization)''' \n",
    "json_str=json.dumps(data)\n",
    "print(json_str)\n",
    "print(type(json_str))\n",
    "\n",
    "\n",
    "'''Convert JSON string to JSON object(or we can say just convert to object or deserialization)'''\n",
    "'''JSON object here is essentially an equivalent of a Python dictionary'''\n",
    "parsed_data=json.loads(json_str)\n",
    "print(parsed_data)\n",
    "print(type(parsed_data))\n"
   ]
  },
  {
   "cell_type": "code",
   "execution_count": 11,
   "metadata": {},
   "outputs": [
    {
     "name": "stdout",
     "output_type": "stream",
     "text": [
      "['name', 'age']\n",
      "['Krish', '32']\n"
     ]
    }
   ],
   "source": [
    "## csv\n",
    "\n",
    "import csv\n",
    "\n",
    "with open('example.csv',mode='w',newline='') as file:\n",
    "    writer=csv.writer(file)\n",
    "    writer.writerow(['name','age'])\n",
    "    writer.writerow(['Krish',32])\n",
    "\n",
    "with open('example.csv',mode='r') as file:\n",
    "    reader=csv.reader(file)\n",
    "    for row in reader:\n",
    "        print(row)"
   ]
  },
  {
   "cell_type": "markdown",
   "metadata": {},
   "source": [
    "Great question! Yes, you're right in observing that `datetime` is a class, and typically in object-oriented programming (OOP), we create an object of a class first and then call its methods. However, in Python, `datetime` is a bit special, and the behavior you're seeing with `datetime.now()` is related to **class methods** and **staticmethods**.\n",
    "\n",
    "### Here's what's happening:\n",
    "\n",
    "1. **`datetime` is a class**: The `datetime` module has a class called `datetime`, which represents date and time.\n",
    "   \n",
    "2. **Calling `datetime.now()` directly**:\n",
    "   - The method `now()` is a **class method** of the `datetime` class. Class methods are bound to the class itself, not to an instance (object) of the class.\n",
    "   - You can call a class method directly on the class without creating an instance.\n",
    "\n",
    "### Why you can call `now()` directly:\n",
    "- **`now()` is a class method**, not an instance method. This is why you can call it directly on the class itself (`datetime.now()`).\n",
    "- A class method is defined using the `@classmethod` decorator, and it typically takes `cls` (the class itself) as its first argument, rather than `self` (which would refer to the instance).\n",
    "\n",
    "### Example of a Class Method:\n",
    "Here's how `now()` might be defined inside the `datetime` class:\n",
    "\n",
    "```python\n",
    "class MyDateTime:\n",
    "    @classmethod\n",
    "    def now(cls):\n",
    "        # Returns current date and time\n",
    "        return \"Current date and time\"\n",
    "```\n",
    "\n",
    "You can call it directly on the class:\n",
    "```python\n",
    "print(MyDateTime.now())  # Outputs: \"Current date and time\"\n",
    "```\n",
    "\n",
    "This is similar to how `datetime.now()` works. It doesn't require you to create an instance because it's a class method designed to give you a current, static value (the current time).\n",
    "\n",
    "### Instance Methods vs. Class Methods:\n",
    "- **Instance methods** are bound to instances of the class and are called on an object. These methods require an object to be created first.\n",
    "  ```python\n",
    "  class MyClass:\n",
    "      def instance_method(self):\n",
    "          return \"Called on instance\"\n",
    "  \n",
    "  obj = MyClass()  # Create an instance\n",
    "  print(obj.instance_method())  # Call on the instance\n",
    "  ```\n",
    "\n",
    "- **Class methods** (like `now()`) are bound to the class and can be called directly on the class.\n",
    "  ```python\n",
    "  class MyClass:\n",
    "      @classmethod\n",
    "      def class_method(cls):\n",
    "          return \"Called on class\"\n",
    "  \n",
    "  print(MyClass.class_method())  # Call on the class directly\n",
    "  ```\n",
    "\n",
    "### Summary:\n",
    "- `datetime.now()` is a class method of the `datetime` class in Python. You don't need to create an object of `datetime` to call it.\n",
    "- Class methods can be called directly on the class itself, unlike instance methods which require an object.\n",
    "\n",
    "This is a useful feature in Python, and it allows certain methods (like `now()`) to be accessed directly without the need to create an object first. Let me know if you'd like more clarification on OOP in Python!"
   ]
  },
  {
   "cell_type": "code",
   "execution_count": 12,
   "metadata": {},
   "outputs": [
    {
     "name": "stdout",
     "output_type": "stream",
     "text": [
      "2024-06-11 11:37:28.084474\n",
      "2024-06-10 11:37:28.084474\n"
     ]
    }
   ],
   "source": [
    "## datetime\n",
    "from datetime import datetime,timedelta\n",
    "\n",
    "now=datetime.now() # now is a classmethod so we can call it directly on the class\n",
    "print(now)\n",
    "\n",
    "yesterday=now-timedelta(days=1)\n",
    "\n",
    "print(yesterday)"
   ]
  },
  {
   "cell_type": "code",
   "execution_count": 8,
   "metadata": {},
   "outputs": [
    {
     "name": "stdout",
     "output_type": "stream",
     "text": [
      "1734723918.7979321\n",
      "1734723920.802301\n",
      "2.0054593086242676\n"
     ]
    }
   ],
   "source": [
    "## time\n",
    "import time\n",
    "print(time.time())\n",
    "time.sleep(2)\n",
    "print(time.time())\n",
    "\n",
    "start=time.time()\n",
    "time.sleep(2)\n",
    "end=time.time()\n",
    "print(end-start)"
   ]
  },
  {
   "cell_type": "markdown",
   "metadata": {},
   "source": [
    "Let's break down the code and explain how it works:\n",
    "\n",
    "### Code:\n",
    "```python\n",
    "import re\n",
    "\n",
    "pattern = r'\\d+'  # Define the regex pattern\n",
    "text = 'There are 123 apples 456'  # The text to search in\n",
    "\n",
    "# Use re.search to find the first match\n",
    "match = re.search(pattern, text)\n",
    "\n",
    "# Print the matched group\n",
    "print(match.group())\n",
    "```\n",
    "\n",
    "### Explanation:\n",
    "\n",
    "1. **Importing the `re` module**:\n",
    "   The `re` module in Python provides support for working with regular expressions, which are used to search, match, or manipulate text.\n",
    "\n",
    "2. **Pattern (`r'\\d+'`)**:\n",
    "   - `\\d`: This matches any digit (0-9).\n",
    "   - `+`: This is a quantifier that matches **one or more** of the preceding element (in this case, digits).\n",
    "   So, `\\d+` matches **one or more digits**.\n",
    "\n",
    "   The `r` before the string indicates that it's a **raw string**. In raw strings, backslashes (`\\`) are treated as literal characters, meaning they won't be escaped (so `\\d` will be interpreted as a digit rather than an escape sequence).\n",
    "\n",
    "3. **Text (`'There are 123 apples 456'`)**:\n",
    "   The text we want to search for a pattern in. We're looking for numbers in this case.\n",
    "\n",
    "4. **`re.search(pattern, text)`**:\n",
    "   The `search()` function scans through the `text` to find the **first match** of the `pattern`.\n",
    "   - If it finds a match, it returns a **match object** (which contains information about the match).\n",
    "   - If no match is found, it returns `None`.\n",
    "\n",
    "   In this case, the pattern `\\d+` matches **\"123\"** as the first occurrence of digits in the text.\n",
    "\n",
    "5. **`match.group()`**:\n",
    "   - The `group()` method of a match object returns the part of the string that was matched.\n",
    "   - Since the pattern `\\d+` matches \"123\", calling `match.group()` returns the string `\"123\"`.\n",
    "\n",
    "### Output:\n",
    "```\n",
    "123\n",
    "```\n",
    "\n",
    "### Summary:\n",
    "- The regex `\\d+` matches **one or more digits**.\n",
    "- The `re.search()` function returns the first match it finds (in this case, \"123\").\n",
    "- The `group()` method retrieves the matched string.\n",
    "\n",
    "Let me know if you'd like further clarification!"
   ]
  },
  {
   "cell_type": "code",
   "execution_count": 9,
   "metadata": {},
   "outputs": [
    {
     "name": "stdout",
     "output_type": "stream",
     "text": [
      "1\n"
     ]
    }
   ],
   "source": [
    "## Regular expresiion\n",
    "import re\n",
    "'''\n",
    "pattern=r'\\d'   # MAtches a single digit so ouput is 1\n",
    "'''\n",
    "pattern=r'\\d+'  # Matches one or more digits so output is 123\n",
    "text='There are 123 apples 456'\n",
    "match=re.search(pattern,text)\n",
    "print(match.group())"
   ]
  },
  {
   "cell_type": "markdown",
   "metadata": {},
   "source": [
    "#### Conclusion\n",
    "Python's Standard Library is extensive and provides tools for almost any task you can think of, from file handling to web services, from data serialization to concurrent execution. Familiarizing yourself with the modules and packages available in the Standard Library can significantly enhance your ability to write efficient and effective Python programs."
   ]
  },
  {
   "cell_type": "code",
   "execution_count": null,
   "metadata": {},
   "outputs": [],
   "source": []
  }
 ],
 "metadata": {
  "kernelspec": {
   "display_name": "venv",
   "language": "python",
   "name": "python3"
  },
  "language_info": {
   "codemirror_mode": {
    "name": "ipython",
    "version": 3
   },
   "file_extension": ".py",
   "mimetype": "text/x-python",
   "name": "python",
   "nbconvert_exporter": "python",
   "pygments_lexer": "ipython3",
   "version": "3.12.0"
  }
 },
 "nbformat": 4,
 "nbformat_minor": 2
}
