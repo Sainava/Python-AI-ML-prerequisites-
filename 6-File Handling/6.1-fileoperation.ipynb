{
 "cells": [
  {
   "cell_type": "markdown",
   "metadata": {},
   "source": [
    "#### File Operation- Read And Write Files\n",
    "\n",
    "File handling is a crucial part of any programming language. Python provides built-in functions and methods to read from and write to files, both text and binary. This lesson will cover the basics of file handling, including reading and writing text files and binary files."
   ]
  },
  {
   "cell_type": "code",
   "execution_count": 1,
   "metadata": {},
   "outputs": [
    {
     "name": "stdout",
     "output_type": "stream",
     "text": [
      "Hello world\n",
      "This is a new line \n",
      "\n"
     ]
    }
   ],
   "source": [
    "### Read a Whole File\n",
    "\n",
    "with open('example.txt','r') as file:\n",
    "    content=file.read()\n",
    "    print(content)"
   ]
  },
  {
   "cell_type": "code",
   "execution_count": 2,
   "metadata": {},
   "outputs": [
    {
     "name": "stdout",
     "output_type": "stream",
     "text": [
      "Hello world\n",
      "This is a new line\n"
     ]
    },
    {
     "data": {
      "text/plain": [
       "'The strip() function in Python removes leading and trailing whitespace characters \\n(including spaces, tabs, and newline characters) from a string.'"
      ]
     },
     "execution_count": 2,
     "metadata": {},
     "output_type": "execute_result"
    }
   ],
   "source": [
    "## Read a file line by line\n",
    "with open('example.txt','r') as file:\n",
    "    for line in file:\n",
    "        print(line.strip()) ## sstrip() removes the newline character\n",
    "\n",
    "'''The strip() function in Python removes leading and trailing whitespace characters \n",
    "(including spaces, tabs, and newline characters) from a string.'''"
   ]
  },
  {
   "cell_type": "code",
   "execution_count": 4,
   "metadata": {},
   "outputs": [
    {
     "name": "stdout",
     "output_type": "stream",
     "text": [
      "32\n"
     ]
    }
   ],
   "source": [
    "## Writing a file(Overwriting)\n",
    "\n",
    "with open('example.txt','w') as file:\n",
    "    file.write('Hello World!\\n')\n",
    "    file.write('this is a new line.')\n",
    "    print(file.tell())"
   ]
  },
  {
   "cell_type": "code",
   "execution_count": 5,
   "metadata": {},
   "outputs": [
    {
     "name": "stdout",
     "output_type": "stream",
     "text": [
      "32\n"
     ]
    }
   ],
   "source": [
    "## Write a file(wwithout Overwriting)\n",
    "with open('example.txt','a') as file:\n",
    "    print(file.tell())\n",
    "    file.write(\"Append operation taking place!\\n\")"
   ]
  },
  {
   "cell_type": "code",
   "execution_count": 6,
   "metadata": {},
   "outputs": [],
   "source": [
    "### Writing a list of lines to a file\n",
    "\n",
    "\n",
    "'''\n",
    "In Python, the writelines() function expects an iterable (such as a list, tuple,set or generator) of strings to write to a file. The elements of the iterable will be written to the file without any modifications\n",
    " (so each string should include the newline character \\n if you want to add new lines).'''\n",
    "lines=['First line \\n','Second line \\n','Third line\\n']\n",
    "with open('example.txt','a') as file:\n",
    "    file.writelines(lines)"
   ]
  },
  {
   "cell_type": "markdown",
   "metadata": {},
   "source": [
    "Here’s a brief comparison between **binary files** and **text files**:\n",
    "\n",
    "### 1. **Text Files**\n",
    "   - **Definition**: Text files store data as human-readable characters, typically encoded in formats like ASCII or UTF-8.\n",
    "   - **Content**: Contains only readable characters such as letters, digits, punctuation, and special symbols. Data in these files is stored as plain text.\n",
    "   - **Line Breaks**: Text files use special characters like newline (`\\n` or `\\r\\n`) to indicate line breaks.\n",
    "   - **Examples**: `.txt`, `.csv`, `.html`, `.py` (source code files), `.json` (with UTF-8 encoding).\n",
    "   - **Usage**: Ideal for documents, configuration files, logs, and other text-based data.\n",
    "   - **Editing**: Can be opened and edited by any text editor (e.g., Notepad, Vim, VS Code).\n",
    "   - **Human-readable**: Can be read directly by a human with basic knowledge of text encodings.\n",
    "\n",
    "   **Example (Text File Content)**:\n",
    "   ```\n",
    "   Hello, World!\n",
    "   This is a text file.\n",
    "   ```\n",
    "\n",
    "### 2. **Binary Files**\n",
    "   - **Definition**: Binary files store data in the form of binary code (0s and 1s), and are not directly human-readable.\n",
    "   - **Content**: Contain data in raw format such as images, audio, video, or compiled programs. The data is not meant to be interpreted as text.\n",
    "   - **No Line Breaks**: Binary files do not use text-based line breaks; instead, they store data in fixed-size chunks or streams.\n",
    "   - **Examples**: `.exe`, `.jpg`, `.mp3`, `.png`, `.dat`, `.zip` (compressed files).\n",
    "   - **Usage**: Used for storing images, multimedia, executable programs, archives, and more.\n",
    "   - **Editing**: Cannot be opened and edited with standard text editors. Requires specialized software or hex editors.\n",
    "   - **Human-readable**: Not human-readable; they require specific programs or libraries to interpret the data.\n",
    "\n",
    "   **Example (Binary File Content)**:\n",
    "   - A binary file would look like a sequence of bytes, and attempting to open it in a text editor will show unreadable characters.\n",
    "\n",
    "### Key Differences:\n",
    "| Aspect               | Text Files                         | Binary Files                         |\n",
    "|----------------------|-------------------------------------|--------------------------------------|\n",
    "| **Content**          | Human-readable text                | Raw binary data (not human-readable) |\n",
    "| **Editing**          | Can be edited with text editors     | Requires specialized programs        |\n",
    "| **Line Breaks**      | Uses newline characters (`\\n`)      | No text-based line breaks            |\n",
    "| **Examples**         | `.txt`, `.csv`, `.json`            | `.exe`, `.jpg`, `.mp3`, `.zip`       |\n",
    "| **Size Efficiency**  | Less efficient for large data      | More efficient for storing complex data like images or audio |\n",
    "\n",
    "### Summary:\n",
    "- **Text files** are simple and used for storing plain text, while **binary files** are used to store data that cannot be directly interpreted as text (e.g., images, audio, software).\n"
   ]
  },
  {
   "cell_type": "code",
   "execution_count": 7,
   "metadata": {},
   "outputs": [
    {
     "data": {
      "text/plain": [
       "' More depth'"
      ]
     },
     "execution_count": 7,
     "metadata": {},
     "output_type": "execute_result"
    }
   ],
   "source": [
    "''' More depth'''"
   ]
  },
  {
   "cell_type": "markdown",
   "metadata": {},
   "source": [
    "You're absolutely right! **All data, including text files**, is ultimately stored as **bits** (0s and 1s) on a computer. However, when we refer to **text files** as being \"human-readable,\" we mean that the data is stored in a way that can be interpreted as meaningful characters by humans without needing special software or encoding knowledge. \n",
    "\n",
    "Here's what happens in the distinction between text and binary files:\n",
    "\n",
    "### **Text Files (Human-Readable)**\n",
    "\n",
    "- **Character Encoding**: Text files use specific **character encodings** (like ASCII, UTF-8, or UTF-16) to map human-readable characters (letters, numbers, punctuation, etc.) to **binary representations**.\n",
    "  - For example, in ASCII encoding:\n",
    "    - The letter 'A' is stored as the binary number `01000001`.\n",
    "    - The letter 'B' is stored as `01000010`.\n",
    "  \n",
    "- **Human-Readable Format**: When you open a text file with a program like Notepad or a text editor, the program reads these binary values (according to the chosen encoding) and converts them back into characters that humans can read.\n",
    "  \n",
    "- **Structure**: Text files are typically structured with line breaks and plain characters, which are easy to understand. For instance, a text file might contain:\n",
    "  ```\n",
    "  Hello, World!\n",
    "  This is a text file.\n",
    "  ```\n",
    "  Internally, the text file would store this as a sequence of bits corresponding to the ASCII/UTF-8 values for each character.\n",
    "\n",
    "### **Binary Files (Not Human-Readable)**\n",
    "\n",
    "- **No Direct Character Representation**: In binary files, data is stored in raw form, and the binary content does not directly map to human-readable characters.\n",
    "  \n",
    "  For example:\n",
    "  - A **JPEG image file** might start with a binary header like `11111111 10101000 11010001`, which represents image-specific metadata and pixel data that, when interpreted by an image viewer, displays an image.\n",
    "  - An **executable file** might start with a header like `01101000 00010111 10000000`, which the operating system reads and interprets as instructions for the CPU.\n",
    "  \n",
    "- **Not Intentionally Human-Readable**: Since the data isn't in a human-readable form, trying to open a binary file with a text editor results in a bunch of unreadable characters (random symbols or gibberish) because the text editor is trying to interpret the raw binary data as text.\n",
    "\n",
    "### The Key Difference\n",
    "\n",
    "- **Text files** store **textual characters** (which have specific binary equivalents defined by encodings) in a manner that is meaningful when interpreted as **text** (using an encoding like ASCII, UTF-8, etc.).\n",
    "- **Binary files** store **data** (images, videos, executables) in a form that requires specialized programs to interpret the data as its intended format.\n",
    "\n",
    "### Example:\n",
    "\n",
    "If you save the text `\"Hello\"` in a text file:\n",
    "- Internally, it might be stored as the following binary values (in ASCII encoding):\n",
    "  ```\n",
    "  H -> 01001000\n",
    "  e -> 01100101\n",
    "  l -> 01101100\n",
    "  l -> 01101100\n",
    "  o -> 01101111\n",
    "  ```\n",
    "\n",
    "If you save an image in a binary file (like a `.jpg`):\n",
    "- The file will contain a sequence of bits that represent compressed pixel data and metadata, which when interpreted by an image viewer, would display the image, but if opened in a text editor, it will appear as random binary characters.\n",
    "\n",
    "---\n",
    "\n",
    "### Summary:\n",
    "- **Human-readable** means that text files are stored in a format that can be directly interpreted as characters, using standard character encodings like ASCII or UTF-8. When opened in a text editor, these characters are **meaningful** to a person.\n",
    "- **Binary files**, on the other hand, store raw data that doesn’t represent readable characters unless interpreted by the appropriate software. The data might represent images, audio, or programs in machine-readable formats that are not intended to be directly readable by humans."
   ]
  },
  {
   "cell_type": "code",
   "execution_count": 12,
   "metadata": {},
   "outputs": [],
   "source": [
    "### Binary Files\n",
    "\n",
    "# Writing to a binary file\n",
    "data = b'\\x00\\x01\\x02\\x03\\x04'\n",
    "with open('example.bin', 'wb') as file:\n",
    "    file.write(data)\n"
   ]
  },
  {
   "cell_type": "markdown",
   "metadata": {},
   "source": [
    "The expression `data = b'\\x00\\x01\\x02\\x03\\x04'` is a way of representing **binary data** in Python using **byte literals**. Let me break it down:\n",
    "\n",
    "### Explanation of `b'\\x00\\x01\\x02\\x03\\x04'`:\n",
    "\n",
    "1. **`b''`**: The `b` prefix indicates that the data is a **byte string** in Python. Byte strings are used to represent **binary data**, such as raw bytes, that are not encoded in any particular text encoding (e.g., UTF-8 or ASCII). This is distinct from regular strings that are meant to represent human-readable text.\n",
    "   \n",
    "   - `b\"Hello\"` would be a regular string (text).\n",
    "   - `b'\\x00\\x01\\x02\\x03\\x04'` is a byte string that represents raw binary data.\n",
    "\n",
    "2. **`\\x00`, `\\x01`, `\\x02`, `\\x03`, `\\x04`**: The `\\x` notation is used to represent **hexadecimal** (base 16) values. Each value after `\\x` represents a **byte** in hexadecimal format.\n",
    "\n",
    "   - `\\x00` represents the **hexadecimal** value `00`, which is equivalent to the **binary** value `00000000`.\n",
    "   - `\\x01` represents the **hexadecimal** value `01`, which is equivalent to the **binary** value `00000001`.\n",
    "   - `\\x02` represents the **hexadecimal** value `02`, which is equivalent to the **binary** value `00000010`.\n",
    "   - `\\x03` represents the **hexadecimal** value `03`, which is equivalent to the **binary** value `00000011`.\n",
    "   - `\\x04` represents the **hexadecimal** value `04`, which is equivalent to the **binary** value `00000100`.\n",
    "\n",
    "   Hexadecimal is often used to represent binary data because it's more compact and easier to read. One hexadecimal digit can represent **four bits** (a nibble), so two hexadecimal digits represent one byte (8 bits). \n",
    "\n",
    "### Why Use Hexadecimal (`\\x`) Instead of Binary?\n",
    "\n",
    "- **Compactness**: It's more practical to write data in **hexadecimal** format than binary. A byte in binary would require 8 digits to represent (e.g., `00000000`), while hexadecimal only requires 2 digits (e.g., `00`). This makes it much easier to read and write large binary data.\n",
    "  \n",
    "- **Readability**: Hexadecimal representation is **human-readable** compared to binary, and it's more common in low-level programming when dealing with binary data.\n",
    "\n",
    "### Conversion Between Binary, Hexadecimal, and Decimal\n",
    "\n",
    "- **Binary (Base 2)**: The raw form that machines understand. A byte is 8 bits (e.g., `00000000`).\n",
    "  \n",
    "- **Hexadecimal (Base 16)**: A shorthand way to represent binary. Two hexadecimal digits represent 1 byte (e.g., `0x00` = `00000000` in binary).\n",
    "\n",
    "- **Decimal (Base 10)**: The base that humans commonly use (e.g., `0` to `255` for a byte).\n",
    "\n",
    "### Example Conversion:\n",
    "- `\\x00` (hexadecimal) is `00000000` in binary and `0` in decimal.\n",
    "- `\\x01` (hexadecimal) is `00000001` in binary and `1` in decimal.\n",
    "- `\\x02` (hexadecimal) is `00000010` in binary and `2` in decimal.\n",
    "- `\\x03` (hexadecimal) is `00000011` in binary and `3` in decimal.\n",
    "- `\\x04` (hexadecimal) is `00000100` in binary and `4` in decimal.\n",
    "\n",
    "### Why Not Just Use Bits?\n",
    "\n",
    "While it’s possible to work directly with bits (e.g., `0b00000000`), it’s far more cumbersome. Hexadecimal notation provides a compact and readable way to represent bytes (8 bits) at a time, which is much easier to handle, especially when working with larger binary data, such as images, files, or memory addresses.\n",
    "\n",
    "---\n",
    "\n",
    "### Summary:\n",
    "- `b'\\x00\\x01\\x02\\x03\\x04'` is a byte string, where each `\\x` followed by two hexadecimal digits represents a single byte (8 bits).\n",
    "- Hexadecimal is used for its **compactness** and **readability** compared to binary, and each pair of hexadecimal digits represents 1 byte.\n"
   ]
  },
  {
   "cell_type": "code",
   "execution_count": 13,
   "metadata": {},
   "outputs": [
    {
     "name": "stdout",
     "output_type": "stream",
     "text": [
      "b'\\x00\\x01\\x02\\x03\\x04'\n"
     ]
    }
   ],
   "source": [
    "# Reading a binary file\n",
    "with open('example.bin', 'rb') as file:\n",
    "    content = file.read()\n",
    "    print(content)"
   ]
  },
  {
   "cell_type": "code",
   "execution_count": 14,
   "metadata": {},
   "outputs": [],
   "source": [
    "### Read the content froma  source text fiile and write to a destination text file\n",
    "# Copying a text file\n",
    "with open('example.txt', 'r') as source_file:\n",
    "    content = source_file.read()\n",
    "\n",
    "with open('destination.txt', 'w') as destination_file:\n",
    "    destination_file.write(content)\n"
   ]
  },
  {
   "cell_type": "markdown",
   "metadata": {},
   "source": [
    "The code you provided works correctly because of the way Python's `with` statement handles file operations and the scope of variables. Let me explain in more detail:\n",
    "\n",
    "### Key Points:\n",
    "1. **`with` Statement**: The `with` statement in Python ensures that resources (like files) are properly managed, meaning they are automatically opened and closed when the block is exited. It's a context manager that helps to avoid issues like forgetting to close a file.\n",
    "\n",
    "2. **Scope of Variables**: The variable `content` is defined in the **outer scope** of the `with` block. So, even though the file `source_file` is closed at the end of the first `with` block, the variable `content` is still in scope for use in the second block. \n",
    "\n",
    "   The key here is that the `with` block itself manages file handling (i.e., opening and closing files), but the variables you define inside that block, like `content`, remain available in the outer scope after the block ends.\n",
    "\n",
    "### Step-by-Step Execution:\n",
    "1. **First `with` Block (Reading from the Source File)**:\n",
    "   ```python\n",
    "   with open('example.txt', 'r') as source_file:\n",
    "       content = source_file.read()\n",
    "   ```\n",
    "   - The file `example.txt` is opened in **read mode** (`'r'`), and its contents are read into the variable `content`.\n",
    "   - After the `with` block, the file `source_file` is automatically closed, but the `content` variable still holds the data from the file.\n",
    "\n",
    "2. **Second `with` Block (Writing to the Destination File)**:\n",
    "   ```python\n",
    "   with open('destination.txt', 'w') as destination_file:\n",
    "       destination_file.write(content)\n",
    "   ```\n",
    "   - The file `destination.txt` is opened in **write mode** (`'w'`).\n",
    "   - The `content` variable, which holds the data read from the `source_file`, is written into `destination.txt`.\n",
    "   - After the second `with` block, the `destination_file` is closed, and the file handling is completed.\n",
    "\n",
    "### Why It Works:\n",
    "- The **`content` variable** exists in the scope of the whole function or script, so once the first `with` block has finished, `content` is still available for use in the second `with` block.\n",
    "- **File handling (open/close)** is automatically managed by the `with` statement. Once the first block is done, the `source_file` is closed, but the data in `content` can still be used outside of that block.\n",
    "\n",
    "### Example with Clear Scope:\n",
    "```python\n",
    "# Copying a text file\n",
    "content = \"\"  # content is declared outside of 'with' block to ensure it's available after the first block\n",
    "with open('example.txt', 'r') as source_file:\n",
    "    content = source_file.read()  # content is filled with the file's content\n",
    "\n",
    "with open('destination.txt', 'w') as destination_file:\n",
    "    destination_file.write(content)  # content is written to the destination file\n",
    "```\n",
    "- **`content`** is defined outside the `with` block to show that the variable is **not limited to the block's scope**.\n",
    "- The `with` statement manages file opening and closing but doesn't affect the scope of variables defined outside the block.\n",
    "\n",
    "---\n",
    "\n",
    "### Summary:\n",
    "- The `content` variable persists in the **outer scope** of the `with` block, so you can use it in the second block, even though the first file has already been closed. The `with` block only controls the file handling (opening/closing), not the scope of variables."
   ]
  },
  {
   "cell_type": "code",
   "execution_count": 12,
   "metadata": {},
   "outputs": [
    {
     "name": "stdout",
     "output_type": "stream",
     "text": [
      "['Hello World!\\n', 'this is a new line.Append operation taking place!\\n', 'First line \\n', 'Second line \\n', 'Third line\\n']\n",
      "Lines: 5, Words: 16, Characters: 99\n"
     ]
    }
   ],
   "source": [
    "#Read a text file and count the number of lines, words, and characters.\n",
    "# Counting lines, words, and characters in a text file\n",
    "def count_text_file(file_path):\n",
    "    with open(file_path, 'r') as file:\n",
    "        lines = file.readlines()\n",
    "        print(lines)\n",
    "        line_count = len(lines)\n",
    "        '''\n",
    "        word_count = (len(line.split()) for line in lines)\n",
    "        print(word_count)#<generator object count_text_file.<locals>.<genexpr> at 0x1059d6a40>\n",
    "        '''\n",
    "\n",
    "        '''\n",
    "        word_count = [len(line.split()) for line in lines]\n",
    "        print(word_count) # [2, 8, 2, 2, 2]\n",
    "        '''\n",
    "        word_count = sum(len(line.split()) for line in lines)\n",
    "        char_count = sum(len(line) for line in lines)\n",
    "    return line_count, word_count, char_count\n",
    "\n",
    "file_path = 'example.txt'\n",
    "lines, words, characters = count_text_file(file_path)\n",
    "print(f'Lines: {lines}, Words: {words}, Characters: {characters}')\n"
   ]
  },
  {
   "cell_type": "markdown",
   "metadata": {},
   "source": [
    "The w+ mode in Python is used to open a file for both reading and writing. If the file does not exist, it will be created. If the file exists, its content is truncated (i.e., the file is overwritten)."
   ]
  },
  {
   "cell_type": "code",
   "execution_count": 16,
   "metadata": {},
   "outputs": [
    {
     "name": "stdout",
     "output_type": "stream",
     "text": [
      "32\n",
      "32\n",
      "Hello world\n",
      "This is a new line \n",
      "\n"
     ]
    }
   ],
   "source": [
    "### Writing and then reading a file\n",
    "\n",
    "with open('example.txt','w+') as file:\n",
    "    file.write(\"Hello world\\n\")\n",
    "    file.write(\"This is a new line \\n\")\n",
    "\n",
    "    ## Move the file cursor to the beginning\n",
    "    print(file.tell())\n",
    "\n",
    "    file.seek(0)\n",
    "\n",
    "    lines=file.readlines()\n",
    "    char_count=sum(len(line)for line in lines )\n",
    "    print(char_count)\n",
    "\n",
    "    file.seek(0)\n",
    "\n",
    "    ## Read the content of the file\n",
    "    content=file.read()\n",
    "    print(content)"
   ]
  },
  {
   "cell_type": "code",
   "execution_count": null,
   "metadata": {},
   "outputs": [],
   "source": []
  },
  {
   "cell_type": "code",
   "execution_count": null,
   "metadata": {},
   "outputs": [],
   "source": []
  },
  {
   "cell_type": "code",
   "execution_count": null,
   "metadata": {},
   "outputs": [],
   "source": []
  }
 ],
 "metadata": {
  "kernelspec": {
   "display_name": "venv",
   "language": "python",
   "name": "python3"
  },
  "language_info": {
   "codemirror_mode": {
    "name": "ipython",
    "version": 3
   },
   "file_extension": ".py",
   "mimetype": "text/x-python",
   "name": "python",
   "nbconvert_exporter": "python",
   "pygments_lexer": "ipython3",
   "version": "3.12.0"
  }
 },
 "nbformat": 4,
 "nbformat_minor": 2
}
